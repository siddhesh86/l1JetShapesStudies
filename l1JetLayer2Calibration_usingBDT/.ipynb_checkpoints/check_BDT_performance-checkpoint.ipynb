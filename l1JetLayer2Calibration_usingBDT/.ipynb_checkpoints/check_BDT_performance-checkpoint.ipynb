{
 "cells": [
  {
   "cell_type": "code",
   "execution_count": 1,
   "id": "f79c27c4",
   "metadata": {},
   "outputs": [
    {
     "data": {
      "text/html": [
       "<style>.container { width:100% !important; }</style>"
      ],
      "text/plain": [
       "<IPython.core.display.HTML object>"
      ]
     },
     "metadata": {},
     "output_type": "display_data"
    },
    {
     "name": "stdout",
     "output_type": "stream",
     "text": [
      "Input file: ../data/L1T_Jet_MLInputs_2023_QCDPT-15to7000_TuneCP5_13p6TeV_pythia8_Run3Winter23Digi-FlatPU0to80_126X_mcRun3_2023_forPU65_v1-v1_13_1_0_pre2_HBZS0p5_20230330.csv\n",
      "fracOfDataToUse = 1.0\n",
      "PUForSFComputation = 33\n",
      "version = 'vL1JetEt_PUS_PhiRing_GenJetEt_MLTarget_logGenEtByL1Et_dataFrac1.00_20230403'\n",
      "iEtaBins (40): [1, 2, 3, 4, 5, 6, 7, 8, 9, 10, 11, 12, 13, 14, 15, 16, 17, 18, 19, 20, 21, 22, 23, 24, 25, 26, 27, 28, 30, 31, 32, 33, 34, 35, 36, 37, 38, 39, 40, 41]\n",
      "sRefJetEt: GenJetEt, \t sL1Jet: L1JetEt_PUS_PhiRing, \t L1JetPtThrsh: 10.0\n",
      "l1Jet_ChunkyDonut False, l1Jet_PhiRing True, l1MatchOffline False, l1MatchGen True\n"
     ]
    }
   ],
   "source": [
    "import os\n",
    "import sys\n",
    "import argparse\n",
    "from collections import OrderedDict\n",
    "from collections import OrderedDict as OD\n",
    "import csv\n",
    "\n",
    "import numpy as np\n",
    "import pandas as pd\n",
    "from scipy.optimize import curve_fit\n",
    "import matplotlib.pyplot as plt\n",
    "from matplotlib import colors\n",
    "import matplotlib\n",
    "import hist\n",
    "import mplhep as hep\n",
    "\n",
    "from xgboost import XGBRegressor\n",
    "from sklearn.model_selection import train_test_split\n",
    "from sklearn.metrics import mean_squared_error\n",
    "from hyperopt import fmin, tpe, hp, STATUS_OK, Trials, space_eval # hyperparameter optimization\n",
    "import pickle\n",
    "\n",
    "\n",
    "from CommonTools import (\n",
    "    convert_Et_to_logEt, \n",
    "    convert_logEt_to_Et, \n",
    "    convert_GenEt_to_GenEtByL1Et, \n",
    "    convert_GenEtByL1Et_to_GenEt, \n",
    "    convert_GenEt_to_logGenEtByL1Et, \n",
    "    convert_logGenEtByL1Et_to_GenEt,\n",
    "    convert_CaloToolMPEta_to_IEta,\n",
    "    GaussianFunction,\n",
    "    calculate_errorOfRatio\n",
    ")\n",
    "\n",
    "\n",
    "parser = argparse.ArgumentParser()\n",
    "parser.add_argument('--MLTarget',           type=str,   dest='MLTarget',  default='logGenEt', choices=['GenEt', 'logGenEt', 'GenEtByL1Et', 'logGenEtByL1Et'])\n",
    "parser.add_argument('--PUForSFComputation', type=int,   dest='PUForSFComputation', help=\"PU at which SFs to compute\", default='48')\n",
    "parser.add_argument('--fracOfDataToUse',    type=float, dest='fracOfDataToUse', help=\"fraction of data to use\", default='1.0')\n",
    "parseGroup1 = parser.add_mutually_exclusive_group(required=True)\n",
    "parseGroup1.add_argument('--ChunkyDonut',    action='store_true')\n",
    "parseGroup1.add_argument('--PhiRing',        action='store_true')\n",
    "parseGroup2 = parser.add_mutually_exclusive_group(required=True)\n",
    "parseGroup2.add_argument('--l1MatchOffline', action='store_true')\n",
    "parseGroup2.add_argument('--l1MatchGen',     action='store_true')\n",
    "\n",
    "runLocally = False\n",
    "\n",
    "args = None\n",
    "if not runLocally:\n",
    "    matplotlib.use('Agg') # use for condor jobs to disable display of plots\n",
    "    args = parser.parse_args()\n",
    "else:\n",
    "    #args = parser.parse_args(\"--ChunkyDonut --l1MatchGen --MLTarget logGenEt --fracOfDataToUse 0.01\".split()) # to run in jupyter-notebook     \n",
    "    args = parser.parse_args(\"--PhiRing --l1MatchGen --MLTarget logGenEtByL1Et --fracOfDataToUse 1.00 --PUForSFComputation 33 \".split()) # to run in jupyter-notebook     \n",
    "    from IPython.display import display, HTML\n",
    "    display(HTML(\"<style>.container { width:100% !important; }</style>\"))\n",
    "\n",
    "l1Jet_ChunkyDonut = args.ChunkyDonut\n",
    "l1Jet_PhiRing     = args.PhiRing\n",
    "l1MatchOffline    = args.l1MatchOffline\n",
    "l1MatchGen        = args.l1MatchGen\n",
    "fracOfDataToUse   = args.fracOfDataToUse\n",
    "MLTarget          = args.MLTarget\n",
    "PUForSFComputation = args.PUForSFComputation\n",
    "\n",
    "\n",
    "\n",
    "printLevel = PrintLevel = 5\n",
    "iEtaBins = [i for i in range(1, 42) if i!=29]\n",
    "sL1JetEt_PUS_ChunkyDonut = 'L1JetEt_PUS_ChunkyDonut'\n",
    "sL1JetEt_PUS_PhiRing     = 'L1JetEt_PUS_PhiRing'\n",
    "sOfflineJetEt            = 'PFJetEtCorr'\n",
    "sGenJetEt                = 'GenJetEt'\n",
    "sL1JetTowerIEtaAbs       = 'L1JetTowerIEtaAbs'\n",
    "L1JetPtThrsh             = 10.0 # GeV\n",
    "L1JetPtMax               = 255.0 # GeV\n",
    "RefJetPtThrsh            = 10.0 # GeV\n",
    "snVtx                    = 'nVertexReco'\n",
    "\n",
    "NCompPtBins = 16 # 16 # No. of compressed pT bins\n",
    "calibSF_L1JetPtRange = [15., 255., 1.] # [<lowest pT>,  <hightest pT>,  <pT bin width>] # pT range for SFs to read from Syed's SF.csv file\n",
    "LUT_PtRange = [0., 255., 1.] # pT range for SFs for LUT\n",
    "SF_forZeroPt = 1.0\n",
    "\n",
    "\n",
    "\n",
    "sL1JetEt  = sL1JetEt_PUS_ChunkyDonut if l1Jet_ChunkyDonut else sL1JetEt_PUS_PhiRing\n",
    "sRefJetEt = sOfflineJetEt if l1MatchOffline else sGenJetEt \n",
    "\n",
    "\n",
    "version         = \"v%s_%s_MLTarget_%s_dataFrac%.2f_20220925\" % (sL1JetEt, sRefJetEt, MLTarget, fracOfDataToUse) \n",
    "sIpFileName     = \"../data/L1T_Jet_MLInputs_Run3_QCD_Pt15to7000_PFA1p_CMSSW12_6_0_pre1_nVtxAll_20220925.csv\"\n",
    "sOpFileName_SFs = \"../data/L1T_Jet_SFs_2023_QCD_122X_mcRun3_2021_realistic_v9_12_6_0_pre1_20220925_%s.csv\" % (version)\n",
    "sOutDir         = \"./plots_check_BDT_performance_%s\" % (version)\n",
    "\n",
    "\n",
    "#sOpFileName_SFs = sOpFileName_SFs.replace('.csv', '_%s.csv' % (sL1JetEt))\n",
    "#sOutDir = '%s_%s' % (sOutDir, sL1JetEt)\n",
    "\n",
    "\n",
    "BDTFileNames_dict = {\n",
    "    sL1JetEt_PUS_ChunkyDonut: {\n",
    "        'GenEt': {\n",
    "            'HBEF': {\n",
    "                'PtAll': '../data/BDTModel_vL1JetEt_PUS_ChunkyDonut_GenJetEt_MLTarget_GenEt_dataFrac1.00_20230403_wRefJetPtHighThrsh999999GeV_wOptimizedHyperparams_HBEF_PtAll.pkl',                \n",
    "            },            \n",
    "        },\n",
    "        \n",
    "        'logGenEt': {\n",
    "            'HBEF': {\n",
    "                'PtAll': '../data/BDTModel_vL1JetEt_PUS_ChunkyDonut_GenJetEt_MLTarget_logGenEt_dataFrac1.00_20230403_wRefJetPtHighThrsh999999GeV_wOptimizedHyperparams_HBEF_PtAll.pkl',                \n",
    "            },            \n",
    "        },\n",
    "        \n",
    "        'GenEtByL1Et': {\n",
    "            'HBEF': {\n",
    "                'PtAll': '../data/BDTModel_vL1JetEt_PUS_ChunkyDonut_GenJetEt_MLTarget_GenEtByL1Et_dataFrac1.00_20230403_wRefJetPtHighThrsh999999GeV_wOptimizedHyperparams_HBEF_PtAll.pkl',                \n",
    "            },            \n",
    "        },\n",
    "        \n",
    "        'logGenEtByL1Et': {\n",
    "            'HBEF': {\n",
    "                'PtAll': '../data/BDTModel_vL1JetEt_PUS_ChunkyDonut_GenJetEt_MLTarget_logGenEtByL1Et_dataFrac1.00_20230403_wRefJetPtHighThrsh999999GeV_wOptimizedHyperparams_HBEF_PtAll.pkl',                \n",
    "            },            \n",
    "        },        \n",
    "    },\n",
    "    \n",
    "    sL1JetEt_PUS_PhiRing: {\n",
    "        'GenEt': {\n",
    "            'HBEF': {\n",
    "                'PtAll': '../data/BDTModel_vL1JetEt_PUS_PhiRing_GenJetEt_MLTarget_GenEt_dataFrac1.00_20230403_wRefJetPtHighThrsh999999GeV_wOptimizedHyperparams_HBEF_PtAll.pkl',                \n",
    "            },            \n",
    "        },\n",
    "        \n",
    "        'logGenEt': {\n",
    "            'HBEF': {\n",
    "                'PtAll': '../data/BDTModel_vL1JetEt_PUS_PhiRing_GenJetEt_MLTarget_logGenEt_dataFrac1.00_20230403_wRefJetPtHighThrsh999999GeV_wOptimizedHyperparams_HBEF_PtAll.pkl',                \n",
    "            },            \n",
    "        },\n",
    "        \n",
    "        'GenEtByL1Et': {\n",
    "            'HBEF': {\n",
    "                'PtAll': '../data/BDTModel_vL1JetEt_PUS_PhiRing_GenJetEt_MLTarget_GenEtByL1Et_dataFrac1.00_20230403_wRefJetPtHighThrsh999999GeV_wOptimizedHyperparams_HBEF_PtAll.pkl',                \n",
    "            },            \n",
    "        },\n",
    "        \n",
    "        'logGenEtByL1Et': {\n",
    "            'HBEF': {\n",
    "                'PtAll': '../data/BDTModel_vL1JetEt_PUS_PhiRing_GenJetEt_MLTarget_logGenEtByL1Et_dataFrac1.00_20230403_wRefJetPtHighThrsh999999GeV_wOptimizedHyperparams_HBEF_PtAll.pkl',                \n",
    "            },            \n",
    "        },        \n",
    "    },    \n",
    "    \n",
    "}\n",
    "PUPointsForMLEvaluation = [33, 48, 63]\n",
    "PUPointForMLEvaluation_selected = PUForSFComputation #48\n",
    "\n",
    "plotPerformancePlots = False\n",
    "\n",
    "PT_CAT = OD()\n",
    "PT_CAT['Ptlt25']   = [ 0,  15,   25]  ## Low pT, turn-on threshold, high pT\n",
    "PT_CAT['Pt25To35'] = [25,  30,   35]  ## Low pT, turn-on threshold, high pT\n",
    "PT_CAT['Pt35To60'] = [35,  55,   60]  ## Low pT, turn-on threshold, high pT\n",
    "PT_CAT['Pt60To90'] = [60,  75,   90]  ## Low pT, turn-on threshold, high pT   #[60,  90,   90]\n",
    "PT_CAT['Ptgt90']   = [90, 120, 9999]  ## Low pT, turn-on threshold, high pT\n",
    "\n",
    "ETA_CAT = OD()\n",
    "ETA_CAT['HBEF'] = [0.000, 5.210]  ## Whole detector, 1 - 41\n",
    "ETA_CAT['HB']   = [0.000, 1.392]  ## Trigger towers  1 - 16\n",
    "ETA_CAT['HE1']  = [1.392, 1.740]  ## Trigger towers 17 - 20\n",
    "ETA_CAT['HE2a'] = [1.740, 2.322]  ## Trigger towers 21 - 25\n",
    "ETA_CAT['HE2b'] = [2.322, 3.000]  ## Trigger towers 26 - 28\n",
    "ETA_CAT['HF']   = [3.000, 5.210]  ## Trigger towers 30 - 41\n",
    "\n",
    "IETA_CAT = OD()\n",
    "IETA_CAT['HBEF'] = [ 1, 41]  ## Whole detector, 1 - 41\n",
    "IETA_CAT['HB']   = [ 1, 16]  ## Trigger towers  1 - 16\n",
    "IETA_CAT['HE1']  = [17, 20]  ## Trigger towers 17 - 20\n",
    "IETA_CAT['HE2a'] = [21, 25]  ## Trigger towers 21 - 25\n",
    "IETA_CAT['HE2b'] = [26, 28]  ## Trigger towers 26 - 28\n",
    "IETA_CAT['HF']   = [30, 41]  ## Trigger towers 30 - 41\n",
    "\n",
    "CaloToolMPEtaBinsMerge_forEtaCompressedLUT_2018 = OrderedDict([\n",
    "    ( 0, [*range(1, 5+1)]),  # 0\n",
    "    ( 1, [*range(6, 9+1)]),  # 1\n",
    "    ( 2, [*range(10,13+1)]), # 2\n",
    "    ( 3, [*range(14,15+1)]), # 3\n",
    "    ( 4, [*range(16,17+1)]), # 4\n",
    "    ( 5, [*range(18,19+1)]), # 5\n",
    "    ( 6, [*range(20,21+1)]), # 6\n",
    "    ( 7, [22]), # 7\n",
    "    ( 8, [23]), # 8\n",
    "    ( 9, [24]), # 9\n",
    "    (10, [25]), # 10\n",
    "    (11, [26]), # 11\n",
    "    (12, [*range(27,28+1)]), # 12\n",
    "    (13, [*range(29,31+1)]), # 13\n",
    "    (14, [*range(32,35+1)]), # 14\n",
    "    (15, [*range(36,40+1)]), # 15\n",
    "])\n",
    "CaloToolMPEtaBinsMerge_forEtaCompressedLUT = CaloToolMPEtaBinsMerge_forEtaCompressedLUT_2018\n",
    "\n",
    "useAbsEtaBins = True\n",
    "ETA_Bins = []\n",
    "for iEta in range(-41,42):\n",
    "    if iEta in [-29, 0, 29]:        continue;\n",
    "    if useAbsEtaBins and iEta < 0:  continue;\n",
    "    ETA_Bins.append(str(iEta))\n",
    "\n",
    "\n",
    "sOutDirBeforeJEC    = \"%s/beforeJEC\" % (sOutDir)\n",
    "sOutDirAfterJEC     = \"%s/afterJEC\" % (sOutDir)\n",
    "sOutDirBeforeJEC_1D = '%s/1D' % (sOutDirBeforeJEC)\n",
    "sOutDirAfterJEC_1D  = '%s/1D' % (sOutDirAfterJEC)\n",
    "if not os.path.exists(sOutDir):             os.makedirs( sOutDir , exist_ok=True )\n",
    "if not os.path.exists(sOutDirBeforeJEC):    os.makedirs( sOutDirBeforeJEC , exist_ok=True )\n",
    "if not os.path.exists(sOutDirAfterJEC):     os.makedirs( sOutDirAfterJEC , exist_ok=True )    \n",
    "if not os.path.exists(sOutDirBeforeJEC_1D): os.makedirs( sOutDirBeforeJEC_1D , exist_ok=True )    \n",
    "if not os.path.exists(sOutDirAfterJEC_1D):  os.makedirs( sOutDirAfterJEC_1D , exist_ok=True )\n",
    "if not os.path.exists(\"../data\"):           os.makedirs(\"../data\", exist_ok=True )\n",
    "    \n",
    "print(\"Input file: %s\" % (sIpFileName))\n",
    "print(f\"{fracOfDataToUse = }\")\n",
    "print(f\"{PUForSFComputation = }\")\n",
    "print(f\"{version = }\")\n",
    "print(\"iEtaBins ({}): {}\".format(len(iEtaBins), iEtaBins))\n",
    "print(\"sRefJetEt: {}, \\t sL1Jet: {}, \\t L1JetPtThrsh: {}\".format(sRefJetEt, sL1JetEt, L1JetPtThrsh))\n",
    "print(\"l1Jet_ChunkyDonut {}, l1Jet_PhiRing {}, l1MatchOffline {}, l1MatchGen {}\".format(\n",
    "    l1Jet_ChunkyDonut, l1Jet_PhiRing, l1MatchOffline, l1MatchGen)); sys.stdout.flush();    "
   ]
  },
  {
   "cell_type": "code",
   "execution_count": 2,
   "id": "5d58de3e",
   "metadata": {},
   "outputs": [],
   "source": [
    "data_all = pd.read_csv(sIpFileName)\n"
   ]
  },
  {
   "cell_type": "code",
   "execution_count": 3,
   "id": "ade5d3d2",
   "metadata": {},
   "outputs": [],
   "source": [
    "data_all[sL1JetEt_PUS_ChunkyDonut] = data_all['L1Jet9x9_RawEt'] - data_all['L1Jet9x9_PUEt_ChunkyDonut']\n",
    "\n",
    "data_all[sL1JetEt_PUS_PhiRing]     = data_all['L1Jet9x9_RawEt'] - (data_all['L1Jet9x9_EtSum7PUTowers'] / 7.0 )"
   ]
  },
  {
   "cell_type": "code",
   "execution_count": 4,
   "id": "77f63f8e",
   "metadata": {},
   "outputs": [
    {
     "name": "stdout",
     "output_type": "stream",
     "text": [
      "\n",
      "Does any of the columns have NaN entries: \n",
      "data_all.isna().sum(): \n",
      "runNumber                        0\n",
      "lumiSectionNumber                0\n",
      "eventNumber                      0\n",
      "nVertexReco                      0\n",
      "nTT_Unpacked                     0\n",
      "nTT_Emulated                     0\n",
      "GenJetEt                         0\n",
      "nVertexGen                       0\n",
      "nMeanPUGen                       0\n",
      "matchedPFJetEtCorr               0\n",
      "L1JetType                        0\n",
      "L1JetDefault_Et                  0\n",
      "L1JetTowerIEtaAbs                0\n",
      "L1JetDefault_RawEt               0\n",
      "L1JetDefault_PUEt_ChunkyDonut    0\n",
      "L1Jet9x9_RawEt                   0\n",
      "L1Jet9x9_EtSum7PUTowers          0\n",
      "L1Jet9x9_PUEt_ChunkyDonut        0\n",
      "L1JetEt_PUS_ChunkyDonut          0\n",
      "L1JetEt_PUS_PhiRing              0\n",
      "dtype: int64\n",
      "\n",
      "After cleaning, data_all.describe(): \n",
      "        runNumber  lumiSectionNumber   eventNumber   nVertexReco  \\\n",
      "count  19029825.0       1.902982e+07  1.902982e+07  1.902982e+07   \n",
      "mean          1.0       5.028876e+03  4.960810e+06  4.000163e+01   \n",
      "std           0.0       2.899197e+03  2.970671e+06  2.331094e+01   \n",
      "min           1.0       1.000000e+00  1.000000e+00  0.000000e+00   \n",
      "25%           1.0       2.527000e+03  2.320131e+06  2.000000e+01   \n",
      "50%           1.0       4.993000e+03  4.992881e+06  4.000000e+01   \n",
      "75%           1.0       7.567000e+03  7.651726e+06  6.000000e+01   \n",
      "max           1.0       1.000000e+04  9.999999e+06  8.100000e+01   \n",
      "\n",
      "       nTT_Unpacked  nTT_Emulated      GenJetEt    nVertexGen    nMeanPUGen  \\\n",
      "count    19029825.0  1.902982e+07  1.902982e+07  1.902982e+07  1.902982e+07   \n",
      "mean            0.0  1.341026e+03  1.426669e+02  4.049166e+01  4.000163e+01   \n",
      "std             0.0  7.155426e+02  1.243242e+02  2.413920e+01  2.331094e+01   \n",
      "min             0.0  1.380000e+02  1.000003e+01  0.000000e+00  0.000000e+00   \n",
      "25%             0.0  6.920000e+02  5.298035e+01  2.000000e+01  2.000000e+01   \n",
      "50%             0.0  1.299000e+03  1.011193e+02  4.000000e+01  4.000000e+01   \n",
      "75%             0.0  1.948000e+03  1.946573e+02  6.000000e+01  6.000000e+01   \n",
      "max             0.0  3.441000e+03  2.423974e+03  1.270000e+02  8.100000e+01   \n",
      "\n",
      "       matchedPFJetEtCorr  L1JetDefault_Et  L1JetTowerIEtaAbs  \\\n",
      "count          19029825.0     1.902982e+07       1.902982e+07   \n",
      "mean                  0.0     1.509092e+02       1.580192e+01   \n",
      "std                   0.0     1.268940e+02       9.895953e+00   \n",
      "min                   0.0     5.000010e-01       1.000000e+00   \n",
      "25%                   0.0     5.900000e+01       7.000000e+00   \n",
      "50%                   0.0     1.090000e+02       1.500000e+01   \n",
      "75%                   0.0     2.040000e+02       2.400000e+01   \n",
      "max                   0.0     1.023000e+03       4.100000e+01   \n",
      "\n",
      "       L1JetDefault_RawEt  L1JetDefault_PUEt_ChunkyDonut  L1Jet9x9_RawEt  \\\n",
      "count        1.902982e+07                   1.902982e+07    1.902982e+07   \n",
      "mean         1.251596e+02                   1.112882e+01    1.251596e+02   \n",
      "std          1.062128e+02                   1.175510e+01    1.062128e+02   \n",
      "min          1.000000e+01                   0.000000e+00    1.000000e+01   \n",
      "25%          4.750000e+01                   4.000000e+00    4.750000e+01   \n",
      "50%          9.050000e+01                   7.000000e+00    9.050000e+01   \n",
      "75%          1.705000e+02                   1.300000e+01    1.705000e+02   \n",
      "max          1.024500e+03                   4.085000e+02    1.024500e+03   \n",
      "\n",
      "       L1Jet9x9_EtSum7PUTowers  L1Jet9x9_PUEt_ChunkyDonut  \\\n",
      "count             1.902982e+07               1.902982e+07   \n",
      "mean              1.307179e+02               1.112882e+01   \n",
      "std               1.449952e+02               1.175510e+01   \n",
      "min               0.000000e+00               0.000000e+00   \n",
      "25%               4.150000e+01               4.000000e+00   \n",
      "50%               6.950000e+01               7.000000e+00   \n",
      "75%               1.645000e+02               1.300000e+01   \n",
      "max               2.756000e+03               4.085000e+02   \n",
      "\n",
      "       L1JetEt_PUS_ChunkyDonut  L1JetEt_PUS_PhiRing  \n",
      "count             1.902982e+07         1.902982e+07  \n",
      "mean              1.140308e+02         1.064857e+02  \n",
      "std               1.050820e+02         1.029853e+02  \n",
      "min               5.000000e-01         1.000000e+01  \n",
      "25%               3.750000e+01         3.135714e+01  \n",
      "50%               7.650000e+01         6.900000e+01  \n",
      "75%               1.580000e+02         1.490000e+02  \n",
      "max               9.535000e+02         9.629286e+02  \n"
     ]
    }
   ],
   "source": [
    "## data cleaning--------\n",
    "\n",
    "# Drop entries with L1JetEt < L1JetPtThrsh\n",
    "data_all_L1EtBelowThrsh = data_all[(\n",
    "    (data_all[sL1JetEt]  < L1JetPtThrsh) | \n",
    "    (data_all[sRefJetEt] < RefJetPtThrsh)\n",
    ")]\n",
    "if printLevel >= 8:\n",
    "    print(\"data_all[ data_all['{}'] < {} ]: \\n{}\".format(sL1JetEt, L1JetPtThrsh, data_all_L1EtBelowThrsh))\n",
    "data_all.drop(index=data_all_L1EtBelowThrsh.index, inplace=True)\n",
    "\n",
    "print(\"\\nDoes any of the columns have NaN entries: \\ndata_all.isna().sum(): \\n{}\".format(data_all.isna().sum()))\n",
    "if printLevel >= 5:\n",
    "    print(\"\\nAfter cleaning, data_all.describe(): \\n{}\".format(data_all.describe()))"
   ]
  },
  {
   "cell_type": "code",
   "execution_count": 5,
   "id": "05517fad",
   "metadata": {},
   "outputs": [
    {
     "name": "stdout",
     "output_type": "stream",
     "text": [
      "After data cleaning: data_all.columns: Index(['runNumber', 'lumiSectionNumber', 'eventNumber', 'nVertexReco',\n",
      "       'nTT_Unpacked', 'nTT_Emulated', 'GenJetEt', 'nVertexGen', 'nMeanPUGen',\n",
      "       'matchedPFJetEtCorr', 'L1JetType', 'L1JetDefault_Et',\n",
      "       'L1JetTowerIEtaAbs', 'L1JetDefault_RawEt',\n",
      "       'L1JetDefault_PUEt_ChunkyDonut', 'L1Jet9x9_RawEt',\n",
      "       'L1Jet9x9_EtSum7PUTowers', 'L1Jet9x9_PUEt_ChunkyDonut',\n",
      "       'L1JetEt_PUS_ChunkyDonut', 'L1JetEt_PUS_PhiRing'],\n",
      "      dtype='object'), \n",
      "data_all.shape: (19029825, 20)\n"
     ]
    }
   ],
   "source": [
    "print(\"After data cleaning: data_all.columns: {}, \\ndata_all.shape: {}\".format(data_all.columns, data_all.shape))"
   ]
  },
  {
   "cell_type": "code",
   "execution_count": 6,
   "id": "93b65c0a",
   "metadata": {},
   "outputs": [],
   "source": [
    "data_all = data_all.sample(frac=fracOfDataToUse, random_state=1)"
   ]
  },
  {
   "cell_type": "code",
   "execution_count": 7,
   "id": "39fa75f4",
   "metadata": {
    "scrolled": true
   },
   "outputs": [
    {
     "name": "stdout",
     "output_type": "stream",
     "text": [
      "Sample to use: data_all.columns: Index(['runNumber', 'lumiSectionNumber', 'eventNumber', 'nVertexReco',\n",
      "       'nTT_Unpacked', 'nTT_Emulated', 'GenJetEt', 'nVertexGen', 'nMeanPUGen',\n",
      "       'matchedPFJetEtCorr', 'L1JetType', 'L1JetDefault_Et',\n",
      "       'L1JetTowerIEtaAbs', 'L1JetDefault_RawEt',\n",
      "       'L1JetDefault_PUEt_ChunkyDonut', 'L1Jet9x9_RawEt',\n",
      "       'L1Jet9x9_EtSum7PUTowers', 'L1Jet9x9_PUEt_ChunkyDonut',\n",
      "       'L1JetEt_PUS_ChunkyDonut', 'L1JetEt_PUS_PhiRing'],\n",
      "      dtype='object'), \n",
      "data_all.shape: (19029825, 20)\n"
     ]
    }
   ],
   "source": [
    "print(\"Sample to use: data_all.columns: {}, \\ndata_all.shape: {}\".format(data_all.columns, data_all.shape))"
   ]
  },
  {
   "cell_type": "code",
   "execution_count": 8,
   "id": "ce494073",
   "metadata": {},
   "outputs": [
    {
     "name": "stdout",
     "output_type": "stream",
     "text": [
      "\n",
      "sL1JetEt_forML: logL1JetEt_PUS_PhiRing, sRefJetEt_forML: logGenJetEtByL1JetEt_PUS_PhiRing\n",
      "train_vars: ['L1JetTowerIEtaAbs', 'logL1JetEt_PUS_PhiRing', 'nVertexReco'], \n",
      "target_var: logGenJetEtByL1JetEt_PUS_PhiRing\n",
      "\n",
      "data_all.describe(): \n",
      "        runNumber  lumiSectionNumber   eventNumber   nVertexReco  \\\n",
      "count  19029825.0       1.902982e+07  1.902982e+07  1.902982e+07   \n",
      "mean          1.0       5.028876e+03  4.960810e+06  4.000163e+01   \n",
      "std           0.0       2.899197e+03  2.970671e+06  2.331094e+01   \n",
      "min           1.0       1.000000e+00  1.000000e+00  0.000000e+00   \n",
      "25%           1.0       2.527000e+03  2.320131e+06  2.000000e+01   \n",
      "50%           1.0       4.993000e+03  4.992881e+06  4.000000e+01   \n",
      "75%           1.0       7.567000e+03  7.651726e+06  6.000000e+01   \n",
      "max           1.0       1.000000e+04  9.999999e+06  8.100000e+01   \n",
      "\n",
      "       nTT_Unpacked  nTT_Emulated      GenJetEt    nVertexGen    nMeanPUGen  \\\n",
      "count    19029825.0  1.902982e+07  1.902982e+07  1.902982e+07  1.902982e+07   \n",
      "mean            0.0  1.341026e+03  1.426669e+02  4.049166e+01  4.000163e+01   \n",
      "std             0.0  7.155426e+02  1.243242e+02  2.413920e+01  2.331094e+01   \n",
      "min             0.0  1.380000e+02  1.000003e+01  0.000000e+00  0.000000e+00   \n",
      "25%             0.0  6.920000e+02  5.298035e+01  2.000000e+01  2.000000e+01   \n",
      "50%             0.0  1.299000e+03  1.011193e+02  4.000000e+01  4.000000e+01   \n",
      "75%             0.0  1.948000e+03  1.946573e+02  6.000000e+01  6.000000e+01   \n",
      "max             0.0  3.441000e+03  2.423974e+03  1.270000e+02  8.100000e+01   \n",
      "\n",
      "       matchedPFJetEtCorr  ...  L1JetTowerIEtaAbs  L1JetDefault_RawEt  \\\n",
      "count          19029825.0  ...       1.902982e+07        1.902982e+07   \n",
      "mean                  0.0  ...       1.580192e+01        1.251596e+02   \n",
      "std                   0.0  ...       9.895953e+00        1.062128e+02   \n",
      "min                   0.0  ...       1.000000e+00        1.000000e+01   \n",
      "25%                   0.0  ...       7.000000e+00        4.750000e+01   \n",
      "50%                   0.0  ...       1.500000e+01        9.050000e+01   \n",
      "75%                   0.0  ...       2.400000e+01        1.705000e+02   \n",
      "max                   0.0  ...       4.100000e+01        1.024500e+03   \n",
      "\n",
      "       L1JetDefault_PUEt_ChunkyDonut  L1Jet9x9_RawEt  L1Jet9x9_EtSum7PUTowers  \\\n",
      "count                   1.902982e+07    1.902982e+07             1.902982e+07   \n",
      "mean                    1.112882e+01    1.251596e+02             1.307179e+02   \n",
      "std                     1.175510e+01    1.062128e+02             1.449952e+02   \n",
      "min                     0.000000e+00    1.000000e+01             0.000000e+00   \n",
      "25%                     4.000000e+00    4.750000e+01             4.150000e+01   \n",
      "50%                     7.000000e+00    9.050000e+01             6.950000e+01   \n",
      "75%                     1.300000e+01    1.705000e+02             1.645000e+02   \n",
      "max                     4.085000e+02    1.024500e+03             2.756000e+03   \n",
      "\n",
      "       L1Jet9x9_PUEt_ChunkyDonut  L1JetEt_PUS_ChunkyDonut  \\\n",
      "count               1.902982e+07             1.902982e+07   \n",
      "mean                1.112882e+01             1.140308e+02   \n",
      "std                 1.175510e+01             1.050820e+02   \n",
      "min                 0.000000e+00             5.000000e-01   \n",
      "25%                 4.000000e+00             3.750000e+01   \n",
      "50%                 7.000000e+00             7.650000e+01   \n",
      "75%                 1.300000e+01             1.580000e+02   \n",
      "max                 4.085000e+02             9.535000e+02   \n",
      "\n",
      "       L1JetEt_PUS_PhiRing  logL1JetEt_PUS_PhiRing  \\\n",
      "count         1.902982e+07            1.902982e+07   \n",
      "mean          1.064857e+02            4.225012e+00   \n",
      "std           1.029853e+02            9.721804e-01   \n",
      "min           1.000000e+01            2.302585e+00   \n",
      "25%           3.135714e+01            3.445442e+00   \n",
      "50%           6.900000e+01            4.234107e+00   \n",
      "75%           1.490000e+02            5.003946e+00   \n",
      "max           9.629286e+02            6.869979e+00   \n",
      "\n",
      "       logGenJetEtByL1JetEt_PUS_PhiRing  \n",
      "count                      1.902982e+07  \n",
      "mean                       3.810665e-01  \n",
      "std                        4.197005e-01  \n",
      "min                       -3.286796e+00  \n",
      "25%                        1.679082e-01  \n",
      "50%                        3.593689e-01  \n",
      "75%                        6.110209e-01  \n",
      "max                        4.060650e+00  \n",
      "\n",
      "[8 rows x 21 columns]\n"
     ]
    }
   ],
   "source": [
    "# set trainning and target variables\n",
    "\n",
    "sL1JetEt_forML  = None\n",
    "sRefJetEt_forML = None\n",
    "\n",
    "if   MLTarget == 'GenEt':\n",
    "    sL1JetEt_forML  = sL1JetEt\n",
    "    sRefJetEt_forML = sRefJetEt    \n",
    "    \n",
    "elif MLTarget == 'logGenEt':    \n",
    "    sL1JetEt_forML  = 'log%s' % (sL1JetEt)\n",
    "    sRefJetEt_forML = 'log%s' % (sRefJetEt)\n",
    "    \n",
    "    data_all[sL1JetEt_forML] = convert_Et_to_logEt( data_all[sL1JetEt] )\n",
    "    data_all[sRefJetEt_forML] = convert_Et_to_logEt( data_all[sRefJetEt] )\n",
    "    \n",
    "elif MLTarget == 'GenEtByL1Et':    \n",
    "    sL1JetEt_forML  = sL1JetEt\n",
    "    sRefJetEt_forML = '%sBy%s' % (sRefJetEt, sL1JetEt)\n",
    "        \n",
    "    data_all[sRefJetEt_forML] = convert_GenEt_to_GenEtByL1Et( data_all[sRefJetEt], data_all[sL1JetEt] )   \n",
    "    \n",
    "elif MLTarget == 'logGenEtByL1Et':    \n",
    "    sL1JetEt_forML  = 'log%s' % (sL1JetEt)\n",
    "    sRefJetEt_forML = 'log%sBy%s' % (sRefJetEt, sL1JetEt)\n",
    "    \n",
    "    data_all[sL1JetEt_forML] = convert_Et_to_logEt( data_all[sL1JetEt] )\n",
    "    data_all[sRefJetEt_forML] = convert_GenEt_to_logGenEtByL1Et( data_all[sRefJetEt],  data_all[sL1JetEt] )\n",
    "    \n",
    "    \n",
    "train_vars = [sL1JetTowerIEtaAbs, sL1JetEt_forML, snVtx]\n",
    "target_var = sRefJetEt_forML\n",
    "print(\"\\nsL1JetEt_forML: {}, sRefJetEt_forML: {}\".format(sL1JetEt_forML, sRefJetEt_forML))\n",
    "print(\"train_vars: {}, \\ntarget_var: {}\\n\".format(train_vars, target_var))\n",
    "\n",
    "if printLevel >= 1:\n",
    "    print(\"data_all.describe(): \\n{}\".format(data_all.describe()))"
   ]
  },
  {
   "cell_type": "code",
   "execution_count": 9,
   "id": "410cf804",
   "metadata": {},
   "outputs": [
    {
     "name": "stdout",
     "output_type": "stream",
     "text": [
      "train_vars: ['L1JetTowerIEtaAbs', 'logL1JetEt_PUS_PhiRing', 'nVertexReco'], \n",
      "target_var: logGenJetEtByL1JetEt_PUS_PhiRing, \n",
      "sL1JetEt_forML_predict: logL1JetEt_PUS_PhiRing_predict, \n",
      "sL1JetEt_predict: L1JetEt_PUS_PhiRing_predict, \n",
      "sSF: SF\n",
      "Going for BDT training: varsOfInterest: ['L1JetTowerIEtaAbs', 'logL1JetEt_PUS_PhiRing', 'nVertexReco', 'logGenJetEtByL1JetEt_PUS_PhiRing', 'L1JetEt_PUS_PhiRing', 'GenJetEt']\n",
      "\n",
      "After train_vars: ['L1JetTowerIEtaAbs', 'logL1JetEt_PUS_PhiRing', 'nVertexReco'], \n",
      "target_var: logGenJetEtByL1JetEt_PUS_PhiRing, \n",
      "sL1JetEt_forML_predict: logL1JetEt_PUS_PhiRing_predict, \n",
      "sL1JetEt_predict: L1JetEt_PUS_PhiRing_predict, \n",
      "sSF: SF\n"
     ]
    },
    {
     "data": {
      "text/plain": [
       "'    \\n# ML training ----------------------------------------------------------------------\\ndef train_MLModel_wHyperopt(X, y):\\n    X_train, X_valid, y_train, y_valid = train_test_split(X, y, test_size=0.3, random_state=0)\\n    \\n    hyperparameter_space = { \\n        #\\'n_estimators\\': hp.choice(\\'n_estimators\\', np.arange(500, 2001, 100, dtype=int)),\\n        \\'n_estimators\\': hp.choice(\\'n_estimators\\', np.arange(700, 701, 100, dtype=int)),\\n        #\\'learning_rate\\':hp.quniform(\\'learning_rate\\', 0.01, 0.2, 0.01),\\n        \\'learning_rate\\':hp.quniform(\\'learning_rate\\', 0.05, 0.055, 0.01),\\n        \\'early_stopping_rounds\\': 10\\n    }    \\n    max_evals = 1 # 30\\n    \\n    def ML_score(params):\\n        model = XGBRegressor(**params)\\n        model.fit(\\n            X_train, y_train,\\n            eval_set=[(X_valid, y_valid)],\\n            verbose=False       \\n        )\\n        score = mean_squared_error(y_valid, model.predict(X_valid), squared=False)\\n        if printLevel >= 3:\\n            print(\"score: valid {}, train {}. params: {}\".format(\\n                score,\\n                mean_squared_error(y_train, model.predict(X_train), squared=False),\\n                params))\\n        return {\\'loss\\': score, \\'status\\': STATUS_OK, \\'ML_model\\': model}\\n            \\n    \\n    def getBestMLModel(trials):\\n        # https://stackoverflow.com/questions/54273199/how-to-save-the-best-hyperopt-optimized-keras-models-and-its-weights\\n        valid_trial_list = [trial for trial in trials  if STATUS_OK == trial[\\'result\\'][\\'status\\']]\\n        losses = [float(trial[\\'result\\'][\\'loss\\']) for trial in valid_trial_list]\\n        index_having_minimum_loss = np.argmin(losses)\\n        best_trial_obj = valid_trial_list[index_having_minimum_loss]\\n        return best_trial_obj[\\'result\\'][\\'ML_model\\']\\n        \\n        \\n        \\n    # ref: \\n    # https://sites.google.com/view/raybellwaves/blog/using-xgboost-and-hyperopt-in-a-kaggle-comp\\n    # https://www.kaggle.com/code/prashant111/a-guide-on-xgboost-hyperparameters-tuning/notebook\\n    trials = Trials()\\n    best_params = fmin(\\n        fn=ML_score,\\n        space=hyperparameter_space, \\n        algo=tpe.suggest,\\n        max_evals=max_evals,\\n        trials=trials)\\n    print(\"best_params: {}\".format(best_params))\\n    print(\"space_eval(hyperparameter_space, best_params): {}\".format(space_eval(hyperparameter_space, best_params)))\\n    \\n    return getBestMLModel(trials)\\n# ----------------------------------------------------------------------------        \\n    \\n    \\n    \\n    \\n    \\nBDTModel_dict = OD([])\\ndata_SFs = None\\nfor iEta_category, iEtaBinRange in IEta_Cat_forML.items():\\n    iEtaBins_i = range(iEtaBinRange[0], iEtaBinRange[-1]+1)\\n\\n    BDTModel_dict[iEta_category] = OD([])\\n    for Pt_category, PtRange in Pt_Cat_forML.items():\\n        PtRangeMin = PtRange[0]\\n        PtRangeMax = PtRange[1]\\n        \\n        data_all_iEtaBins = data_all[\\n            (data_all[sL1JetTowerIEtaAbs] >= iEtaBinRange[0]) & \\n            (data_all[sL1JetTowerIEtaAbs] <= iEtaBinRange[-1]) &\\n            (data_all[sL1JetEt] >= PtRangeMin) &\\n            (data_all[sL1JetEt] <  PtRangeMax)\\n        ][varsOfInterest]\\n        if printLevel >= 0:\\n            print(\"\\nbefore training iEta_category {}, iEtaBinRange {}, Pt_category {}, PtRange {}, data_all_iEtaBins.describe(): \\n{}\".format(\\n                iEta_category, iEtaBinRange, Pt_category, PtRange, data_all_iEtaBins.describe()))\\n\\n\\n        X = data_all_iEtaBins[train_vars]\\n        y = data_all_iEtaBins[target_var]\\n\\n        xgb_rg = train_MLModel_wHyperopt(X, y)\\n\\n\\n        BDTModel_dict[iEta_category][Pt_category] = xgb_rg\\n        \\n        data_all_iEtaBins[sL1JetEt_forML_predict] = xgb_rg.predict(data_all_iEtaBins[train_vars])\\n        if   MLTarget == \\'GenEt\\':\\n            data_all_iEtaBins[sL1JetEt_predict] = data_all_iEtaBins[sL1JetEt_forML_predict]\\n            \\n        elif MLTarget == \\'logGenEt\\':\\n            data_all_iEtaBins[sL1JetEt_predict] = convert_logEt_to_Et( data_all_iEtaBins[sL1JetEt_forML_predict] )\\n\\n        elif MLTarget == \\'GenEtByL1Et\\':\\n            data_all_iEtaBins[sL1JetEt_predict] = convert_GenEtByL1Et_to_GenEt( data_all_iEtaBins[sL1JetEt_forML_predict], data_all_iEtaBins[sL1JetEt] )\\n            \\n        elif MLTarget == \\'logGenEtByL1Et\\':\\n            data_all_iEtaBins[sL1JetEt_predict] = convert_logGenEtByL1Et_to_GenEt( data_all_iEtaBins[sL1JetEt_forML_predict], data_all_iEtaBins[sL1JetEt] )\\n                       \\n        if printLevel >= 0:\\n            print(\"\\nafter training iEta_category {}, iEtaBinRange {}, Pt_category {}, PtRange {}, data_all_iEtaBins.describe(): \\n{}\".format(\\n                iEta_category, iEtaBinRange, Pt_category, PtRange, data_all_iEtaBins.describe()))\\n            print(f\"\\n{data_all_iEtaBins = }\")\\n            \\n            \\n            \\n            \\n        # save BDT model version\\n        #sTrain_vars_ = \\'_\\'.join()\\n        #sBDTModel_fileName = \\'../data/BDTModel_%s_vs_%s__%s_%s.pkl\\' % (\\'_\\'.join(train_vars), target_var, iEta_category, Pt_category)\\n        sBDTModel_fileName = \\'../data/BDTModel_%s_%s_%s.pkl\\' % (version, iEta_category, Pt_category)\\n        pickle.dump(BDTModel_dict[iEta_category][Pt_category], open(sBDTModel_fileName, \"wb\"))   \\n        print(f\"\\n\\nWrote BDT model to {sBDTModel_fileName = }\"); sys.stdout.flush()\\n'"
      ]
     },
     "execution_count": 9,
     "metadata": {},
     "output_type": "execute_result"
    }
   ],
   "source": [
    "#%%time\n",
    "\n",
    "\n",
    "sL1JetEt_forML_predict = \"%s_predict\" % (sL1JetEt_forML)\n",
    "sL1JetEt_predict       = \"%s_predict\" % (sL1JetEt)\n",
    "sSF                    = \"SF\"\n",
    "\n",
    "IEta_Cat_forML = OD()\n",
    "#IEta_Cat_forML['HB'] = [ 1, 16]\n",
    "#IEta_Cat_forML['HE12a'] = [17, 26]\n",
    "#IEta_Cat_forML['HE2b'] = [27, 28]\n",
    "#IEta_Cat_forML['HF30to32'] = [30, 32]\n",
    "#IEta_Cat_forML['HF33to36'] = [33, 36]\n",
    "#IEta_Cat_forML['HF37to41'] = [37, 41]\n",
    "#IEta_Cat['HBEF'] = [ 1, 41]\n",
    "IEta_Cat_forML['HBEF'] = [ 1, 41]\n",
    "\n",
    "Pt_Cat_forML = OD()\n",
    "#Pt_Cat_forML['Ptlt60'] = [ 0, 60]\n",
    "#Pt_Cat_forML['Ptgt60'] = [60, L1JetPtMax]\n",
    "#Pt_Cat_forML['Ptlt25']   = [ 0, 25]\n",
    "#Pt_Cat_forML['Pt25to35'] = [25, 35]\n",
    "#Pt_Cat_forML['Pt35to60'] = [35, 60]\n",
    "#Pt_Cat_forML['Pt60to90'] = [60, 90]\n",
    "#Pt_Cat_forML['Ptgt90']   = [90, L1JetPtMax]\n",
    "Pt_Cat_forML['PtAll'] = [0, L1JetPtMax]\n",
    "\n",
    "if printLevel >= 5:\n",
    "    print(\"train_vars: {}, \\ntarget_var: {}, \\nsL1JetEt_forML_predict: {}, \\nsL1JetEt_predict: {}, \\nsSF: {}\".format(\n",
    "        train_vars, target_var, sL1JetEt_forML_predict, sL1JetEt_predict, sSF))\n",
    "    \n",
    "varsOfInterest = train_vars.copy()\n",
    "#varsOfInterest.extend([target_var, sL1JetEt, sRefJetEt])\n",
    "for var_ in [target_var, sL1JetEt, sRefJetEt]:\n",
    "    if var_ not in varsOfInterest:\n",
    "        varsOfInterest.append(var_)\n",
    "if printLevel >= 0:\n",
    "    print(\"Going for BDT training: varsOfInterest: {}\\n\".format(varsOfInterest))\n",
    "    print(\"After train_vars: {}, \\ntarget_var: {}, \\nsL1JetEt_forML_predict: {}, \\nsL1JetEt_predict: {}, \\nsSF: {}\".format(\n",
    "        train_vars, target_var, sL1JetEt_forML_predict, sL1JetEt_predict, sSF))\n",
    "\n",
    "'''    \n",
    "# ML training ----------------------------------------------------------------------\n",
    "def train_MLModel_wHyperopt(X, y):\n",
    "    X_train, X_valid, y_train, y_valid = train_test_split(X, y, test_size=0.3, random_state=0)\n",
    "    \n",
    "    hyperparameter_space = { \n",
    "        #'n_estimators': hp.choice('n_estimators', np.arange(500, 2001, 100, dtype=int)),\n",
    "        'n_estimators': hp.choice('n_estimators', np.arange(700, 701, 100, dtype=int)),\n",
    "        #'learning_rate':hp.quniform('learning_rate', 0.01, 0.2, 0.01),\n",
    "        'learning_rate':hp.quniform('learning_rate', 0.05, 0.055, 0.01),\n",
    "        'early_stopping_rounds': 10\n",
    "    }    \n",
    "    max_evals = 1 # 30\n",
    "    \n",
    "    def ML_score(params):\n",
    "        model = XGBRegressor(**params)\n",
    "        model.fit(\n",
    "            X_train, y_train,\n",
    "            eval_set=[(X_valid, y_valid)],\n",
    "            verbose=False       \n",
    "        )\n",
    "        score = mean_squared_error(y_valid, model.predict(X_valid), squared=False)\n",
    "        if printLevel >= 3:\n",
    "            print(\"score: valid {}, train {}. params: {}\".format(\n",
    "                score,\n",
    "                mean_squared_error(y_train, model.predict(X_train), squared=False),\n",
    "                params))\n",
    "        return {'loss': score, 'status': STATUS_OK, 'ML_model': model}\n",
    "            \n",
    "    \n",
    "    def getBestMLModel(trials):\n",
    "        # https://stackoverflow.com/questions/54273199/how-to-save-the-best-hyperopt-optimized-keras-models-and-its-weights\n",
    "        valid_trial_list = [trial for trial in trials  if STATUS_OK == trial['result']['status']]\n",
    "        losses = [float(trial['result']['loss']) for trial in valid_trial_list]\n",
    "        index_having_minimum_loss = np.argmin(losses)\n",
    "        best_trial_obj = valid_trial_list[index_having_minimum_loss]\n",
    "        return best_trial_obj['result']['ML_model']\n",
    "        \n",
    "        \n",
    "        \n",
    "    # ref: \n",
    "    # https://sites.google.com/view/raybellwaves/blog/using-xgboost-and-hyperopt-in-a-kaggle-comp\n",
    "    # https://www.kaggle.com/code/prashant111/a-guide-on-xgboost-hyperparameters-tuning/notebook\n",
    "    trials = Trials()\n",
    "    best_params = fmin(\n",
    "        fn=ML_score,\n",
    "        space=hyperparameter_space, \n",
    "        algo=tpe.suggest,\n",
    "        max_evals=max_evals,\n",
    "        trials=trials)\n",
    "    print(\"best_params: {}\".format(best_params))\n",
    "    print(\"space_eval(hyperparameter_space, best_params): {}\".format(space_eval(hyperparameter_space, best_params)))\n",
    "    \n",
    "    return getBestMLModel(trials)\n",
    "# ----------------------------------------------------------------------------        \n",
    "    \n",
    "    \n",
    "    \n",
    "    \n",
    "    \n",
    "BDTModel_dict = OD([])\n",
    "data_SFs = None\n",
    "for iEta_category, iEtaBinRange in IEta_Cat_forML.items():\n",
    "    iEtaBins_i = range(iEtaBinRange[0], iEtaBinRange[-1]+1)\n",
    "\n",
    "    BDTModel_dict[iEta_category] = OD([])\n",
    "    for Pt_category, PtRange in Pt_Cat_forML.items():\n",
    "        PtRangeMin = PtRange[0]\n",
    "        PtRangeMax = PtRange[1]\n",
    "        \n",
    "        data_all_iEtaBins = data_all[\n",
    "            (data_all[sL1JetTowerIEtaAbs] >= iEtaBinRange[0]) & \n",
    "            (data_all[sL1JetTowerIEtaAbs] <= iEtaBinRange[-1]) &\n",
    "            (data_all[sL1JetEt] >= PtRangeMin) &\n",
    "            (data_all[sL1JetEt] <  PtRangeMax)\n",
    "        ][varsOfInterest]\n",
    "        if printLevel >= 0:\n",
    "            print(\"\\nbefore training iEta_category {}, iEtaBinRange {}, Pt_category {}, PtRange {}, data_all_iEtaBins.describe(): \\n{}\".format(\n",
    "                iEta_category, iEtaBinRange, Pt_category, PtRange, data_all_iEtaBins.describe()))\n",
    "\n",
    "\n",
    "        X = data_all_iEtaBins[train_vars]\n",
    "        y = data_all_iEtaBins[target_var]\n",
    "\n",
    "        xgb_rg = train_MLModel_wHyperopt(X, y)\n",
    "\n",
    "\n",
    "        BDTModel_dict[iEta_category][Pt_category] = xgb_rg\n",
    "        \n",
    "        data_all_iEtaBins[sL1JetEt_forML_predict] = xgb_rg.predict(data_all_iEtaBins[train_vars])\n",
    "        if   MLTarget == 'GenEt':\n",
    "            data_all_iEtaBins[sL1JetEt_predict] = data_all_iEtaBins[sL1JetEt_forML_predict]\n",
    "            \n",
    "        elif MLTarget == 'logGenEt':\n",
    "            data_all_iEtaBins[sL1JetEt_predict] = convert_logEt_to_Et( data_all_iEtaBins[sL1JetEt_forML_predict] )\n",
    "\n",
    "        elif MLTarget == 'GenEtByL1Et':\n",
    "            data_all_iEtaBins[sL1JetEt_predict] = convert_GenEtByL1Et_to_GenEt( data_all_iEtaBins[sL1JetEt_forML_predict], data_all_iEtaBins[sL1JetEt] )\n",
    "            \n",
    "        elif MLTarget == 'logGenEtByL1Et':\n",
    "            data_all_iEtaBins[sL1JetEt_predict] = convert_logGenEtByL1Et_to_GenEt( data_all_iEtaBins[sL1JetEt_forML_predict], data_all_iEtaBins[sL1JetEt] )\n",
    "                       \n",
    "        if printLevel >= 0:\n",
    "            print(\"\\nafter training iEta_category {}, iEtaBinRange {}, Pt_category {}, PtRange {}, data_all_iEtaBins.describe(): \\n{}\".format(\n",
    "                iEta_category, iEtaBinRange, Pt_category, PtRange, data_all_iEtaBins.describe()))\n",
    "            print(f\"\\n{data_all_iEtaBins = }\")\n",
    "            \n",
    "            \n",
    "            \n",
    "            \n",
    "        # save BDT model version\n",
    "        #sTrain_vars_ = '_'.join()\n",
    "        #sBDTModel_fileName = '../data/BDTModel_%s_vs_%s__%s_%s.pkl' % ('_'.join(train_vars), target_var, iEta_category, Pt_category)\n",
    "        sBDTModel_fileName = '../data/BDTModel_%s_%s_%s.pkl' % (version, iEta_category, Pt_category)\n",
    "        pickle.dump(BDTModel_dict[iEta_category][Pt_category], open(sBDTModel_fileName, \"wb\"))   \n",
    "        print(f\"\\n\\nWrote BDT model to {sBDTModel_fileName = }\"); sys.stdout.flush()\n",
    "'''"
   ]
  },
  {
   "cell_type": "code",
   "execution_count": 10,
   "id": "a2535746",
   "metadata": {},
   "outputs": [],
   "source": [
    "def prepareDataframeForSFs(iEtaBinRange, PtRangeMin=L1JetPtThrsh, PtRangeMax=L1JetPtMax, nVtx=48):\n",
    "    dict_iEta_Et = OD([ (sL1JetTowerIEtaAbs, []), (sL1JetEt, []) ])\n",
    "    if snVtx in train_vars:\n",
    "        dict_iEta_Et[snVtx] = []\n",
    "        \n",
    "    for iEta in iEtaBinRange:\n",
    "        list_pt      = np.arange(PtRangeMin, PtRangeMax+1.0)\n",
    "        list_ietabin = [iEta] * len(list_pt)\n",
    "        dict_iEta_Et[sL1JetTowerIEtaAbs].extend(list_ietabin) \n",
    "        dict_iEta_Et[sL1JetEt].extend(list_pt) \n",
    "        if snVtx in train_vars:\n",
    "            list_nVtx = [nVtx] * len(list_pt)\n",
    "            dict_iEta_Et[snVtx].extend(list_nVtx) \n",
    "            \n",
    "          \n",
    "    data_SFs = pd.DataFrame(dict_iEta_Et)\n",
    "    \n",
    "    if   MLTarget == 'GenEt':\n",
    "        data_SFs[sL1JetEt_forML] = data_SFs[sL1JetEt]\n",
    "\n",
    "    elif MLTarget == 'logGenEt':    \n",
    "        data_SFs[sL1JetEt_forML] = convert_Et_to_logEt( data_SFs[sL1JetEt] )\n",
    "\n",
    "    elif MLTarget == 'GenEtByL1Et':    \n",
    "        data_SFs[sL1JetEt_forML] = data_SFs[sL1JetEt]\n",
    "\n",
    "    elif MLTarget == 'logGenEtByL1Et':    \n",
    "        data_SFs[sL1JetEt_forML] = convert_Et_to_logEt( data_SFs[sL1JetEt] )\n",
    "            \n",
    "    return data_SFs"
   ]
  },
  {
   "cell_type": "code",
   "execution_count": 11,
   "id": "2aeac9ed",
   "metadata": {},
   "outputs": [
    {
     "name": "stdout",
     "output_type": "stream",
     "text": [
      "sL1JetEt = 'L1JetEt_PUS_PhiRing', MLTarget ='logGenEtByL1Et', iEta_category = 'HBEF', Pt_category = 'PtAll', sBDTModel_fileName = '../data/BDTModel_vL1JetEt_PUS_PhiRing_GenJetEt_MLTarget_logGenEtByL1Et_dataFrac1.00_20230403_HBEF_PtAll.pkl'\n",
      "sL1JetEt = 'L1JetEt_PUS_PhiRing', MLTarget ='logGenEtByL1Et', iEta_category = 'HBEF', Pt_category = 'PtAll', sBDTModel_fileName = '../data/BDTModel_vL1JetEt_PUS_PhiRing_GenJetEt_MLTarget_logGenEtByL1Et_dataFrac1.00_20230403_HBEF_PtAll.pkl'\n",
      "sL1JetEt = 'L1JetEt_PUS_PhiRing', MLTarget ='logGenEtByL1Et', iEta_category = 'HBEF', Pt_category = 'PtAll', sBDTModel_fileName = '../data/BDTModel_vL1JetEt_PUS_PhiRing_GenJetEt_MLTarget_logGenEtByL1Et_dataFrac1.00_20230403_HBEF_PtAll.pkl'\n"
     ]
    },
    {
     "name": "stderr",
     "output_type": "stream",
     "text": [
      "/home/siddhesh/anaconda3/envs/ana_htoaa/lib/python3.10/site-packages/pandas/core/arraylike.py:397: RuntimeWarning: divide by zero encountered in log\n",
      "  result = getattr(ufunc, method)(*inputs, **kwargs)\n",
      "/home/siddhesh/anaconda3/envs/ana_htoaa/lib/python3.10/site-packages/pandas/core/arraylike.py:397: RuntimeWarning: divide by zero encountered in log\n",
      "  result = getattr(ufunc, method)(*inputs, **kwargs)\n",
      "/home/siddhesh/anaconda3/envs/ana_htoaa/lib/python3.10/site-packages/pandas/core/arraylike.py:397: RuntimeWarning: divide by zero encountered in log\n",
      "  result = getattr(ufunc, method)(*inputs, **kwargs)\n"
     ]
    },
    {
     "name": "stdout",
     "output_type": "stream",
     "text": [
      "sL1JetEt = 'L1JetEt_PUS_PhiRing', MLTarget ='logGenEtByL1Et', iEta_category = 'HBEF', Pt_category = 'PtAll', sBDTModel_fileName = '../data/BDTModel_vL1JetEt_PUS_PhiRing_GenJetEt_MLTarget_logGenEtByL1Et_dataFrac1.00_20230403_HBEF_PtAll.pkl'\n"
     ]
    },
    {
     "data": {
      "text/plain": [
       "'    \\nif snVtx in train_vars:\\n    sOpFileName_SFs = sOpFileName_SFs.replace(\\'.csv\\', \\'_forPU%d.csv\\' %(nVtx_forSF))\\n    \\n#print(\"Hello1\")    \\n#print(\"\\n\\ndata_SFs: \\n{}\".format(data_SFs.to_string()))\\ndata_SFs.to_csv(sOpFileName_SFs, index=False)\\nprint(\"Wrote {}\".format(sOpFileName_SFs))                \\n'"
      ]
     },
     "execution_count": 11,
     "metadata": {},
     "output_type": "execute_result"
    }
   ],
   "source": [
    "# read BDT models\n",
    "BDTModel_dict = OD([])\n",
    "for iEta_category, iEtaBinRange in IEta_Cat_forML.items():\n",
    "    iEtaBins_i = range(iEtaBinRange[0], iEtaBinRange[-1]+1)\n",
    "    BDTModel_dict[iEta_category] = OD([])\n",
    "    \n",
    "    for Pt_category, PtRange in Pt_Cat_forML.items():\n",
    "        PtRangeMin = PtRange[0]\n",
    "        PtRangeMax = PtRange[1]\n",
    "        \n",
    "        #xgb_rg = train_MLModel_wHyperopt(X, y)\n",
    "        #sBDTModel_fileName = '../data/BDTModel_%s_vs_%s__%s_%s.pkl' % ('_'.join(train_vars), target_var, iEta_category, Pt_category)\n",
    "        sBDTModel_fileName = BDTFileNames_dict[sL1JetEt][MLTarget][iEta_category][Pt_category]\n",
    "        print(f\"{sL1JetEt = }, {MLTarget =}, {iEta_category = }, {Pt_category = }, {sBDTModel_fileName = }\")\n",
    "        xgb_rg = pickle.load(open(sBDTModel_fileName, \"rb\"))\n",
    "\n",
    "        BDTModel_dict[iEta_category][Pt_category] = xgb_rg\n",
    "\n",
    "# compute data_SFs\n",
    "data_SFs_atPUPoints = OD()\n",
    "\n",
    "for PUPoint_ForMLEvaluation in PUPointsForMLEvaluation:\n",
    "    data_SFs = None\n",
    "    \n",
    "    for iEta_category, iEtaBinRange in IEta_Cat_forML.items():\n",
    "        iEtaBins_i = range(iEtaBinRange[0], iEtaBinRange[-1]+1)\n",
    "\n",
    "        for Pt_category, PtRange in Pt_Cat_forML.items():\n",
    "            PtRangeMin = PtRange[0]\n",
    "            PtRangeMax = PtRange[1]\n",
    "\n",
    "            #xgb_rg = train_MLModel_wHyperopt(X, y)\n",
    "            #sBDTModel_fileName = '../data/BDTModel_%s_vs_%s__%s_%s.pkl' % ('_'.join(train_vars), target_var, iEta_category, Pt_category)\n",
    "            sBDTModel_fileName = BDTFileNames_dict[sL1JetEt][MLTarget][iEta_category][Pt_category]\n",
    "            print(f\"{sL1JetEt = }, {MLTarget =}, {iEta_category = }, {Pt_category = }, {sBDTModel_fileName = }\")\n",
    "            xgb_rg = pickle.load(open(sBDTModel_fileName, \"rb\"))\n",
    "\n",
    "            BDTModel_dict[iEta_category][Pt_category] = xgb_rg\n",
    "\n",
    "            xgb_rg = BDTModel_dict[iEta_category][Pt_category]\n",
    "\n",
    "            if snVtx in train_vars:\n",
    "                data_SFs_i = prepareDataframeForSFs(iEtaBins_i, PtRangeMin=PtRangeMin, PtRangeMax=PtRangeMax, nVtx=PUPoint_ForMLEvaluation)\n",
    "            else:\n",
    "                data_SFs_i = prepareDataframeForSFs(iEtaBins_i, PtRangeMin=PtRangeMin, PtRangeMax=PtRangeMax)\n",
    "\n",
    "            data_SFs_i[sL1JetEt_forML_predict] = xgb_rg.predict(data_SFs_i[train_vars])        \n",
    "\n",
    "            if   MLTarget == 'GenEt':\n",
    "                data_SFs_i[sL1JetEt_predict] = data_SFs_i[sL1JetEt_forML_predict]\n",
    "\n",
    "            elif MLTarget == 'logGenEt':\n",
    "                data_SFs_i[sL1JetEt_predict] = convert_logEt_to_Et( data_SFs_i[sL1JetEt_forML_predict] )\n",
    "\n",
    "            elif MLTarget == 'GenEtByL1Et':\n",
    "                data_SFs_i[sL1JetEt_predict] = convert_GenEtByL1Et_to_GenEt( data_SFs_i[sL1JetEt_forML_predict], data_SFs_i[sL1JetEt] )\n",
    "\n",
    "            elif MLTarget == 'logGenEtByL1Et':\n",
    "                data_SFs_i[sL1JetEt_predict] = convert_logGenEtByL1Et_to_GenEt( data_SFs_i[sL1JetEt_forML_predict], data_SFs_i[sL1JetEt] )\n",
    "\n",
    "            data_SFs_i[sSF]                    = data_SFs_i[sL1JetEt_predict] / data_SFs_i[sL1JetEt]\n",
    "            if printLevel >= 11:\n",
    "                print(\"iEtaBins_i: {}\".format(iEtaBins_i))\n",
    "                print(\"data_SFs_i: {}\".format(data_SFs_i.describe()))\n",
    "\n",
    "            if data_SFs is None:\n",
    "                data_SFs = data_SFs_i\n",
    "            else:\n",
    "                data_SFs = pd.concat([data_SFs, data_SFs_i])    \n",
    "                \n",
    "    data_SFs_atPUPoints[PUPoint_ForMLEvaluation] = data_SFs\n",
    "\n",
    "'''    \n",
    "if snVtx in train_vars:\n",
    "    sOpFileName_SFs = sOpFileName_SFs.replace('.csv', '_forPU%d.csv' %(nVtx_forSF))\n",
    "    \n",
    "#print(\"Hello1\")    \n",
    "#print(\"\\n\\ndata_SFs: \\n{}\".format(data_SFs.to_string()))\n",
    "data_SFs.to_csv(sOpFileName_SFs, index=False)\n",
    "print(\"Wrote {}\".format(sOpFileName_SFs))                \n",
    "'''"
   ]
  },
  {
   "cell_type": "code",
   "execution_count": 12,
   "id": "4d5fdf27",
   "metadata": {},
   "outputs": [],
   "source": [
    "sL1JetEt_calib = '%s_calib' % (sL1JetEt)\n",
    "dataVars_forL1JetResponsePlots = [sL1JetTowerIEtaAbs, sL1JetEt, sGenJetEt]\n",
    "if snVtx in train_vars: \n",
    "    dataVars_forL1JetResponsePlots.append(snVtx)\n"
   ]
  },
  {
   "cell_type": "code",
   "execution_count": 13,
   "id": "094ed176",
   "metadata": {},
   "outputs": [],
   "source": [
    "def calibrateJets_wBDTAtPUPoint(data_all_, data_SFs_):\n",
    "    data_copy1_     = data_all_[dataVars_forL1JetResponsePlots].copy()\n",
    "    data_SFs_copy1_ = data_SFs_[[sL1JetTowerIEtaAbs, sL1JetEt, sSF]].copy()\n",
    "    data_SFs_copy1_ = data_SFs_copy1_.set_index([sL1JetTowerIEtaAbs, sL1JetEt])\n",
    "    SFs_dict_       = data_SFs_copy1_.to_dict()[sSF]\n",
    "\n",
    "    def calibrateJet(Et_0, iEta):\n",
    "        Et = round(Et_0)\n",
    "        if Et < calibSF_L1JetPtRange[0]: Et = round(calibSF_L1JetPtRange[0])\n",
    "        if Et > calibSF_L1JetPtRange[1]: Et = round(calibSF_L1JetPtRange[1])\n",
    "        #print(f\"iEta {iEta}, Et {Et}\")\n",
    "        sf = SFs_dict_[(iEta, Et)] if Et >= 1 else SF_forZeroPt\n",
    "        return Et_0 * sf\n",
    "\n",
    "    data_copy1_[sL1JetEt_calib] = data_copy1_.apply(lambda row: calibrateJet(row[sL1JetEt], row[sL1JetTowerIEtaAbs]), axis=1)\n",
    "    #data_copy1[sL1JetEt_calib] = np.vectorize(calibrateJet)(data_copy1[sL1JetEt], data_copy1[sL1JetTowerIEtaAbs])\n",
    "    if printLevel >= 5:\n",
    "        print(\"calibrateJets_wBDTAtPUPoint():: data_copy1_: {}\".format(data_copy1_))\n",
    "        \n",
    "    return data_copy1_[sL1JetEt_calib]"
   ]
  },
  {
   "cell_type": "code",
   "execution_count": 14,
   "id": "050fec3f",
   "metadata": {},
   "outputs": [
    {
     "name": "stdout",
     "output_type": "stream",
     "text": [
      "calibrateJets_wBDTAtPUPoint():: data_copy1_:           L1JetTowerIEtaAbs  L1JetEt_PUS_PhiRing    GenJetEt  nVertexReco  \\\n",
      "195409                    5            48.142857   71.613846           16   \n",
      "8490324                  26           108.785714  126.103584           21   \n",
      "3170334                   4            57.428571  190.516281           33   \n",
      "20193877                  3            63.642857   99.360817           17   \n",
      "2243561                  27            10.785714   10.651871           21   \n",
      "...                     ...                  ...         ...          ...   \n",
      "16727509                 19           103.857143  148.498520           22   \n",
      "612174                   27            25.428571   28.292082           57   \n",
      "15363157                  7            54.000000   89.668602           22   \n",
      "8428452                   7            97.071429  132.878494           31   \n",
      "15843830                 21            24.500000   49.888416           20   \n",
      "\n",
      "          L1JetEt_PUS_PhiRing_calib  \n",
      "195409                    85.587859  \n",
      "8490324                  105.999424  \n",
      "3170334                   97.484411  \n",
      "20193877                 104.645324  \n",
      "2243561                   16.753610  \n",
      "...                             ...  \n",
      "16727509                 152.221337  \n",
      "612174                    28.094264  \n",
      "15363157                  93.747402  \n",
      "8428452                  147.259540  \n",
      "15843830                  51.224432  \n",
      "\n",
      "[19029825 rows x 5 columns]\n",
      "calibrateJets_wBDTAtPUPoint():: data_copy1_:           L1JetTowerIEtaAbs  L1JetEt_PUS_PhiRing    GenJetEt  nVertexReco  \\\n",
      "195409                    5            48.142857   71.613846           16   \n",
      "8490324                  26           108.785714  126.103584           21   \n",
      "3170334                   4            57.428571  190.516281           33   \n",
      "20193877                  3            63.642857   99.360817           17   \n",
      "2243561                  27            10.785714   10.651871           21   \n",
      "...                     ...                  ...         ...          ...   \n",
      "16727509                 19           103.857143  148.498520           22   \n",
      "612174                   27            25.428571   28.292082           57   \n",
      "15363157                  7            54.000000   89.668602           22   \n",
      "8428452                   7            97.071429  132.878494           31   \n",
      "15843830                 21            24.500000   49.888416           20   \n",
      "\n",
      "          L1JetEt_PUS_PhiRing_calib  \n",
      "195409                    85.564868  \n",
      "8490324                  104.660314  \n",
      "3170334                   97.429259  \n",
      "20193877                 104.656348  \n",
      "2243561                   17.000924  \n",
      "...                             ...  \n",
      "16727509                 151.778825  \n",
      "612174                    27.849240  \n",
      "15363157                  93.640723  \n",
      "8428452                  147.136000  \n",
      "15843830                  50.171633  \n",
      "\n",
      "[19029825 rows x 5 columns]\n",
      "calibrateJets_wBDTAtPUPoint():: data_copy1_:           L1JetTowerIEtaAbs  L1JetEt_PUS_PhiRing    GenJetEt  nVertexReco  \\\n",
      "195409                    5            48.142857   71.613846           16   \n",
      "8490324                  26           108.785714  126.103584           21   \n",
      "3170334                   4            57.428571  190.516281           33   \n",
      "20193877                  3            63.642857   99.360817           17   \n",
      "2243561                  27            10.785714   10.651871           21   \n",
      "...                     ...                  ...         ...          ...   \n",
      "16727509                 19           103.857143  148.498520           22   \n",
      "612174                   27            25.428571   28.292082           57   \n",
      "15363157                  7            54.000000   89.668602           22   \n",
      "8428452                   7            97.071429  132.878494           31   \n",
      "15843830                 21            24.500000   49.888416           20   \n",
      "\n",
      "          L1JetEt_PUS_PhiRing_calib  \n",
      "195409                    85.237431  \n",
      "8490324                  103.632494  \n",
      "3170334                   97.175333  \n",
      "20193877                 104.470994  \n",
      "2243561                   17.015196  \n",
      "...                             ...  \n",
      "16727509                 150.990593  \n",
      "612174                    27.544992  \n",
      "15363157                  93.424243  \n",
      "8428452                  146.728799  \n",
      "15843830                  49.488633  \n",
      "\n",
      "[19029825 rows x 5 columns]\n",
      "data_copy1:           L1JetTowerIEtaAbs  L1JetEt_PUS_PhiRing    GenJetEt  nVertexReco  \\\n",
      "195409                    5            48.142857   71.613846           16   \n",
      "8490324                  26           108.785714  126.103584           21   \n",
      "3170334                   4            57.428571  190.516281           33   \n",
      "20193877                  3            63.642857   99.360817           17   \n",
      "2243561                  27            10.785714   10.651871           21   \n",
      "...                     ...                  ...         ...          ...   \n",
      "16727509                 19           103.857143  148.498520           22   \n",
      "612174                   27            25.428571   28.292082           57   \n",
      "15363157                  7            54.000000   89.668602           22   \n",
      "8428452                   7            97.071429  132.878494           31   \n",
      "15843830                 21            24.500000   49.888416           20   \n",
      "\n",
      "          L1JetEt_PUS_PhiRing_calib_wBDTAtPU33  \\\n",
      "195409                               85.587859   \n",
      "8490324                             105.999424   \n",
      "3170334                              97.484411   \n",
      "20193877                            104.645324   \n",
      "2243561                              16.753610   \n",
      "...                                        ...   \n",
      "16727509                            152.221337   \n",
      "612174                               28.094264   \n",
      "15363157                             93.747402   \n",
      "8428452                             147.259540   \n",
      "15843830                             51.224432   \n",
      "\n",
      "          L1JetEt_PUS_PhiRing_calib_wBDTAtPU48  \\\n",
      "195409                               85.564868   \n",
      "8490324                             104.660314   \n",
      "3170334                              97.429259   \n",
      "20193877                            104.656348   \n",
      "2243561                              17.000924   \n",
      "...                                        ...   \n",
      "16727509                            151.778825   \n",
      "612174                               27.849240   \n",
      "15363157                             93.640723   \n",
      "8428452                             147.136000   \n",
      "15843830                             50.171633   \n",
      "\n",
      "          L1JetEt_PUS_PhiRing_calib_wBDTAtPU63  \n",
      "195409                               85.237431  \n",
      "8490324                             103.632494  \n",
      "3170334                              97.175333  \n",
      "20193877                            104.470994  \n",
      "2243561                              17.015196  \n",
      "...                                        ...  \n",
      "16727509                            150.990593  \n",
      "612174                               27.544992  \n",
      "15363157                             93.424243  \n",
      "8428452                             146.728799  \n",
      "15843830                             49.488633  \n",
      "\n",
      "[19029825 rows x 7 columns]\n"
     ]
    }
   ],
   "source": [
    "data_copy1     = data_all[dataVars_forL1JetResponsePlots].copy()\n",
    "for PUPoint_ForMLEvaluation in PUPointsForMLEvaluation:\n",
    "    data_copy1['%s_wBDTAtPU%d' % (sL1JetEt_calib, PUPoint_ForMLEvaluation)] = calibrateJets_wBDTAtPUPoint(\n",
    "        data_all, data_SFs_atPUPoints[PUPoint_ForMLEvaluation]\n",
    "    )\n",
    "if printLevel >= 5:\n",
    "    print(\"data_copy1: {}\".format(data_copy1))    "
   ]
  },
  {
   "cell_type": "code",
   "execution_count": 15,
   "id": "3deebd45",
   "metadata": {},
   "outputs": [
    {
     "data": {
      "text/plain": [
       "'\\nfor PU_category, PURange in PU_Cat_forResolutionPlots.items():\\n    PURangeMin = PURange[0]\\n    PURangeMax = PURange[1]\\n\\n    for Pt_category, PtRange in Pt_Cat_forResolutionPlots.items():\\n        PtRangeMin = PtRange[0]\\n        PtRangeMax = PtRange[1]\\n        \\n        JES_atPUPointsForMLEvaluations = OD()\\n        JER_atPUPointsForMLEvaluations = OD()        \\n        for PUPoint_ForMLEvaluation in [-1] + PUPointsForMLEvaluation :\\n            if PUPoint_ForMLEvaluation == -1:\\n                sL1JetEt_forResolutionPlots = sL1JetEt\\n            else:\\n                sL1JetEt_forResolutionPlots = \\'%s_wBDTAtPU%d\\' % (sL1JetEt_calib, PUPoint_ForMLEvaluation)\\n            \\n            JES = OD()\\n            JER = OD()\\n            for iEtaBin in iEtaBins:\\n                data_toUse_ = data_copy1[\\n                    (data_copy1[sL1JetTowerIEtaAbs] == iEtaBin   ) & \\n                    (data_copy1[sRefJetEt]               >= PtRangeMin) &\\n                    (data_copy1[sRefJetEt]               <  PtRangeMax) & \\n                    (data_copy1[snVtx]                   >= PURangeMin) &\\n                    (data_copy1[snVtx]                   <  PURangeMax)\\n                ]#.copy()\\n                data_toUse_[sL1JetResponse] = data_toUse_[sL1JetEt_forResolutionPlots] / data_toUse_[sRefJetEt]\\n                print(f\"PU: {PURange}, Pt: {PtRange}, {PUPoint_ForMLEvaluation = }, iEta: {iEtaBin}\")\\n\\n                h = hist.Hist.new.Regular(100,0,2.5, name=sL1JetResponse).Weight()            \\n                h.fill(data_toUse_[sL1JetResponse])\\n\\n                x_    = h.axes[0].centers\\n                y_    = h.values()\\n                yErr_ = np.sqrt(h.variances())\\n\\n                # index of bins with y>0\\n                idx_NonZeroY = np.nonzero(y_)\\n\\n                # Give initial parameters for Gaussian function fit\\n                #pInitial = [y_.max(), 1, 0.3]\\n                pInitial = [y_.max(), np.mean(data_toUse_.loc[data_toUse_[sL1JetResponse] < 2.5][sL1JetResponse]), np.std(data_toUse_.loc[data_toUse_[sL1JetResponse] < 2.5][sL1JetResponse])]\\n\\n                #popt, pcov = curve_fit(GaussianFunction, xdata=x_, ydata=y_, p0=pInitial)\\n                try:\\n                    popt, pcov = curve_fit(GaussianFunction, xdata=x_[idx_NonZeroY], ydata=y_[idx_NonZeroY], p0=pInitial, sigma=yErr_[idx_NonZeroY])\\n                except:\\n                    print(f\"{PU_category = }, {Pt_category = }, {PUPoint_ForMLEvaluation = }, {iEtaBin = }, {pInitial = }:  fit did not converge *** \")\\n                    continue\\n                poptErr    = np.sqrt(np.diag(pcov))\\n                print(f\"popt: {popt}, \\npcov: \\n{pcov},  \\n{poptErr = }\")\\n\\n                Mean_  = popt[1];    errMean_  = poptErr[1]\\n                Sigma_ = popt[2];    errSigma_ = poptErr[2]\\n\\n                x1Dense_ = np.arange(x_.min(), x_.max(), 0.01)            \\n\\n                fig, axs = plt.subplots(nrows=1, ncols=1, figsize=(5,4), layout=\\'constrained\\')\\n                axs.errorbar(x_, y_, yerr=yErr_, label=\\'Entries\\', fmt=\\'o\\', markersize=1)\\n                axs.plot(x1Dense_, GaussianFunction(x1Dense_, *popt), label=r\\'Gaussian fit, $\\\\mu:\\\\,  %.2f \\\\pm %.2f$, $\\\\sigma:\\\\, %.2f \\\\pm %.2f$\\'%(Mean_,errMean_, Sigma_,errSigma_))\\n                axs.set_xlabel(sL1JetResponse)\\n                axs.set_ylabel(\\'Entries\\')\\n                axs.set_title(\\'%s %s iEta %s\\' % (PU_category, Pt_category, iEtaBin))            \\n                axs.legend(bbox_to_anchor=(0.0, 1.0), loc=\\'upper left\\', borderaxespad=0.9)\\n                axs.set_ylim(0, y_.max() * 1.4)\\n                axs.grid()\\n\\n                errJER_      = calculate_errorOfRatio(N=Sigma_, D=Mean_, eN=errSigma_, eD=errMean_)            \\n                JES[iEtaBin] = {\\'value\\': Mean_,          \\'error\\': errMean_}\\n                JER[iEtaBin] = {\\'value\\': Sigma_ / Mean_, \\'error\\': errJER_}\\n\\n                sOutDir1D_toUse_ = \\'%s/MLAtPU%d\\' % (sOutDir1D_toUse, PUPoint_ForMLEvaluation)\\n                if not os.path.exists(sOutDir1D_toUse_):           os.mkdir( sOutDir1D_toUse_ )    \\n                fig.savefig(\\'%s/L1JetResponse_1D_%s_%s_ieta_%d.png\\' % (sOutDir1D_toUse_, PU_category, Pt_category, iEtaBin))\\n                plt.close(fig)\\n                \\n            JES_atPUPointsForMLEvaluations[PUPoint_ForMLEvaluation] = JES\\n            JER_atPUPointsForMLEvaluations[PUPoint_ForMLEvaluation] = JER\\n                \\n            \\n\\n        # plot JES vs iEta\\n        fig, axs = plt.subplots(nrows=1, ncols=1, figsize=(5,4), layout=\\'constrained\\')\\n        yMin_ =  9999\\n        yMax_ = -9999\\n        for iPU, PUPoint_ForMLEvaluation in enumerate([-1] + PUPointsForMLEvaluation):\\n            JES = JES_atPUPointsForMLEvaluations[PUPoint_ForMLEvaluation]\\n            \\n            JES_iEtawise    = [ JES[iEtaBin][\\'value\\'] for iEtaBin in JES.keys()]\\n            errJES_iEtawise = [ JES[iEtaBin][\\'error\\'] for iEtaBin in JES.keys()]\\n\\n            yMin1_ = np.min(np.array(JES_iEtawise) - np.array(errJES_iEtawise))\\n            yMax1_ = np.max(np.array(JES_iEtawise) + np.array(errJES_iEtawise))\\n            if yMin1_ < yMin_: yMin_ = yMin1_\\n            if yMax1_ > yMax_: yMax_ = yMax1_\\n\\n            label_ = r\\'JEC SFs @PU%d\\' % (PUPoint_ForMLEvaluation) if PUPoint_ForMLEvaluation != -1 else \\'Before JEC\\'\\n            #axs.errorbar(list(JES.keys()), JES_iEtawise, yerr=errJES_iEtawise, fmt=\\'o\\', markersize=2, label=label_)\\n            axs.errorbar(list(JES.keys()), JES_iEtawise, yerr=errJES_iEtawise, fmt=\\'\\', linestyle=\\'\\', markersize=2, marker=marker_style_list[iPU], color=marker_color_list[iPU],  label=label_)\\n            \\n        axs.set_xlabel(\\'iEta\\')\\n        axs.set_ylabel(r\\'$\\\\mu$ (%s)\\' % (sL1JetResponse))\\n        axs.set_title(\\'%s %s\\' % (PU_category, Pt_category))\\n        if yMin_ < 0.4 or yMax_ > 1.5:\\n            axs.set_ylim(0.4, 1.5)\\n        else:\\n            axs.set_ylim(yMin_, yMax_)\\n        #axs.axhline(y=1, linestyle=\\'--\\')\\n        axs.legend(bbox_to_anchor=(0.1, 1.05), loc=\\'upper left\\', borderaxespad=0.9, ncol=2)\\n        axs.margins(y=0.3)\\n        axs.grid()\\n        fig.savefig(\\'%s/L1JetResponse_vs_iEta_%s_%s_Mean.png\\' % (sOutDir_toUse, PU_category, Pt_category))\\n        plt.close(fig)\\n\\n\\n        # plot JER vs iEta\\n        fig, axs = plt.subplots(nrows=1, ncols=1, figsize=(5,4), layout=\\'constrained\\')\\n        yMin_ =  9999\\n        yMax_ = -9999\\n        for iPU, PUPoint_ForMLEvaluation in enumerate([-1] + PUPointsForMLEvaluation):\\n            JER = JER_atPUPointsForMLEvaluations[PUPoint_ForMLEvaluation]            \\n            \\n            JER_iEtawise    = [ JER[iEtaBin][\\'value\\'] for iEtaBin in JER.keys()]\\n            errJER_iEtawise = [ JER[iEtaBin][\\'error\\'] for iEtaBin in JER.keys()]\\n\\n            yMin1_ = np.min(np.array(JER_iEtawise) - np.array(errJER_iEtawise))\\n            yMax1_ = np.max(np.array(JER_iEtawise) + np.array(errJER_iEtawise))\\n            if yMin1_ < yMin_: yMin_ = yMin1_\\n            if yMax1_ > yMax_: yMax_ = yMax1_\\n\\n            label_ = r\\'JEC SFs @PU%d\\' % (PUPoint_ForMLEvaluation) if PUPoint_ForMLEvaluation != -1 else \\'Before JEC\\'\\n            #axs.errorbar(list(JER.keys()), JER_iEtawise, yerr=errJER_iEtawise, fmt=\\'o\\', markersize=2, label=label_)\\n            axs.errorbar(list(JER.keys()), JER_iEtawise, yerr=errJER_iEtawise, fmt=\\'\\', linestyle=\\'\\', markersize=2, marker=marker_style_list[iPU], color=marker_color_list[iPU],  label=label_)\\n            \\n        axs.set_xlabel(\\'iEta\\')\\n        axs.set_ylabel(r\\'$\\\\sigma/\\\\mu$ (%s)\\' % (sL1JetResponse))\\n        axs.set_title(\\'%s %s\\' % (PU_category, Pt_category))\\n        if yMin_ < 0. or yMax_ > 1.:\\n            axs.set_ylim(0., 1.)\\n        else:\\n            axs.set_ylim(yMin_, yMax_)                \\n        axs.legend(bbox_to_anchor=(0.1, 1.05), loc=\\'upper left\\', borderaxespad=0.9, ncol=2)\\n        axs.margins(y=0.3)\\n        axs.grid()\\n        fig.savefig(\\'%s/L1JetResponse_vs_iEta_%s_%s_Resolution.png\\' % (sOutDir_toUse, PU_category, Pt_category)) \\n        plt.close(fig)\\n'"
      ]
     },
     "execution_count": 15,
     "metadata": {},
     "output_type": "execute_result"
    }
   ],
   "source": [
    "# L1JetResponse vs Eta after JEC\n",
    "\n",
    "sOutDir_toUse   = '%s/L1JetResponse_vs_Eta_perPU_perPtEtaCat' % (sOutDirAfterJEC)\n",
    "sOutDir1D_toUse = '%s/L1JetResponse_vs_Eta_perPU_perPtEtaCat/1D' % (sOutDirAfterJEC)\n",
    "if not os.path.exists(sOutDir_toUse):             os.makedirs( sOutDir_toUse , exist_ok=True )\n",
    "if not os.path.exists(sOutDir1D_toUse):           os.makedirs( sOutDir1D_toUse , exist_ok=True )    \n",
    "\n",
    "Pt_Cat_forResolutionPlots = OD()\n",
    "Pt_Cat_forResolutionPlots['Pt25to35']   = [ 25,  35]\n",
    "Pt_Cat_forResolutionPlots['Pt40to55']   = [ 40,  55]\n",
    "Pt_Cat_forResolutionPlots['Pt60to90']   = [ 60,  90]\n",
    "Pt_Cat_forResolutionPlots['Pt100to200'] = [100, 200]\n",
    "#Pt_Cat_forResolutionPlots['PtAll'] = [0, L1JetPtMax]\n",
    "\n",
    "PU_Cat_forResolutionPlots = OD()\n",
    "PU_Cat_forResolutionPlots['PUlt38'] = [ 0, 38]\n",
    "PU_Cat_forResolutionPlots['PUgt58'] = [58, 99]\n",
    "#PU_Cat_forResolutionPlots['PUAll'] = [0, 99]\n",
    "\n",
    "sL1JetResponse = 'L1JetEt/%s' % (sRefJetEt)\n",
    "\n",
    "marker_color_list = ['r', 'b', 'darkviolet', 'c', 'orange', 'green']\n",
    "marker_style_list = [\"o\", \"X\", '>', '^', 'v', \"s\", \"+\", 'x', '*']\n",
    "marker_size_list  = [5, 5, 3, 3, 3, 3, 2, 2, 2]\n",
    "\n",
    "\n",
    "for PU_category, PURange in PU_Cat_forResolutionPlots.items():\n",
    "    PURangeMin = PURange[0]\n",
    "    PURangeMax = PURange[1]\n",
    "\n",
    "    for Pt_category, PtRange in Pt_Cat_forResolutionPlots.items():\n",
    "        PtRangeMin = PtRange[0]\n",
    "        PtRangeMax = PtRange[1]\n",
    "        \n",
    "        JES_atPUPointsForMLEvaluations = OD()\n",
    "        JER_atPUPointsForMLEvaluations = OD()        \n",
    "        for PUPoint_ForMLEvaluation in [-1] + PUPointsForMLEvaluation :\n",
    "            if PUPoint_ForMLEvaluation == -1:\n",
    "                sL1JetEt_forResolutionPlots = sL1JetEt\n",
    "            else:\n",
    "                sL1JetEt_forResolutionPlots = '%s_wBDTAtPU%d' % (sL1JetEt_calib, PUPoint_ForMLEvaluation)\n",
    "            \n",
    "            JES = OD()\n",
    "            JER = OD()\n",
    "            for iEtaBin in iEtaBins:\n",
    "                data_toUse_ = data_copy1[\n",
    "                    (data_copy1[sL1JetTowerIEtaAbs] == iEtaBin   ) & \n",
    "                    (data_copy1[sRefJetEt]               >= PtRangeMin) &\n",
    "                    (data_copy1[sRefJetEt]               <  PtRangeMax) & \n",
    "                    (data_copy1[snVtx]                   >= PURangeMin) &\n",
    "                    (data_copy1[snVtx]                   <  PURangeMax)\n",
    "                ]#.copy()\n",
    "                data_toUse_[sL1JetResponse] = data_toUse_[sL1JetEt_forResolutionPlots] / data_toUse_[sRefJetEt]\n",
    "                print(f\"PU: {PURange}, Pt: {PtRange}, {PUPoint_ForMLEvaluation = }, iEta: {iEtaBin}\")\n",
    "\n",
    "                h = hist.Hist.new.Regular(100,0,2.5, name=sL1JetResponse).Weight()            \n",
    "                h.fill(data_toUse_[sL1JetResponse])\n",
    "\n",
    "                x_    = h.axes[0].centers\n",
    "                y_    = h.values()\n",
    "                yErr_ = np.sqrt(h.variances())\n",
    "\n",
    "                # index of bins with y>0\n",
    "                idx_NonZeroY = np.nonzero(y_)\n",
    "\n",
    "                # Give initial parameters for Gaussian function fit\n",
    "                #pInitial = [y_.max(), 1, 0.3]\n",
    "                pInitial = [y_.max(), np.mean(data_toUse_.loc[data_toUse_[sL1JetResponse] < 2.5][sL1JetResponse]), np.std(data_toUse_.loc[data_toUse_[sL1JetResponse] < 2.5][sL1JetResponse])]\n",
    "\n",
    "                #popt, pcov = curve_fit(GaussianFunction, xdata=x_, ydata=y_, p0=pInitial)\n",
    "                try:\n",
    "                    popt, pcov = curve_fit(GaussianFunction, xdata=x_[idx_NonZeroY], ydata=y_[idx_NonZeroY], p0=pInitial, sigma=yErr_[idx_NonZeroY])\n",
    "                except:\n",
    "                    print(f\"{PU_category = }, {Pt_category = }, {PUPoint_ForMLEvaluation = }, {iEtaBin = }, {pInitial = }:  fit did not converge *** \")\n",
    "                    continue\n",
    "                poptErr    = np.sqrt(np.diag(pcov))\n",
    "                print(f\"popt: {popt}, \\npcov: \\n{pcov},  \\n{poptErr = }\")\n",
    "\n",
    "                Mean_  = popt[1];    errMean_  = poptErr[1]\n",
    "                Sigma_ = popt[2];    errSigma_ = poptErr[2]\n",
    "\n",
    "                x1Dense_ = np.arange(x_.min(), x_.max(), 0.01)            \n",
    "\n",
    "                fig, axs = plt.subplots(nrows=1, ncols=1, figsize=(5,4), layout='constrained')\n",
    "                axs.errorbar(x_, y_, yerr=yErr_, label='Entries', fmt='o', markersize=1)\n",
    "                axs.plot(x1Dense_, GaussianFunction(x1Dense_, *popt), label=r'Gaussian fit, $\\mu:\\,  %.2f \\pm %.2f$, $\\sigma:\\, %.2f \\pm %.2f$'%(Mean_,errMean_, Sigma_,errSigma_))\n",
    "                axs.set_xlabel(sL1JetResponse)\n",
    "                axs.set_ylabel('Entries')\n",
    "                axs.set_title('%s %s iEta %s' % (PU_category, Pt_category, iEtaBin))            \n",
    "                axs.legend(bbox_to_anchor=(0.0, 1.0), loc='upper left', borderaxespad=0.9)\n",
    "                axs.set_ylim(0, y_.max() * 1.4)\n",
    "                axs.grid()\n",
    "\n",
    "                errJER_      = calculate_errorOfRatio(N=Sigma_, D=Mean_, eN=errSigma_, eD=errMean_)            \n",
    "                JES[iEtaBin] = {'value': Mean_,          'error': errMean_}\n",
    "                JER[iEtaBin] = {'value': Sigma_ / Mean_, 'error': errJER_}\n",
    "\n",
    "                sOutDir1D_toUse_ = '%s/MLAtPU%d' % (sOutDir1D_toUse, PUPoint_ForMLEvaluation)\n",
    "                if not os.path.exists(sOutDir1D_toUse_):           os.makedirs( sOutDir1D_toUse_ , exist_ok=True )    \n",
    "                fig.savefig('%s/L1JetResponse_1D_%s_%s_ieta_%d.png' % (sOutDir1D_toUse_, PU_category, Pt_category, iEtaBin))\n",
    "                plt.close(fig)\n",
    "                \n",
    "            JES_atPUPointsForMLEvaluations[PUPoint_ForMLEvaluation] = JES\n",
    "            JER_atPUPointsForMLEvaluations[PUPoint_ForMLEvaluation] = JER\n",
    "                \n",
    "            \n",
    "\n",
    "        # plot JES vs iEta\n",
    "        fig, axs = plt.subplots(nrows=1, ncols=1, figsize=(5,4), layout='constrained')\n",
    "        yMin_ =  9999\n",
    "        yMax_ = -9999\n",
    "        for iPU, PUPoint_ForMLEvaluation in enumerate([-1] + PUPointsForMLEvaluation):\n",
    "            JES = JES_atPUPointsForMLEvaluations[PUPoint_ForMLEvaluation]\n",
    "            \n",
    "            JES_iEtawise    = [ JES[iEtaBin]['value'] for iEtaBin in JES.keys()]\n",
    "            errJES_iEtawise = [ JES[iEtaBin]['error'] for iEtaBin in JES.keys()]\n",
    "\n",
    "            yMin1_ = np.min(np.array(JES_iEtawise) - np.array(errJES_iEtawise))\n",
    "            yMax1_ = np.max(np.array(JES_iEtawise) + np.array(errJES_iEtawise))\n",
    "            if yMin1_ < yMin_: yMin_ = yMin1_\n",
    "            if yMax1_ > yMax_: yMax_ = yMax1_\n",
    "\n",
    "            label_ = r'JEC SFs @PU%d' % (PUPoint_ForMLEvaluation) if PUPoint_ForMLEvaluation != -1 else 'Before JEC'\n",
    "            #axs.errorbar(list(JES.keys()), JES_iEtawise, yerr=errJES_iEtawise, fmt='o', markersize=2, label=label_)\n",
    "            axs.errorbar(list(JES.keys()), JES_iEtawise, yerr=errJES_iEtawise, fmt='', linestyle='', markersize=2, marker=marker_style_list[iPU], color=marker_color_list[iPU],  label=label_)\n",
    "            \n",
    "        axs.set_xlabel('iEta')\n",
    "        axs.set_ylabel(r'$\\mu$ (%s)' % (sL1JetResponse))\n",
    "        axs.set_title('%s %s' % (PU_category, Pt_category))\n",
    "        if yMin_ < 0.4 or yMax_ > 1.5:\n",
    "            axs.set_ylim(0.4, 1.5)\n",
    "        else:\n",
    "            axs.set_ylim(yMin_, yMax_)\n",
    "        #axs.axhline(y=1, linestyle='--')\n",
    "        axs.legend(bbox_to_anchor=(0.1, 1.05), loc='upper left', borderaxespad=0.9, ncol=2)\n",
    "        axs.margins(y=0.3)\n",
    "        axs.grid()\n",
    "        fig.savefig('%s/L1JetResponse_vs_iEta_%s_%s_Mean.png' % (sOutDir_toUse, PU_category, Pt_category))\n",
    "        plt.close(fig)\n",
    "\n",
    "\n",
    "        # plot JER vs iEta\n",
    "        fig, axs = plt.subplots(nrows=1, ncols=1, figsize=(5,4), layout='constrained')\n",
    "        yMin_ =  9999\n",
    "        yMax_ = -9999\n",
    "        for iPU, PUPoint_ForMLEvaluation in enumerate([-1] + PUPointsForMLEvaluation):\n",
    "            JER = JER_atPUPointsForMLEvaluations[PUPoint_ForMLEvaluation]            \n",
    "            \n",
    "            JER_iEtawise    = [ JER[iEtaBin]['value'] for iEtaBin in JER.keys()]\n",
    "            errJER_iEtawise = [ JER[iEtaBin]['error'] for iEtaBin in JER.keys()]\n",
    "\n",
    "            yMin1_ = np.min(np.array(JER_iEtawise) - np.array(errJER_iEtawise))\n",
    "            yMax1_ = np.max(np.array(JER_iEtawise) + np.array(errJER_iEtawise))\n",
    "            if yMin1_ < yMin_: yMin_ = yMin1_\n",
    "            if yMax1_ > yMax_: yMax_ = yMax1_\n",
    "\n",
    "            label_ = r'JEC SFs @PU%d' % (PUPoint_ForMLEvaluation) if PUPoint_ForMLEvaluation != -1 else 'Before JEC'\n",
    "            #axs.errorbar(list(JER.keys()), JER_iEtawise, yerr=errJER_iEtawise, fmt='o', markersize=2, label=label_)\n",
    "            axs.errorbar(list(JER.keys()), JER_iEtawise, yerr=errJER_iEtawise, fmt='', linestyle='', markersize=2, marker=marker_style_list[iPU], color=marker_color_list[iPU],  label=label_)\n",
    "            \n",
    "        axs.set_xlabel('iEta')\n",
    "        axs.set_ylabel(r'$\\sigma/\\mu$ (%s)' % (sL1JetResponse))\n",
    "        axs.set_title('%s %s' % (PU_category, Pt_category))\n",
    "        if yMin_ < 0. or yMax_ > 1.:\n",
    "            axs.set_ylim(0., 1.)\n",
    "        else:\n",
    "            axs.set_ylim(yMin_, yMax_)                \n",
    "        axs.legend(bbox_to_anchor=(0.1, 1.05), loc='upper left', borderaxespad=0.9, ncol=2)\n",
    "        axs.margins(y=0.3)\n",
    "        axs.grid()\n",
    "        fig.savefig('%s/L1JetResponse_vs_iEta_%s_%s_Resolution.png' % (sOutDir_toUse, PU_category, Pt_category)) \n",
    "        plt.close(fig)\n"
   ]
  },
  {
   "cell_type": "code",
   "execution_count": 18,
   "id": "82c2d540",
   "metadata": {},
   "outputs": [
    {
     "name": "stdout",
     "output_type": "stream",
     "text": [
      "RefJetPtBins_forResolutionPlots: [24.5, 27.5, 30.5, 33.5, 36.5, 39.5, 42.5, 45.5, 48.5, 51.5, 54.5, 57.5, 60.5, 65.5, 70.5, 75.5, 80.5, 85.5, 90.5, 95.5, 100.5, 105.5, 110.5, 115.5, 120.5, 130.5, 140.5, 150.5, 170.5, 190.5, 210.5, 230.5]\n"
     ]
    },
    {
     "name": "stderr",
     "output_type": "stream",
     "text": [
      "/tmp/ipykernel_40318/26170352.py:60: SettingWithCopyWarning: \n",
      "A value is trying to be set on a copy of a slice from a DataFrame.\n",
      "Try using .loc[row_indexer,col_indexer] = value instead\n",
      "\n",
      "See the caveats in the documentation: https://pandas.pydata.org/pandas-docs/stable/user_guide/indexing.html#returning-a-view-versus-a-copy\n",
      "  data_toUse_[sL1JetResponse] = data_toUse_[sL1JetEt_forResolutionPlots] / data_toUse_[sRefJetEt]\n"
     ]
    },
    {
     "name": "stdout",
     "output_type": "stream",
     "text": [
      "popt: [1.53143018e+03 1.35829757e+00 2.67937011e-01], \n",
      "pcov: \n",
      "[[ 8.83657704e+03 -6.10876155e-02 -6.69291504e-01]\n",
      " [-6.10876155e-02  2.00804361e-04 -6.58580215e-06]\n",
      " [-6.69291504e-01 -6.58580215e-06  1.37881521e-04]],  \n",
      "poptErr = array([9.40030693e+01, 1.41705456e-02, 1.17422963e-02])\n"
     ]
    },
    {
     "name": "stderr",
     "output_type": "stream",
     "text": [
      "/tmp/ipykernel_40318/26170352.py:60: SettingWithCopyWarning: \n",
      "A value is trying to be set on a copy of a slice from a DataFrame.\n",
      "Try using .loc[row_indexer,col_indexer] = value instead\n",
      "\n",
      "See the caveats in the documentation: https://pandas.pydata.org/pandas-docs/stable/user_guide/indexing.html#returning-a-view-versus-a-copy\n",
      "  data_toUse_[sL1JetResponse] = data_toUse_[sL1JetEt_forResolutionPlots] / data_toUse_[sRefJetEt]\n"
     ]
    },
    {
     "name": "stdout",
     "output_type": "stream",
     "text": [
      "popt: [2.08257292e+03 1.30270767e+00 2.18819493e-01], \n",
      "pcov: \n",
      "[[ 2.36223194e+04 -4.18204260e-01 -8.50782638e-01]\n",
      " [-4.18204260e-01  2.03639159e-04  4.16835278e-05]\n",
      " [-8.50782638e-01  4.16835278e-05  9.34186527e-05]],  \n",
      "poptErr = array([1.53695541e+02, 1.42702193e-02, 9.66533252e-03])\n"
     ]
    },
    {
     "name": "stderr",
     "output_type": "stream",
     "text": [
      "/tmp/ipykernel_40318/26170352.py:60: SettingWithCopyWarning: \n",
      "A value is trying to be set on a copy of a slice from a DataFrame.\n",
      "Try using .loc[row_indexer,col_indexer] = value instead\n",
      "\n",
      "See the caveats in the documentation: https://pandas.pydata.org/pandas-docs/stable/user_guide/indexing.html#returning-a-view-versus-a-copy\n",
      "  data_toUse_[sL1JetResponse] = data_toUse_[sL1JetEt_forResolutionPlots] / data_toUse_[sRefJetEt]\n"
     ]
    },
    {
     "name": "stdout",
     "output_type": "stream",
     "text": [
      "popt: [2.64959594e+03 1.24802061e+00 1.88377851e-01], \n",
      "pcov: \n",
      "[[ 4.57068974e+04 -7.28561277e-01 -9.29164631e-01]\n",
      " [-7.28561277e-01  2.08223421e-04  5.14539124e-05]\n",
      " [-9.29164631e-01  5.14539124e-05  6.68881625e-05]],  \n",
      "poptErr = array([2.13791715e+02, 1.44299488e-02, 8.17851835e-03])\n"
     ]
    },
    {
     "name": "stderr",
     "output_type": "stream",
     "text": [
      "/tmp/ipykernel_40318/26170352.py:60: SettingWithCopyWarning: \n",
      "A value is trying to be set on a copy of a slice from a DataFrame.\n",
      "Try using .loc[row_indexer,col_indexer] = value instead\n",
      "\n",
      "See the caveats in the documentation: https://pandas.pydata.org/pandas-docs/stable/user_guide/indexing.html#returning-a-view-versus-a-copy\n",
      "  data_toUse_[sL1JetResponse] = data_toUse_[sL1JetEt_forResolutionPlots] / data_toUse_[sRefJetEt]\n"
     ]
    },
    {
     "name": "stdout",
     "output_type": "stream",
     "text": [
      "popt: [2.86008430e+03 1.17174440e+00 2.32525627e-01], \n",
      "pcov: \n",
      "[[ 2.20700733e+04 -1.91697412e-01 -6.76390948e-01]\n",
      " [-1.91697412e-01  1.04884979e-04  1.31318973e-05]\n",
      " [-6.76390948e-01  1.31318973e-05  5.88638385e-05]],  \n",
      "poptErr = array([1.48559999e+02, 1.02413368e-02, 7.67227727e-03])\n"
     ]
    },
    {
     "name": "stderr",
     "output_type": "stream",
     "text": [
      "/tmp/ipykernel_40318/26170352.py:60: SettingWithCopyWarning: \n",
      "A value is trying to be set on a copy of a slice from a DataFrame.\n",
      "Try using .loc[row_indexer,col_indexer] = value instead\n",
      "\n",
      "See the caveats in the documentation: https://pandas.pydata.org/pandas-docs/stable/user_guide/indexing.html#returning-a-view-versus-a-copy\n",
      "  data_toUse_[sL1JetResponse] = data_toUse_[sL1JetEt_forResolutionPlots] / data_toUse_[sRefJetEt]\n"
     ]
    },
    {
     "name": "stdout",
     "output_type": "stream",
     "text": [
      "popt: [3.14072622e+03 1.12740085e+00 2.35224083e-01], \n",
      "pcov: \n",
      "[[ 1.93573847e+04 -1.29879975e-01 -5.51903066e-01]\n",
      " [-1.29879975e-01  7.69445922e-05  7.78430437e-06]\n",
      " [-5.51903066e-01  7.78430437e-06  4.43290134e-05]],  \n",
      "poptErr = array([1.39130819e+02, 8.77180667e-03, 6.65800371e-03])\n"
     ]
    },
    {
     "name": "stderr",
     "output_type": "stream",
     "text": [
      "/tmp/ipykernel_40318/26170352.py:60: SettingWithCopyWarning: \n",
      "A value is trying to be set on a copy of a slice from a DataFrame.\n",
      "Try using .loc[row_indexer,col_indexer] = value instead\n",
      "\n",
      "See the caveats in the documentation: https://pandas.pydata.org/pandas-docs/stable/user_guide/indexing.html#returning-a-view-versus-a-copy\n",
      "  data_toUse_[sL1JetResponse] = data_toUse_[sL1JetEt_forResolutionPlots] / data_toUse_[sRefJetEt]\n"
     ]
    },
    {
     "name": "stdout",
     "output_type": "stream",
     "text": [
      "popt: [3.51516836e+03 1.11640449e+00 2.05240891e-01], \n",
      "pcov: \n",
      "[[ 3.97306952e+04 -4.31224647e-01 -7.10868136e-01]\n",
      " [-4.31224647e-01  1.11642799e-04  2.47974187e-05]\n",
      " [-7.10868136e-01  2.47974187e-05  4.23202747e-05]],  \n",
      "poptErr = array([1.99325601e+02, 1.05661156e-02, 6.50540350e-03])\n"
     ]
    },
    {
     "name": "stderr",
     "output_type": "stream",
     "text": [
      "/tmp/ipykernel_40318/26170352.py:60: SettingWithCopyWarning: \n",
      "A value is trying to be set on a copy of a slice from a DataFrame.\n",
      "Try using .loc[row_indexer,col_indexer] = value instead\n",
      "\n",
      "See the caveats in the documentation: https://pandas.pydata.org/pandas-docs/stable/user_guide/indexing.html#returning-a-view-versus-a-copy\n",
      "  data_toUse_[sL1JetResponse] = data_toUse_[sL1JetEt_forResolutionPlots] / data_toUse_[sRefJetEt]\n"
     ]
    },
    {
     "name": "stdout",
     "output_type": "stream",
     "text": [
      "popt: [3.42328005e+03 1.06963572e+00 2.47093242e-01], \n",
      "pcov: \n",
      "[[ 9.29318839e+03 -1.47067454e-02 -2.65118958e-01]\n",
      " [-1.47067454e-02  3.34118059e-05 -1.38212007e-07]\n",
      " [-2.65118958e-01 -1.38212007e-07  2.07719300e-05]],  \n",
      "poptErr = array([9.64011846e+01, 5.78029462e-03, 4.55762329e-03])\n"
     ]
    },
    {
     "name": "stderr",
     "output_type": "stream",
     "text": [
      "/tmp/ipykernel_40318/26170352.py:60: SettingWithCopyWarning: \n",
      "A value is trying to be set on a copy of a slice from a DataFrame.\n",
      "Try using .loc[row_indexer,col_indexer] = value instead\n",
      "\n",
      "See the caveats in the documentation: https://pandas.pydata.org/pandas-docs/stable/user_guide/indexing.html#returning-a-view-versus-a-copy\n",
      "  data_toUse_[sL1JetResponse] = data_toUse_[sL1JetEt_forResolutionPlots] / data_toUse_[sRefJetEt]\n"
     ]
    },
    {
     "name": "stdout",
     "output_type": "stream",
     "text": [
      "popt: [3.84463493e+03 1.08054296e+00 2.01119472e-01], \n",
      "pcov: \n",
      "[[ 3.77973087e+04 -3.64520922e-01 -5.50792336e-01]\n",
      " [-3.64520922e-01  8.82105129e-05  1.89374575e-05]\n",
      " [-5.50792336e-01  1.89374575e-05  2.91066123e-05]],  \n",
      "poptErr = array([1.94415300e+02, 9.39204519e-03, 5.39505443e-03])\n"
     ]
    },
    {
     "name": "stderr",
     "output_type": "stream",
     "text": [
      "/tmp/ipykernel_40318/26170352.py:60: SettingWithCopyWarning: \n",
      "A value is trying to be set on a copy of a slice from a DataFrame.\n",
      "Try using .loc[row_indexer,col_indexer] = value instead\n",
      "\n",
      "See the caveats in the documentation: https://pandas.pydata.org/pandas-docs/stable/user_guide/indexing.html#returning-a-view-versus-a-copy\n",
      "  data_toUse_[sL1JetResponse] = data_toUse_[sL1JetEt_forResolutionPlots] / data_toUse_[sRefJetEt]\n"
     ]
    },
    {
     "name": "stdout",
     "output_type": "stream",
     "text": [
      "popt: [3.76928144e+03 1.05716620e+00 2.14659649e-01], \n",
      "pcov: \n",
      "[[ 2.10771442e+04 -1.62154132e-01 -3.68878995e-01]\n",
      " [-1.62154132e-01  5.25487816e-05  9.03851109e-06]\n",
      " [-3.68878995e-01  9.03851109e-06  2.13832501e-05]],  \n",
      "poptErr = array([1.45179696e+02, 7.24905384e-03, 4.62420264e-03])\n"
     ]
    },
    {
     "name": "stderr",
     "output_type": "stream",
     "text": [
      "/tmp/ipykernel_40318/26170352.py:60: SettingWithCopyWarning: \n",
      "A value is trying to be set on a copy of a slice from a DataFrame.\n",
      "Try using .loc[row_indexer,col_indexer] = value instead\n",
      "\n",
      "See the caveats in the documentation: https://pandas.pydata.org/pandas-docs/stable/user_guide/indexing.html#returning-a-view-versus-a-copy\n",
      "  data_toUse_[sL1JetResponse] = data_toUse_[sL1JetEt_forResolutionPlots] / data_toUse_[sRefJetEt]\n"
     ]
    },
    {
     "name": "stdout",
     "output_type": "stream",
     "text": [
      "popt: [3.73966265e+03 1.03960458e+00 2.23513341e-01], \n",
      "pcov: \n",
      "[[ 1.17261319e+04 -6.05277802e-02 -2.30172458e-01]\n",
      " [-6.05277802e-02  3.00127642e-05  3.43074937e-06]\n",
      " [-2.30172458e-01  3.43074937e-06  1.40783736e-05]],  \n",
      "poptErr = array([1.08287266e+02, 5.47839066e-03, 3.75211588e-03])\n"
     ]
    },
    {
     "name": "stderr",
     "output_type": "stream",
     "text": [
      "/tmp/ipykernel_40318/26170352.py:60: SettingWithCopyWarning: \n",
      "A value is trying to be set on a copy of a slice from a DataFrame.\n",
      "Try using .loc[row_indexer,col_indexer] = value instead\n",
      "\n",
      "See the caveats in the documentation: https://pandas.pydata.org/pandas-docs/stable/user_guide/indexing.html#returning-a-view-versus-a-copy\n",
      "  data_toUse_[sL1JetResponse] = data_toUse_[sL1JetEt_forResolutionPlots] / data_toUse_[sRefJetEt]\n"
     ]
    },
    {
     "name": "stdout",
     "output_type": "stream",
     "text": [
      "popt: [3.77187685e+03 1.03665825e+00 2.15820334e-01], \n",
      "pcov: \n",
      "[[ 1.36889943e+04 -8.64907266e-02 -2.36933662e-01]\n",
      " [-8.64907266e-02  3.36378085e-05  4.85025424e-06]\n",
      " [-2.36933662e-01  4.85025424e-06  1.37405465e-05]],  \n",
      "poptErr = array([1.16999975e+02, 5.79981107e-03, 3.70682431e-03])\n"
     ]
    },
    {
     "name": "stderr",
     "output_type": "stream",
     "text": [
      "/tmp/ipykernel_40318/26170352.py:60: SettingWithCopyWarning: \n",
      "A value is trying to be set on a copy of a slice from a DataFrame.\n",
      "Try using .loc[row_indexer,col_indexer] = value instead\n",
      "\n",
      "See the caveats in the documentation: https://pandas.pydata.org/pandas-docs/stable/user_guide/indexing.html#returning-a-view-versus-a-copy\n",
      "  data_toUse_[sL1JetResponse] = data_toUse_[sL1JetEt_forResolutionPlots] / data_toUse_[sRefJetEt]\n"
     ]
    },
    {
     "name": "stdout",
     "output_type": "stream",
     "text": [
      "popt: [3.53761185e+03 1.01331188e+00 2.37929319e-01], \n",
      "pcov: \n",
      "[[ 1.10452521e+03  1.97674546e-03 -2.83161994e-02]\n",
      " [ 1.97674546e-03  3.30553513e-06 -1.87595997e-07]\n",
      " [-2.83161994e-02 -1.87595997e-07  1.98092560e-06]],  \n",
      "poptErr = array([3.32343980e+01, 1.81811307e-03, 1.40745359e-03])\n"
     ]
    },
    {
     "name": "stderr",
     "output_type": "stream",
     "text": [
      "/tmp/ipykernel_40318/26170352.py:60: SettingWithCopyWarning: \n",
      "A value is trying to be set on a copy of a slice from a DataFrame.\n",
      "Try using .loc[row_indexer,col_indexer] = value instead\n",
      "\n",
      "See the caveats in the documentation: https://pandas.pydata.org/pandas-docs/stable/user_guide/indexing.html#returning-a-view-versus-a-copy\n",
      "  data_toUse_[sL1JetResponse] = data_toUse_[sL1JetEt_forResolutionPlots] / data_toUse_[sRefJetEt]\n"
     ]
    },
    {
     "name": "stdout",
     "output_type": "stream",
     "text": [
      "popt: [6.12254600e+03 1.02130725e+00 2.15478494e-01], \n",
      "pcov: \n",
      "[[ 1.89615552e+04 -4.72153618e-02 -2.03761049e-01]\n",
      " [-4.72153618e-02  1.69043540e-05  1.62488099e-06]\n",
      " [-2.03761049e-01  1.62488099e-06  7.23619540e-06]],  \n",
      "poptErr = array([1.37700963e+02, 4.11149048e-03, 2.69001773e-03])\n"
     ]
    },
    {
     "name": "stderr",
     "output_type": "stream",
     "text": [
      "/tmp/ipykernel_40318/26170352.py:60: SettingWithCopyWarning: \n",
      "A value is trying to be set on a copy of a slice from a DataFrame.\n",
      "Try using .loc[row_indexer,col_indexer] = value instead\n",
      "\n",
      "See the caveats in the documentation: https://pandas.pydata.org/pandas-docs/stable/user_guide/indexing.html#returning-a-view-versus-a-copy\n",
      "  data_toUse_[sL1JetResponse] = data_toUse_[sL1JetEt_forResolutionPlots] / data_toUse_[sRefJetEt]\n"
     ]
    },
    {
     "name": "stdout",
     "output_type": "stream",
     "text": [
      "popt: [5.90187988e+03 1.01283363e+00 2.16347658e-01], \n",
      "pcov: \n",
      "[[ 1.22717775e+04 -1.77432709e-02 -1.43267030e-01]\n",
      " [-1.77432709e-02  1.14453972e-05  6.26433017e-07]\n",
      " [-1.43267030e-01  6.26433017e-07  5.29297733e-06]],  \n",
      "poptErr = array([1.10778055e+02, 3.38310466e-03, 2.30064716e-03])\n"
     ]
    },
    {
     "name": "stderr",
     "output_type": "stream",
     "text": [
      "/tmp/ipykernel_40318/26170352.py:60: SettingWithCopyWarning: \n",
      "A value is trying to be set on a copy of a slice from a DataFrame.\n",
      "Try using .loc[row_indexer,col_indexer] = value instead\n",
      "\n",
      "See the caveats in the documentation: https://pandas.pydata.org/pandas-docs/stable/user_guide/indexing.html#returning-a-view-versus-a-copy\n",
      "  data_toUse_[sL1JetResponse] = data_toUse_[sL1JetEt_forResolutionPlots] / data_toUse_[sRefJetEt]\n"
     ]
    },
    {
     "name": "stdout",
     "output_type": "stream",
     "text": [
      "popt: [5.76294908e+03 1.00996004e+00 2.12161676e-01], \n",
      "pcov: \n",
      "[[ 1.00506495e+04 -6.85796015e-03 -1.18136777e-01]\n",
      " [-6.85796015e-03  9.35287588e-06  2.39900690e-07]\n",
      " [-1.18136777e-01  2.39900690e-07  4.37033408e-06]],  \n",
      "poptErr = array([1.00252928e+02, 3.05824719e-03, 2.09053440e-03])\n"
     ]
    },
    {
     "name": "stderr",
     "output_type": "stream",
     "text": [
      "/tmp/ipykernel_40318/26170352.py:60: SettingWithCopyWarning: \n",
      "A value is trying to be set on a copy of a slice from a DataFrame.\n",
      "Try using .loc[row_indexer,col_indexer] = value instead\n",
      "\n",
      "See the caveats in the documentation: https://pandas.pydata.org/pandas-docs/stable/user_guide/indexing.html#returning-a-view-versus-a-copy\n",
      "  data_toUse_[sL1JetResponse] = data_toUse_[sL1JetEt_forResolutionPlots] / data_toUse_[sRefJetEt]\n"
     ]
    },
    {
     "name": "stdout",
     "output_type": "stream",
     "text": [
      "popt: [5.50354807e+03 1.00313071e+00 2.13982314e-01], \n",
      "pcov: \n",
      "[[ 6.74835964e+03  1.30312026e-02 -9.62956828e-02]\n",
      " [ 1.30312026e-02  6.59137496e-06 -5.21558054e-07]\n",
      " [-9.62956828e-02 -5.21558054e-07  3.76724258e-06]],  \n",
      "poptErr = array([8.21484001e+01, 2.56736732e-03, 1.94093858e-03])\n"
     ]
    },
    {
     "name": "stderr",
     "output_type": "stream",
     "text": [
      "/tmp/ipykernel_40318/26170352.py:60: SettingWithCopyWarning: \n",
      "A value is trying to be set on a copy of a slice from a DataFrame.\n",
      "Try using .loc[row_indexer,col_indexer] = value instead\n",
      "\n",
      "See the caveats in the documentation: https://pandas.pydata.org/pandas-docs/stable/user_guide/indexing.html#returning-a-view-versus-a-copy\n",
      "  data_toUse_[sL1JetResponse] = data_toUse_[sL1JetEt_forResolutionPlots] / data_toUse_[sRefJetEt]\n"
     ]
    },
    {
     "name": "stdout",
     "output_type": "stream",
     "text": [
      "popt: [5.37737510e+03 1.00043961e+00 2.07805252e-01], \n",
      "pcov: \n",
      "[[ 9.55918873e+03  2.16100027e-02 -1.35580377e-01]\n",
      " [ 2.16100027e-02  9.21794199e-06 -8.45977880e-07]\n",
      " [-1.35580377e-01 -8.45977880e-07  5.25662722e-06]],  \n",
      "poptErr = array([9.77711037e+01, 3.03610639e-03, 2.29273357e-03])\n"
     ]
    },
    {
     "name": "stderr",
     "output_type": "stream",
     "text": [
      "/tmp/ipykernel_40318/26170352.py:60: SettingWithCopyWarning: \n",
      "A value is trying to be set on a copy of a slice from a DataFrame.\n",
      "Try using .loc[row_indexer,col_indexer] = value instead\n",
      "\n",
      "See the caveats in the documentation: https://pandas.pydata.org/pandas-docs/stable/user_guide/indexing.html#returning-a-view-versus-a-copy\n",
      "  data_toUse_[sL1JetResponse] = data_toUse_[sL1JetEt_forResolutionPlots] / data_toUse_[sRefJetEt]\n"
     ]
    },
    {
     "name": "stdout",
     "output_type": "stream",
     "text": [
      "popt: [5.33482140e+03 1.00207272e+00 2.01380763e-01], \n",
      "pcov: \n",
      "[[ 1.08992852e+04  2.38161144e-02 -1.50105476e-01]\n",
      " [ 2.38161144e-02  1.00306006e-05 -9.03954400e-07]\n",
      " [-1.50105476e-01 -9.03954400e-07  5.67444651e-06]],  \n",
      "poptErr = array([1.04399642e+02, 3.16711234e-03, 2.38210968e-03])\n"
     ]
    },
    {
     "name": "stderr",
     "output_type": "stream",
     "text": [
      "/tmp/ipykernel_40318/26170352.py:60: SettingWithCopyWarning: \n",
      "A value is trying to be set on a copy of a slice from a DataFrame.\n",
      "Try using .loc[row_indexer,col_indexer] = value instead\n",
      "\n",
      "See the caveats in the documentation: https://pandas.pydata.org/pandas-docs/stable/user_guide/indexing.html#returning-a-view-versus-a-copy\n",
      "  data_toUse_[sL1JetResponse] = data_toUse_[sL1JetEt_forResolutionPlots] / data_toUse_[sRefJetEt]\n"
     ]
    },
    {
     "name": "stdout",
     "output_type": "stream",
     "text": [
      "popt: [5.18416340e+03 1.00144917e+00 1.97346343e-01], \n",
      "pcov: \n",
      "[[ 1.18626710e+04  2.93191893e-02 -1.65571069e-01]\n",
      " [ 2.93191893e-02  1.11052653e-05 -1.12039594e-06]\n",
      " [-1.65571069e-01 -1.12039594e-06  6.30990838e-06]],  \n",
      "poptErr = array([1.08915890e+02, 3.33245634e-03, 2.51195310e-03])\n"
     ]
    },
    {
     "name": "stderr",
     "output_type": "stream",
     "text": [
      "/tmp/ipykernel_40318/26170352.py:60: SettingWithCopyWarning: \n",
      "A value is trying to be set on a copy of a slice from a DataFrame.\n",
      "Try using .loc[row_indexer,col_indexer] = value instead\n",
      "\n",
      "See the caveats in the documentation: https://pandas.pydata.org/pandas-docs/stable/user_guide/indexing.html#returning-a-view-versus-a-copy\n",
      "  data_toUse_[sL1JetResponse] = data_toUse_[sL1JetEt_forResolutionPlots] / data_toUse_[sRefJetEt]\n"
     ]
    },
    {
     "name": "stdout",
     "output_type": "stream",
     "text": [
      "popt: [5.05594893e+03 1.00257751e+00 1.92574596e-01], \n",
      "pcov: \n",
      "[[ 1.32503490e+04  3.19111724e-02 -1.85502621e-01]\n",
      " [ 3.19111724e-02  1.23766989e-05 -1.21734442e-06]\n",
      " [-1.85502621e-01 -1.21734442e-06  7.06915894e-06]],  \n",
      "poptErr = array([1.15110160e+02, 3.51805328e-03, 2.65878900e-03])\n"
     ]
    },
    {
     "name": "stderr",
     "output_type": "stream",
     "text": [
      "/tmp/ipykernel_40318/26170352.py:60: SettingWithCopyWarning: \n",
      "A value is trying to be set on a copy of a slice from a DataFrame.\n",
      "Try using .loc[row_indexer,col_indexer] = value instead\n",
      "\n",
      "See the caveats in the documentation: https://pandas.pydata.org/pandas-docs/stable/user_guide/indexing.html#returning-a-view-versus-a-copy\n",
      "  data_toUse_[sL1JetResponse] = data_toUse_[sL1JetEt_forResolutionPlots] / data_toUse_[sRefJetEt]\n"
     ]
    },
    {
     "name": "stdout",
     "output_type": "stream",
     "text": [
      "popt: [5.02824681e+03 1.00157254e+00 1.87476957e-01], \n",
      "pcov: \n",
      "[[ 1.47655467e+04  3.48270268e-02 -2.03756287e-01]\n",
      " [ 3.48270268e-02  1.31583487e-05 -1.29983536e-06]\n",
      " [-2.03756287e-01 -1.29983536e-06  7.59945820e-06]],  \n",
      "poptErr = array([1.21513566e+02, 3.62744383e-03, 2.75671148e-03])\n"
     ]
    },
    {
     "name": "stderr",
     "output_type": "stream",
     "text": [
      "/tmp/ipykernel_40318/26170352.py:60: SettingWithCopyWarning: \n",
      "A value is trying to be set on a copy of a slice from a DataFrame.\n",
      "Try using .loc[row_indexer,col_indexer] = value instead\n",
      "\n",
      "See the caveats in the documentation: https://pandas.pydata.org/pandas-docs/stable/user_guide/indexing.html#returning-a-view-versus-a-copy\n",
      "  data_toUse_[sL1JetResponse] = data_toUse_[sL1JetEt_forResolutionPlots] / data_toUse_[sRefJetEt]\n"
     ]
    },
    {
     "name": "stdout",
     "output_type": "stream",
     "text": [
      "popt: [4.92517638e+03 1.00167056e+00 1.83236388e-01], \n",
      "pcov: \n",
      "[[ 1.51327665e+04  3.60523643e-02 -2.07874522e-01]\n",
      " [ 3.60523643e-02  1.34476608e-05 -1.34175936e-06]\n",
      " [-2.07874522e-01 -1.34175936e-06  7.73475358e-06]],  \n",
      "poptErr = array([1.23015310e+02, 3.66710524e-03, 2.78114249e-03])\n"
     ]
    },
    {
     "name": "stderr",
     "output_type": "stream",
     "text": [
      "/tmp/ipykernel_40318/26170352.py:60: SettingWithCopyWarning: \n",
      "A value is trying to be set on a copy of a slice from a DataFrame.\n",
      "Try using .loc[row_indexer,col_indexer] = value instead\n",
      "\n",
      "See the caveats in the documentation: https://pandas.pydata.org/pandas-docs/stable/user_guide/indexing.html#returning-a-view-versus-a-copy\n",
      "  data_toUse_[sL1JetResponse] = data_toUse_[sL1JetEt_forResolutionPlots] / data_toUse_[sRefJetEt]\n"
     ]
    },
    {
     "name": "stdout",
     "output_type": "stream",
     "text": [
      "popt: [4.88994621e+03 1.00223204e+00 1.77831383e-01], \n",
      "pcov: \n",
      "[[ 1.76100255e+04  4.31330009e-02 -2.35612498e-01]\n",
      " [ 4.31330009e-02  1.50108234e-05 -1.56883115e-06]\n",
      " [-2.35612498e-01 -1.56883115e-06  8.56913467e-06]],  \n",
      "poptErr = array([1.32702771e+02, 3.87438039e-03, 2.92730843e-03])\n"
     ]
    },
    {
     "name": "stderr",
     "output_type": "stream",
     "text": [
      "/tmp/ipykernel_40318/26170352.py:60: SettingWithCopyWarning: \n",
      "A value is trying to be set on a copy of a slice from a DataFrame.\n",
      "Try using .loc[row_indexer,col_indexer] = value instead\n",
      "\n",
      "See the caveats in the documentation: https://pandas.pydata.org/pandas-docs/stable/user_guide/indexing.html#returning-a-view-versus-a-copy\n",
      "  data_toUse_[sL1JetResponse] = data_toUse_[sL1JetEt_forResolutionPlots] / data_toUse_[sRefJetEt]\n"
     ]
    },
    {
     "name": "stdout",
     "output_type": "stream",
     "text": [
      "popt: [4.75655413e+03 1.00186412e+00 1.74636042e-01], \n",
      "pcov: \n",
      "[[ 1.64369072e+04  4.08193710e-02 -2.20833570e-01]\n",
      " [ 4.08193710e-02  1.43271969e-05 -1.49880681e-06]\n",
      " [-2.20833570e-01 -1.49880681e-06  8.10829680e-06]],  \n",
      "poptErr = array([1.28206502e+02, 3.78512839e-03, 2.84750712e-03])\n"
     ]
    },
    {
     "name": "stderr",
     "output_type": "stream",
     "text": [
      "/tmp/ipykernel_40318/26170352.py:60: SettingWithCopyWarning: \n",
      "A value is trying to be set on a copy of a slice from a DataFrame.\n",
      "Try using .loc[row_indexer,col_indexer] = value instead\n",
      "\n",
      "See the caveats in the documentation: https://pandas.pydata.org/pandas-docs/stable/user_guide/indexing.html#returning-a-view-versus-a-copy\n",
      "  data_toUse_[sL1JetResponse] = data_toUse_[sL1JetEt_forResolutionPlots] / data_toUse_[sRefJetEt]\n"
     ]
    },
    {
     "name": "stdout",
     "output_type": "stream",
     "text": [
      "popt: [9.22797328e+03 1.00102957e+00 1.70370252e-01], \n",
      "pcov: \n",
      "[[ 6.54361963e+04  8.76677070e-02 -4.44272557e-01]\n",
      " [ 8.76677070e-02  1.44220861e-05 -1.61857931e-06]\n",
      " [-4.44272557e-01 -1.61857931e-06  8.20246161e-06]],  \n",
      "poptErr = array([2.55804997e+02, 3.79764217e-03, 2.86399400e-03])\n"
     ]
    },
    {
     "name": "stderr",
     "output_type": "stream",
     "text": [
      "/tmp/ipykernel_40318/26170352.py:60: SettingWithCopyWarning: \n",
      "A value is trying to be set on a copy of a slice from a DataFrame.\n",
      "Try using .loc[row_indexer,col_indexer] = value instead\n",
      "\n",
      "See the caveats in the documentation: https://pandas.pydata.org/pandas-docs/stable/user_guide/indexing.html#returning-a-view-versus-a-copy\n",
      "  data_toUse_[sL1JetResponse] = data_toUse_[sL1JetEt_forResolutionPlots] / data_toUse_[sRefJetEt]\n"
     ]
    },
    {
     "name": "stdout",
     "output_type": "stream",
     "text": [
      "popt: [8.98892121e+03 1.00191020e+00 1.63992562e-01], \n",
      "pcov: \n",
      "[[ 6.83576546e+04  9.34458720e-02 -4.57326584e-01]\n",
      " [ 9.34458720e-02  1.47573103e-05 -1.70478588e-06]\n",
      " [-4.57326584e-01 -1.70478588e-06  8.34346601e-06]],  \n",
      "poptErr = array([2.61452968e+02, 3.84152447e-03, 2.88850584e-03])\n"
     ]
    },
    {
     "name": "stderr",
     "output_type": "stream",
     "text": [
      "/tmp/ipykernel_40318/26170352.py:60: SettingWithCopyWarning: \n",
      "A value is trying to be set on a copy of a slice from a DataFrame.\n",
      "Try using .loc[row_indexer,col_indexer] = value instead\n",
      "\n",
      "See the caveats in the documentation: https://pandas.pydata.org/pandas-docs/stable/user_guide/indexing.html#returning-a-view-versus-a-copy\n",
      "  data_toUse_[sL1JetResponse] = data_toUse_[sL1JetEt_forResolutionPlots] / data_toUse_[sRefJetEt]\n"
     ]
    },
    {
     "name": "stdout",
     "output_type": "stream",
     "text": [
      "popt: [8.64827484e+03 1.00188667e+00 1.58205534e-01], \n",
      "pcov: \n",
      "[[ 6.71735332e+04  9.20644509e-02 -4.52436452e-01]\n",
      " [ 9.20644509e-02  1.45456828e-05 -1.68410016e-06]\n",
      " [-4.52436452e-01 -1.68410016e-06  8.27658375e-06]],  \n",
      "poptErr = array([2.59178574e+02, 3.81388028e-03, 2.87690524e-03])\n"
     ]
    },
    {
     "name": "stderr",
     "output_type": "stream",
     "text": [
      "/tmp/ipykernel_40318/26170352.py:60: SettingWithCopyWarning: \n",
      "A value is trying to be set on a copy of a slice from a DataFrame.\n",
      "Try using .loc[row_indexer,col_indexer] = value instead\n",
      "\n",
      "See the caveats in the documentation: https://pandas.pydata.org/pandas-docs/stable/user_guide/indexing.html#returning-a-view-versus-a-copy\n",
      "  data_toUse_[sL1JetResponse] = data_toUse_[sL1JetEt_forResolutionPlots] / data_toUse_[sRefJetEt]\n"
     ]
    },
    {
     "name": "stdout",
     "output_type": "stream",
     "text": [
      "popt: [1.66530596e+04 1.00162000e+00 1.50237980e-01], \n",
      "pcov: \n",
      "[[ 2.63096628e+05  1.89161131e-01 -8.71567514e-01]\n",
      " [ 1.89161131e-01  1.39211387e-05 -1.70645650e-06]\n",
      " [-8.71567514e-01 -1.70645650e-06  7.86299236e-06]],  \n",
      "poptErr = array([5.12929457e+02, 3.73110421e-03, 2.80410277e-03])\n"
     ]
    },
    {
     "name": "stderr",
     "output_type": "stream",
     "text": [
      "/tmp/ipykernel_40318/26170352.py:60: SettingWithCopyWarning: \n",
      "A value is trying to be set on a copy of a slice from a DataFrame.\n",
      "Try using .loc[row_indexer,col_indexer] = value instead\n",
      "\n",
      "See the caveats in the documentation: https://pandas.pydata.org/pandas-docs/stable/user_guide/indexing.html#returning-a-view-versus-a-copy\n",
      "  data_toUse_[sL1JetResponse] = data_toUse_[sL1JetEt_forResolutionPlots] / data_toUse_[sRefJetEt]\n"
     ]
    },
    {
     "name": "stdout",
     "output_type": "stream",
     "text": [
      "popt: [1.56250578e+04 9.99582791e-01 1.41903143e-01], \n",
      "pcov: \n",
      "[[ 2.51689817e+05  1.94080233e-01 -8.44805526e-01]\n",
      " [ 1.94080233e-01  1.34917451e-05 -1.76254601e-06]\n",
      " [-8.44805526e-01 -1.76254601e-06  7.67233851e-06]],  \n",
      "poptErr = array([5.01686971e+02, 3.67311110e-03, 2.76989865e-03])\n"
     ]
    },
    {
     "name": "stderr",
     "output_type": "stream",
     "text": [
      "/tmp/ipykernel_40318/26170352.py:60: SettingWithCopyWarning: \n",
      "A value is trying to be set on a copy of a slice from a DataFrame.\n",
      "Try using .loc[row_indexer,col_indexer] = value instead\n",
      "\n",
      "See the caveats in the documentation: https://pandas.pydata.org/pandas-docs/stable/user_guide/indexing.html#returning-a-view-versus-a-copy\n",
      "  data_toUse_[sL1JetResponse] = data_toUse_[sL1JetEt_forResolutionPlots] / data_toUse_[sRefJetEt]\n"
     ]
    },
    {
     "name": "stdout",
     "output_type": "stream",
     "text": [
      "popt: [1.47704987e+04 9.98493689e-01 1.34458507e-01], \n",
      "pcov: \n",
      "[[ 2.25129357e+05  1.77282298e-01 -7.55874140e-01]\n",
      " [ 1.77282298e-01  1.21537802e-05 -1.61378887e-06]\n",
      " [-7.55874140e-01 -1.61378887e-06  6.88086845e-06]],  \n",
      "poptErr = array([4.74477984e+02, 3.48622721e-03, 2.62314095e-03])\n"
     ]
    },
    {
     "name": "stderr",
     "output_type": "stream",
     "text": [
      "/tmp/ipykernel_40318/26170352.py:60: SettingWithCopyWarning: \n",
      "A value is trying to be set on a copy of a slice from a DataFrame.\n",
      "Try using .loc[row_indexer,col_indexer] = value instead\n",
      "\n",
      "See the caveats in the documentation: https://pandas.pydata.org/pandas-docs/stable/user_guide/indexing.html#returning-a-view-versus-a-copy\n",
      "  data_toUse_[sL1JetResponse] = data_toUse_[sL1JetEt_forResolutionPlots] / data_toUse_[sRefJetEt]\n"
     ]
    },
    {
     "name": "stdout",
     "output_type": "stream",
     "text": [
      "popt: [1.37908295e+04 9.96502226e-01 1.28756142e-01], \n",
      "pcov: \n",
      "[[ 1.87389574e+05  1.56882544e-01 -6.40536563e-01]\n",
      " [ 1.56882544e-01  1.07131094e-05 -1.46459306e-06]\n",
      " [-6.40536563e-01 -1.46459306e-06  5.98030367e-06]],  \n",
      "poptErr = array([4.32885174e+02, 3.27308866e-03, 2.44546594e-03])\n"
     ]
    },
    {
     "name": "stderr",
     "output_type": "stream",
     "text": [
      "/tmp/ipykernel_40318/26170352.py:60: SettingWithCopyWarning: \n",
      "A value is trying to be set on a copy of a slice from a DataFrame.\n",
      "Try using .loc[row_indexer,col_indexer] = value instead\n",
      "\n",
      "See the caveats in the documentation: https://pandas.pydata.org/pandas-docs/stable/user_guide/indexing.html#returning-a-view-versus-a-copy\n",
      "  data_toUse_[sL1JetResponse] = data_toUse_[sL1JetEt_forResolutionPlots] / data_toUse_[sRefJetEt]\n"
     ]
    },
    {
     "name": "stdout",
     "output_type": "stream",
     "text": [
      "popt: [5.35026183e+02 1.35416342e+00 2.42524263e-01], \n",
      "pcov: \n",
      "[[ 1.22629014e+03 -7.01967684e-02 -2.07131097e-01]\n",
      " [-7.01967684e-02  1.86717345e-04  2.70457217e-05]\n",
      " [-2.07131097e-01  2.70457217e-05  1.01142841e-04]],  \n",
      "poptErr = array([3.50184258e+01, 1.36644555e-02, 1.00569797e-02])\n"
     ]
    },
    {
     "name": "stderr",
     "output_type": "stream",
     "text": [
      "/tmp/ipykernel_40318/26170352.py:60: SettingWithCopyWarning: \n",
      "A value is trying to be set on a copy of a slice from a DataFrame.\n",
      "Try using .loc[row_indexer,col_indexer] = value instead\n",
      "\n",
      "See the caveats in the documentation: https://pandas.pydata.org/pandas-docs/stable/user_guide/indexing.html#returning-a-view-versus-a-copy\n",
      "  data_toUse_[sL1JetResponse] = data_toUse_[sL1JetEt_forResolutionPlots] / data_toUse_[sRefJetEt]\n"
     ]
    },
    {
     "name": "stdout",
     "output_type": "stream",
     "text": [
      "popt: [7.12122369e+02 1.26383554e+00 2.37826055e-01], \n",
      "pcov: \n",
      "[[ 1.67537852e+03 -5.42563423e-02 -2.14440530e-01]\n",
      " [-5.42563423e-02  1.34541378e-04  1.40355300e-05]\n",
      " [-2.14440530e-01  1.40355300e-05  7.76489660e-05]],  \n",
      "poptErr = array([4.09313880e+01, 1.15991973e-02, 8.81186507e-03])\n"
     ]
    },
    {
     "name": "stderr",
     "output_type": "stream",
     "text": [
      "/tmp/ipykernel_40318/26170352.py:60: SettingWithCopyWarning: \n",
      "A value is trying to be set on a copy of a slice from a DataFrame.\n",
      "Try using .loc[row_indexer,col_indexer] = value instead\n",
      "\n",
      "See the caveats in the documentation: https://pandas.pydata.org/pandas-docs/stable/user_guide/indexing.html#returning-a-view-versus-a-copy\n",
      "  data_toUse_[sL1JetResponse] = data_toUse_[sL1JetEt_forResolutionPlots] / data_toUse_[sRefJetEt]\n"
     ]
    },
    {
     "name": "stdout",
     "output_type": "stream",
     "text": [
      "popt: [9.10063988e+02 1.19416006e+00 2.26667997e-01], \n",
      "pcov: \n",
      "[[ 2.29955660e+03 -6.42022306e-02 -2.12626065e-01]\n",
      " [-6.42022306e-02  1.02968182e-04  1.39134356e-05]\n",
      " [-2.12626065e-01  1.39134356e-05  5.63252778e-05]],  \n",
      "poptErr = array([4.79536922e+01, 1.01473239e-02, 7.50501684e-03])\n"
     ]
    },
    {
     "name": "stderr",
     "output_type": "stream",
     "text": [
      "/tmp/ipykernel_40318/26170352.py:60: SettingWithCopyWarning: \n",
      "A value is trying to be set on a copy of a slice from a DataFrame.\n",
      "Try using .loc[row_indexer,col_indexer] = value instead\n",
      "\n",
      "See the caveats in the documentation: https://pandas.pydata.org/pandas-docs/stable/user_guide/indexing.html#returning-a-view-versus-a-copy\n",
      "  data_toUse_[sL1JetResponse] = data_toUse_[sL1JetEt_forResolutionPlots] / data_toUse_[sRefJetEt]\n"
     ]
    },
    {
     "name": "stdout",
     "output_type": "stream",
     "text": [
      "popt: [1.01353564e+03 1.13776825e+00 2.38824911e-01], \n",
      "pcov: \n",
      "[[ 1.90287547e+03 -2.90302391e-02 -1.78676559e-01]\n",
      " [-2.90302391e-02  7.38118856e-05  4.22664197e-06]\n",
      " [-1.78676559e-01  4.22664197e-06  4.59166206e-05]],  \n",
      "poptErr = array([4.36219609e+01, 8.59138438e-03, 6.77618039e-03])\n"
     ]
    },
    {
     "name": "stderr",
     "output_type": "stream",
     "text": [
      "/tmp/ipykernel_40318/26170352.py:60: SettingWithCopyWarning: \n",
      "A value is trying to be set on a copy of a slice from a DataFrame.\n",
      "Try using .loc[row_indexer,col_indexer] = value instead\n",
      "\n",
      "See the caveats in the documentation: https://pandas.pydata.org/pandas-docs/stable/user_guide/indexing.html#returning-a-view-versus-a-copy\n",
      "  data_toUse_[sL1JetResponse] = data_toUse_[sL1JetEt_forResolutionPlots] / data_toUse_[sRefJetEt]\n"
     ]
    },
    {
     "name": "stdout",
     "output_type": "stream",
     "text": [
      "popt: [1.13290354e+03 1.10113035e+00 2.35219413e-01], \n",
      "pcov: \n",
      "[[ 1.92495432e+03 -2.34156433e-02 -1.55370875e-01]\n",
      " [-2.34156433e-02  5.75455983e-05  3.19590387e-06]\n",
      " [-1.55370875e-01  3.19590387e-06  3.47236204e-05]],  \n",
      "poptErr = array([4.38743013e+01, 7.58588151e-03, 5.89267515e-03])\n"
     ]
    },
    {
     "name": "stderr",
     "output_type": "stream",
     "text": [
      "/tmp/ipykernel_40318/26170352.py:60: SettingWithCopyWarning: \n",
      "A value is trying to be set on a copy of a slice from a DataFrame.\n",
      "Try using .loc[row_indexer,col_indexer] = value instead\n",
      "\n",
      "See the caveats in the documentation: https://pandas.pydata.org/pandas-docs/stable/user_guide/indexing.html#returning-a-view-versus-a-copy\n",
      "  data_toUse_[sL1JetResponse] = data_toUse_[sL1JetEt_forResolutionPlots] / data_toUse_[sRefJetEt]\n"
     ]
    },
    {
     "name": "stdout",
     "output_type": "stream",
     "text": [
      "popt: [1.27256757e+03 1.08109551e+00 2.20755766e-01], \n",
      "pcov: \n",
      "[[ 2.83002863e+03 -5.76045107e-02 -1.71482841e-01]\n",
      " [-5.76045107e-02  6.18494878e-05  9.35058682e-06]\n",
      " [-1.71482841e-01  9.35058682e-06  3.08972542e-05]],  \n",
      "poptErr = array([5.31980134e+01, 7.86444453e-03, 5.55852986e-03])\n"
     ]
    },
    {
     "name": "stderr",
     "output_type": "stream",
     "text": [
      "/tmp/ipykernel_40318/26170352.py:60: SettingWithCopyWarning: \n",
      "A value is trying to be set on a copy of a slice from a DataFrame.\n",
      "Try using .loc[row_indexer,col_indexer] = value instead\n",
      "\n",
      "See the caveats in the documentation: https://pandas.pydata.org/pandas-docs/stable/user_guide/indexing.html#returning-a-view-versus-a-copy\n",
      "  data_toUse_[sL1JetResponse] = data_toUse_[sL1JetEt_forResolutionPlots] / data_toUse_[sRefJetEt]\n"
     ]
    },
    {
     "name": "stdout",
     "output_type": "stream",
     "text": [
      "popt: [1.31071844e+03 1.05460212e+00 2.26710916e-01], \n",
      "pcov: \n",
      "[[ 2.01288172e+03 -2.84475648e-02 -1.26191349e-01]\n",
      " [-2.84475648e-02  4.22326390e-05  4.28234114e-06]\n",
      " [-1.26191349e-01  4.28234114e-06  2.28681199e-05]],  \n",
      "poptErr = array([4.48651504e+01, 6.49866440e-03, 4.78206231e-03])\n"
     ]
    },
    {
     "name": "stderr",
     "output_type": "stream",
     "text": [
      "/tmp/ipykernel_40318/26170352.py:60: SettingWithCopyWarning: \n",
      "A value is trying to be set on a copy of a slice from a DataFrame.\n",
      "Try using .loc[row_indexer,col_indexer] = value instead\n",
      "\n",
      "See the caveats in the documentation: https://pandas.pydata.org/pandas-docs/stable/user_guide/indexing.html#returning-a-view-versus-a-copy\n",
      "  data_toUse_[sL1JetResponse] = data_toUse_[sL1JetEt_forResolutionPlots] / data_toUse_[sRefJetEt]\n"
     ]
    },
    {
     "name": "stdout",
     "output_type": "stream",
     "text": [
      "popt: [1.30669412e+03 1.03610901e+00 2.35975219e-01], \n",
      "pcov: \n",
      "[[ 9.74055744e+02 -5.42056236e-03 -6.67585837e-02]\n",
      " [-5.42056236e-03  2.16249596e-05  4.92910757e-07]\n",
      " [-6.67585837e-02  4.92910757e-07  1.27670755e-05]],  \n",
      "poptErr = array([3.12098661e+01, 4.65026447e-03, 3.57310447e-03])\n"
     ]
    },
    {
     "name": "stderr",
     "output_type": "stream",
     "text": [
      "/tmp/ipykernel_40318/26170352.py:60: SettingWithCopyWarning: \n",
      "A value is trying to be set on a copy of a slice from a DataFrame.\n",
      "Try using .loc[row_indexer,col_indexer] = value instead\n",
      "\n",
      "See the caveats in the documentation: https://pandas.pydata.org/pandas-docs/stable/user_guide/indexing.html#returning-a-view-versus-a-copy\n",
      "  data_toUse_[sL1JetResponse] = data_toUse_[sL1JetEt_forResolutionPlots] / data_toUse_[sRefJetEt]\n"
     ]
    },
    {
     "name": "stdout",
     "output_type": "stream",
     "text": [
      "popt: [1.34707384e+03 1.02139396e+00 2.35324477e-01], \n",
      "pcov: \n",
      "[[ 6.97825112e+02 -2.04905557e-03 -4.66653126e-02]\n",
      " [-2.04905557e-03  1.42919429e-05  6.05209290e-08]\n",
      " [-4.66653126e-02  6.05209290e-08  8.59052910e-06]],  \n",
      "poptErr = array([2.64163796e+01, 3.78046860e-03, 2.93096044e-03])\n"
     ]
    },
    {
     "name": "stderr",
     "output_type": "stream",
     "text": [
      "/tmp/ipykernel_40318/26170352.py:60: SettingWithCopyWarning: \n",
      "A value is trying to be set on a copy of a slice from a DataFrame.\n",
      "Try using .loc[row_indexer,col_indexer] = value instead\n",
      "\n",
      "See the caveats in the documentation: https://pandas.pydata.org/pandas-docs/stable/user_guide/indexing.html#returning-a-view-versus-a-copy\n",
      "  data_toUse_[sL1JetResponse] = data_toUse_[sL1JetEt_forResolutionPlots] / data_toUse_[sRefJetEt]\n"
     ]
    },
    {
     "name": "stdout",
     "output_type": "stream",
     "text": [
      "popt: [1.34853477e+03 1.00962822e+00 2.29954818e-01], \n",
      "pcov: \n",
      "[[ 7.20786047e+02 -3.49964962e-03 -4.46764686e-02]\n",
      " [-3.49964962e-03  1.42356285e-05  3.88196720e-07]\n",
      " [-4.46764686e-02  3.88196720e-07  7.93259503e-06]],  \n",
      "poptErr = array([2.68474589e+01, 3.77301319e-03, 2.81648629e-03])\n"
     ]
    },
    {
     "name": "stderr",
     "output_type": "stream",
     "text": [
      "/tmp/ipykernel_40318/26170352.py:60: SettingWithCopyWarning: \n",
      "A value is trying to be set on a copy of a slice from a DataFrame.\n",
      "Try using .loc[row_indexer,col_indexer] = value instead\n",
      "\n",
      "See the caveats in the documentation: https://pandas.pydata.org/pandas-docs/stable/user_guide/indexing.html#returning-a-view-versus-a-copy\n",
      "  data_toUse_[sL1JetResponse] = data_toUse_[sL1JetEt_forResolutionPlots] / data_toUse_[sRefJetEt]\n"
     ]
    },
    {
     "name": "stdout",
     "output_type": "stream",
     "text": [
      "popt: [1.35608443e+03 9.99771910e-01 2.27782086e-01], \n",
      "pcov: \n",
      "[[ 4.35080717e+02 -9.50284645e-04 -2.67274397e-02]\n",
      " [-9.50284645e-04  8.20332723e-06  5.92547430e-08]\n",
      " [-2.67274397e-02  5.92547430e-08  4.64127675e-06]],  \n",
      "poptErr = array([2.08585886e+01, 2.86414511e-03, 2.15436226e-03])\n"
     ]
    },
    {
     "name": "stderr",
     "output_type": "stream",
     "text": [
      "/tmp/ipykernel_40318/26170352.py:60: SettingWithCopyWarning: \n",
      "A value is trying to be set on a copy of a slice from a DataFrame.\n",
      "Try using .loc[row_indexer,col_indexer] = value instead\n",
      "\n",
      "See the caveats in the documentation: https://pandas.pydata.org/pandas-docs/stable/user_guide/indexing.html#returning-a-view-versus-a-copy\n",
      "  data_toUse_[sL1JetResponse] = data_toUse_[sL1JetEt_forResolutionPlots] / data_toUse_[sRefJetEt]\n"
     ]
    },
    {
     "name": "stdout",
     "output_type": "stream",
     "text": [
      "popt: [1.36088704e+03 9.96800651e-01 2.23755780e-01], \n",
      "pcov: \n",
      "[[ 4.25615579e+02 -1.30587058e-03 -2.47934601e-02]\n",
      " [-1.30587058e-03  7.70880449e-06  1.53556358e-07]\n",
      " [-2.47934601e-02  1.53556358e-07  4.17262762e-06]],  \n",
      "poptErr = array([2.06304527e+01, 2.77647339e-03, 2.04270106e-03])\n"
     ]
    },
    {
     "name": "stderr",
     "output_type": "stream",
     "text": [
      "/tmp/ipykernel_40318/26170352.py:60: SettingWithCopyWarning: \n",
      "A value is trying to be set on a copy of a slice from a DataFrame.\n",
      "Try using .loc[row_indexer,col_indexer] = value instead\n",
      "\n",
      "See the caveats in the documentation: https://pandas.pydata.org/pandas-docs/stable/user_guide/indexing.html#returning-a-view-versus-a-copy\n",
      "  data_toUse_[sL1JetResponse] = data_toUse_[sL1JetEt_forResolutionPlots] / data_toUse_[sRefJetEt]\n"
     ]
    },
    {
     "name": "stdout",
     "output_type": "stream",
     "text": [
      "popt: [2.19295650e+03 9.89248107e-01 2.21844344e-01], \n",
      "pcov: \n",
      "[[ 6.12879527e+02  1.83224622e-04 -2.23121960e-02]\n",
      " [ 1.83224622e-04  4.13219500e-06 -4.51648378e-08]\n",
      " [-2.23121960e-02 -4.51648378e-08  2.29921389e-06]],  \n",
      "poptErr = array([2.47564038e+01, 2.03278012e-03, 1.51631589e-03])\n"
     ]
    },
    {
     "name": "stderr",
     "output_type": "stream",
     "text": [
      "/tmp/ipykernel_40318/26170352.py:60: SettingWithCopyWarning: \n",
      "A value is trying to be set on a copy of a slice from a DataFrame.\n",
      "Try using .loc[row_indexer,col_indexer] = value instead\n",
      "\n",
      "See the caveats in the documentation: https://pandas.pydata.org/pandas-docs/stable/user_guide/indexing.html#returning-a-view-versus-a-copy\n",
      "  data_toUse_[sL1JetResponse] = data_toUse_[sL1JetEt_forResolutionPlots] / data_toUse_[sRefJetEt]\n"
     ]
    },
    {
     "name": "stdout",
     "output_type": "stream",
     "text": [
      "popt: [2.18070145e+03 9.84764018e-01 2.16437468e-01], \n",
      "pcov: \n",
      "[[ 5.57429965e+02  1.07509806e-03 -1.98232549e-02]\n",
      " [ 1.07509806e-03  3.59793930e-06 -1.21598176e-07]\n",
      " [-1.98232549e-02 -1.21598176e-07  1.99172921e-06]],  \n",
      "poptErr = array([2.36099548e+01, 1.89682348e-03, 1.41128637e-03])\n"
     ]
    },
    {
     "name": "stderr",
     "output_type": "stream",
     "text": [
      "/tmp/ipykernel_40318/26170352.py:60: SettingWithCopyWarning: \n",
      "A value is trying to be set on a copy of a slice from a DataFrame.\n",
      "Try using .loc[row_indexer,col_indexer] = value instead\n",
      "\n",
      "See the caveats in the documentation: https://pandas.pydata.org/pandas-docs/stable/user_guide/indexing.html#returning-a-view-versus-a-copy\n",
      "  data_toUse_[sL1JetResponse] = data_toUse_[sL1JetEt_forResolutionPlots] / data_toUse_[sRefJetEt]\n"
     ]
    },
    {
     "name": "stdout",
     "output_type": "stream",
     "text": [
      "popt: [2.09938144e+03 9.84053494e-01 2.10843352e-01], \n",
      "pcov: \n",
      "[[ 6.59462896e+02  1.56173946e-03 -2.34515715e-02]\n",
      " [ 1.56173946e-03  4.35338288e-06 -1.66886484e-07]\n",
      " [-2.34515715e-02 -1.66886484e-07  2.37152570e-06]],  \n",
      "poptErr = array([2.56800096e+01, 2.08647619e-03, 1.53997588e-03])\n"
     ]
    },
    {
     "name": "stderr",
     "output_type": "stream",
     "text": [
      "/tmp/ipykernel_40318/26170352.py:60: SettingWithCopyWarning: \n",
      "A value is trying to be set on a copy of a slice from a DataFrame.\n",
      "Try using .loc[row_indexer,col_indexer] = value instead\n",
      "\n",
      "See the caveats in the documentation: https://pandas.pydata.org/pandas-docs/stable/user_guide/indexing.html#returning-a-view-versus-a-copy\n",
      "  data_toUse_[sL1JetResponse] = data_toUse_[sL1JetEt_forResolutionPlots] / data_toUse_[sRefJetEt]\n"
     ]
    },
    {
     "name": "stdout",
     "output_type": "stream",
     "text": [
      "popt: [2.03123196e+03 9.80599295e-01 2.06983296e-01], \n",
      "pcov: \n",
      "[[ 8.36421119e+02  3.43066040e-03 -3.04863973e-02]\n",
      " [ 3.43066040e-03  5.65709142e-06 -3.57524817e-07]\n",
      " [-3.04863973e-02 -3.57524817e-07  3.12024929e-06]],  \n",
      "poptErr = array([2.89209460e+01, 2.37846409e-03, 1.76642274e-03])\n"
     ]
    },
    {
     "name": "stderr",
     "output_type": "stream",
     "text": [
      "/tmp/ipykernel_40318/26170352.py:60: SettingWithCopyWarning: \n",
      "A value is trying to be set on a copy of a slice from a DataFrame.\n",
      "Try using .loc[row_indexer,col_indexer] = value instead\n",
      "\n",
      "See the caveats in the documentation: https://pandas.pydata.org/pandas-docs/stable/user_guide/indexing.html#returning-a-view-versus-a-copy\n",
      "  data_toUse_[sL1JetResponse] = data_toUse_[sL1JetEt_forResolutionPlots] / data_toUse_[sRefJetEt]\n"
     ]
    },
    {
     "name": "stdout",
     "output_type": "stream",
     "text": [
      "popt: [1.98564608e+03 9.79533592e-01 2.02499146e-01], \n",
      "pcov: \n",
      "[[ 8.58744565e+02  3.67065382e-03 -3.18326660e-02]\n",
      " [ 3.67065382e-03  5.75889324e-06 -3.80927193e-07]\n",
      " [-3.18326660e-02 -3.80927193e-07  3.25729847e-06]],  \n",
      "poptErr = array([2.93043438e+01, 2.39976941e-03, 1.80479873e-03])\n"
     ]
    },
    {
     "name": "stderr",
     "output_type": "stream",
     "text": [
      "/tmp/ipykernel_40318/26170352.py:60: SettingWithCopyWarning: \n",
      "A value is trying to be set on a copy of a slice from a DataFrame.\n",
      "Try using .loc[row_indexer,col_indexer] = value instead\n",
      "\n",
      "See the caveats in the documentation: https://pandas.pydata.org/pandas-docs/stable/user_guide/indexing.html#returning-a-view-versus-a-copy\n",
      "  data_toUse_[sL1JetResponse] = data_toUse_[sL1JetEt_forResolutionPlots] / data_toUse_[sRefJetEt]\n"
     ]
    },
    {
     "name": "stdout",
     "output_type": "stream",
     "text": [
      "popt: [1.92860824e+03 9.79730887e-01 1.95935961e-01], \n",
      "pcov: \n",
      "[[ 1.15560175e+03  6.02665952e-03 -4.24065704e-02]\n",
      " [ 6.02665952e-03  7.72523291e-06 -6.16034684e-07]\n",
      " [-4.24065704e-02 -6.16034684e-07  4.31490693e-06]],  \n",
      "poptErr = array([3.39941429e+01, 2.77943032e-03, 2.07723540e-03])\n"
     ]
    },
    {
     "name": "stderr",
     "output_type": "stream",
     "text": [
      "/tmp/ipykernel_40318/26170352.py:60: SettingWithCopyWarning: \n",
      "A value is trying to be set on a copy of a slice from a DataFrame.\n",
      "Try using .loc[row_indexer,col_indexer] = value instead\n",
      "\n",
      "See the caveats in the documentation: https://pandas.pydata.org/pandas-docs/stable/user_guide/indexing.html#returning-a-view-versus-a-copy\n",
      "  data_toUse_[sL1JetResponse] = data_toUse_[sL1JetEt_forResolutionPlots] / data_toUse_[sRefJetEt]\n"
     ]
    },
    {
     "name": "stdout",
     "output_type": "stream",
     "text": [
      "popt: [1.86553038e+03 9.81358840e-01 1.92736840e-01], \n",
      "pcov: \n",
      "[[ 1.17233542e+03  5.62847167e-03 -4.41986116e-02]\n",
      " [ 5.62847167e-03  8.03474376e-06 -5.82770446e-07]\n",
      " [-4.41986116e-02 -5.82770446e-07  4.57126482e-06]],  \n",
      "poptErr = array([3.42393841e+01, 2.83456236e-03, 2.13805164e-03])\n"
     ]
    },
    {
     "name": "stderr",
     "output_type": "stream",
     "text": [
      "/tmp/ipykernel_40318/26170352.py:60: SettingWithCopyWarning: \n",
      "A value is trying to be set on a copy of a slice from a DataFrame.\n",
      "Try using .loc[row_indexer,col_indexer] = value instead\n",
      "\n",
      "See the caveats in the documentation: https://pandas.pydata.org/pandas-docs/stable/user_guide/indexing.html#returning-a-view-versus-a-copy\n",
      "  data_toUse_[sL1JetResponse] = data_toUse_[sL1JetEt_forResolutionPlots] / data_toUse_[sRefJetEt]\n"
     ]
    },
    {
     "name": "stdout",
     "output_type": "stream",
     "text": [
      "popt: [1.83262307e+03 9.83694940e-01 1.85274604e-01], \n",
      "pcov: \n",
      "[[ 1.27479504e+03  5.96064142e-03 -4.71590112e-02]\n",
      " [ 5.96064142e-03  8.34365486e-06 -6.03506504e-07]\n",
      " [-4.71590112e-02 -6.03506504e-07  4.76971396e-06]],  \n",
      "poptErr = array([3.57042720e+01, 2.88853853e-03, 2.18396748e-03])\n"
     ]
    },
    {
     "name": "stderr",
     "output_type": "stream",
     "text": [
      "/tmp/ipykernel_40318/26170352.py:60: SettingWithCopyWarning: \n",
      "A value is trying to be set on a copy of a slice from a DataFrame.\n",
      "Try using .loc[row_indexer,col_indexer] = value instead\n",
      "\n",
      "See the caveats in the documentation: https://pandas.pydata.org/pandas-docs/stable/user_guide/indexing.html#returning-a-view-versus-a-copy\n",
      "  data_toUse_[sL1JetResponse] = data_toUse_[sL1JetEt_forResolutionPlots] / data_toUse_[sRefJetEt]\n"
     ]
    },
    {
     "name": "stdout",
     "output_type": "stream",
     "text": [
      "popt: [1.77051846e+03 9.83023821e-01 1.82949141e-01], \n",
      "pcov: \n",
      "[[ 1.40374383e+03  7.18096139e-03 -5.29972312e-02]\n",
      " [ 7.18096139e-03  9.62080519e-06 -7.42524632e-07]\n",
      " [-5.29972312e-02 -7.42524632e-07  5.47924584e-06]],  \n",
      "poptErr = array([3.74665695e+01, 3.10174228e-03, 2.34077890e-03])\n"
     ]
    },
    {
     "name": "stderr",
     "output_type": "stream",
     "text": [
      "/tmp/ipykernel_40318/26170352.py:60: SettingWithCopyWarning: \n",
      "A value is trying to be set on a copy of a slice from a DataFrame.\n",
      "Try using .loc[row_indexer,col_indexer] = value instead\n",
      "\n",
      "See the caveats in the documentation: https://pandas.pydata.org/pandas-docs/stable/user_guide/indexing.html#returning-a-view-versus-a-copy\n",
      "  data_toUse_[sL1JetResponse] = data_toUse_[sL1JetEt_forResolutionPlots] / data_toUse_[sRefJetEt]\n"
     ]
    },
    {
     "name": "stdout",
     "output_type": "stream",
     "text": [
      "popt: [1.70769498e+03 9.83032744e-01 1.80982448e-01], \n",
      "pcov: \n",
      "[[ 1.45687495e+03  8.33617513e-03 -5.65082873e-02]\n",
      " [ 8.33617513e-03  1.05083451e-05 -8.83841920e-07]\n",
      " [-5.65082873e-02 -8.83841920e-07  5.98991573e-06]],  \n",
      "poptErr = array([3.81690313e+01, 3.24165777e-03, 2.44743043e-03])\n"
     ]
    },
    {
     "name": "stderr",
     "output_type": "stream",
     "text": [
      "/tmp/ipykernel_40318/26170352.py:60: SettingWithCopyWarning: \n",
      "A value is trying to be set on a copy of a slice from a DataFrame.\n",
      "Try using .loc[row_indexer,col_indexer] = value instead\n",
      "\n",
      "See the caveats in the documentation: https://pandas.pydata.org/pandas-docs/stable/user_guide/indexing.html#returning-a-view-versus-a-copy\n",
      "  data_toUse_[sL1JetResponse] = data_toUse_[sL1JetEt_forResolutionPlots] / data_toUse_[sRefJetEt]\n"
     ]
    },
    {
     "name": "stdout",
     "output_type": "stream",
     "text": [
      "popt: [1.69075525e+03 9.85873014e-01 1.72758301e-01], \n",
      "pcov: \n",
      "[[ 1.61360127e+03  8.99626869e-03 -6.07607450e-02]\n",
      " [ 8.99626869e-03  1.07755637e-05 -9.19373397e-07]\n",
      " [-6.07607450e-02 -9.19373397e-07  6.20885317e-06]],  \n",
      "poptErr = array([4.01696561e+01, 3.28261537e-03, 2.49175704e-03])\n"
     ]
    },
    {
     "name": "stderr",
     "output_type": "stream",
     "text": [
      "/tmp/ipykernel_40318/26170352.py:60: SettingWithCopyWarning: \n",
      "A value is trying to be set on a copy of a slice from a DataFrame.\n",
      "Try using .loc[row_indexer,col_indexer] = value instead\n",
      "\n",
      "See the caveats in the documentation: https://pandas.pydata.org/pandas-docs/stable/user_guide/indexing.html#returning-a-view-versus-a-copy\n",
      "  data_toUse_[sL1JetResponse] = data_toUse_[sL1JetEt_forResolutionPlots] / data_toUse_[sRefJetEt]\n"
     ]
    },
    {
     "name": "stdout",
     "output_type": "stream",
     "text": [
      "popt: [1.64773851e+03 9.85577187e-01 1.71872688e-01], \n",
      "pcov: \n",
      "[[ 1.55436180e+03  9.85551603e-03 -5.92001316e-02]\n",
      " [ 9.85551603e-03  1.09089301e-05 -1.02816266e-06]\n",
      " [-5.92001316e-02 -1.02816266e-06  6.17541815e-06]],  \n",
      "poptErr = array([3.94253954e+01, 3.30286695e-03, 2.48503886e-03])\n"
     ]
    },
    {
     "name": "stderr",
     "output_type": "stream",
     "text": [
      "/tmp/ipykernel_40318/26170352.py:60: SettingWithCopyWarning: \n",
      "A value is trying to be set on a copy of a slice from a DataFrame.\n",
      "Try using .loc[row_indexer,col_indexer] = value instead\n",
      "\n",
      "See the caveats in the documentation: https://pandas.pydata.org/pandas-docs/stable/user_guide/indexing.html#returning-a-view-versus-a-copy\n",
      "  data_toUse_[sL1JetResponse] = data_toUse_[sL1JetEt_forResolutionPlots] / data_toUse_[sRefJetEt]\n"
     ]
    },
    {
     "name": "stdout",
     "output_type": "stream",
     "text": [
      "popt: [3.18831800e+03 9.86406073e-01 1.66244697e-01], \n",
      "pcov: \n",
      "[[ 5.55337966e+03  1.64272772e-02 -1.05502511e-01]\n",
      " [ 1.64272772e-02  9.73093444e-06 -8.56563245e-07]\n",
      " [-1.05502511e-01 -8.56563245e-07  5.50118078e-06]],  \n",
      "poptErr = array([7.45210015e+01, 3.11944457e-03, 2.34545961e-03])\n"
     ]
    },
    {
     "name": "stderr",
     "output_type": "stream",
     "text": [
      "/tmp/ipykernel_40318/26170352.py:60: SettingWithCopyWarning: \n",
      "A value is trying to be set on a copy of a slice from a DataFrame.\n",
      "Try using .loc[row_indexer,col_indexer] = value instead\n",
      "\n",
      "See the caveats in the documentation: https://pandas.pydata.org/pandas-docs/stable/user_guide/indexing.html#returning-a-view-versus-a-copy\n",
      "  data_toUse_[sL1JetResponse] = data_toUse_[sL1JetEt_forResolutionPlots] / data_toUse_[sRefJetEt]\n"
     ]
    },
    {
     "name": "stdout",
     "output_type": "stream",
     "text": [
      "popt: [3.05498257e+03 9.88205871e-01 1.59745828e-01], \n",
      "pcov: \n",
      "[[ 5.36820296e+03  1.83300471e-02 -1.01817747e-01]\n",
      " [ 1.83300471e-02  9.52672744e-06 -9.58458165e-07]\n",
      " [-1.01817747e-01 -9.58458165e-07  5.32409423e-06]],  \n",
      "poptErr = array([7.32680214e+01, 3.08653972e-03, 2.30739989e-03])\n"
     ]
    },
    {
     "name": "stderr",
     "output_type": "stream",
     "text": [
      "/tmp/ipykernel_40318/26170352.py:60: SettingWithCopyWarning: \n",
      "A value is trying to be set on a copy of a slice from a DataFrame.\n",
      "Try using .loc[row_indexer,col_indexer] = value instead\n",
      "\n",
      "See the caveats in the documentation: https://pandas.pydata.org/pandas-docs/stable/user_guide/indexing.html#returning-a-view-versus-a-copy\n",
      "  data_toUse_[sL1JetResponse] = data_toUse_[sL1JetEt_forResolutionPlots] / data_toUse_[sRefJetEt]\n"
     ]
    },
    {
     "name": "stdout",
     "output_type": "stream",
     "text": [
      "popt: [2.92827856e+03 9.87195118e-01 1.53893430e-01], \n",
      "pcov: \n",
      "[[ 5.55971007e+03  1.90201991e-02 -1.07074807e-01]\n",
      " [ 1.90201991e-02  9.90614873e-06 -9.99540969e-07]\n",
      " [-1.07074807e-01 -9.99540969e-07  5.62725239e-06]],  \n",
      "poptErr = array([7.45634634e+01, 3.14740349e-03, 2.37218304e-03])\n"
     ]
    },
    {
     "name": "stderr",
     "output_type": "stream",
     "text": [
      "/tmp/ipykernel_40318/26170352.py:60: SettingWithCopyWarning: \n",
      "A value is trying to be set on a copy of a slice from a DataFrame.\n",
      "Try using .loc[row_indexer,col_indexer] = value instead\n",
      "\n",
      "See the caveats in the documentation: https://pandas.pydata.org/pandas-docs/stable/user_guide/indexing.html#returning-a-view-versus-a-copy\n",
      "  data_toUse_[sL1JetResponse] = data_toUse_[sL1JetEt_forResolutionPlots] / data_toUse_[sRefJetEt]\n"
     ]
    },
    {
     "name": "stdout",
     "output_type": "stream",
     "text": [
      "popt: [5.51033767e+03 9.89413293e-01 1.46404570e-01], \n",
      "pcov: \n",
      "[[ 1.94541402e+04  3.57245504e-02 -1.89454540e-01]\n",
      " [ 3.57245504e-02  8.87854396e-06 -9.49103679e-07]\n",
      " [-1.89454540e-01 -9.49103679e-07  5.03364657e-06]],  \n",
      "poptErr = array([1.39478099e+02, 2.97968857e-03, 2.24357896e-03])\n"
     ]
    },
    {
     "name": "stderr",
     "output_type": "stream",
     "text": [
      "/tmp/ipykernel_40318/26170352.py:60: SettingWithCopyWarning: \n",
      "A value is trying to be set on a copy of a slice from a DataFrame.\n",
      "Try using .loc[row_indexer,col_indexer] = value instead\n",
      "\n",
      "See the caveats in the documentation: https://pandas.pydata.org/pandas-docs/stable/user_guide/indexing.html#returning-a-view-versus-a-copy\n",
      "  data_toUse_[sL1JetResponse] = data_toUse_[sL1JetEt_forResolutionPlots] / data_toUse_[sRefJetEt]\n"
     ]
    },
    {
     "name": "stdout",
     "output_type": "stream",
     "text": [
      "popt: [5.01299896e+03 9.89744253e-01 1.39004128e-01], \n",
      "pcov: \n",
      "[[ 1.64890161e+04  3.02902592e-02 -1.66938603e-01]\n",
      " [ 3.02902592e-02  8.20166950e-06 -8.39865211e-07]\n",
      " [-1.66938603e-01 -8.39865211e-07  4.62900643e-06]],  \n",
      "poptErr = array([1.28409564e+02, 2.86385571e-03, 2.15151259e-03])\n"
     ]
    },
    {
     "name": "stderr",
     "output_type": "stream",
     "text": [
      "/tmp/ipykernel_40318/26170352.py:60: SettingWithCopyWarning: \n",
      "A value is trying to be set on a copy of a slice from a DataFrame.\n",
      "Try using .loc[row_indexer,col_indexer] = value instead\n",
      "\n",
      "See the caveats in the documentation: https://pandas.pydata.org/pandas-docs/stable/user_guide/indexing.html#returning-a-view-versus-a-copy\n",
      "  data_toUse_[sL1JetResponse] = data_toUse_[sL1JetEt_forResolutionPlots] / data_toUse_[sRefJetEt]\n"
     ]
    },
    {
     "name": "stdout",
     "output_type": "stream",
     "text": [
      "popt: [4.70648016e+03 9.89415060e-01 1.30342111e-01], \n",
      "pcov: \n",
      "[[ 1.54208705e+04  3.13240612e-02 -1.55420915e-01]\n",
      " [ 3.13240612e-02  7.69809959e-06 -8.67424546e-07]\n",
      " [-1.55420915e-01 -8.67424546e-07  4.30426850e-06]],  \n",
      "poptErr = array([1.24180797e+02, 2.77454493e-03, 2.07467311e-03])\n"
     ]
    },
    {
     "name": "stderr",
     "output_type": "stream",
     "text": [
      "/tmp/ipykernel_40318/26170352.py:60: SettingWithCopyWarning: \n",
      "A value is trying to be set on a copy of a slice from a DataFrame.\n",
      "Try using .loc[row_indexer,col_indexer] = value instead\n",
      "\n",
      "See the caveats in the documentation: https://pandas.pydata.org/pandas-docs/stable/user_guide/indexing.html#returning-a-view-versus-a-copy\n",
      "  data_toUse_[sL1JetResponse] = data_toUse_[sL1JetEt_forResolutionPlots] / data_toUse_[sRefJetEt]\n"
     ]
    },
    {
     "name": "stdout",
     "output_type": "stream",
     "text": [
      "popt: [4.29654117e+03 9.89277110e-01 1.24530975e-01], \n",
      "pcov: \n",
      "[[ 1.35508773e+04  2.97959689e-02 -1.43436282e-01]\n",
      " [ 2.97959689e-02  7.40582510e-06 -8.63585003e-07]\n",
      " [-1.43436282e-01 -8.63585003e-07  4.15736261e-06]],  \n",
      "poptErr = array([1.16408236e+02, 2.72136456e-03, 2.03896116e-03])\n"
     ]
    },
    {
     "name": "stderr",
     "output_type": "stream",
     "text": [
      "/tmp/ipykernel_40318/26170352.py:60: SettingWithCopyWarning: \n",
      "A value is trying to be set on a copy of a slice from a DataFrame.\n",
      "Try using .loc[row_indexer,col_indexer] = value instead\n",
      "\n",
      "See the caveats in the documentation: https://pandas.pydata.org/pandas-docs/stable/user_guide/indexing.html#returning-a-view-versus-a-copy\n",
      "  data_toUse_[sL1JetResponse] = data_toUse_[sL1JetEt_forResolutionPlots] / data_toUse_[sRefJetEt]\n"
     ]
    },
    {
     "name": "stdout",
     "output_type": "stream",
     "text": [
      "popt: [1.57453124e+03 1.07271205e+00 2.76347249e-01], \n",
      "pcov: \n",
      "[[ 4.14242264e+03 -8.11201386e-02 -2.90441195e-01]\n",
      " [-8.11201386e-02  8.88786785e-05  1.22890040e-05]\n",
      " [-2.90441195e-01  1.22890040e-05  5.44976478e-05]],  \n",
      "poptErr = array([6.43616551e+01, 9.42754891e-03, 7.38225222e-03])\n"
     ]
    },
    {
     "name": "stderr",
     "output_type": "stream",
     "text": [
      "/tmp/ipykernel_40318/26170352.py:60: SettingWithCopyWarning: \n",
      "A value is trying to be set on a copy of a slice from a DataFrame.\n",
      "Try using .loc[row_indexer,col_indexer] = value instead\n",
      "\n",
      "See the caveats in the documentation: https://pandas.pydata.org/pandas-docs/stable/user_guide/indexing.html#returning-a-view-versus-a-copy\n",
      "  data_toUse_[sL1JetResponse] = data_toUse_[sL1JetEt_forResolutionPlots] / data_toUse_[sRefJetEt]\n"
     ]
    },
    {
     "name": "stdout",
     "output_type": "stream",
     "text": [
      "popt: [1.71036052e+03 1.03586382e+00 2.61678763e-01], \n",
      "pcov: \n",
      "[[ 5.27652095e+03 -1.14456513e-01 -2.95300146e-01]\n",
      " [-1.14456513e-01  9.03500389e-05  1.64560163e-05]\n",
      " [-2.95300146e-01  1.64560163e-05  4.72421408e-05]],  \n",
      "poptErr = array([7.26396652e+01, 9.50526374e-03, 6.87329185e-03])\n"
     ]
    },
    {
     "name": "stderr",
     "output_type": "stream",
     "text": [
      "/tmp/ipykernel_40318/26170352.py:60: SettingWithCopyWarning: \n",
      "A value is trying to be set on a copy of a slice from a DataFrame.\n",
      "Try using .loc[row_indexer,col_indexer] = value instead\n",
      "\n",
      "See the caveats in the documentation: https://pandas.pydata.org/pandas-docs/stable/user_guide/indexing.html#returning-a-view-versus-a-copy\n",
      "  data_toUse_[sL1JetResponse] = data_toUse_[sL1JetEt_forResolutionPlots] / data_toUse_[sRefJetEt]\n"
     ]
    },
    {
     "name": "stdout",
     "output_type": "stream",
     "text": [
      "popt: [1.74245899e+03 9.96367245e-01 2.72704188e-01], \n",
      "pcov: \n",
      "[[ 3.49975547e+03 -4.51269644e-02 -2.19439360e-01]\n",
      " [-4.51269644e-02  5.83998230e-05  5.69759608e-06]\n",
      " [-2.19439360e-01  5.69759608e-06  3.66861950e-05]],  \n",
      "poptErr = array([5.91587311e+01, 7.64197769e-03, 6.05691300e-03])\n"
     ]
    },
    {
     "name": "stderr",
     "output_type": "stream",
     "text": [
      "/tmp/ipykernel_40318/26170352.py:60: SettingWithCopyWarning: \n",
      "A value is trying to be set on a copy of a slice from a DataFrame.\n",
      "Try using .loc[row_indexer,col_indexer] = value instead\n",
      "\n",
      "See the caveats in the documentation: https://pandas.pydata.org/pandas-docs/stable/user_guide/indexing.html#returning-a-view-versus-a-copy\n",
      "  data_toUse_[sL1JetResponse] = data_toUse_[sL1JetEt_forResolutionPlots] / data_toUse_[sRefJetEt]\n"
     ]
    },
    {
     "name": "stdout",
     "output_type": "stream",
     "text": [
      "popt: [1.90091928e+03 9.86681275e-01 2.31413692e-01], \n",
      "pcov: \n",
      "[[ 8.39930347e+03 -2.05061564e-01 -3.08817892e-01]\n",
      " [-2.05061564e-01  1.05179472e-04  2.47333088e-05]\n",
      " [-3.08817892e-01  2.47333088e-05  3.81592335e-05]],  \n",
      "poptErr = array([9.16477139e+01, 1.02557044e-02, 6.17731604e-03])\n"
     ]
    },
    {
     "name": "stderr",
     "output_type": "stream",
     "text": [
      "/tmp/ipykernel_40318/26170352.py:60: SettingWithCopyWarning: \n",
      "A value is trying to be set on a copy of a slice from a DataFrame.\n",
      "Try using .loc[row_indexer,col_indexer] = value instead\n",
      "\n",
      "See the caveats in the documentation: https://pandas.pydata.org/pandas-docs/stable/user_guide/indexing.html#returning-a-view-versus-a-copy\n",
      "  data_toUse_[sL1JetResponse] = data_toUse_[sL1JetEt_forResolutionPlots] / data_toUse_[sRefJetEt]\n"
     ]
    },
    {
     "name": "stdout",
     "output_type": "stream",
     "text": [
      "popt: [1.83985552e+03 9.66693831e-01 2.49515057e-01], \n",
      "pcov: \n",
      "[[ 4.49299617e+03 -8.72236354e-02 -2.05936038e-01]\n",
      " [-8.72236354e-02  6.17393550e-05  1.14790770e-05]\n",
      " [-2.05936038e-01  1.14790770e-05  2.86615415e-05]],  \n",
      "poptErr = array([6.70298155e+01, 7.85743947e-03, 5.35364749e-03])\n"
     ]
    },
    {
     "name": "stderr",
     "output_type": "stream",
     "text": [
      "/tmp/ipykernel_40318/26170352.py:60: SettingWithCopyWarning: \n",
      "A value is trying to be set on a copy of a slice from a DataFrame.\n",
      "Try using .loc[row_indexer,col_indexer] = value instead\n",
      "\n",
      "See the caveats in the documentation: https://pandas.pydata.org/pandas-docs/stable/user_guide/indexing.html#returning-a-view-versus-a-copy\n",
      "  data_toUse_[sL1JetResponse] = data_toUse_[sL1JetEt_forResolutionPlots] / data_toUse_[sRefJetEt]\n"
     ]
    },
    {
     "name": "stdout",
     "output_type": "stream",
     "text": [
      "popt: [1.76656400e+03 9.53550158e-01 2.62663268e-01], \n",
      "pcov: \n",
      "[[ 2.50947084e+03 -3.17998156e-02 -1.37769689e-01]\n",
      " [-3.17998156e-02  3.83753733e-05  4.22282876e-06]\n",
      " [-1.37769689e-01  4.22282876e-06  2.13730486e-05]],  \n",
      "poptErr = array([5.00946189e+01, 6.19478598e-03, 4.62309946e-03])\n"
     ]
    },
    {
     "name": "stderr",
     "output_type": "stream",
     "text": [
      "/tmp/ipykernel_40318/26170352.py:60: SettingWithCopyWarning: \n",
      "A value is trying to be set on a copy of a slice from a DataFrame.\n",
      "Try using .loc[row_indexer,col_indexer] = value instead\n",
      "\n",
      "See the caveats in the documentation: https://pandas.pydata.org/pandas-docs/stable/user_guide/indexing.html#returning-a-view-versus-a-copy\n",
      "  data_toUse_[sL1JetResponse] = data_toUse_[sL1JetEt_forResolutionPlots] / data_toUse_[sRefJetEt]\n"
     ]
    },
    {
     "name": "stdout",
     "output_type": "stream",
     "text": [
      "popt: [1.71284656e+03 9.53083472e-01 2.60685397e-01], \n",
      "pcov: \n",
      "[[ 2.24877946e+03 -3.23163189e-02 -1.21854718e-01]\n",
      " [-3.23163189e-02  3.64874530e-05  4.58495445e-06]\n",
      " [-1.21854718e-01  4.58495445e-06  1.91606372e-05]],  \n",
      "poptErr = array([4.74212975e+01, 6.04048450e-03, 4.37728651e-03])\n"
     ]
    },
    {
     "name": "stderr",
     "output_type": "stream",
     "text": [
      "/tmp/ipykernel_40318/26170352.py:60: SettingWithCopyWarning: \n",
      "A value is trying to be set on a copy of a slice from a DataFrame.\n",
      "Try using .loc[row_indexer,col_indexer] = value instead\n",
      "\n",
      "See the caveats in the documentation: https://pandas.pydata.org/pandas-docs/stable/user_guide/indexing.html#returning-a-view-versus-a-copy\n",
      "  data_toUse_[sL1JetResponse] = data_toUse_[sL1JetEt_forResolutionPlots] / data_toUse_[sRefJetEt]\n"
     ]
    },
    {
     "name": "stdout",
     "output_type": "stream",
     "text": [
      "popt: [1.70706178e+03 9.49129086e-01 2.52193281e-01], \n",
      "pcov: \n",
      "[[ 2.06131740e+03 -3.19630219e-02 -1.01947028e-01]\n",
      " [-3.19630219e-02  3.23318871e-05  4.55373017e-06]\n",
      " [-1.01947028e-01  4.55373017e-06  1.53874674e-05]],  \n",
      "poptErr = array([4.54017335e+01, 5.68611353e-03, 3.92268624e-03])\n"
     ]
    },
    {
     "name": "stderr",
     "output_type": "stream",
     "text": [
      "/tmp/ipykernel_40318/26170352.py:60: SettingWithCopyWarning: \n",
      "A value is trying to be set on a copy of a slice from a DataFrame.\n",
      "Try using .loc[row_indexer,col_indexer] = value instead\n",
      "\n",
      "See the caveats in the documentation: https://pandas.pydata.org/pandas-docs/stable/user_guide/indexing.html#returning-a-view-versus-a-copy\n",
      "  data_toUse_[sL1JetResponse] = data_toUse_[sL1JetEt_forResolutionPlots] / data_toUse_[sRefJetEt]\n"
     ]
    },
    {
     "name": "stdout",
     "output_type": "stream",
     "text": [
      "popt: [1.66842716e+03 9.52204315e-01 2.44454191e-01], \n",
      "pcov: \n",
      "[[ 2.00267133e+03 -3.39424412e-02 -9.01968207e-02]\n",
      " [-3.39424412e-02  3.21620182e-05  4.88977207e-06]\n",
      " [-9.01968207e-02  4.88977207e-06  1.33831003e-05]],  \n",
      "poptErr = array([4.47512159e+01, 5.67115669e-03, 3.65829199e-03])\n"
     ]
    },
    {
     "name": "stderr",
     "output_type": "stream",
     "text": [
      "/tmp/ipykernel_40318/26170352.py:60: SettingWithCopyWarning: \n",
      "A value is trying to be set on a copy of a slice from a DataFrame.\n",
      "Try using .loc[row_indexer,col_indexer] = value instead\n",
      "\n",
      "See the caveats in the documentation: https://pandas.pydata.org/pandas-docs/stable/user_guide/indexing.html#returning-a-view-versus-a-copy\n",
      "  data_toUse_[sL1JetResponse] = data_toUse_[sL1JetEt_forResolutionPlots] / data_toUse_[sRefJetEt]\n"
     ]
    },
    {
     "name": "stdout",
     "output_type": "stream",
     "text": [
      "popt: [1.58423047e+03 9.41988034e-01 2.50783180e-01], \n",
      "pcov: \n",
      "[[ 8.82022455e+02 -8.79596782e-03 -4.74209941e-02]\n",
      " [-8.79596782e-03  1.52452195e-05  1.31555421e-06]\n",
      " [-4.74209941e-02  1.31555421e-06  7.64447418e-06]],  \n",
      "poptErr = array([2.96988629e+01, 3.90451271e-03, 2.76486422e-03])\n"
     ]
    },
    {
     "name": "stderr",
     "output_type": "stream",
     "text": [
      "/tmp/ipykernel_40318/26170352.py:60: SettingWithCopyWarning: \n",
      "A value is trying to be set on a copy of a slice from a DataFrame.\n",
      "Try using .loc[row_indexer,col_indexer] = value instead\n",
      "\n",
      "See the caveats in the documentation: https://pandas.pydata.org/pandas-docs/stable/user_guide/indexing.html#returning-a-view-versus-a-copy\n",
      "  data_toUse_[sL1JetResponse] = data_toUse_[sL1JetEt_forResolutionPlots] / data_toUse_[sRefJetEt]\n"
     ]
    },
    {
     "name": "stdout",
     "output_type": "stream",
     "text": [
      "popt: [1.52391367e+03 9.42557866e-01 2.44575607e-01], \n",
      "pcov: \n",
      "[[ 7.15562514e+02 -6.82444536e-03 -3.78130320e-02]\n",
      " [-6.82444536e-03  1.27653039e-05  1.05738228e-06]\n",
      " [-3.78130320e-02  1.05738228e-06  6.13847579e-06]],  \n",
      "poptErr = array([2.67500003e+01, 3.57285655e-03, 2.47759476e-03])\n"
     ]
    },
    {
     "name": "stderr",
     "output_type": "stream",
     "text": [
      "/tmp/ipykernel_40318/26170352.py:60: SettingWithCopyWarning: \n",
      "A value is trying to be set on a copy of a slice from a DataFrame.\n",
      "Try using .loc[row_indexer,col_indexer] = value instead\n",
      "\n",
      "See the caveats in the documentation: https://pandas.pydata.org/pandas-docs/stable/user_guide/indexing.html#returning-a-view-versus-a-copy\n",
      "  data_toUse_[sL1JetResponse] = data_toUse_[sL1JetEt_forResolutionPlots] / data_toUse_[sRefJetEt]\n"
     ]
    },
    {
     "name": "stdout",
     "output_type": "stream",
     "text": [
      "popt: [1.45182696e+03 9.44487925e-01 2.44302273e-01], \n",
      "pcov: \n",
      "[[ 4.72640308e+02 -3.11857780e-03 -2.73734415e-02]\n",
      " [-3.11857780e-03  8.98616532e-06  4.96131392e-07]\n",
      " [-2.73734415e-02  4.96131392e-07  4.65874242e-06]],  \n",
      "poptErr = array([2.17402923e+01, 2.99769333e-03, 2.15841201e-03])\n"
     ]
    },
    {
     "name": "stderr",
     "output_type": "stream",
     "text": [
      "/tmp/ipykernel_40318/26170352.py:60: SettingWithCopyWarning: \n",
      "A value is trying to be set on a copy of a slice from a DataFrame.\n",
      "Try using .loc[row_indexer,col_indexer] = value instead\n",
      "\n",
      "See the caveats in the documentation: https://pandas.pydata.org/pandas-docs/stable/user_guide/indexing.html#returning-a-view-versus-a-copy\n",
      "  data_toUse_[sL1JetResponse] = data_toUse_[sL1JetEt_forResolutionPlots] / data_toUse_[sRefJetEt]\n"
     ]
    },
    {
     "name": "stdout",
     "output_type": "stream",
     "text": [
      "popt: [2.32079848e+03 9.49783366e-01 2.40164128e-01], \n",
      "pcov: \n",
      "[[ 7.92516867e+02 -2.22714366e-03 -2.79252693e-02]\n",
      " [-2.22714366e-03  5.67354949e-06  2.19626842e-07]\n",
      " [-2.79252693e-02  2.19626842e-07  2.90986145e-06]],  \n",
      "poptErr = array([2.81516761e+01, 2.38192139e-03, 1.70583160e-03])\n"
     ]
    },
    {
     "name": "stderr",
     "output_type": "stream",
     "text": [
      "/tmp/ipykernel_40318/26170352.py:60: SettingWithCopyWarning: \n",
      "A value is trying to be set on a copy of a slice from a DataFrame.\n",
      "Try using .loc[row_indexer,col_indexer] = value instead\n",
      "\n",
      "See the caveats in the documentation: https://pandas.pydata.org/pandas-docs/stable/user_guide/indexing.html#returning-a-view-versus-a-copy\n",
      "  data_toUse_[sL1JetResponse] = data_toUse_[sL1JetEt_forResolutionPlots] / data_toUse_[sRefJetEt]\n"
     ]
    },
    {
     "name": "stdout",
     "output_type": "stream",
     "text": [
      "popt: [2.19587122e+03 9.46661310e-01 2.34611853e-01], \n",
      "pcov: \n",
      "[[ 5.82678887e+02 -1.44104978e-04 -2.24099648e-02]\n",
      " [-1.44104978e-04  4.29632089e-06  7.80209986e-09]\n",
      " [-2.24099648e-02  7.80209986e-09  2.40842360e-06]],  \n",
      "poptErr = array([2.41387424e+01, 2.07275683e-03, 1.55190966e-03])\n"
     ]
    },
    {
     "name": "stderr",
     "output_type": "stream",
     "text": [
      "/tmp/ipykernel_40318/26170352.py:60: SettingWithCopyWarning: \n",
      "A value is trying to be set on a copy of a slice from a DataFrame.\n",
      "Try using .loc[row_indexer,col_indexer] = value instead\n",
      "\n",
      "See the caveats in the documentation: https://pandas.pydata.org/pandas-docs/stable/user_guide/indexing.html#returning-a-view-versus-a-copy\n",
      "  data_toUse_[sL1JetResponse] = data_toUse_[sL1JetEt_forResolutionPlots] / data_toUse_[sRefJetEt]\n"
     ]
    },
    {
     "name": "stdout",
     "output_type": "stream",
     "text": [
      "popt: [2.05183930e+03 9.49322402e-01 2.28586755e-01], \n",
      "pcov: \n",
      "[[ 6.76955487e+02 -7.80949146e-05 -2.73654454e-02]\n",
      " [-7.80949146e-05  5.37918763e-06  3.98739395e-09]\n",
      " [-2.73654454e-02  3.98739395e-09  3.05806993e-06]],  \n",
      "poptErr = array([2.60183683e+01, 2.31930758e-03, 1.74873381e-03])\n"
     ]
    },
    {
     "name": "stderr",
     "output_type": "stream",
     "text": [
      "/tmp/ipykernel_40318/26170352.py:60: SettingWithCopyWarning: \n",
      "A value is trying to be set on a copy of a slice from a DataFrame.\n",
      "Try using .loc[row_indexer,col_indexer] = value instead\n",
      "\n",
      "See the caveats in the documentation: https://pandas.pydata.org/pandas-docs/stable/user_guide/indexing.html#returning-a-view-versus-a-copy\n",
      "  data_toUse_[sL1JetResponse] = data_toUse_[sL1JetEt_forResolutionPlots] / data_toUse_[sRefJetEt]\n"
     ]
    },
    {
     "name": "stdout",
     "output_type": "stream",
     "text": [
      "popt: [1.96138349e+03 9.52026961e-01 2.22191085e-01], \n",
      "pcov: \n",
      "[[ 8.81019242e+02  8.92060349e-04 -3.72993135e-02]\n",
      " [ 8.92060349e-04  7.10775373e-06 -1.05430683e-07]\n",
      " [-3.72993135e-02 -1.05430683e-07  4.23448823e-06]],  \n",
      "poptErr = array([2.96819683e+01, 2.66603708e-03, 2.05778722e-03])\n"
     ]
    },
    {
     "name": "stderr",
     "output_type": "stream",
     "text": [
      "/tmp/ipykernel_40318/26170352.py:60: SettingWithCopyWarning: \n",
      "A value is trying to be set on a copy of a slice from a DataFrame.\n",
      "Try using .loc[row_indexer,col_indexer] = value instead\n",
      "\n",
      "See the caveats in the documentation: https://pandas.pydata.org/pandas-docs/stable/user_guide/indexing.html#returning-a-view-versus-a-copy\n",
      "  data_toUse_[sL1JetResponse] = data_toUse_[sL1JetEt_forResolutionPlots] / data_toUse_[sRefJetEt]\n"
     ]
    },
    {
     "name": "stdout",
     "output_type": "stream",
     "text": [
      "popt: [1.87648134e+03 9.52924845e-01 2.15310665e-01], \n",
      "pcov: \n",
      "[[ 8.47493866e+02  7.86602344e-04 -3.64120508e-02]\n",
      " [ 7.86602344e-04  6.99795808e-06 -9.30206759e-08]\n",
      " [-3.64120508e-02 -9.30206759e-08  4.18397296e-06]],  \n",
      "poptErr = array([2.91117479e+01, 2.64536540e-03, 2.04547622e-03])\n"
     ]
    },
    {
     "name": "stderr",
     "output_type": "stream",
     "text": [
      "/tmp/ipykernel_40318/26170352.py:60: SettingWithCopyWarning: \n",
      "A value is trying to be set on a copy of a slice from a DataFrame.\n",
      "Try using .loc[row_indexer,col_indexer] = value instead\n",
      "\n",
      "See the caveats in the documentation: https://pandas.pydata.org/pandas-docs/stable/user_guide/indexing.html#returning-a-view-versus-a-copy\n",
      "  data_toUse_[sL1JetResponse] = data_toUse_[sL1JetEt_forResolutionPlots] / data_toUse_[sRefJetEt]\n"
     ]
    },
    {
     "name": "stdout",
     "output_type": "stream",
     "text": [
      "popt: [1.79921844e+03 9.54313016e-01 2.07780214e-01], \n",
      "pcov: \n",
      "[[ 8.61360108e+02  1.16609166e-03 -3.72740460e-02]\n",
      " [ 1.16609166e-03  7.20298588e-06 -1.37293071e-07]\n",
      " [-3.72740460e-02 -1.37293071e-07  4.31042422e-06]],  \n",
      "poptErr = array([2.93489371e+01, 2.68383790e-03, 2.07615612e-03])\n"
     ]
    },
    {
     "name": "stderr",
     "output_type": "stream",
     "text": [
      "/tmp/ipykernel_40318/26170352.py:60: SettingWithCopyWarning: \n",
      "A value is trying to be set on a copy of a slice from a DataFrame.\n",
      "Try using .loc[row_indexer,col_indexer] = value instead\n",
      "\n",
      "See the caveats in the documentation: https://pandas.pydata.org/pandas-docs/stable/user_guide/indexing.html#returning-a-view-versus-a-copy\n",
      "  data_toUse_[sL1JetResponse] = data_toUse_[sL1JetEt_forResolutionPlots] / data_toUse_[sRefJetEt]\n"
     ]
    },
    {
     "name": "stdout",
     "output_type": "stream",
     "text": [
      "popt: [1.69510025e+03 9.57230551e-01 2.04988397e-01], \n",
      "pcov: \n",
      "[[ 8.17853248e+02  1.17997445e-03 -3.71662045e-02]\n",
      " [ 1.17997445e-03  7.47558072e-06 -1.43527521e-07]\n",
      " [-3.71662045e-02 -1.43527521e-07  4.49643698e-06]],  \n",
      "poptErr = array([2.85981337e+01, 2.73415082e-03, 2.12048037e-03])\n"
     ]
    },
    {
     "name": "stderr",
     "output_type": "stream",
     "text": [
      "/tmp/ipykernel_40318/26170352.py:60: SettingWithCopyWarning: \n",
      "A value is trying to be set on a copy of a slice from a DataFrame.\n",
      "Try using .loc[row_indexer,col_indexer] = value instead\n",
      "\n",
      "See the caveats in the documentation: https://pandas.pydata.org/pandas-docs/stable/user_guide/indexing.html#returning-a-view-versus-a-copy\n",
      "  data_toUse_[sL1JetResponse] = data_toUse_[sL1JetEt_forResolutionPlots] / data_toUse_[sRefJetEt]\n"
     ]
    },
    {
     "name": "stdout",
     "output_type": "stream",
     "text": [
      "popt: [1.60348925e+03 9.58299530e-01 2.00545691e-01], \n",
      "pcov: \n",
      "[[ 8.86545955e+02  1.60749204e-03 -4.17269648e-02]\n",
      " [ 1.60749204e-03  8.66073525e-06 -2.01702574e-07]\n",
      " [-4.17269648e-02 -2.01702574e-07  5.22028443e-06]],  \n",
      "poptErr = array([2.97749216e+01, 2.94291272e-03, 2.28479418e-03])\n"
     ]
    },
    {
     "name": "stderr",
     "output_type": "stream",
     "text": [
      "/tmp/ipykernel_40318/26170352.py:60: SettingWithCopyWarning: \n",
      "A value is trying to be set on a copy of a slice from a DataFrame.\n",
      "Try using .loc[row_indexer,col_indexer] = value instead\n",
      "\n",
      "See the caveats in the documentation: https://pandas.pydata.org/pandas-docs/stable/user_guide/indexing.html#returning-a-view-versus-a-copy\n",
      "  data_toUse_[sL1JetResponse] = data_toUse_[sL1JetEt_forResolutionPlots] / data_toUse_[sRefJetEt]\n"
     ]
    },
    {
     "name": "stdout",
     "output_type": "stream",
     "text": [
      "popt: [1.55004766e+03 9.57837977e-01 1.93881250e-01], \n",
      "pcov: \n",
      "[[ 9.75564068e+02  1.78812207e-03 -4.62517367e-02]\n",
      " [ 1.78812207e-03  9.48920425e-06 -2.24047475e-07]\n",
      " [-4.62517367e-02 -2.24047475e-07  5.78621142e-06]],  \n",
      "poptErr = array([3.12340210e+01, 3.08045520e-03, 2.40545451e-03])\n"
     ]
    },
    {
     "name": "stderr",
     "output_type": "stream",
     "text": [
      "/tmp/ipykernel_40318/26170352.py:60: SettingWithCopyWarning: \n",
      "A value is trying to be set on a copy of a slice from a DataFrame.\n",
      "Try using .loc[row_indexer,col_indexer] = value instead\n",
      "\n",
      "See the caveats in the documentation: https://pandas.pydata.org/pandas-docs/stable/user_guide/indexing.html#returning-a-view-versus-a-copy\n",
      "  data_toUse_[sL1JetResponse] = data_toUse_[sL1JetEt_forResolutionPlots] / data_toUse_[sRefJetEt]\n"
     ]
    },
    {
     "name": "stdout",
     "output_type": "stream",
     "text": [
      "popt: [1.45288545e+03 9.59711235e-01 1.92788105e-01], \n",
      "pcov: \n",
      "[[ 8.91217383e+02  1.59676330e-03 -4.50153031e-02]\n",
      " [ 1.59676330e-03  9.73041852e-06 -2.12489992e-07]\n",
      " [-4.50153031e-02 -2.12489992e-07  5.97472650e-06]],  \n",
      "poptErr = array([2.98532642e+01, 3.11936188e-03, 2.44432537e-03])\n"
     ]
    },
    {
     "name": "stderr",
     "output_type": "stream",
     "text": [
      "/tmp/ipykernel_40318/26170352.py:60: SettingWithCopyWarning: \n",
      "A value is trying to be set on a copy of a slice from a DataFrame.\n",
      "Try using .loc[row_indexer,col_indexer] = value instead\n",
      "\n",
      "See the caveats in the documentation: https://pandas.pydata.org/pandas-docs/stable/user_guide/indexing.html#returning-a-view-versus-a-copy\n",
      "  data_toUse_[sL1JetResponse] = data_toUse_[sL1JetEt_forResolutionPlots] / data_toUse_[sRefJetEt]\n"
     ]
    },
    {
     "name": "stdout",
     "output_type": "stream",
     "text": [
      "popt: [1.38793224e+03 9.59123113e-01 1.87805101e-01], \n",
      "pcov: \n",
      "[[ 8.45813799e+02  1.64230647e-03 -4.35021833e-02]\n",
      " [ 1.64230647e-03  9.60937528e-06 -2.22338795e-07]\n",
      " [-4.35021833e-02 -2.22338795e-07  5.88672091e-06]],  \n",
      "poptErr = array([2.90828781e+01, 3.09989924e-03, 2.42625656e-03])\n"
     ]
    },
    {
     "name": "stderr",
     "output_type": "stream",
     "text": [
      "/tmp/ipykernel_40318/26170352.py:60: SettingWithCopyWarning: \n",
      "A value is trying to be set on a copy of a slice from a DataFrame.\n",
      "Try using .loc[row_indexer,col_indexer] = value instead\n",
      "\n",
      "See the caveats in the documentation: https://pandas.pydata.org/pandas-docs/stable/user_guide/indexing.html#returning-a-view-versus-a-copy\n",
      "  data_toUse_[sL1JetResponse] = data_toUse_[sL1JetEt_forResolutionPlots] / data_toUse_[sRefJetEt]\n"
     ]
    },
    {
     "name": "stdout",
     "output_type": "stream",
     "text": [
      "popt: [1.30347057e+03 9.59193074e-01 1.86822176e-01], \n",
      "pcov: \n",
      "[[ 8.20744616e+02  1.94277181e-03 -4.49614337e-02]\n",
      " [ 1.94277181e-03  1.04296303e-05 -2.78653368e-07]\n",
      " [-4.49614337e-02 -2.78653368e-07  6.44474014e-06]],  \n",
      "poptErr = array([2.86486407e+01, 3.22949382e-03, 2.53864927e-03])\n"
     ]
    },
    {
     "name": "stderr",
     "output_type": "stream",
     "text": [
      "/tmp/ipykernel_40318/26170352.py:60: SettingWithCopyWarning: \n",
      "A value is trying to be set on a copy of a slice from a DataFrame.\n",
      "Try using .loc[row_indexer,col_indexer] = value instead\n",
      "\n",
      "See the caveats in the documentation: https://pandas.pydata.org/pandas-docs/stable/user_guide/indexing.html#returning-a-view-versus-a-copy\n",
      "  data_toUse_[sL1JetResponse] = data_toUse_[sL1JetEt_forResolutionPlots] / data_toUse_[sRefJetEt]\n"
     ]
    },
    {
     "name": "stdout",
     "output_type": "stream",
     "text": [
      "popt: [2.50085977e+03 9.60750935e-01 1.79017619e-01], \n",
      "pcov: \n",
      "[[ 2.95212452e+03  5.21349634e-03 -8.11127435e-02]\n",
      " [ 5.21349634e-03  9.34526964e-06 -3.73258599e-07]\n",
      " [-8.11127435e-02 -3.73258599e-07  5.80646464e-06]],  \n",
      "poptErr = array([5.43334567e+01, 3.05700338e-03, 2.40966069e-03])\n"
     ]
    },
    {
     "name": "stderr",
     "output_type": "stream",
     "text": [
      "/tmp/ipykernel_40318/26170352.py:60: SettingWithCopyWarning: \n",
      "A value is trying to be set on a copy of a slice from a DataFrame.\n",
      "Try using .loc[row_indexer,col_indexer] = value instead\n",
      "\n",
      "See the caveats in the documentation: https://pandas.pydata.org/pandas-docs/stable/user_guide/indexing.html#returning-a-view-versus-a-copy\n",
      "  data_toUse_[sL1JetResponse] = data_toUse_[sL1JetEt_forResolutionPlots] / data_toUse_[sRefJetEt]\n"
     ]
    },
    {
     "name": "stdout",
     "output_type": "stream",
     "text": [
      "popt: [2.27399090e+03 9.61056585e-01 1.71949864e-01], \n",
      "pcov: \n",
      "[[ 2.99034897e+03  4.85105210e-03 -8.80781265e-02]\n",
      " [ 4.85105210e-03  1.04586137e-05 -3.66840870e-07]\n",
      " [-8.80781265e-02 -3.66840870e-07  6.66021953e-06]],  \n",
      "poptErr = array([5.46840833e+01, 3.23397800e-03, 2.58074011e-03])\n"
     ]
    },
    {
     "name": "stderr",
     "output_type": "stream",
     "text": [
      "/tmp/ipykernel_40318/26170352.py:60: SettingWithCopyWarning: \n",
      "A value is trying to be set on a copy of a slice from a DataFrame.\n",
      "Try using .loc[row_indexer,col_indexer] = value instead\n",
      "\n",
      "See the caveats in the documentation: https://pandas.pydata.org/pandas-docs/stable/user_guide/indexing.html#returning-a-view-versus-a-copy\n",
      "  data_toUse_[sL1JetResponse] = data_toUse_[sL1JetEt_forResolutionPlots] / data_toUse_[sRefJetEt]\n"
     ]
    },
    {
     "name": "stdout",
     "output_type": "stream",
     "text": [
      "popt: [2.08312577e+03 9.59785147e-01 1.66352021e-01], \n",
      "pcov: \n",
      "[[ 2.84005810e+03  5.01311744e-03 -8.90526476e-02]\n",
      " [ 5.01311744e-03  1.10228752e-05 -4.00332617e-07]\n",
      " [-8.90526476e-02 -4.00332617e-07  7.11154770e-06]],  \n",
      "poptErr = array([5.32921955e+01, 3.32007156e-03, 2.66674853e-03])\n"
     ]
    },
    {
     "name": "stderr",
     "output_type": "stream",
     "text": [
      "/tmp/ipykernel_40318/26170352.py:60: SettingWithCopyWarning: \n",
      "A value is trying to be set on a copy of a slice from a DataFrame.\n",
      "Try using .loc[row_indexer,col_indexer] = value instead\n",
      "\n",
      "See the caveats in the documentation: https://pandas.pydata.org/pandas-docs/stable/user_guide/indexing.html#returning-a-view-versus-a-copy\n",
      "  data_toUse_[sL1JetResponse] = data_toUse_[sL1JetEt_forResolutionPlots] / data_toUse_[sRefJetEt]\n"
     ]
    },
    {
     "name": "stdout",
     "output_type": "stream",
     "text": [
      "popt: [3.58849349e+03 9.60107414e-01 1.61635755e-01], \n",
      "pcov: \n",
      "[[ 8.44593124e+03  8.86358080e-03 -1.49680525e-01]\n",
      " [ 8.86358080e-03  1.04175004e-05 -3.99224063e-07]\n",
      " [-1.49680525e-01 -3.99224063e-07  6.74207182e-06]],  \n",
      "poptErr = array([9.19017478e+01, 3.22761528e-03, 2.59654999e-03])\n"
     ]
    },
    {
     "name": "stderr",
     "output_type": "stream",
     "text": [
      "/tmp/ipykernel_40318/26170352.py:60: SettingWithCopyWarning: \n",
      "A value is trying to be set on a copy of a slice from a DataFrame.\n",
      "Try using .loc[row_indexer,col_indexer] = value instead\n",
      "\n",
      "See the caveats in the documentation: https://pandas.pydata.org/pandas-docs/stable/user_guide/indexing.html#returning-a-view-versus-a-copy\n",
      "  data_toUse_[sL1JetResponse] = data_toUse_[sL1JetEt_forResolutionPlots] / data_toUse_[sRefJetEt]\n"
     ]
    },
    {
     "name": "stdout",
     "output_type": "stream",
     "text": [
      "popt: [3.03033470e+03 9.56108750e-01 1.51919619e-01], \n",
      "pcov: \n",
      "[[ 6.97683855e+03  1.18113388e-02 -1.37838500e-01]\n",
      " [ 1.18113388e-02  1.06756246e-05 -5.92124440e-07]\n",
      " [-1.37838500e-01 -5.92124440e-07  6.91026940e-06]],  \n",
      "poptErr = array([8.35274718e+01, 3.26735744e-03, 2.62873913e-03])\n"
     ]
    },
    {
     "name": "stderr",
     "output_type": "stream",
     "text": [
      "/tmp/ipykernel_40318/26170352.py:60: SettingWithCopyWarning: \n",
      "A value is trying to be set on a copy of a slice from a DataFrame.\n",
      "Try using .loc[row_indexer,col_indexer] = value instead\n",
      "\n",
      "See the caveats in the documentation: https://pandas.pydata.org/pandas-docs/stable/user_guide/indexing.html#returning-a-view-versus-a-copy\n",
      "  data_toUse_[sL1JetResponse] = data_toUse_[sL1JetEt_forResolutionPlots] / data_toUse_[sRefJetEt]\n"
     ]
    },
    {
     "name": "stdout",
     "output_type": "stream",
     "text": [
      "popt: [2.55010954e+03 9.57849072e-01 1.42965034e-01], \n",
      "pcov: \n",
      "[[ 5.93149062e+03  1.23394297e-02 -1.32083151e-01]\n",
      " [ 1.23394297e-02  1.13026141e-05 -6.91750577e-07]\n",
      " [-1.32083151e-01 -6.91750577e-07  7.40492138e-06]],  \n",
      "poptErr = array([7.70161712e+01, 3.36193606e-03, 2.72119852e-03])\n"
     ]
    },
    {
     "name": "stderr",
     "output_type": "stream",
     "text": [
      "/tmp/ipykernel_40318/26170352.py:60: SettingWithCopyWarning: \n",
      "A value is trying to be set on a copy of a slice from a DataFrame.\n",
      "Try using .loc[row_indexer,col_indexer] = value instead\n",
      "\n",
      "See the caveats in the documentation: https://pandas.pydata.org/pandas-docs/stable/user_guide/indexing.html#returning-a-view-versus-a-copy\n",
      "  data_toUse_[sL1JetResponse] = data_toUse_[sL1JetEt_forResolutionPlots] / data_toUse_[sRefJetEt]\n"
     ]
    },
    {
     "name": "stdout",
     "output_type": "stream",
     "text": [
      "popt: [2.16757105e+03 9.54257652e-01 1.36399855e-01], \n",
      "pcov: \n",
      "[[ 4.81826883e+03  1.17424396e-02 -1.21666790e-01]\n",
      " [ 1.17424396e-02  1.14954186e-05 -7.38876632e-07]\n",
      " [-1.21666790e-01 -7.38876632e-07  7.65625713e-06]],  \n",
      "poptErr = array([6.94137510e+01, 3.39048943e-03, 2.76699424e-03])\n"
     ]
    },
    {
     "name": "stderr",
     "output_type": "stream",
     "text": [
      "/tmp/ipykernel_40318/26170352.py:60: SettingWithCopyWarning: \n",
      "A value is trying to be set on a copy of a slice from a DataFrame.\n",
      "Try using .loc[row_indexer,col_indexer] = value instead\n",
      "\n",
      "See the caveats in the documentation: https://pandas.pydata.org/pandas-docs/stable/user_guide/indexing.html#returning-a-view-versus-a-copy\n",
      "  data_toUse_[sL1JetResponse] = data_toUse_[sL1JetEt_forResolutionPlots] / data_toUse_[sRefJetEt]\n"
     ]
    },
    {
     "name": "stdout",
     "output_type": "stream",
     "text": [
      "popt: [1.39346457e+03 1.02188569e+00 1.93176996e-01], \n",
      "pcov: \n",
      "[[ 2.53016883e+03 -4.46930081e-02 -1.25370961e-01]\n",
      " [-4.46930081e-02  3.40676463e-05  6.11618530e-06]\n",
      " [-1.25370961e-01  6.11618530e-06  1.76092542e-05]],  \n",
      "poptErr = array([5.03007836e+01, 5.83674964e-03, 4.19633819e-03])\n"
     ]
    },
    {
     "name": "stderr",
     "output_type": "stream",
     "text": [
      "/tmp/ipykernel_40318/26170352.py:60: SettingWithCopyWarning: \n",
      "A value is trying to be set on a copy of a slice from a DataFrame.\n",
      "Try using .loc[row_indexer,col_indexer] = value instead\n",
      "\n",
      "See the caveats in the documentation: https://pandas.pydata.org/pandas-docs/stable/user_guide/indexing.html#returning-a-view-versus-a-copy\n",
      "  data_toUse_[sL1JetResponse] = data_toUse_[sL1JetEt_forResolutionPlots] / data_toUse_[sRefJetEt]\n"
     ]
    },
    {
     "name": "stdout",
     "output_type": "stream",
     "text": [
      "popt: [1.50863060e+03 9.75422536e-01 1.84257838e-01], \n",
      "pcov: \n",
      "[[ 3.18797566e+03 -5.71914443e-02 -1.33532738e-01]\n",
      " [-5.71914443e-02  3.46141121e-05  6.94583139e-06]\n",
      " [-1.33532738e-01  6.94583139e-06  1.64436798e-05]],  \n",
      "poptErr = array([5.64621613e+01, 5.88337591e-03, 4.05508074e-03])\n"
     ]
    },
    {
     "name": "stderr",
     "output_type": "stream",
     "text": [
      "/tmp/ipykernel_40318/26170352.py:60: SettingWithCopyWarning: \n",
      "A value is trying to be set on a copy of a slice from a DataFrame.\n",
      "Try using .loc[row_indexer,col_indexer] = value instead\n",
      "\n",
      "See the caveats in the documentation: https://pandas.pydata.org/pandas-docs/stable/user_guide/indexing.html#returning-a-view-versus-a-copy\n",
      "  data_toUse_[sL1JetResponse] = data_toUse_[sL1JetEt_forResolutionPlots] / data_toUse_[sRefJetEt]\n"
     ]
    },
    {
     "name": "stdout",
     "output_type": "stream",
     "text": [
      "popt: [1.48889042e+03 9.49130210e-01 1.81887176e-01], \n",
      "pcov: \n",
      "[[ 3.57059499e+03 -6.89357732e-02 -1.48557178e-01]\n",
      " [-6.89357732e-02  3.94255828e-05  8.38562742e-06]\n",
      " [-1.48557178e-01  8.38562742e-06  1.82826202e-05]],  \n",
      "poptErr = array([5.97544558e+01, 6.27897944e-03, 4.27581808e-03])\n"
     ]
    },
    {
     "name": "stderr",
     "output_type": "stream",
     "text": [
      "/tmp/ipykernel_40318/26170352.py:60: SettingWithCopyWarning: \n",
      "A value is trying to be set on a copy of a slice from a DataFrame.\n",
      "Try using .loc[row_indexer,col_indexer] = value instead\n",
      "\n",
      "See the caveats in the documentation: https://pandas.pydata.org/pandas-docs/stable/user_guide/indexing.html#returning-a-view-versus-a-copy\n",
      "  data_toUse_[sL1JetResponse] = data_toUse_[sL1JetEt_forResolutionPlots] / data_toUse_[sRefJetEt]\n"
     ]
    },
    {
     "name": "stdout",
     "output_type": "stream",
     "text": [
      "popt: [1.41176009e+03 9.32001937e-01 1.86464036e-01], \n",
      "pcov: \n",
      "[[ 2.51724606e+03 -4.45832928e-02 -1.17407693e-01]\n",
      " [-4.45832928e-02  3.09985601e-05  5.84950161e-06]\n",
      " [-1.17407693e-01  5.84950161e-06  1.56379882e-05]],  \n",
      "poptErr = array([5.01721642e+01, 5.56763505e-03, 3.95448962e-03])\n"
     ]
    },
    {
     "name": "stderr",
     "output_type": "stream",
     "text": [
      "/tmp/ipykernel_40318/26170352.py:60: SettingWithCopyWarning: \n",
      "A value is trying to be set on a copy of a slice from a DataFrame.\n",
      "Try using .loc[row_indexer,col_indexer] = value instead\n",
      "\n",
      "See the caveats in the documentation: https://pandas.pydata.org/pandas-docs/stable/user_guide/indexing.html#returning-a-view-versus-a-copy\n",
      "  data_toUse_[sL1JetResponse] = data_toUse_[sL1JetEt_forResolutionPlots] / data_toUse_[sRefJetEt]\n"
     ]
    },
    {
     "name": "stdout",
     "output_type": "stream",
     "text": [
      "popt: [1.36124019e+03 9.20115100e-01 1.86938179e-01], \n",
      "pcov: \n",
      "[[ 2.03338373e+03 -3.71351459e-02 -9.49720230e-02]\n",
      " [-3.71351459e-02  2.75592696e-05  5.07115333e-06]\n",
      " [-9.49720230e-02  5.07115333e-06  1.31343793e-05]],  \n",
      "poptErr = array([4.50930563e+01, 5.24969233e-03, 3.62413843e-03])\n"
     ]
    },
    {
     "name": "stderr",
     "output_type": "stream",
     "text": [
      "/tmp/ipykernel_40318/26170352.py:60: SettingWithCopyWarning: \n",
      "A value is trying to be set on a copy of a slice from a DataFrame.\n",
      "Try using .loc[row_indexer,col_indexer] = value instead\n",
      "\n",
      "See the caveats in the documentation: https://pandas.pydata.org/pandas-docs/stable/user_guide/indexing.html#returning-a-view-versus-a-copy\n",
      "  data_toUse_[sL1JetResponse] = data_toUse_[sL1JetEt_forResolutionPlots] / data_toUse_[sRefJetEt]\n"
     ]
    },
    {
     "name": "stdout",
     "output_type": "stream",
     "text": [
      "popt: [1.26036030e+03 9.15063603e-01 1.90836145e-01], \n",
      "pcov: \n",
      "[[ 1.37666379e+03 -2.29260437e-02 -7.22624189e-02]\n",
      " [-2.29260437e-02  2.19181069e-05  3.44730022e-06]\n",
      " [-7.22624189e-02  3.44730022e-06  1.10121983e-05]],  \n",
      "poptErr = array([3.71034202e+01, 4.68167778e-03, 3.31846325e-03])\n"
     ]
    },
    {
     "name": "stderr",
     "output_type": "stream",
     "text": [
      "/tmp/ipykernel_40318/26170352.py:60: SettingWithCopyWarning: \n",
      "A value is trying to be set on a copy of a slice from a DataFrame.\n",
      "Try using .loc[row_indexer,col_indexer] = value instead\n",
      "\n",
      "See the caveats in the documentation: https://pandas.pydata.org/pandas-docs/stable/user_guide/indexing.html#returning-a-view-versus-a-copy\n",
      "  data_toUse_[sL1JetResponse] = data_toUse_[sL1JetEt_forResolutionPlots] / data_toUse_[sRefJetEt]\n"
     ]
    },
    {
     "name": "stdout",
     "output_type": "stream",
     "text": [
      "popt: [1.17338991e+03 9.08617874e-01 1.92468842e-01], \n",
      "pcov: \n",
      "[[ 8.04047197e+02 -1.09686381e-02 -4.71978546e-02]\n",
      " [-1.09686381e-02  1.44753825e-05  1.77543485e-06]\n",
      " [-4.71978546e-02  1.77543485e-06  7.80310684e-06]],  \n",
      "poptErr = array([2.83557260e+01, 3.80465275e-03, 2.79340417e-03])\n"
     ]
    },
    {
     "name": "stderr",
     "output_type": "stream",
     "text": [
      "/tmp/ipykernel_40318/26170352.py:60: SettingWithCopyWarning: \n",
      "A value is trying to be set on a copy of a slice from a DataFrame.\n",
      "Try using .loc[row_indexer,col_indexer] = value instead\n",
      "\n",
      "See the caveats in the documentation: https://pandas.pydata.org/pandas-docs/stable/user_guide/indexing.html#returning-a-view-versus-a-copy\n",
      "  data_toUse_[sL1JetResponse] = data_toUse_[sL1JetEt_forResolutionPlots] / data_toUse_[sRefJetEt]\n"
     ]
    },
    {
     "name": "stdout",
     "output_type": "stream",
     "text": [
      "popt: [1.09913375e+03 9.09931243e-01 1.93468783e-01], \n",
      "pcov: \n",
      "[[ 5.70967643e+02 -7.36700517e-03 -3.53079202e-02]\n",
      " [-7.36700517e-03  1.18427377e-05  1.28280917e-06]\n",
      " [-3.53079202e-02  1.28280917e-06  6.24988462e-06]],  \n",
      "poptErr = array([2.38949292e+01, 3.44132790e-03, 2.49997692e-03])\n"
     ]
    },
    {
     "name": "stderr",
     "output_type": "stream",
     "text": [
      "/tmp/ipykernel_40318/26170352.py:60: SettingWithCopyWarning: \n",
      "A value is trying to be set on a copy of a slice from a DataFrame.\n",
      "Try using .loc[row_indexer,col_indexer] = value instead\n",
      "\n",
      "See the caveats in the documentation: https://pandas.pydata.org/pandas-docs/stable/user_guide/indexing.html#returning-a-view-versus-a-copy\n",
      "  data_toUse_[sL1JetResponse] = data_toUse_[sL1JetEt_forResolutionPlots] / data_toUse_[sRefJetEt]\n"
     ]
    },
    {
     "name": "stdout",
     "output_type": "stream",
     "text": [
      "popt: [1.01366643e+03 9.10343429e-01 1.94300763e-01], \n",
      "pcov: \n",
      "[[ 3.83051088e+02 -4.09689572e-03 -2.64058655e-02]\n",
      " [-4.09689572e-03  9.22629402e-06  7.70390656e-07]\n",
      " [-2.64058655e-02  7.70390656e-07  5.09541341e-06]],  \n",
      "poptErr = array([1.95716910e+01, 3.03748153e-03, 2.25730224e-03])\n"
     ]
    },
    {
     "name": "stderr",
     "output_type": "stream",
     "text": [
      "/tmp/ipykernel_40318/26170352.py:60: SettingWithCopyWarning: \n",
      "A value is trying to be set on a copy of a slice from a DataFrame.\n",
      "Try using .loc[row_indexer,col_indexer] = value instead\n",
      "\n",
      "See the caveats in the documentation: https://pandas.pydata.org/pandas-docs/stable/user_guide/indexing.html#returning-a-view-versus-a-copy\n",
      "  data_toUse_[sL1JetResponse] = data_toUse_[sL1JetEt_forResolutionPlots] / data_toUse_[sRefJetEt]\n"
     ]
    },
    {
     "name": "stdout",
     "output_type": "stream",
     "text": [
      "popt: [9.54256940e+02 9.09738727e-01 1.91712437e-01], \n",
      "pcov: \n",
      "[[ 3.74921842e+02 -4.23056123e-03 -2.67863483e-02]\n",
      " [-4.23056123e-03  9.93725749e-06  8.42438986e-07]\n",
      " [-2.67863483e-02  8.42438986e-07  5.40032047e-06]],  \n",
      "poptErr = array([1.93628986e+01, 3.15234159e-03, 2.32385896e-03])\n"
     ]
    },
    {
     "name": "stderr",
     "output_type": "stream",
     "text": [
      "/tmp/ipykernel_40318/26170352.py:60: SettingWithCopyWarning: \n",
      "A value is trying to be set on a copy of a slice from a DataFrame.\n",
      "Try using .loc[row_indexer,col_indexer] = value instead\n",
      "\n",
      "See the caveats in the documentation: https://pandas.pydata.org/pandas-docs/stable/user_guide/indexing.html#returning-a-view-versus-a-copy\n",
      "  data_toUse_[sL1JetResponse] = data_toUse_[sL1JetEt_forResolutionPlots] / data_toUse_[sRefJetEt]\n"
     ]
    },
    {
     "name": "stdout",
     "output_type": "stream",
     "text": [
      "popt: [8.76228355e+02 9.10881735e-01 1.88444018e-01], \n",
      "pcov: \n",
      "[[ 3.32881221e+02 -2.55552254e-03 -2.67136707e-02]\n",
      " [-2.55552254e-03  9.74797816e-06  5.42948396e-07]\n",
      " [-2.67136707e-02  5.42948396e-07  5.76176498e-06]],  \n",
      "poptErr = array([1.82450328e+01, 3.12217523e-03, 2.40036768e-03])\n"
     ]
    },
    {
     "name": "stderr",
     "output_type": "stream",
     "text": [
      "/tmp/ipykernel_40318/26170352.py:60: SettingWithCopyWarning: \n",
      "A value is trying to be set on a copy of a slice from a DataFrame.\n",
      "Try using .loc[row_indexer,col_indexer] = value instead\n",
      "\n",
      "See the caveats in the documentation: https://pandas.pydata.org/pandas-docs/stable/user_guide/indexing.html#returning-a-view-versus-a-copy\n",
      "  data_toUse_[sL1JetResponse] = data_toUse_[sL1JetEt_forResolutionPlots] / data_toUse_[sRefJetEt]\n"
     ]
    },
    {
     "name": "stdout",
     "output_type": "stream",
     "text": [
      "popt: [8.09955521e+02 9.13521163e-01 1.88862346e-01], \n",
      "pcov: \n",
      "[[ 2.56330528e+02 -2.32655817e-03 -2.20739470e-02]\n",
      " [-2.32655817e-03  8.88642342e-06  5.36777232e-07]\n",
      " [-2.20739470e-02  5.36777232e-07  5.16186060e-06]],  \n",
      "poptErr = array([1.60103257e+01, 2.98101047e-03, 2.27197284e-03])\n"
     ]
    },
    {
     "name": "stderr",
     "output_type": "stream",
     "text": [
      "/tmp/ipykernel_40318/26170352.py:60: SettingWithCopyWarning: \n",
      "A value is trying to be set on a copy of a slice from a DataFrame.\n",
      "Try using .loc[row_indexer,col_indexer] = value instead\n",
      "\n",
      "See the caveats in the documentation: https://pandas.pydata.org/pandas-docs/stable/user_guide/indexing.html#returning-a-view-versus-a-copy\n",
      "  data_toUse_[sL1JetResponse] = data_toUse_[sL1JetEt_forResolutionPlots] / data_toUse_[sRefJetEt]\n"
     ]
    },
    {
     "name": "stdout",
     "output_type": "stream",
     "text": [
      "popt: [1.26017917e+03 9.17587016e-01 1.86033549e-01], \n",
      "pcov: \n",
      "[[ 5.45654757e+02 -1.18776887e-03 -3.05145329e-02]\n",
      " [-1.18776887e-03  7.41060901e-06  1.72719697e-07]\n",
      " [-3.05145329e-02  1.72719697e-07  4.51114191e-06]],  \n",
      "poptErr = array([2.33592542e+01, 2.72224338e-03, 2.12394489e-03])\n"
     ]
    },
    {
     "name": "stderr",
     "output_type": "stream",
     "text": [
      "/tmp/ipykernel_40318/26170352.py:60: SettingWithCopyWarning: \n",
      "A value is trying to be set on a copy of a slice from a DataFrame.\n",
      "Try using .loc[row_indexer,col_indexer] = value instead\n",
      "\n",
      "See the caveats in the documentation: https://pandas.pydata.org/pandas-docs/stable/user_guide/indexing.html#returning-a-view-versus-a-copy\n",
      "  data_toUse_[sL1JetResponse] = data_toUse_[sL1JetEt_forResolutionPlots] / data_toUse_[sRefJetEt]\n"
     ]
    },
    {
     "name": "stdout",
     "output_type": "stream",
     "text": [
      "popt: [1.14178931e+03 9.25065893e-01 1.81899898e-01], \n",
      "pcov: \n",
      "[[ 5.23723192e+02 -1.25454140e-03 -3.16825808e-02]\n",
      " [-1.25454140e-03  8.26514306e-06  1.98084414e-07]\n",
      " [-3.16825808e-02  1.98084414e-07  5.05211143e-06]],  \n",
      "poptErr = array([2.28849993e+01, 2.87491618e-03, 2.24769024e-03])\n"
     ]
    },
    {
     "name": "stderr",
     "output_type": "stream",
     "text": [
      "/tmp/ipykernel_40318/26170352.py:60: SettingWithCopyWarning: \n",
      "A value is trying to be set on a copy of a slice from a DataFrame.\n",
      "Try using .loc[row_indexer,col_indexer] = value instead\n",
      "\n",
      "See the caveats in the documentation: https://pandas.pydata.org/pandas-docs/stable/user_guide/indexing.html#returning-a-view-versus-a-copy\n",
      "  data_toUse_[sL1JetResponse] = data_toUse_[sL1JetEt_forResolutionPlots] / data_toUse_[sRefJetEt]\n"
     ]
    },
    {
     "name": "stdout",
     "output_type": "stream",
     "text": [
      "popt: [1.04831955e+03 9.27172516e-01 1.75911876e-01], \n",
      "pcov: \n",
      "[[ 3.88871845e+02  1.25246763e-05 -2.46701054e-02]\n",
      " [ 1.25246763e-05  6.81376201e-06 -2.62485977e-09]\n",
      " [-2.46701054e-02 -2.62485977e-09  4.14106078e-06]],  \n",
      "poptErr = array([1.97198338e+01, 2.61031837e-03, 2.03495965e-03])\n"
     ]
    },
    {
     "name": "stderr",
     "output_type": "stream",
     "text": [
      "/tmp/ipykernel_40318/26170352.py:60: SettingWithCopyWarning: \n",
      "A value is trying to be set on a copy of a slice from a DataFrame.\n",
      "Try using .loc[row_indexer,col_indexer] = value instead\n",
      "\n",
      "See the caveats in the documentation: https://pandas.pydata.org/pandas-docs/stable/user_guide/indexing.html#returning-a-view-versus-a-copy\n",
      "  data_toUse_[sL1JetResponse] = data_toUse_[sL1JetEt_forResolutionPlots] / data_toUse_[sRefJetEt]\n"
     ]
    },
    {
     "name": "stdout",
     "output_type": "stream",
     "text": [
      "popt: [9.70993572e+02 9.31949913e-01 1.69903649e-01], \n",
      "pcov: \n",
      "[[ 3.57321444e+02  5.74280170e-04 -2.34502544e-02]\n",
      " [ 5.74280170e-04  6.84138285e-06 -1.00748445e-07]\n",
      " [-2.34502544e-02 -1.00748445e-07  4.10396809e-06]],  \n",
      "poptErr = array([1.89029480e+01, 2.61560373e-03, 2.02582529e-03])\n"
     ]
    },
    {
     "name": "stderr",
     "output_type": "stream",
     "text": [
      "/tmp/ipykernel_40318/26170352.py:60: SettingWithCopyWarning: \n",
      "A value is trying to be set on a copy of a slice from a DataFrame.\n",
      "Try using .loc[row_indexer,col_indexer] = value instead\n",
      "\n",
      "See the caveats in the documentation: https://pandas.pydata.org/pandas-docs/stable/user_guide/indexing.html#returning-a-view-versus-a-copy\n",
      "  data_toUse_[sL1JetResponse] = data_toUse_[sL1JetEt_forResolutionPlots] / data_toUse_[sRefJetEt]\n"
     ]
    },
    {
     "name": "stdout",
     "output_type": "stream",
     "text": [
      "popt: [9.08677355e+02 9.37218906e-01 1.61227143e-01], \n",
      "pcov: \n",
      "[[ 4.13259288e+02  5.19726680e-04 -2.76521705e-02]\n",
      " [ 5.19726680e-04  8.10609097e-06 -9.22472767e-08]\n",
      " [-2.76521705e-02 -9.22472767e-08  4.90651048e-06]],  \n",
      "poptErr = array([2.03287798e+01, 2.84711977e-03, 2.21506444e-03])\n"
     ]
    },
    {
     "name": "stderr",
     "output_type": "stream",
     "text": [
      "/tmp/ipykernel_40318/26170352.py:60: SettingWithCopyWarning: \n",
      "A value is trying to be set on a copy of a slice from a DataFrame.\n",
      "Try using .loc[row_indexer,col_indexer] = value instead\n",
      "\n",
      "See the caveats in the documentation: https://pandas.pydata.org/pandas-docs/stable/user_guide/indexing.html#returning-a-view-versus-a-copy\n",
      "  data_toUse_[sL1JetResponse] = data_toUse_[sL1JetEt_forResolutionPlots] / data_toUse_[sRefJetEt]\n"
     ]
    },
    {
     "name": "stdout",
     "output_type": "stream",
     "text": [
      "popt: [8.28094705e+02 9.39773704e-01 1.59094414e-01], \n",
      "pcov: \n",
      "[[ 4.40997606e+02  1.04904517e-03 -3.24636951e-02]\n",
      " [ 1.04904517e-03  1.00480091e-05 -2.01595392e-07]\n",
      " [-3.24636951e-02 -2.01595392e-07  6.23728982e-06]],  \n",
      "poptErr = array([2.09999430e+01, 3.16985947e-03, 2.49745667e-03])\n"
     ]
    },
    {
     "name": "stderr",
     "output_type": "stream",
     "text": [
      "/tmp/ipykernel_40318/26170352.py:60: SettingWithCopyWarning: \n",
      "A value is trying to be set on a copy of a slice from a DataFrame.\n",
      "Try using .loc[row_indexer,col_indexer] = value instead\n",
      "\n",
      "See the caveats in the documentation: https://pandas.pydata.org/pandas-docs/stable/user_guide/indexing.html#returning-a-view-versus-a-copy\n",
      "  data_toUse_[sL1JetResponse] = data_toUse_[sL1JetEt_forResolutionPlots] / data_toUse_[sRefJetEt]\n"
     ]
    },
    {
     "name": "stdout",
     "output_type": "stream",
     "text": [
      "popt: [7.84478856e+02 9.41497850e-01 1.55089187e-01], \n",
      "pcov: \n",
      "[[ 3.67860324e+02  6.42865085e-04 -2.78698504e-02]\n",
      " [ 6.42865085e-04  8.87089544e-06 -1.27093506e-07]\n",
      " [-2.78698504e-02 -1.27093506e-07  5.50983357e-06]],  \n",
      "poptErr = array([1.91796852e+01, 2.97840485e-03, 2.34730347e-03])\n"
     ]
    },
    {
     "name": "stderr",
     "output_type": "stream",
     "text": [
      "/tmp/ipykernel_40318/26170352.py:60: SettingWithCopyWarning: \n",
      "A value is trying to be set on a copy of a slice from a DataFrame.\n",
      "Try using .loc[row_indexer,col_indexer] = value instead\n",
      "\n",
      "See the caveats in the documentation: https://pandas.pydata.org/pandas-docs/stable/user_guide/indexing.html#returning-a-view-versus-a-copy\n",
      "  data_toUse_[sL1JetResponse] = data_toUse_[sL1JetEt_forResolutionPlots] / data_toUse_[sRefJetEt]\n"
     ]
    },
    {
     "name": "stdout",
     "output_type": "stream",
     "text": [
      "popt: [7.17634145e+02 9.44040595e-01 1.50289114e-01], \n",
      "pcov: \n",
      "[[ 3.03149724e+02  2.44954246e-04 -2.41740601e-02]\n",
      " [ 2.44954246e-04  8.23391232e-06 -5.13406433e-08]\n",
      " [-2.41740601e-02 -5.13406433e-08  5.06274172e-06]],  \n",
      "poptErr = array([1.74111954e+01, 2.86947945e-03, 2.25005371e-03])\n"
     ]
    },
    {
     "name": "stderr",
     "output_type": "stream",
     "text": [
      "/tmp/ipykernel_40318/26170352.py:60: SettingWithCopyWarning: \n",
      "A value is trying to be set on a copy of a slice from a DataFrame.\n",
      "Try using .loc[row_indexer,col_indexer] = value instead\n",
      "\n",
      "See the caveats in the documentation: https://pandas.pydata.org/pandas-docs/stable/user_guide/indexing.html#returning-a-view-versus-a-copy\n",
      "  data_toUse_[sL1JetResponse] = data_toUse_[sL1JetEt_forResolutionPlots] / data_toUse_[sRefJetEt]\n"
     ]
    },
    {
     "name": "stdout",
     "output_type": "stream",
     "text": [
      "popt: [6.73093637e+02 9.44976671e-01 1.46115878e-01], \n",
      "pcov: \n",
      "[[ 3.35127305e+02 -3.25878332e-04 -2.78758332e-02]\n",
      " [-3.25878332e-04  9.74255710e-06  7.07579719e-08]\n",
      " [-2.78758332e-02  7.07579719e-08  6.05140765e-06]],  \n",
      "poptErr = array([1.83064826e+01, 3.12130695e-03, 2.45996090e-03])\n"
     ]
    },
    {
     "name": "stderr",
     "output_type": "stream",
     "text": [
      "/tmp/ipykernel_40318/26170352.py:60: SettingWithCopyWarning: \n",
      "A value is trying to be set on a copy of a slice from a DataFrame.\n",
      "Try using .loc[row_indexer,col_indexer] = value instead\n",
      "\n",
      "See the caveats in the documentation: https://pandas.pydata.org/pandas-docs/stable/user_guide/indexing.html#returning-a-view-versus-a-copy\n",
      "  data_toUse_[sL1JetResponse] = data_toUse_[sL1JetEt_forResolutionPlots] / data_toUse_[sRefJetEt]\n"
     ]
    },
    {
     "name": "stdout",
     "output_type": "stream",
     "text": [
      "popt: [6.12369444e+02 9.47653407e-01 1.44496246e-01], \n",
      "pcov: \n",
      "[[ 2.54477517e+02  1.15486850e-03 -2.25709906e-02]\n",
      " [ 1.15486850e-03  8.85701932e-06 -2.72496857e-07]\n",
      " [-2.25709906e-02 -2.72496857e-07  5.32591758e-06]],  \n",
      "poptErr = array([1.59523515e+01, 2.97607448e-03, 2.30779496e-03])\n"
     ]
    },
    {
     "name": "stderr",
     "output_type": "stream",
     "text": [
      "/tmp/ipykernel_40318/26170352.py:60: SettingWithCopyWarning: \n",
      "A value is trying to be set on a copy of a slice from a DataFrame.\n",
      "Try using .loc[row_indexer,col_indexer] = value instead\n",
      "\n",
      "See the caveats in the documentation: https://pandas.pydata.org/pandas-docs/stable/user_guide/indexing.html#returning-a-view-versus-a-copy\n",
      "  data_toUse_[sL1JetResponse] = data_toUse_[sL1JetEt_forResolutionPlots] / data_toUse_[sRefJetEt]\n"
     ]
    },
    {
     "name": "stdout",
     "output_type": "stream",
     "text": [
      "popt: [5.73277764e+02 9.46791758e-01 1.37997905e-01], \n",
      "pcov: \n",
      "[[ 2.52380567e+02  7.38154601e-04 -2.25606656e-02]\n",
      " [ 7.38154601e-04  9.19955375e-06 -1.77664227e-07]\n",
      " [-2.25606656e-02 -1.77664227e-07  5.43076876e-06]],  \n",
      "poptErr = array([1.58864901e+01, 3.03307661e-03, 2.33040099e-03])\n"
     ]
    },
    {
     "name": "stderr",
     "output_type": "stream",
     "text": [
      "/tmp/ipykernel_40318/26170352.py:60: SettingWithCopyWarning: \n",
      "A value is trying to be set on a copy of a slice from a DataFrame.\n",
      "Try using .loc[row_indexer,col_indexer] = value instead\n",
      "\n",
      "See the caveats in the documentation: https://pandas.pydata.org/pandas-docs/stable/user_guide/indexing.html#returning-a-view-versus-a-copy\n",
      "  data_toUse_[sL1JetResponse] = data_toUse_[sL1JetEt_forResolutionPlots] / data_toUse_[sRefJetEt]\n"
     ]
    },
    {
     "name": "stdout",
     "output_type": "stream",
     "text": [
      "popt: [5.41090241e+02 9.44356309e-01 1.35963689e-01], \n",
      "pcov: \n",
      "[[ 2.11693087e+02  7.06175811e-04 -1.98063751e-02]\n",
      " [ 7.06175811e-04  8.39615443e-06 -1.77405226e-07]\n",
      " [-1.98063751e-02 -1.77405226e-07  4.97700775e-06]],  \n",
      "poptErr = array([1.45496765e+01, 2.89761185e-03, 2.23092083e-03])\n"
     ]
    },
    {
     "name": "stderr",
     "output_type": "stream",
     "text": [
      "/tmp/ipykernel_40318/26170352.py:60: SettingWithCopyWarning: \n",
      "A value is trying to be set on a copy of a slice from a DataFrame.\n",
      "Try using .loc[row_indexer,col_indexer] = value instead\n",
      "\n",
      "See the caveats in the documentation: https://pandas.pydata.org/pandas-docs/stable/user_guide/indexing.html#returning-a-view-versus-a-copy\n",
      "  data_toUse_[sL1JetResponse] = data_toUse_[sL1JetEt_forResolutionPlots] / data_toUse_[sRefJetEt]\n"
     ]
    },
    {
     "name": "stdout",
     "output_type": "stream",
     "text": [
      "popt: [9.34956932e+02 9.44436998e-01 1.32957471e-01], \n",
      "pcov: \n",
      "[[ 5.78960579e+02  8.80529575e-04 -3.10702732e-02]\n",
      " [ 8.80529575e-04  7.29347962e-06 -1.25211905e-07]\n",
      " [-3.10702732e-02 -1.25211905e-07  4.41842194e-06]],  \n",
      "poptErr = array([2.40615997e+01, 2.70064430e-03, 2.10200427e-03])\n"
     ]
    },
    {
     "name": "stderr",
     "output_type": "stream",
     "text": [
      "/tmp/ipykernel_40318/26170352.py:60: SettingWithCopyWarning: \n",
      "A value is trying to be set on a copy of a slice from a DataFrame.\n",
      "Try using .loc[row_indexer,col_indexer] = value instead\n",
      "\n",
      "See the caveats in the documentation: https://pandas.pydata.org/pandas-docs/stable/user_guide/indexing.html#returning-a-view-versus-a-copy\n",
      "  data_toUse_[sL1JetResponse] = data_toUse_[sL1JetEt_forResolutionPlots] / data_toUse_[sRefJetEt]\n"
     ]
    },
    {
     "name": "stdout",
     "output_type": "stream",
     "text": [
      "popt: [8.16799070e+02 9.37004994e-01 1.25505460e-01], \n",
      "pcov: \n",
      "[[ 4.28164536e+02  1.10794634e-03 -2.46782692e-02]\n",
      " [ 1.10794634e-03  6.32471604e-06 -1.70235041e-07]\n",
      " [-2.46782692e-02 -1.70235041e-07  3.79195216e-06]],  \n",
      "poptErr = array([2.06921371e+01, 2.51489881e-03, 1.94729355e-03])\n"
     ]
    },
    {
     "name": "stderr",
     "output_type": "stream",
     "text": [
      "/tmp/ipykernel_40318/26170352.py:60: SettingWithCopyWarning: \n",
      "A value is trying to be set on a copy of a slice from a DataFrame.\n",
      "Try using .loc[row_indexer,col_indexer] = value instead\n",
      "\n",
      "See the caveats in the documentation: https://pandas.pydata.org/pandas-docs/stable/user_guide/indexing.html#returning-a-view-versus-a-copy\n",
      "  data_toUse_[sL1JetResponse] = data_toUse_[sL1JetEt_forResolutionPlots] / data_toUse_[sRefJetEt]\n"
     ]
    },
    {
     "name": "stdout",
     "output_type": "stream",
     "text": [
      "popt: [6.65562285e+02 9.30535622e-01 1.18881270e-01], \n",
      "pcov: \n",
      "[[ 3.94573025e+02  7.05714219e-04 -2.66057053e-02]\n",
      " [ 7.05714219e-04  7.83984783e-06 -1.26045106e-07]\n",
      " [-2.66057053e-02 -1.26045106e-07  4.75226726e-06]],  \n",
      "poptErr = array([1.98638623e+01, 2.79997283e-03, 2.17996955e-03])\n"
     ]
    },
    {
     "name": "stderr",
     "output_type": "stream",
     "text": [
      "/tmp/ipykernel_40318/26170352.py:60: SettingWithCopyWarning: \n",
      "A value is trying to be set on a copy of a slice from a DataFrame.\n",
      "Try using .loc[row_indexer,col_indexer] = value instead\n",
      "\n",
      "See the caveats in the documentation: https://pandas.pydata.org/pandas-docs/stable/user_guide/indexing.html#returning-a-view-versus-a-copy\n",
      "  data_toUse_[sL1JetResponse] = data_toUse_[sL1JetEt_forResolutionPlots] / data_toUse_[sRefJetEt]\n"
     ]
    },
    {
     "name": "stdout",
     "output_type": "stream",
     "text": [
      "popt: [9.33202936e+02 9.21596248e-01 1.16496800e-01], \n",
      "pcov: \n",
      "[[ 6.91013528e+02  1.05277152e-03 -3.27489195e-02]\n",
      " [ 1.05277152e-03  6.68521925e-06 -1.31364623e-07]\n",
      " [-3.27489195e-02 -1.31364623e-07  4.08838816e-06]],  \n",
      "poptErr = array([2.62871362e+01, 2.58557909e-03, 2.02197630e-03])\n"
     ]
    },
    {
     "name": "stderr",
     "output_type": "stream",
     "text": [
      "/tmp/ipykernel_40318/26170352.py:60: SettingWithCopyWarning: \n",
      "A value is trying to be set on a copy of a slice from a DataFrame.\n",
      "Try using .loc[row_indexer,col_indexer] = value instead\n",
      "\n",
      "See the caveats in the documentation: https://pandas.pydata.org/pandas-docs/stable/user_guide/indexing.html#returning-a-view-versus-a-copy\n",
      "  data_toUse_[sL1JetResponse] = data_toUse_[sL1JetEt_forResolutionPlots] / data_toUse_[sRefJetEt]\n"
     ]
    },
    {
     "name": "stdout",
     "output_type": "stream",
     "text": [
      "popt: [5.51474118e+02 9.07927985e-01 1.11549014e-01], \n",
      "pcov: \n",
      "[[ 3.11704253e+02 -6.33166350e-04 -2.41055027e-02]\n",
      " [-6.33166350e-04  7.88119281e-06  1.28085927e-07]\n",
      " [-2.41055027e-02  1.28085927e-07  4.87600766e-06]],  \n",
      "poptErr = array([1.76551481e+01, 2.80734622e-03, 2.20816840e-03])\n"
     ]
    },
    {
     "name": "stderr",
     "output_type": "stream",
     "text": [
      "/tmp/ipykernel_40318/26170352.py:60: SettingWithCopyWarning: \n",
      "A value is trying to be set on a copy of a slice from a DataFrame.\n",
      "Try using .loc[row_indexer,col_indexer] = value instead\n",
      "\n",
      "See the caveats in the documentation: https://pandas.pydata.org/pandas-docs/stable/user_guide/indexing.html#returning-a-view-versus-a-copy\n",
      "  data_toUse_[sL1JetResponse] = data_toUse_[sL1JetEt_forResolutionPlots] / data_toUse_[sRefJetEt]\n"
     ]
    },
    {
     "name": "stdout",
     "output_type": "stream",
     "text": [
      "popt: [3.30324585e+02 8.99494664e-01 1.06437790e-01], \n",
      "pcov: \n",
      "[[ 1.45387633e+02  1.34943456e-05 -1.76072342e-02]\n",
      " [ 1.34943456e-05  9.42401305e-06 -4.05016164e-09]\n",
      " [-1.76072342e-02 -4.05016164e-09  5.67426264e-06]],  \n",
      "poptErr = array([1.20576794e+01, 3.06985554e-03, 2.38207108e-03])\n"
     ]
    },
    {
     "name": "stderr",
     "output_type": "stream",
     "text": [
      "/tmp/ipykernel_40318/26170352.py:60: SettingWithCopyWarning: \n",
      "A value is trying to be set on a copy of a slice from a DataFrame.\n",
      "Try using .loc[row_indexer,col_indexer] = value instead\n",
      "\n",
      "See the caveats in the documentation: https://pandas.pydata.org/pandas-docs/stable/user_guide/indexing.html#returning-a-view-versus-a-copy\n",
      "  data_toUse_[sL1JetResponse] = data_toUse_[sL1JetEt_forResolutionPlots] / data_toUse_[sRefJetEt]\n"
     ]
    },
    {
     "name": "stdout",
     "output_type": "stream",
     "text": [
      "popt: [1.91558845e+02 8.85410451e-01 9.95307034e-02], \n",
      "pcov: \n",
      "[[ 5.60628674e+01  6.39347618e-04 -1.06233289e-02]\n",
      " [ 6.39347618e-04  9.67188289e-06 -3.25819069e-07]\n",
      " [-1.06233289e-02 -3.25819069e-07  5.53310152e-06]],  \n",
      "poptErr = array([7.48751410e+00, 3.10996509e-03, 2.35225456e-03])\n"
     ]
    },
    {
     "name": "stderr",
     "output_type": "stream",
     "text": [
      "/tmp/ipykernel_40318/26170352.py:60: SettingWithCopyWarning: \n",
      "A value is trying to be set on a copy of a slice from a DataFrame.\n",
      "Try using .loc[row_indexer,col_indexer] = value instead\n",
      "\n",
      "See the caveats in the documentation: https://pandas.pydata.org/pandas-docs/stable/user_guide/indexing.html#returning-a-view-versus-a-copy\n",
      "  data_toUse_[sL1JetResponse] = data_toUse_[sL1JetEt_forResolutionPlots] / data_toUse_[sRefJetEt]\n"
     ]
    },
    {
     "name": "stdout",
     "output_type": "stream",
     "text": [
      "popt: [1.35591669e+03 9.21514828e-01 1.42042010e-01], \n",
      "pcov: \n",
      "[[ 5.64941181e+03 -7.49283679e-02 -2.32811335e-01]\n",
      " [-7.49283679e-02  4.04283698e-05  7.82581702e-06]\n",
      " [-2.32811335e-01  7.82581702e-06  2.45065084e-05]],  \n",
      "poptErr = array([7.51625692e+01, 6.35833074e-03, 4.95040487e-03])\n"
     ]
    },
    {
     "name": "stderr",
     "output_type": "stream",
     "text": [
      "/tmp/ipykernel_40318/26170352.py:60: SettingWithCopyWarning: \n",
      "A value is trying to be set on a copy of a slice from a DataFrame.\n",
      "Try using .loc[row_indexer,col_indexer] = value instead\n",
      "\n",
      "See the caveats in the documentation: https://pandas.pydata.org/pandas-docs/stable/user_guide/indexing.html#returning-a-view-versus-a-copy\n",
      "  data_toUse_[sL1JetResponse] = data_toUse_[sL1JetEt_forResolutionPlots] / data_toUse_[sRefJetEt]\n"
     ]
    },
    {
     "name": "stdout",
     "output_type": "stream",
     "text": [
      "popt: [1.33078724e+03 8.90666555e-01 1.38982758e-01], \n",
      "pcov: \n",
      "[[ 4.46983883e+03 -6.94761921e-02 -1.73357414e-01]\n",
      " [-6.94761921e-02  3.36725306e-05  7.24931767e-06]\n",
      " [-1.73357414e-01  7.24931767e-06  1.81489424e-05]],  \n",
      "poptErr = array([6.68568532e+01, 5.80280368e-03, 4.26015756e-03])\n"
     ]
    },
    {
     "name": "stderr",
     "output_type": "stream",
     "text": [
      "/tmp/ipykernel_40318/26170352.py:60: SettingWithCopyWarning: \n",
      "A value is trying to be set on a copy of a slice from a DataFrame.\n",
      "Try using .loc[row_indexer,col_indexer] = value instead\n",
      "\n",
      "See the caveats in the documentation: https://pandas.pydata.org/pandas-docs/stable/user_guide/indexing.html#returning-a-view-versus-a-copy\n",
      "  data_toUse_[sL1JetResponse] = data_toUse_[sL1JetEt_forResolutionPlots] / data_toUse_[sRefJetEt]\n"
     ]
    },
    {
     "name": "stdout",
     "output_type": "stream",
     "text": [
      "popt: [1.20607744e+03 8.74763266e-01 1.41434337e-01], \n",
      "pcov: \n",
      "[[ 3.06252527e+03 -5.57431325e-02 -1.26606218e-01]\n",
      " [-5.57431325e-02  3.02016178e-05  6.53421527e-06]\n",
      " [-1.26606218e-01  6.53421527e-06  1.48665052e-05]],  \n",
      "poptErr = array([5.53400874e+01, 5.49559985e-03, 3.85571073e-03])\n"
     ]
    },
    {
     "name": "stderr",
     "output_type": "stream",
     "text": [
      "/tmp/ipykernel_40318/26170352.py:60: SettingWithCopyWarning: \n",
      "A value is trying to be set on a copy of a slice from a DataFrame.\n",
      "Try using .loc[row_indexer,col_indexer] = value instead\n",
      "\n",
      "See the caveats in the documentation: https://pandas.pydata.org/pandas-docs/stable/user_guide/indexing.html#returning-a-view-versus-a-copy\n",
      "  data_toUse_[sL1JetResponse] = data_toUse_[sL1JetEt_forResolutionPlots] / data_toUse_[sRefJetEt]\n"
     ]
    },
    {
     "name": "stdout",
     "output_type": "stream",
     "text": [
      "popt: [1.08779155e+03 8.67030076e-01 1.42077249e-01], \n",
      "pcov: \n",
      "[[ 2.03868754e+03 -3.89145320e-02 -8.94495837e-02]\n",
      " [-3.89145320e-02  2.53638152e-05  5.07878973e-06]\n",
      " [-8.94495837e-02  5.07878973e-06  1.17027513e-05]],  \n",
      "poptErr = array([4.51518276e+01, 5.03625012e-03, 3.42092843e-03])\n"
     ]
    },
    {
     "name": "stderr",
     "output_type": "stream",
     "text": [
      "/tmp/ipykernel_40318/26170352.py:60: SettingWithCopyWarning: \n",
      "A value is trying to be set on a copy of a slice from a DataFrame.\n",
      "Try using .loc[row_indexer,col_indexer] = value instead\n",
      "\n",
      "See the caveats in the documentation: https://pandas.pydata.org/pandas-docs/stable/user_guide/indexing.html#returning-a-view-versus-a-copy\n",
      "  data_toUse_[sL1JetResponse] = data_toUse_[sL1JetEt_forResolutionPlots] / data_toUse_[sRefJetEt]\n"
     ]
    },
    {
     "name": "stdout",
     "output_type": "stream",
     "text": [
      "popt: [9.55340761e+02 8.64662484e-01 1.41794798e-01], \n",
      "pcov: \n",
      "[[ 1.12987334e+03 -2.23390931e-02 -5.37717912e-02]\n",
      " [-2.23390931e-02  1.83101585e-05  3.31391779e-06]\n",
      " [-5.37717912e-02  3.31391779e-06  7.98860218e-06]],  \n",
      "poptErr = array([3.36135886e+01, 4.27903709e-03, 2.82641154e-03])\n"
     ]
    },
    {
     "name": "stderr",
     "output_type": "stream",
     "text": [
      "/tmp/ipykernel_40318/26170352.py:60: SettingWithCopyWarning: \n",
      "A value is trying to be set on a copy of a slice from a DataFrame.\n",
      "Try using .loc[row_indexer,col_indexer] = value instead\n",
      "\n",
      "See the caveats in the documentation: https://pandas.pydata.org/pandas-docs/stable/user_guide/indexing.html#returning-a-view-versus-a-copy\n",
      "  data_toUse_[sL1JetResponse] = data_toUse_[sL1JetEt_forResolutionPlots] / data_toUse_[sRefJetEt]\n"
     ]
    },
    {
     "name": "stdout",
     "output_type": "stream",
     "text": [
      "popt: [7.79863036e+02 8.66275022e-01 1.48049997e-01], \n",
      "pcov: \n",
      "[[ 6.36875412e+02 -1.35937041e-02 -4.09918330e-02]\n",
      " [-1.35937041e-02  1.60634785e-05  2.57723833e-06]\n",
      " [-4.09918330e-02  2.57723833e-06  7.79472903e-06]],  \n",
      "poptErr = array([2.52363906e+01, 4.00792696e-03, 2.79190419e-03])\n"
     ]
    },
    {
     "name": "stderr",
     "output_type": "stream",
     "text": [
      "/tmp/ipykernel_40318/26170352.py:60: SettingWithCopyWarning: \n",
      "A value is trying to be set on a copy of a slice from a DataFrame.\n",
      "Try using .loc[row_indexer,col_indexer] = value instead\n",
      "\n",
      "See the caveats in the documentation: https://pandas.pydata.org/pandas-docs/stable/user_guide/indexing.html#returning-a-view-versus-a-copy\n",
      "  data_toUse_[sL1JetResponse] = data_toUse_[sL1JetEt_forResolutionPlots] / data_toUse_[sRefJetEt]\n"
     ]
    },
    {
     "name": "stdout",
     "output_type": "stream",
     "text": [
      "popt: [6.69807964e+02 8.67583649e-01 1.48229752e-01], \n",
      "pcov: \n",
      "[[ 4.09592414e+02 -8.59184138e-03 -3.15798093e-02]\n",
      " [-8.59184138e-03  1.36126130e-05  1.89897259e-06]\n",
      " [-3.15798093e-02  1.89897259e-06  6.99733507e-06]],  \n",
      "poptErr = array([2.02383896e+01, 3.68952748e-03, 2.64524764e-03])\n"
     ]
    },
    {
     "name": "stderr",
     "output_type": "stream",
     "text": [
      "/tmp/ipykernel_40318/26170352.py:60: SettingWithCopyWarning: \n",
      "A value is trying to be set on a copy of a slice from a DataFrame.\n",
      "Try using .loc[row_indexer,col_indexer] = value instead\n",
      "\n",
      "See the caveats in the documentation: https://pandas.pydata.org/pandas-docs/stable/user_guide/indexing.html#returning-a-view-versus-a-copy\n",
      "  data_toUse_[sL1JetResponse] = data_toUse_[sL1JetEt_forResolutionPlots] / data_toUse_[sRefJetEt]\n"
     ]
    },
    {
     "name": "stdout",
     "output_type": "stream",
     "text": [
      "popt: [5.79670376e+02 8.72867035e-01 1.48731696e-01], \n",
      "pcov: \n",
      "[[ 2.33445299e+02 -4.67923600e-03 -2.09785926e-02]\n",
      " [-4.67923600e-03  1.02881895e-05  1.19626685e-06]\n",
      " [-2.09785926e-02  1.19626685e-06  5.39510847e-06]],  \n",
      "poptErr = array([1.52789168e+01, 3.20752077e-03, 2.32273728e-03])\n"
     ]
    },
    {
     "name": "stderr",
     "output_type": "stream",
     "text": [
      "/tmp/ipykernel_40318/26170352.py:60: SettingWithCopyWarning: \n",
      "A value is trying to be set on a copy of a slice from a DataFrame.\n",
      "Try using .loc[row_indexer,col_indexer] = value instead\n",
      "\n",
      "See the caveats in the documentation: https://pandas.pydata.org/pandas-docs/stable/user_guide/indexing.html#returning-a-view-versus-a-copy\n",
      "  data_toUse_[sL1JetResponse] = data_toUse_[sL1JetEt_forResolutionPlots] / data_toUse_[sRefJetEt]\n"
     ]
    },
    {
     "name": "stdout",
     "output_type": "stream",
     "text": [
      "popt: [5.07565404e+02 8.80144955e-01 1.46874122e-01], \n",
      "pcov: \n",
      "[[ 1.54044349e+02 -3.06119037e-03 -1.56617510e-02]\n",
      " [-3.06119037e-03  8.55245509e-06  8.84436036e-07]\n",
      " [-1.56617510e-02  8.84436036e-07  4.53649101e-06]],  \n",
      "poptErr = array([1.24114604e+01, 2.92445808e-03, 2.12990399e-03])\n"
     ]
    },
    {
     "name": "stderr",
     "output_type": "stream",
     "text": [
      "/tmp/ipykernel_40318/26170352.py:60: SettingWithCopyWarning: \n",
      "A value is trying to be set on a copy of a slice from a DataFrame.\n",
      "Try using .loc[row_indexer,col_indexer] = value instead\n",
      "\n",
      "See the caveats in the documentation: https://pandas.pydata.org/pandas-docs/stable/user_guide/indexing.html#returning-a-view-versus-a-copy\n",
      "  data_toUse_[sL1JetResponse] = data_toUse_[sL1JetEt_forResolutionPlots] / data_toUse_[sRefJetEt]\n"
     ]
    },
    {
     "name": "stdout",
     "output_type": "stream",
     "text": [
      "popt: [4.40916007e+02 8.84503633e-01 1.42070243e-01], \n",
      "pcov: \n",
      "[[ 1.06941313e+02 -1.18148121e-03 -1.23435805e-02]\n",
      " [-1.18148121e-03  7.18707846e-06  3.77658072e-07]\n",
      " [-1.23435805e-02  3.77658072e-07  3.98631552e-06]],  \n",
      "poptErr = array([1.03412433e+01, 2.68087271e-03, 1.99657595e-03])\n"
     ]
    },
    {
     "name": "stderr",
     "output_type": "stream",
     "text": [
      "/tmp/ipykernel_40318/26170352.py:60: SettingWithCopyWarning: \n",
      "A value is trying to be set on a copy of a slice from a DataFrame.\n",
      "Try using .loc[row_indexer,col_indexer] = value instead\n",
      "\n",
      "See the caveats in the documentation: https://pandas.pydata.org/pandas-docs/stable/user_guide/indexing.html#returning-a-view-versus-a-copy\n",
      "  data_toUse_[sL1JetResponse] = data_toUse_[sL1JetEt_forResolutionPlots] / data_toUse_[sRefJetEt]\n"
     ]
    },
    {
     "name": "stdout",
     "output_type": "stream",
     "text": [
      "popt: [3.87026609e+02 8.88539464e-01 1.40824700e-01], \n",
      "pcov: \n",
      "[[ 7.63553130e+01 -8.00092137e-04 -1.02054134e-02]\n",
      " [-8.00092137e-04  6.44657555e-06  2.86608438e-07]\n",
      " [-1.02054134e-02  2.86608438e-07  3.72376564e-06]],  \n",
      "poptErr = array([8.73815272e+00, 2.53901074e-03, 1.92970610e-03])\n"
     ]
    },
    {
     "name": "stderr",
     "output_type": "stream",
     "text": [
      "/tmp/ipykernel_40318/26170352.py:60: SettingWithCopyWarning: \n",
      "A value is trying to be set on a copy of a slice from a DataFrame.\n",
      "Try using .loc[row_indexer,col_indexer] = value instead\n",
      "\n",
      "See the caveats in the documentation: https://pandas.pydata.org/pandas-docs/stable/user_guide/indexing.html#returning-a-view-versus-a-copy\n",
      "  data_toUse_[sL1JetResponse] = data_toUse_[sL1JetEt_forResolutionPlots] / data_toUse_[sRefJetEt]\n"
     ]
    },
    {
     "name": "stdout",
     "output_type": "stream",
     "text": [
      "popt: [3.45126678e+02 8.97183906e-01 1.40112108e-01], \n",
      "pcov: \n",
      "[[ 6.51454056e+01 -7.61838468e-04 -9.47637640e-03]\n",
      " [-7.61838468e-04  6.93847042e-06  3.05734996e-07]\n",
      " [-9.47637640e-03  3.05734996e-07  3.85579262e-06]],  \n",
      "poptErr = array([8.07127038e+00, 2.63409765e-03, 1.96361723e-03])\n"
     ]
    },
    {
     "name": "stderr",
     "output_type": "stream",
     "text": [
      "/tmp/ipykernel_40318/26170352.py:60: SettingWithCopyWarning: \n",
      "A value is trying to be set on a copy of a slice from a DataFrame.\n",
      "Try using .loc[row_indexer,col_indexer] = value instead\n",
      "\n",
      "See the caveats in the documentation: https://pandas.pydata.org/pandas-docs/stable/user_guide/indexing.html#returning-a-view-versus-a-copy\n",
      "  data_toUse_[sL1JetResponse] = data_toUse_[sL1JetEt_forResolutionPlots] / data_toUse_[sRefJetEt]\n"
     ]
    },
    {
     "name": "stdout",
     "output_type": "stream",
     "text": [
      "popt: [4.92575055e+02 9.03125697e-01 1.32032198e-01], \n",
      "pcov: \n",
      "[[ 1.19228372e+02 -7.19527629e-04 -1.13956875e-02]\n",
      " [-7.19527629e-04  5.53324370e-06  1.91623046e-07]\n",
      " [-1.13956875e-02  1.91623046e-07  3.05789225e-06]],  \n",
      "poptErr = array([1.09191745e+01, 2.35228478e-03, 1.74868300e-03])\n"
     ]
    },
    {
     "name": "stderr",
     "output_type": "stream",
     "text": [
      "/tmp/ipykernel_40318/26170352.py:60: SettingWithCopyWarning: \n",
      "A value is trying to be set on a copy of a slice from a DataFrame.\n",
      "Try using .loc[row_indexer,col_indexer] = value instead\n",
      "\n",
      "See the caveats in the documentation: https://pandas.pydata.org/pandas-docs/stable/user_guide/indexing.html#returning-a-view-versus-a-copy\n",
      "  data_toUse_[sL1JetResponse] = data_toUse_[sL1JetEt_forResolutionPlots] / data_toUse_[sRefJetEt]\n"
     ]
    },
    {
     "name": "stdout",
     "output_type": "stream",
     "text": [
      "popt: [3.84307514e+02 9.07004751e-01 1.29653098e-01], \n",
      "pcov: \n",
      "[[ 8.44300886e+01  1.69169641e-04 -1.04038827e-02]\n",
      " [ 1.69169641e-04  6.13235825e-06 -6.30977824e-08]\n",
      " [-1.04038827e-02 -6.30977824e-08  3.52149093e-06]],  \n",
      "poptErr = array([9.18858469e+00, 2.47635988e-03, 1.87656360e-03])\n"
     ]
    },
    {
     "name": "stderr",
     "output_type": "stream",
     "text": [
      "/tmp/ipykernel_40318/26170352.py:60: SettingWithCopyWarning: \n",
      "A value is trying to be set on a copy of a slice from a DataFrame.\n",
      "Try using .loc[row_indexer,col_indexer] = value instead\n",
      "\n",
      "See the caveats in the documentation: https://pandas.pydata.org/pandas-docs/stable/user_guide/indexing.html#returning-a-view-versus-a-copy\n",
      "  data_toUse_[sL1JetResponse] = data_toUse_[sL1JetEt_forResolutionPlots] / data_toUse_[sRefJetEt]\n"
     ]
    },
    {
     "name": "stdout",
     "output_type": "stream",
     "text": [
      "popt: [3.23997209e+02 9.12845520e-01 1.22163971e-01], \n",
      "pcov: \n",
      "[[ 7.45570509e+01 -3.35116016e-04 -1.04795625e-02]\n",
      " [-3.35116016e-04  6.65601131e-06  1.26158626e-07]\n",
      " [-1.04795625e-02  1.26158626e-07  3.95269002e-06]],  \n",
      "poptErr = array([8.63464249e+00, 2.57992467e-03, 1.98813732e-03])\n"
     ]
    },
    {
     "name": "stderr",
     "output_type": "stream",
     "text": [
      "/tmp/ipykernel_40318/26170352.py:60: SettingWithCopyWarning: \n",
      "A value is trying to be set on a copy of a slice from a DataFrame.\n",
      "Try using .loc[row_indexer,col_indexer] = value instead\n",
      "\n",
      "See the caveats in the documentation: https://pandas.pydata.org/pandas-docs/stable/user_guide/indexing.html#returning-a-view-versus-a-copy\n",
      "  data_toUse_[sL1JetResponse] = data_toUse_[sL1JetEt_forResolutionPlots] / data_toUse_[sRefJetEt]\n"
     ]
    },
    {
     "name": "stdout",
     "output_type": "stream",
     "text": [
      "popt: [2.69798909e+02 9.15090661e-01 1.20203072e-01], \n",
      "pcov: \n",
      "[[ 5.72278404e+01 -2.71134492e-04 -9.50889698e-03]\n",
      " [-2.71134492e-04  7.16728149e-06  1.16495424e-07]\n",
      " [-9.50889698e-03  1.16495424e-07  4.25170492e-06]],  \n",
      "poptErr = array([7.56490849e+00, 2.67717790e-03, 2.06196628e-03])\n"
     ]
    },
    {
     "name": "stderr",
     "output_type": "stream",
     "text": [
      "/tmp/ipykernel_40318/26170352.py:60: SettingWithCopyWarning: \n",
      "A value is trying to be set on a copy of a slice from a DataFrame.\n",
      "Try using .loc[row_indexer,col_indexer] = value instead\n",
      "\n",
      "See the caveats in the documentation: https://pandas.pydata.org/pandas-docs/stable/user_guide/indexing.html#returning-a-view-versus-a-copy\n",
      "  data_toUse_[sL1JetResponse] = data_toUse_[sL1JetEt_forResolutionPlots] / data_toUse_[sRefJetEt]\n"
     ]
    },
    {
     "name": "stdout",
     "output_type": "stream",
     "text": [
      "popt: [2.22567161e+02 9.15576370e-01 1.12015037e-01], \n",
      "pcov: \n",
      "[[ 4.28459187e+01 -1.18928345e-04 -7.82401871e-03]\n",
      " [-1.18928345e-04  6.92918217e-06  5.76078050e-08]\n",
      " [-7.82401871e-03  5.76078050e-08  3.94250662e-06]],  \n",
      "poptErr = array([6.54567940e+00, 2.63233398e-03, 1.98557463e-03])\n"
     ]
    },
    {
     "name": "stderr",
     "output_type": "stream",
     "text": [
      "/tmp/ipykernel_40318/26170352.py:60: SettingWithCopyWarning: \n",
      "A value is trying to be set on a copy of a slice from a DataFrame.\n",
      "Try using .loc[row_indexer,col_indexer] = value instead\n",
      "\n",
      "See the caveats in the documentation: https://pandas.pydata.org/pandas-docs/stable/user_guide/indexing.html#returning-a-view-versus-a-copy\n",
      "  data_toUse_[sL1JetResponse] = data_toUse_[sL1JetEt_forResolutionPlots] / data_toUse_[sRefJetEt]\n"
     ]
    },
    {
     "name": "stdout",
     "output_type": "stream",
     "text": [
      "popt: [1.76982466e+02 9.23497054e-01 1.15381433e-01], \n",
      "pcov: \n",
      "[[ 2.59976909e+01  2.25200150e-04 -6.24743775e-03]\n",
      " [ 2.25200150e-04  7.04543084e-06 -1.34017445e-07]\n",
      " [-6.24743775e-03 -1.34017445e-07  4.09647228e-06]],  \n",
      "poptErr = array([5.09879308e+00, 2.65432305e-03, 2.02397438e-03])\n"
     ]
    },
    {
     "name": "stderr",
     "output_type": "stream",
     "text": [
      "/tmp/ipykernel_40318/26170352.py:60: SettingWithCopyWarning: \n",
      "A value is trying to be set on a copy of a slice from a DataFrame.\n",
      "Try using .loc[row_indexer,col_indexer] = value instead\n",
      "\n",
      "See the caveats in the documentation: https://pandas.pydata.org/pandas-docs/stable/user_guide/indexing.html#returning-a-view-versus-a-copy\n",
      "  data_toUse_[sL1JetResponse] = data_toUse_[sL1JetEt_forResolutionPlots] / data_toUse_[sRefJetEt]\n"
     ]
    },
    {
     "name": "stdout",
     "output_type": "stream",
     "text": [
      "popt: [1.61040934e+02 9.22588514e-01 1.06915329e-01], \n",
      "pcov: \n",
      "[[ 2.70090922e+01  2.24463462e-04 -6.68362923e-03]\n",
      " [ 2.24463462e-04  7.51615357e-06 -1.50188271e-07]\n",
      " [-6.68362923e-03 -1.50188271e-07  4.45352793e-06]],  \n",
      "poptErr = array([5.19702725e+00, 2.74156043e-03, 2.11033835e-03])\n"
     ]
    },
    {
     "name": "stderr",
     "output_type": "stream",
     "text": [
      "/tmp/ipykernel_40318/26170352.py:60: SettingWithCopyWarning: \n",
      "A value is trying to be set on a copy of a slice from a DataFrame.\n",
      "Try using .loc[row_indexer,col_indexer] = value instead\n",
      "\n",
      "See the caveats in the documentation: https://pandas.pydata.org/pandas-docs/stable/user_guide/indexing.html#returning-a-view-versus-a-copy\n",
      "  data_toUse_[sL1JetResponse] = data_toUse_[sL1JetEt_forResolutionPlots] / data_toUse_[sRefJetEt]\n"
     ]
    },
    {
     "name": "stdout",
     "output_type": "stream",
     "text": [
      "popt: [1.16874917e+02 9.22215153e-01 1.05788822e-01], \n",
      "pcov: \n",
      "[[ 3.55368590e+01  6.72669226e-04 -1.23655508e-02]\n",
      " [ 6.72669226e-04  1.80861567e-05 -6.10356360e-07]\n",
      " [-1.23655508e-02 -6.10356360e-07  1.12427233e-05]],  \n",
      "poptErr = array([5.96127998e+00, 4.25278224e-03, 3.35301704e-03])\n"
     ]
    },
    {
     "name": "stderr",
     "output_type": "stream",
     "text": [
      "/tmp/ipykernel_40318/26170352.py:60: SettingWithCopyWarning: \n",
      "A value is trying to be set on a copy of a slice from a DataFrame.\n",
      "Try using .loc[row_indexer,col_indexer] = value instead\n",
      "\n",
      "See the caveats in the documentation: https://pandas.pydata.org/pandas-docs/stable/user_guide/indexing.html#returning-a-view-versus-a-copy\n",
      "  data_toUse_[sL1JetResponse] = data_toUse_[sL1JetEt_forResolutionPlots] / data_toUse_[sRefJetEt]\n"
     ]
    },
    {
     "name": "stdout",
     "output_type": "stream",
     "text": [
      "popt: [99.70620422  0.92853005  0.10357993], \n",
      "pcov: \n",
      "[[ 1.50465523e+01  2.57910602e-04 -5.74687579e-03]\n",
      " [ 2.57910602e-04  1.03425525e-05 -2.66951054e-07]\n",
      " [-5.74687579e-03 -2.66951054e-07  5.99300468e-06]],  \n",
      "poptErr = array([3.87898857e+00, 3.21598391e-03, 2.44806141e-03])\n"
     ]
    },
    {
     "name": "stderr",
     "output_type": "stream",
     "text": [
      "/tmp/ipykernel_40318/26170352.py:60: SettingWithCopyWarning: \n",
      "A value is trying to be set on a copy of a slice from a DataFrame.\n",
      "Try using .loc[row_indexer,col_indexer] = value instead\n",
      "\n",
      "See the caveats in the documentation: https://pandas.pydata.org/pandas-docs/stable/user_guide/indexing.html#returning-a-view-versus-a-copy\n",
      "  data_toUse_[sL1JetResponse] = data_toUse_[sL1JetEt_forResolutionPlots] / data_toUse_[sRefJetEt]\n"
     ]
    },
    {
     "name": "stdout",
     "output_type": "stream",
     "text": [
      "popt: [77.7028008   0.92762594  0.10399353], \n",
      "pcov: \n",
      "[[ 1.48598914e+01 -1.39088645e-04 -7.97173212e-03]\n",
      " [-1.39088645e-04  1.69537471e-05  4.01338986e-07]\n",
      " [-7.97173212e-03  4.01338986e-07  1.10692159e-05]],  \n",
      "poptErr = array([3.85485297e+00, 4.11749282e-03, 3.32704311e-03])\n"
     ]
    },
    {
     "name": "stderr",
     "output_type": "stream",
     "text": [
      "/tmp/ipykernel_40318/26170352.py:60: SettingWithCopyWarning: \n",
      "A value is trying to be set on a copy of a slice from a DataFrame.\n",
      "Try using .loc[row_indexer,col_indexer] = value instead\n",
      "\n",
      "See the caveats in the documentation: https://pandas.pydata.org/pandas-docs/stable/user_guide/indexing.html#returning-a-view-versus-a-copy\n",
      "  data_toUse_[sL1JetResponse] = data_toUse_[sL1JetEt_forResolutionPlots] / data_toUse_[sRefJetEt]\n"
     ]
    },
    {
     "name": "stdout",
     "output_type": "stream",
     "text": [
      "popt: [63.02658337  0.91693167  0.1004688 ], \n",
      "pcov: \n",
      "[[ 1.01771287e+01  7.72556771e-04 -6.61618157e-03]\n",
      " [ 7.72556771e-04  1.60035563e-05 -1.31293477e-06]\n",
      " [-6.61618157e-03 -1.31293477e-06  1.07652565e-05]],  \n",
      "poptErr = array([3.19016123, 0.00400044, 0.00328105])\n"
     ]
    },
    {
     "name": "stderr",
     "output_type": "stream",
     "text": [
      "/tmp/ipykernel_40318/26170352.py:60: SettingWithCopyWarning: \n",
      "A value is trying to be set on a copy of a slice from a DataFrame.\n",
      "Try using .loc[row_indexer,col_indexer] = value instead\n",
      "\n",
      "See the caveats in the documentation: https://pandas.pydata.org/pandas-docs/stable/user_guide/indexing.html#returning-a-view-versus-a-copy\n",
      "  data_toUse_[sL1JetResponse] = data_toUse_[sL1JetEt_forResolutionPlots] / data_toUse_[sRefJetEt]\n"
     ]
    },
    {
     "name": "stdout",
     "output_type": "stream",
     "text": [
      "popt: [50.60071355  0.92940336  0.09355218], \n",
      "pcov: \n",
      "[[ 9.92754992e+00  1.32592410e-03 -7.12809145e-03]\n",
      " [ 1.32592410e-03  2.17690290e-05 -2.37514365e-06]\n",
      " [-7.12809145e-03 -2.37514365e-06  1.34004060e-05]],  \n",
      "poptErr = array([3.15080147, 0.00466573, 0.00366066])\n"
     ]
    },
    {
     "name": "stderr",
     "output_type": "stream",
     "text": [
      "/tmp/ipykernel_40318/26170352.py:60: SettingWithCopyWarning: \n",
      "A value is trying to be set on a copy of a slice from a DataFrame.\n",
      "Try using .loc[row_indexer,col_indexer] = value instead\n",
      "\n",
      "See the caveats in the documentation: https://pandas.pydata.org/pandas-docs/stable/user_guide/indexing.html#returning-a-view-versus-a-copy\n",
      "  data_toUse_[sL1JetResponse] = data_toUse_[sL1JetEt_forResolutionPlots] / data_toUse_[sRefJetEt]\n"
     ]
    },
    {
     "name": "stdout",
     "output_type": "stream",
     "text": [
      "popt: [80.62617528  0.92886422  0.0908896 ], \n",
      "pcov: \n",
      "[[ 2.23856906e+01  1.33327190e-03 -9.64354483e-03]\n",
      " [ 1.33327190e-03  1.79658811e-05 -1.49587599e-06]\n",
      " [-9.64354483e-03 -1.49587599e-06  1.09407822e-05]],  \n",
      "poptErr = array([4.73135188e+00, 4.23861782e-03, 3.30768533e-03])\n"
     ]
    },
    {
     "name": "stderr",
     "output_type": "stream",
     "text": [
      "/tmp/ipykernel_40318/26170352.py:60: SettingWithCopyWarning: \n",
      "A value is trying to be set on a copy of a slice from a DataFrame.\n",
      "Try using .loc[row_indexer,col_indexer] = value instead\n",
      "\n",
      "See the caveats in the documentation: https://pandas.pydata.org/pandas-docs/stable/user_guide/indexing.html#returning-a-view-versus-a-copy\n",
      "  data_toUse_[sL1JetResponse] = data_toUse_[sL1JetEt_forResolutionPlots] / data_toUse_[sRefJetEt]\n"
     ]
    },
    {
     "name": "stdout",
     "output_type": "stream",
     "text": [
      "popt: [43.79826301  0.9175389   0.08688283], \n",
      "pcov: \n",
      "[[ 1.27815936e+01  1.11457659e-03 -1.03550176e-02]\n",
      " [ 1.11457659e-03  3.19700235e-05 -2.03835795e-06]\n",
      " [-1.03550176e-02 -2.03835795e-06  2.13557005e-05]],  \n",
      "poptErr = array([3.57513547, 0.0056542 , 0.00462122])\n"
     ]
    },
    {
     "name": "stderr",
     "output_type": "stream",
     "text": [
      "/tmp/ipykernel_40318/26170352.py:60: SettingWithCopyWarning: \n",
      "A value is trying to be set on a copy of a slice from a DataFrame.\n",
      "Try using .loc[row_indexer,col_indexer] = value instead\n",
      "\n",
      "See the caveats in the documentation: https://pandas.pydata.org/pandas-docs/stable/user_guide/indexing.html#returning-a-view-versus-a-copy\n",
      "  data_toUse_[sL1JetResponse] = data_toUse_[sL1JetEt_forResolutionPlots] / data_toUse_[sRefJetEt]\n"
     ]
    },
    {
     "name": "stdout",
     "output_type": "stream",
     "text": [
      "popt: [25.10613059  0.9227716   0.08416986], \n",
      "pcov: \n",
      "[[ 5.42471951e+00 -4.65861513e-04 -7.20744919e-03]\n",
      " [-4.65861513e-04  3.77597461e-05  1.74849764e-06]\n",
      " [-7.20744919e-03  1.74849764e-06  2.44952100e-05]],  \n",
      "poptErr = array([2.32910273, 0.0061449 , 0.00494926])\n"
     ]
    },
    {
     "name": "stderr",
     "output_type": "stream",
     "text": [
      "/tmp/ipykernel_40318/26170352.py:60: SettingWithCopyWarning: \n",
      "A value is trying to be set on a copy of a slice from a DataFrame.\n",
      "Try using .loc[row_indexer,col_indexer] = value instead\n",
      "\n",
      "See the caveats in the documentation: https://pandas.pydata.org/pandas-docs/stable/user_guide/indexing.html#returning-a-view-versus-a-copy\n",
      "  data_toUse_[sL1JetResponse] = data_toUse_[sL1JetEt_forResolutionPlots] / data_toUse_[sRefJetEt]\n"
     ]
    },
    {
     "name": "stdout",
     "output_type": "stream",
     "text": [
      "popt: [23.05953645  0.91431214  0.08333713], \n",
      "pcov: \n",
      "[[ 3.63804267e+00  3.62214012e-04 -5.84277907e-03]\n",
      " [ 3.62214012e-04  2.91247643e-05 -6.42138877e-07]\n",
      " [-5.84277907e-03 -6.42138877e-07  2.23083724e-05]],  \n",
      "poptErr = array([1.90736537, 0.00539674, 0.00472317])\n"
     ]
    },
    {
     "name": "stderr",
     "output_type": "stream",
     "text": [
      "/tmp/ipykernel_40318/26170352.py:60: SettingWithCopyWarning: \n",
      "A value is trying to be set on a copy of a slice from a DataFrame.\n",
      "Try using .loc[row_indexer,col_indexer] = value instead\n",
      "\n",
      "See the caveats in the documentation: https://pandas.pydata.org/pandas-docs/stable/user_guide/indexing.html#returning-a-view-versus-a-copy\n",
      "  data_toUse_[sL1JetResponse] = data_toUse_[sL1JetEt_forResolutionPlots] / data_toUse_[sRefJetEt]\n"
     ]
    },
    {
     "name": "stdout",
     "output_type": "stream",
     "text": [
      "popt: [3.06320413 0.92697344 0.20009093], \n",
      "pcov: \n",
      "[[ 0.35181324 -0.00264387 -0.0207495 ]\n",
      " [-0.00264387  0.00516663  0.00355664]\n",
      " [-0.0207495   0.00355664  0.00547989]],  \n",
      "poptErr = array([0.59313847, 0.07187928, 0.07402629])\n"
     ]
    },
    {
     "name": "stderr",
     "output_type": "stream",
     "text": [
      "/tmp/ipykernel_40318/26170352.py:60: SettingWithCopyWarning: \n",
      "A value is trying to be set on a copy of a slice from a DataFrame.\n",
      "Try using .loc[row_indexer,col_indexer] = value instead\n",
      "\n",
      "See the caveats in the documentation: https://pandas.pydata.org/pandas-docs/stable/user_guide/indexing.html#returning-a-view-versus-a-copy\n",
      "  data_toUse_[sL1JetResponse] = data_toUse_[sL1JetEt_forResolutionPlots] / data_toUse_[sRefJetEt]\n"
     ]
    },
    {
     "name": "stdout",
     "output_type": "stream",
     "text": [
      "popt: [1.36208222 0.89070295 0.14666161], \n",
      "pcov: \n",
      "[[ 0.1032058  -0.00163199 -0.02046662]\n",
      " [-0.00163199  0.00362592  0.00329924]\n",
      " [-0.02046662  0.00329924  0.0102525 ]],  \n",
      "poptErr = array([0.32125659, 0.06021562, 0.10125463])\n"
     ]
    },
    {
     "name": "stderr",
     "output_type": "stream",
     "text": [
      "/tmp/ipykernel_40318/26170352.py:60: SettingWithCopyWarning: \n",
      "A value is trying to be set on a copy of a slice from a DataFrame.\n",
      "Try using .loc[row_indexer,col_indexer] = value instead\n",
      "\n",
      "See the caveats in the documentation: https://pandas.pydata.org/pandas-docs/stable/user_guide/indexing.html#returning-a-view-versus-a-copy\n",
      "  data_toUse_[sL1JetResponse] = data_toUse_[sL1JetEt_forResolutionPlots] / data_toUse_[sRefJetEt]\n",
      "/home/siddhesh/anaconda3/envs/ana_htoaa/lib/python3.10/site-packages/scipy/optimize/_minpack_py.py:881: OptimizeWarning: Covariance of the parameters could not be estimated\n",
      "  warnings.warn('Covariance of the parameters could not be estimated',\n"
     ]
    },
    {
     "name": "stdout",
     "output_type": "stream",
     "text": [
      "popt: [1.00000000e+00 7.06881201e-01 3.79622503e+03], \n",
      "pcov: \n",
      "[[inf inf inf]\n",
      " [inf inf inf]\n",
      " [inf inf inf]],  \n",
      "poptErr = array([inf, inf, inf])\n"
     ]
    },
    {
     "name": "stderr",
     "output_type": "stream",
     "text": [
      "/tmp/ipykernel_40318/26170352.py:60: SettingWithCopyWarning: \n",
      "A value is trying to be set on a copy of a slice from a DataFrame.\n",
      "Try using .loc[row_indexer,col_indexer] = value instead\n",
      "\n",
      "See the caveats in the documentation: https://pandas.pydata.org/pandas-docs/stable/user_guide/indexing.html#returning-a-view-versus-a-copy\n",
      "  data_toUse_[sL1JetResponse] = data_toUse_[sL1JetEt_forResolutionPlots] / data_toUse_[sRefJetEt]\n"
     ]
    },
    {
     "name": "stdout",
     "output_type": "stream",
     "text": [
      "popt: [6.61899369e+02 1.39275008e+00 2.88839477e-01], \n",
      "pcov: \n",
      "[[ 1.52025606e+03 -2.39153498e-02 -2.93621884e-01]\n",
      " [-2.39153498e-02  2.13593192e-04 -8.51247003e-06]\n",
      " [-2.93621884e-01 -8.51247003e-06  1.51550621e-04]],  \n",
      "poptErr = array([3.89904612e+01, 1.46148278e-02, 1.23105898e-02])\n"
     ]
    },
    {
     "name": "stderr",
     "output_type": "stream",
     "text": [
      "/tmp/ipykernel_40318/26170352.py:60: SettingWithCopyWarning: \n",
      "A value is trying to be set on a copy of a slice from a DataFrame.\n",
      "Try using .loc[row_indexer,col_indexer] = value instead\n",
      "\n",
      "See the caveats in the documentation: https://pandas.pydata.org/pandas-docs/stable/user_guide/indexing.html#returning-a-view-versus-a-copy\n",
      "  data_toUse_[sL1JetResponse] = data_toUse_[sL1JetEt_forResolutionPlots] / data_toUse_[sRefJetEt]\n"
     ]
    },
    {
     "name": "stdout",
     "output_type": "stream",
     "text": [
      "popt: [8.84763613e+02 1.32642482e+00 2.42545937e-01], \n",
      "pcov: \n",
      "[[ 3.77808768e+03 -1.45546514e-01 -3.77252611e-01]\n",
      " [-1.45546514e-01  2.12255158e-04  3.59296931e-05]\n",
      " [-3.77252611e-01  3.59296931e-05  1.09931139e-04]],  \n",
      "poptErr = array([6.14661507e+01, 1.45689793e-02, 1.04848051e-02])\n"
     ]
    },
    {
     "name": "stderr",
     "output_type": "stream",
     "text": [
      "/tmp/ipykernel_40318/26170352.py:60: SettingWithCopyWarning: \n",
      "A value is trying to be set on a copy of a slice from a DataFrame.\n",
      "Try using .loc[row_indexer,col_indexer] = value instead\n",
      "\n",
      "See the caveats in the documentation: https://pandas.pydata.org/pandas-docs/stable/user_guide/indexing.html#returning-a-view-versus-a-copy\n",
      "  data_toUse_[sL1JetResponse] = data_toUse_[sL1JetEt_forResolutionPlots] / data_toUse_[sRefJetEt]\n"
     ]
    },
    {
     "name": "stdout",
     "output_type": "stream",
     "text": [
      "popt: [1.12196620e+03 1.26095721e+00 2.19159187e-01], \n",
      "pcov: \n",
      "[[ 6.47319449e+03 -2.40156543e-01 -4.15360393e-01]\n",
      " [-2.40156543e-01  2.00024327e-04  4.56540361e-05]\n",
      " [-4.15360393e-01  4.56540361e-05  8.36844650e-05]],  \n",
      "poptErr = array([8.04561650e+01, 1.41429957e-02, 9.14792135e-03])\n"
     ]
    },
    {
     "name": "stderr",
     "output_type": "stream",
     "text": [
      "/tmp/ipykernel_40318/26170352.py:60: SettingWithCopyWarning: \n",
      "A value is trying to be set on a copy of a slice from a DataFrame.\n",
      "Try using .loc[row_indexer,col_indexer] = value instead\n",
      "\n",
      "See the caveats in the documentation: https://pandas.pydata.org/pandas-docs/stable/user_guide/indexing.html#returning-a-view-versus-a-copy\n",
      "  data_toUse_[sL1JetResponse] = data_toUse_[sL1JetEt_forResolutionPlots] / data_toUse_[sRefJetEt]\n"
     ]
    },
    {
     "name": "stdout",
     "output_type": "stream",
     "text": [
      "popt: [1.25365437e+03 1.19046389e+00 2.39764455e-01], \n",
      "pcov: \n",
      "[[ 4.60318485e+03 -1.07466288e-01 -3.32380881e-01]\n",
      " [-1.07466288e-01  1.21988420e-04  1.79638878e-05]\n",
      " [-3.32380881e-01  1.79638878e-05  6.78625719e-05]],  \n",
      "poptErr = array([6.78467748e+01, 1.10448368e-02, 8.23787424e-03])\n"
     ]
    },
    {
     "name": "stderr",
     "output_type": "stream",
     "text": [
      "/tmp/ipykernel_40318/26170352.py:60: SettingWithCopyWarning: \n",
      "A value is trying to be set on a copy of a slice from a DataFrame.\n",
      "Try using .loc[row_indexer,col_indexer] = value instead\n",
      "\n",
      "See the caveats in the documentation: https://pandas.pydata.org/pandas-docs/stable/user_guide/indexing.html#returning-a-view-versus-a-copy\n",
      "  data_toUse_[sL1JetResponse] = data_toUse_[sL1JetEt_forResolutionPlots] / data_toUse_[sRefJetEt]\n"
     ]
    },
    {
     "name": "stdout",
     "output_type": "stream",
     "text": [
      "popt: [1.37191222e+03 1.14350004e+00 2.49475353e-01], \n",
      "pcov: \n",
      "[[ 3.95594152e+03 -5.90269802e-02 -2.79249863e-01]\n",
      " [-5.90269802e-02  9.25787604e-05  7.89362573e-06]\n",
      " [-2.79249863e-01  7.89362573e-06  5.50015911e-05]],  \n",
      "poptErr = array([6.28962759e+01, 9.62178572e-03, 7.41630576e-03])\n"
     ]
    },
    {
     "name": "stderr",
     "output_type": "stream",
     "text": [
      "/tmp/ipykernel_40318/26170352.py:60: SettingWithCopyWarning: \n",
      "A value is trying to be set on a copy of a slice from a DataFrame.\n",
      "Try using .loc[row_indexer,col_indexer] = value instead\n",
      "\n",
      "See the caveats in the documentation: https://pandas.pydata.org/pandas-docs/stable/user_guide/indexing.html#returning-a-view-versus-a-copy\n",
      "  data_toUse_[sL1JetResponse] = data_toUse_[sL1JetEt_forResolutionPlots] / data_toUse_[sRefJetEt]\n"
     ]
    },
    {
     "name": "stdout",
     "output_type": "stream",
     "text": [
      "popt: [1.56067756e+03 1.13476775e+00 2.08861718e-01], \n",
      "pcov: \n",
      "[[ 8.75927559e+03 -2.37847155e-01 -3.51640627e-01]\n",
      " [-2.37847155e-01  1.33818398e-04  3.14710204e-05]\n",
      " [-3.51640627e-01  3.14710204e-05  4.78711096e-05]],  \n",
      "poptErr = array([9.35910016e+01, 1.15679902e-02, 6.91889512e-03])\n"
     ]
    },
    {
     "name": "stderr",
     "output_type": "stream",
     "text": [
      "/tmp/ipykernel_40318/26170352.py:60: SettingWithCopyWarning: \n",
      "A value is trying to be set on a copy of a slice from a DataFrame.\n",
      "Try using .loc[row_indexer,col_indexer] = value instead\n",
      "\n",
      "See the caveats in the documentation: https://pandas.pydata.org/pandas-docs/stable/user_guide/indexing.html#returning-a-view-versus-a-copy\n",
      "  data_toUse_[sL1JetResponse] = data_toUse_[sL1JetEt_forResolutionPlots] / data_toUse_[sRefJetEt]\n"
     ]
    },
    {
     "name": "stdout",
     "output_type": "stream",
     "text": [
      "popt: [1.54634695e+03 1.08381435e+00 2.48695703e-01], \n",
      "pcov: \n",
      "[[ 2.74097334e+03 -2.31510453e-02 -1.68768384e-01]\n",
      " [-2.31510453e-02  4.94148731e-05  2.29404561e-06]\n",
      " [-1.68768384e-01  2.29404561e-06  2.91891040e-05]],  \n",
      "poptErr = array([5.23543059e+01, 7.02957133e-03, 5.40269414e-03])\n"
     ]
    },
    {
     "name": "stderr",
     "output_type": "stream",
     "text": [
      "/tmp/ipykernel_40318/26170352.py:60: SettingWithCopyWarning: \n",
      "A value is trying to be set on a copy of a slice from a DataFrame.\n",
      "Try using .loc[row_indexer,col_indexer] = value instead\n",
      "\n",
      "See the caveats in the documentation: https://pandas.pydata.org/pandas-docs/stable/user_guide/indexing.html#returning-a-view-versus-a-copy\n",
      "  data_toUse_[sL1JetResponse] = data_toUse_[sL1JetEt_forResolutionPlots] / data_toUse_[sRefJetEt]\n"
     ]
    },
    {
     "name": "stdout",
     "output_type": "stream",
     "text": [
      "popt: [1.69728771e+03 1.08367969e+00 2.13375233e-01], \n",
      "pcov: \n",
      "[[ 6.63768385e+03 -1.39958429e-01 -2.49712280e-01]\n",
      " [-1.39958429e-01  8.49143123e-05  1.73530343e-05]\n",
      " [-2.49712280e-01  1.73530343e-05  3.18948021e-05]],  \n",
      "poptErr = array([8.14719820e+01, 9.21489622e-03, 5.64754832e-03])\n"
     ]
    },
    {
     "name": "stderr",
     "output_type": "stream",
     "text": [
      "/tmp/ipykernel_40318/26170352.py:60: SettingWithCopyWarning: \n",
      "A value is trying to be set on a copy of a slice from a DataFrame.\n",
      "Try using .loc[row_indexer,col_indexer] = value instead\n",
      "\n",
      "See the caveats in the documentation: https://pandas.pydata.org/pandas-docs/stable/user_guide/indexing.html#returning-a-view-versus-a-copy\n",
      "  data_toUse_[sL1JetResponse] = data_toUse_[sL1JetEt_forResolutionPlots] / data_toUse_[sRefJetEt]\n"
     ]
    },
    {
     "name": "stdout",
     "output_type": "stream",
     "text": [
      "popt: [1.70666377e+03 1.06332450e+00 2.23332296e-01], \n",
      "pcov: \n",
      "[[ 4.37940161e+03 -7.08812539e-02 -1.81097491e-01]\n",
      " [-7.08812539e-02  5.64851804e-05  8.98267672e-06]\n",
      " [-1.81097491e-01  8.98267672e-06  2.42276357e-05]],  \n",
      "poptErr = array([6.61770475e+01, 7.51566234e-03, 4.92215762e-03])\n"
     ]
    },
    {
     "name": "stderr",
     "output_type": "stream",
     "text": [
      "/tmp/ipykernel_40318/26170352.py:60: SettingWithCopyWarning: \n",
      "A value is trying to be set on a copy of a slice from a DataFrame.\n",
      "Try using .loc[row_indexer,col_indexer] = value instead\n",
      "\n",
      "See the caveats in the documentation: https://pandas.pydata.org/pandas-docs/stable/user_guide/indexing.html#returning-a-view-versus-a-copy\n",
      "  data_toUse_[sL1JetResponse] = data_toUse_[sL1JetEt_forResolutionPlots] / data_toUse_[sRefJetEt]\n"
     ]
    },
    {
     "name": "stdout",
     "output_type": "stream",
     "text": [
      "popt: [1.67336170e+03 1.04603673e+00 2.33979751e-01], \n",
      "pcov: \n",
      "[[ 2.47062490e+03 -2.74389027e-02 -1.15787099e-01]\n",
      " [-2.74389027e-02  3.43914548e-05  3.54311713e-06]\n",
      " [-1.15787099e-01  3.54311713e-06  1.66717970e-05]],  \n",
      "poptErr = array([4.97053809e+01, 5.86442280e-03, 4.08311119e-03])\n"
     ]
    },
    {
     "name": "stderr",
     "output_type": "stream",
     "text": [
      "/tmp/ipykernel_40318/26170352.py:60: SettingWithCopyWarning: \n",
      "A value is trying to be set on a copy of a slice from a DataFrame.\n",
      "Try using .loc[row_indexer,col_indexer] = value instead\n",
      "\n",
      "See the caveats in the documentation: https://pandas.pydata.org/pandas-docs/stable/user_guide/indexing.html#returning-a-view-versus-a-copy\n",
      "  data_toUse_[sL1JetResponse] = data_toUse_[sL1JetEt_forResolutionPlots] / data_toUse_[sRefJetEt]\n"
     ]
    },
    {
     "name": "stdout",
     "output_type": "stream",
     "text": [
      "popt: [1.60443854e+03 1.02437587e+00 2.49925558e-01], \n",
      "pcov: \n",
      "[[ 4.36621330e+02  2.01309966e-03 -2.64930294e-02]\n",
      " [ 2.01309966e-03  7.15092352e-06 -5.01935214e-07]\n",
      " [-2.64930294e-02 -5.01935214e-07  4.37816462e-06]],  \n",
      "poptErr = array([2.08954859e+01, 2.67412107e-03, 2.09240642e-03])\n"
     ]
    },
    {
     "name": "stderr",
     "output_type": "stream",
     "text": [
      "/tmp/ipykernel_40318/26170352.py:60: SettingWithCopyWarning: \n",
      "A value is trying to be set on a copy of a slice from a DataFrame.\n",
      "Try using .loc[row_indexer,col_indexer] = value instead\n",
      "\n",
      "See the caveats in the documentation: https://pandas.pydata.org/pandas-docs/stable/user_guide/indexing.html#returning-a-view-versus-a-copy\n",
      "  data_toUse_[sL1JetResponse] = data_toUse_[sL1JetEt_forResolutionPlots] / data_toUse_[sRefJetEt]\n"
     ]
    },
    {
     "name": "stdout",
     "output_type": "stream",
     "text": [
      "popt: [1.62166896e+03 1.01777548e+00 2.45872953e-01], \n",
      "pcov: \n",
      "[[ 3.33811536e+02  1.35265565e-03 -1.91853241e-02]\n",
      " [ 1.35265565e-03  5.14602907e-06 -3.05710593e-07]\n",
      " [-1.91853241e-02 -3.05710593e-07  3.04518504e-06]],  \n",
      "poptErr = array([1.82705100e+01, 2.26848607e-03, 1.74504586e-03])\n"
     ]
    },
    {
     "name": "stderr",
     "output_type": "stream",
     "text": [
      "/tmp/ipykernel_40318/26170352.py:60: SettingWithCopyWarning: \n",
      "A value is trying to be set on a copy of a slice from a DataFrame.\n",
      "Try using .loc[row_indexer,col_indexer] = value instead\n",
      "\n",
      "See the caveats in the documentation: https://pandas.pydata.org/pandas-docs/stable/user_guide/indexing.html#returning-a-view-versus-a-copy\n",
      "  data_toUse_[sL1JetResponse] = data_toUse_[sL1JetEt_forResolutionPlots] / data_toUse_[sRefJetEt]\n"
     ]
    },
    {
     "name": "stdout",
     "output_type": "stream",
     "text": [
      "popt: [2.67702397e+03 1.01125788e+00 2.40730776e-01], \n",
      "pcov: \n",
      "[[ 5.44347550e+02  1.53273998e-03 -1.83233753e-02]\n",
      " [ 1.53273998e-03  2.92144517e-06 -1.79071694e-07]\n",
      " [-1.83233753e-02 -1.79071694e-07  1.70475454e-06]],  \n",
      "poptErr = array([2.33312569e+01, 1.70922356e-03, 1.30566249e-03])\n"
     ]
    },
    {
     "name": "stderr",
     "output_type": "stream",
     "text": [
      "/tmp/ipykernel_40318/26170352.py:60: SettingWithCopyWarning: \n",
      "A value is trying to be set on a copy of a slice from a DataFrame.\n",
      "Try using .loc[row_indexer,col_indexer] = value instead\n",
      "\n",
      "See the caveats in the documentation: https://pandas.pydata.org/pandas-docs/stable/user_guide/indexing.html#returning-a-view-versus-a-copy\n",
      "  data_toUse_[sL1JetResponse] = data_toUse_[sL1JetEt_forResolutionPlots] / data_toUse_[sRefJetEt]\n"
     ]
    },
    {
     "name": "stdout",
     "output_type": "stream",
     "text": [
      "popt: [2.69230101e+03 1.01255994e+00 2.24619019e-01], \n",
      "pcov: \n",
      "[[ 1.97607609e+03 -3.48069170e-03 -5.41273752e-02]\n",
      " [-3.48069170e-03  9.40909347e-06  2.58771795e-07]\n",
      " [-5.41273752e-02  2.58771795e-07  4.56629419e-06]],  \n",
      "poptErr = array([4.44530774e+01, 3.06742457e-03, 2.13688891e-03])\n"
     ]
    },
    {
     "name": "stderr",
     "output_type": "stream",
     "text": [
      "/tmp/ipykernel_40318/26170352.py:60: SettingWithCopyWarning: \n",
      "A value is trying to be set on a copy of a slice from a DataFrame.\n",
      "Try using .loc[row_indexer,col_indexer] = value instead\n",
      "\n",
      "See the caveats in the documentation: https://pandas.pydata.org/pandas-docs/stable/user_guide/indexing.html#returning-a-view-versus-a-copy\n",
      "  data_toUse_[sL1JetResponse] = data_toUse_[sL1JetEt_forResolutionPlots] / data_toUse_[sRefJetEt]\n"
     ]
    },
    {
     "name": "stdout",
     "output_type": "stream",
     "text": [
      "popt: [2.64870571e+03 1.01086496e+00 2.19883595e-01], \n",
      "pcov: \n",
      "[[ 2.02737704e+03 -1.70225419e-03 -5.58072070e-02]\n",
      " [-1.70225419e-03  9.44032261e-06  1.22203633e-07]\n",
      " [-5.58072070e-02  1.22203633e-07  4.66524411e-06]],  \n",
      "poptErr = array([4.50264038e+01, 3.07251080e-03, 2.15991762e-03])\n"
     ]
    },
    {
     "name": "stderr",
     "output_type": "stream",
     "text": [
      "/tmp/ipykernel_40318/26170352.py:60: SettingWithCopyWarning: \n",
      "A value is trying to be set on a copy of a slice from a DataFrame.\n",
      "Try using .loc[row_indexer,col_indexer] = value instead\n",
      "\n",
      "See the caveats in the documentation: https://pandas.pydata.org/pandas-docs/stable/user_guide/indexing.html#returning-a-view-versus-a-copy\n",
      "  data_toUse_[sL1JetResponse] = data_toUse_[sL1JetEt_forResolutionPlots] / data_toUse_[sRefJetEt]\n"
     ]
    },
    {
     "name": "stdout",
     "output_type": "stream",
     "text": [
      "popt: [2.54211650e+03 1.00343868e+00 2.18916599e-01], \n",
      "pcov: \n",
      "[[ 1.56406833e+03  6.83164227e-03 -4.93735173e-02]\n",
      " [ 6.83164227e-03  7.52244454e-06 -6.09711049e-07]\n",
      " [-4.93735173e-02 -6.09711049e-07  4.28514206e-06]],  \n",
      "poptErr = array([3.95483037e+01, 2.74270752e-03, 2.07005847e-03])\n"
     ]
    },
    {
     "name": "stderr",
     "output_type": "stream",
     "text": [
      "/tmp/ipykernel_40318/26170352.py:60: SettingWithCopyWarning: \n",
      "A value is trying to be set on a copy of a slice from a DataFrame.\n",
      "Try using .loc[row_indexer,col_indexer] = value instead\n",
      "\n",
      "See the caveats in the documentation: https://pandas.pydata.org/pandas-docs/stable/user_guide/indexing.html#returning-a-view-versus-a-copy\n",
      "  data_toUse_[sL1JetResponse] = data_toUse_[sL1JetEt_forResolutionPlots] / data_toUse_[sRefJetEt]\n"
     ]
    },
    {
     "name": "stdout",
     "output_type": "stream",
     "text": [
      "popt: [2.49298106e+03 1.00297227e+00 2.12854818e-01], \n",
      "pcov: \n",
      "[[ 1.86196620e+03  8.61716506e-03 -5.78039801e-02]\n",
      " [ 8.61716506e-03  8.80760792e-06 -7.48540068e-07]\n",
      " [-5.78039801e-02 -7.48540068e-07  4.95631708e-06]],  \n",
      "poptErr = array([4.31505063e+01, 2.96776143e-03, 2.22627875e-03])\n"
     ]
    },
    {
     "name": "stderr",
     "output_type": "stream",
     "text": [
      "/tmp/ipykernel_40318/26170352.py:60: SettingWithCopyWarning: \n",
      "A value is trying to be set on a copy of a slice from a DataFrame.\n",
      "Try using .loc[row_indexer,col_indexer] = value instead\n",
      "\n",
      "See the caveats in the documentation: https://pandas.pydata.org/pandas-docs/stable/user_guide/indexing.html#returning-a-view-versus-a-copy\n",
      "  data_toUse_[sL1JetResponse] = data_toUse_[sL1JetEt_forResolutionPlots] / data_toUse_[sRefJetEt]\n"
     ]
    },
    {
     "name": "stdout",
     "output_type": "stream",
     "text": [
      "popt: [2.45393128e+03 1.00334351e+00 2.06744179e-01], \n",
      "pcov: \n",
      "[[ 2.23904930e+03  9.35240457e-03 -6.84967623e-02]\n",
      " [ 9.35240457e-03  1.02637869e-05 -7.94546091e-07]\n",
      " [-6.84967623e-02 -7.94546091e-07  5.78290051e-06]],  \n",
      "poptErr = array([4.73185936e+01, 3.20371455e-03, 2.40476621e-03])\n"
     ]
    },
    {
     "name": "stderr",
     "output_type": "stream",
     "text": [
      "/tmp/ipykernel_40318/26170352.py:60: SettingWithCopyWarning: \n",
      "A value is trying to be set on a copy of a slice from a DataFrame.\n",
      "Try using .loc[row_indexer,col_indexer] = value instead\n",
      "\n",
      "See the caveats in the documentation: https://pandas.pydata.org/pandas-docs/stable/user_guide/indexing.html#returning-a-view-versus-a-copy\n",
      "  data_toUse_[sL1JetResponse] = data_toUse_[sL1JetEt_forResolutionPlots] / data_toUse_[sRefJetEt]\n"
     ]
    },
    {
     "name": "stdout",
     "output_type": "stream",
     "text": [
      "popt: [2.40725615e+03 1.00253648e+00 2.02184247e-01], \n",
      "pcov: \n",
      "[[ 2.54654592e+03  1.20248586e-02 -7.86459781e-02]\n",
      " [ 1.20248586e-02  1.15469733e-05 -1.01522598e-06]\n",
      " [-7.86459781e-02 -1.01522598e-06  6.61760700e-06]],  \n",
      "poptErr = array([5.04633126e+01, 3.39808377e-03, 2.57247099e-03])\n"
     ]
    },
    {
     "name": "stderr",
     "output_type": "stream",
     "text": [
      "/tmp/ipykernel_40318/26170352.py:60: SettingWithCopyWarning: \n",
      "A value is trying to be set on a copy of a slice from a DataFrame.\n",
      "Try using .loc[row_indexer,col_indexer] = value instead\n",
      "\n",
      "See the caveats in the documentation: https://pandas.pydata.org/pandas-docs/stable/user_guide/indexing.html#returning-a-view-versus-a-copy\n",
      "  data_toUse_[sL1JetResponse] = data_toUse_[sL1JetEt_forResolutionPlots] / data_toUse_[sRefJetEt]\n"
     ]
    },
    {
     "name": "stdout",
     "output_type": "stream",
     "text": [
      "popt: [2.36017827e+03 1.00299709e+00 1.96512667e-01], \n",
      "pcov: \n",
      "[[ 2.98129969e+03  1.58153477e-02 -9.10264992e-02]\n",
      " [ 1.58153477e-02  1.33355055e-05 -1.31927675e-06]\n",
      " [-9.10264992e-02 -1.31927675e-06  7.58536887e-06]],  \n",
      "poptErr = array([5.46012792e+01, 3.65178114e-03, 2.75415484e-03])\n"
     ]
    },
    {
     "name": "stderr",
     "output_type": "stream",
     "text": [
      "/tmp/ipykernel_40318/26170352.py:60: SettingWithCopyWarning: \n",
      "A value is trying to be set on a copy of a slice from a DataFrame.\n",
      "Try using .loc[row_indexer,col_indexer] = value instead\n",
      "\n",
      "See the caveats in the documentation: https://pandas.pydata.org/pandas-docs/stable/user_guide/indexing.html#returning-a-view-versus-a-copy\n",
      "  data_toUse_[sL1JetResponse] = data_toUse_[sL1JetEt_forResolutionPlots] / data_toUse_[sRefJetEt]\n"
     ]
    },
    {
     "name": "stdout",
     "output_type": "stream",
     "text": [
      "popt: [2.33254162e+03 1.00353595e+00 1.89150662e-01], \n",
      "pcov: \n",
      "[[ 3.37519105e+03  1.86063260e-02 -1.00265807e-01]\n",
      " [ 1.86063260e-02  1.43531658e-05 -1.51043045e-06]\n",
      " [-1.00265807e-01 -1.51043045e-06  8.13386891e-06]],  \n",
      "poptErr = array([5.80963945e+01, 3.78855722e-03, 2.85199385e-03])\n"
     ]
    },
    {
     "name": "stderr",
     "output_type": "stream",
     "text": [
      "/tmp/ipykernel_40318/26170352.py:60: SettingWithCopyWarning: \n",
      "A value is trying to be set on a copy of a slice from a DataFrame.\n",
      "Try using .loc[row_indexer,col_indexer] = value instead\n",
      "\n",
      "See the caveats in the documentation: https://pandas.pydata.org/pandas-docs/stable/user_guide/indexing.html#returning-a-view-versus-a-copy\n",
      "  data_toUse_[sL1JetResponse] = data_toUse_[sL1JetEt_forResolutionPlots] / data_toUse_[sRefJetEt]\n"
     ]
    },
    {
     "name": "stdout",
     "output_type": "stream",
     "text": [
      "popt: [2.30722855e+03 1.00383591e+00 1.85438498e-01], \n",
      "pcov: \n",
      "[[ 3.46728998e+03  1.61476687e-02 -1.01985896e-01]\n",
      " [ 1.61476687e-02  1.44143365e-05 -1.29800466e-06]\n",
      " [-1.01985896e-01 -1.29800466e-06  8.19968894e-06]],  \n",
      "poptErr = array([5.88836988e+01, 3.79662172e-03, 2.86350990e-03])\n"
     ]
    },
    {
     "name": "stderr",
     "output_type": "stream",
     "text": [
      "/tmp/ipykernel_40318/26170352.py:60: SettingWithCopyWarning: \n",
      "A value is trying to be set on a copy of a slice from a DataFrame.\n",
      "Try using .loc[row_indexer,col_indexer] = value instead\n",
      "\n",
      "See the caveats in the documentation: https://pandas.pydata.org/pandas-docs/stable/user_guide/indexing.html#returning-a-view-versus-a-copy\n",
      "  data_toUse_[sL1JetResponse] = data_toUse_[sL1JetEt_forResolutionPlots] / data_toUse_[sRefJetEt]\n"
     ]
    },
    {
     "name": "stdout",
     "output_type": "stream",
     "text": [
      "popt: [2.28051810e+03 1.00420751e+00 1.80886857e-01], \n",
      "pcov: \n",
      "[[ 3.80617178e+03  2.07494535e-02 -1.10886362e-01]\n",
      " [ 2.07494535e-02  1.54621596e-05 -1.64611436e-06]\n",
      " [-1.10886362e-01 -1.64611436e-06  8.79643193e-06]],  \n",
      "poptErr = array([6.16941795e+01, 3.93219526e-03, 2.96587794e-03])\n"
     ]
    },
    {
     "name": "stderr",
     "output_type": "stream",
     "text": [
      "/tmp/ipykernel_40318/26170352.py:60: SettingWithCopyWarning: \n",
      "A value is trying to be set on a copy of a slice from a DataFrame.\n",
      "Try using .loc[row_indexer,col_indexer] = value instead\n",
      "\n",
      "See the caveats in the documentation: https://pandas.pydata.org/pandas-docs/stable/user_guide/indexing.html#returning-a-view-versus-a-copy\n",
      "  data_toUse_[sL1JetResponse] = data_toUse_[sL1JetEt_forResolutionPlots] / data_toUse_[sRefJetEt]\n"
     ]
    },
    {
     "name": "stdout",
     "output_type": "stream",
     "text": [
      "popt: [2.23029810e+03 1.00360073e+00 1.77676000e-01], \n",
      "pcov: \n",
      "[[ 4.01228369e+03  2.22068503e-02 -1.17713265e-01]\n",
      " [ 2.22068503e-02  1.64231928e-05 -1.76924141e-06]\n",
      " [-1.17713265e-01 -1.76924141e-06  9.37863789e-06]],  \n",
      "poptErr = array([6.33425898e+01, 4.05255386e-03, 3.06245619e-03])\n"
     ]
    },
    {
     "name": "stderr",
     "output_type": "stream",
     "text": [
      "/tmp/ipykernel_40318/26170352.py:60: SettingWithCopyWarning: \n",
      "A value is trying to be set on a copy of a slice from a DataFrame.\n",
      "Try using .loc[row_indexer,col_indexer] = value instead\n",
      "\n",
      "See the caveats in the documentation: https://pandas.pydata.org/pandas-docs/stable/user_guide/indexing.html#returning-a-view-versus-a-copy\n",
      "  data_toUse_[sL1JetResponse] = data_toUse_[sL1JetEt_forResolutionPlots] / data_toUse_[sRefJetEt]\n"
     ]
    },
    {
     "name": "stdout",
     "output_type": "stream",
     "text": [
      "popt: [4.33566893e+03 1.00274652e+00 1.73318339e-01], \n",
      "pcov: \n",
      "[[ 1.46414162e+04  4.19473289e-02 -2.15454690e-01]\n",
      " [ 4.19473289e-02  1.51116063e-05 -1.67688652e-06]\n",
      " [-2.15454690e-01 -1.67688652e-06  8.61310793e-06]],  \n",
      "poptErr = array([1.21001720e+02, 3.88736496e-03, 2.93480969e-03])\n"
     ]
    },
    {
     "name": "stderr",
     "output_type": "stream",
     "text": [
      "/tmp/ipykernel_40318/26170352.py:60: SettingWithCopyWarning: \n",
      "A value is trying to be set on a copy of a slice from a DataFrame.\n",
      "Try using .loc[row_indexer,col_indexer] = value instead\n",
      "\n",
      "See the caveats in the documentation: https://pandas.pydata.org/pandas-docs/stable/user_guide/indexing.html#returning-a-view-versus-a-copy\n",
      "  data_toUse_[sL1JetResponse] = data_toUse_[sL1JetEt_forResolutionPlots] / data_toUse_[sRefJetEt]\n"
     ]
    },
    {
     "name": "stdout",
     "output_type": "stream",
     "text": [
      "popt: [4.22862564e+03 1.00258972e+00 1.66111239e-01], \n",
      "pcov: \n",
      "[[ 1.47964953e+04  4.10799995e-02 -2.14537876e-01]\n",
      " [ 4.10799995e-02  1.47144245e-05 -1.61369675e-06]\n",
      " [-2.14537876e-01 -1.61369675e-06  8.42764383e-06]],  \n",
      "poptErr = array([1.21640846e+02, 3.83593854e-03, 2.90304045e-03])\n"
     ]
    },
    {
     "name": "stderr",
     "output_type": "stream",
     "text": [
      "/tmp/ipykernel_40318/26170352.py:60: SettingWithCopyWarning: \n",
      "A value is trying to be set on a copy of a slice from a DataFrame.\n",
      "Try using .loc[row_indexer,col_indexer] = value instead\n",
      "\n",
      "See the caveats in the documentation: https://pandas.pydata.org/pandas-docs/stable/user_guide/indexing.html#returning-a-view-versus-a-copy\n",
      "  data_toUse_[sL1JetResponse] = data_toUse_[sL1JetEt_forResolutionPlots] / data_toUse_[sRefJetEt]\n"
     ]
    },
    {
     "name": "stdout",
     "output_type": "stream",
     "text": [
      "popt: [4.0996626e+03 1.0031509e+00 1.5915208e-01], \n",
      "pcov: \n",
      "[[ 1.52546002e+04  4.28144531e-02 -2.17189713e-01]\n",
      " [ 4.28144531e-02  1.48858557e-05 -1.66204402e-06]\n",
      " [-2.17189713e-01 -1.66204402e-06  8.43149573e-06]],  \n",
      "poptErr = array([1.23509515e+02, 3.85821925e-03, 2.90370379e-03])\n"
     ]
    },
    {
     "name": "stderr",
     "output_type": "stream",
     "text": [
      "/tmp/ipykernel_40318/26170352.py:60: SettingWithCopyWarning: \n",
      "A value is trying to be set on a copy of a slice from a DataFrame.\n",
      "Try using .loc[row_indexer,col_indexer] = value instead\n",
      "\n",
      "See the caveats in the documentation: https://pandas.pydata.org/pandas-docs/stable/user_guide/indexing.html#returning-a-view-versus-a-copy\n",
      "  data_toUse_[sL1JetResponse] = data_toUse_[sL1JetEt_forResolutionPlots] / data_toUse_[sRefJetEt]\n"
     ]
    },
    {
     "name": "stdout",
     "output_type": "stream",
     "text": [
      "popt: [7.82787655e+03 1.00245680e+00 1.52445535e-01], \n",
      "pcov: \n",
      "[[ 5.81172139e+04  9.02810349e-02 -4.14533667e-01]\n",
      " [ 9.02810349e-02  1.43520186e-05 -1.75811226e-06]\n",
      " [-4.14533667e-01 -1.75811226e-06  8.07293707e-06]],  \n",
      "poptErr = array([2.41075121e+02, 3.78840582e-03, 2.84129144e-03])\n"
     ]
    },
    {
     "name": "stderr",
     "output_type": "stream",
     "text": [
      "/tmp/ipykernel_40318/26170352.py:60: SettingWithCopyWarning: \n",
      "A value is trying to be set on a copy of a slice from a DataFrame.\n",
      "Try using .loc[row_indexer,col_indexer] = value instead\n",
      "\n",
      "See the caveats in the documentation: https://pandas.pydata.org/pandas-docs/stable/user_guide/indexing.html#returning-a-view-versus-a-copy\n",
      "  data_toUse_[sL1JetResponse] = data_toUse_[sL1JetEt_forResolutionPlots] / data_toUse_[sRefJetEt]\n"
     ]
    },
    {
     "name": "stdout",
     "output_type": "stream",
     "text": [
      "popt: [7.33945252e+03 1.00161883e+00 1.43325279e-01], \n",
      "pcov: \n",
      "[[ 5.50422299e+04  9.29544238e-02 -3.96373578e-01]\n",
      " [ 9.29544238e-02  1.36755179e-05 -1.81517365e-06]\n",
      " [-3.96373578e-01 -1.81517365e-06  7.74041859e-06]],  \n",
      "poptErr = array([2.34610805e+02, 3.69804244e-03, 2.78216078e-03])\n"
     ]
    },
    {
     "name": "stderr",
     "output_type": "stream",
     "text": [
      "/tmp/ipykernel_40318/26170352.py:60: SettingWithCopyWarning: \n",
      "A value is trying to be set on a copy of a slice from a DataFrame.\n",
      "Try using .loc[row_indexer,col_indexer] = value instead\n",
      "\n",
      "See the caveats in the documentation: https://pandas.pydata.org/pandas-docs/stable/user_guide/indexing.html#returning-a-view-versus-a-copy\n",
      "  data_toUse_[sL1JetResponse] = data_toUse_[sL1JetEt_forResolutionPlots] / data_toUse_[sRefJetEt]\n"
     ]
    },
    {
     "name": "stdout",
     "output_type": "stream",
     "text": [
      "popt: [6.94987848e+03 1.00010044e+00 1.35590104e-01], \n",
      "pcov: \n",
      "[[ 5.08032288e+04  8.46651991e-02 -3.64290296e-01]\n",
      " [ 8.46651991e-02  1.26142552e-05 -1.65166661e-06]\n",
      " [-3.64290296e-01 -1.65166661e-06  7.10722546e-06]],  \n",
      "poptErr = array([2.25395716e+02, 3.55165528e-03, 2.66593801e-03])\n"
     ]
    },
    {
     "name": "stderr",
     "output_type": "stream",
     "text": [
      "/tmp/ipykernel_40318/26170352.py:60: SettingWithCopyWarning: \n",
      "A value is trying to be set on a copy of a slice from a DataFrame.\n",
      "Try using .loc[row_indexer,col_indexer] = value instead\n",
      "\n",
      "See the caveats in the documentation: https://pandas.pydata.org/pandas-docs/stable/user_guide/indexing.html#returning-a-view-versus-a-copy\n",
      "  data_toUse_[sL1JetResponse] = data_toUse_[sL1JetEt_forResolutionPlots] / data_toUse_[sRefJetEt]\n"
     ]
    },
    {
     "name": "stdout",
     "output_type": "stream",
     "text": [
      "popt: [6.44607050e+03 9.97838386e-01 1.30096733e-01], \n",
      "pcov: \n",
      "[[ 4.26295478e+04  7.40344424e-02 -3.16134897e-01]\n",
      " [ 7.40344424e-02  1.13340719e-05 -1.49407354e-06]\n",
      " [-3.16134897e-01 -1.49407354e-06  6.38036426e-06]],  \n",
      "poptErr = array([2.06469242e+02, 3.36661134e-03, 2.52593829e-03])\n"
     ]
    },
    {
     "name": "stderr",
     "output_type": "stream",
     "text": [
      "/tmp/ipykernel_40318/26170352.py:60: SettingWithCopyWarning: \n",
      "A value is trying to be set on a copy of a slice from a DataFrame.\n",
      "Try using .loc[row_indexer,col_indexer] = value instead\n",
      "\n",
      "See the caveats in the documentation: https://pandas.pydata.org/pandas-docs/stable/user_guide/indexing.html#returning-a-view-versus-a-copy\n",
      "  data_toUse_[sL1JetResponse] = data_toUse_[sL1JetEt_forResolutionPlots] / data_toUse_[sRefJetEt]\n"
     ]
    },
    {
     "name": "stdout",
     "output_type": "stream",
     "text": [
      "popt: [221.3540368    1.37450392   0.31075065], \n",
      "pcov: \n",
      "[[ 8.98971286e+01  4.09601906e-03 -5.85009914e-02]\n",
      " [ 4.09601906e-03  1.39723036e-04 -2.38156665e-05]\n",
      " [-5.85009914e-02 -2.38156665e-05  1.02061900e-04]],  \n",
      "poptErr = array([9.48140963, 0.01182045, 0.01010257])\n"
     ]
    },
    {
     "name": "stderr",
     "output_type": "stream",
     "text": [
      "/tmp/ipykernel_40318/26170352.py:60: SettingWithCopyWarning: \n",
      "A value is trying to be set on a copy of a slice from a DataFrame.\n",
      "Try using .loc[row_indexer,col_indexer] = value instead\n",
      "\n",
      "See the caveats in the documentation: https://pandas.pydata.org/pandas-docs/stable/user_guide/indexing.html#returning-a-view-versus-a-copy\n",
      "  data_toUse_[sL1JetResponse] = data_toUse_[sL1JetEt_forResolutionPlots] / data_toUse_[sRefJetEt]\n"
     ]
    },
    {
     "name": "stdout",
     "output_type": "stream",
     "text": [
      "popt: [2.96419719e+02 1.30166785e+00 2.77528515e-01], \n",
      "pcov: \n",
      "[[ 2.24699793e+02 -1.15688269e-02 -8.85318384e-02]\n",
      " [-1.15688269e-02  1.39043078e-04  3.34256604e-06]\n",
      " [-8.85318384e-02  3.34256604e-06  9.32080055e-05]],  \n",
      "poptErr = array([1.49899898e+01, 1.17916529e-02, 9.65442932e-03])\n"
     ]
    },
    {
     "name": "stderr",
     "output_type": "stream",
     "text": [
      "/tmp/ipykernel_40318/26170352.py:60: SettingWithCopyWarning: \n",
      "A value is trying to be set on a copy of a slice from a DataFrame.\n",
      "Try using .loc[row_indexer,col_indexer] = value instead\n",
      "\n",
      "See the caveats in the documentation: https://pandas.pydata.org/pandas-docs/stable/user_guide/indexing.html#returning-a-view-versus-a-copy\n",
      "  data_toUse_[sL1JetResponse] = data_toUse_[sL1JetEt_forResolutionPlots] / data_toUse_[sRefJetEt]\n"
     ]
    },
    {
     "name": "stdout",
     "output_type": "stream",
     "text": [
      "popt: [3.77294709e+02 1.24867174e+00 2.44306083e-01], \n",
      "pcov: \n",
      "[[ 4.45117090e+02 -3.82239590e-02 -1.04287420e-01]\n",
      " [-3.82239590e-02  1.37601756e-04  2.25943255e-05]\n",
      " [-1.04287420e-01  2.25943255e-05  7.12247315e-05]],  \n",
      "poptErr = array([2.10977982e+01, 1.17303775e-02, 8.43947460e-03])\n"
     ]
    },
    {
     "name": "stderr",
     "output_type": "stream",
     "text": [
      "/tmp/ipykernel_40318/26170352.py:60: SettingWithCopyWarning: \n",
      "A value is trying to be set on a copy of a slice from a DataFrame.\n",
      "Try using .loc[row_indexer,col_indexer] = value instead\n",
      "\n",
      "See the caveats in the documentation: https://pandas.pydata.org/pandas-docs/stable/user_guide/indexing.html#returning-a-view-versus-a-copy\n",
      "  data_toUse_[sL1JetResponse] = data_toUse_[sL1JetEt_forResolutionPlots] / data_toUse_[sRefJetEt]\n"
     ]
    },
    {
     "name": "stdout",
     "output_type": "stream",
     "text": [
      "popt: [4.39268649e+02 1.19040221e+00 2.52445503e-01], \n",
      "pcov: \n",
      "[[ 4.19968888e+02 -2.39951398e-02 -9.28716510e-02]\n",
      " [-2.39951398e-02  9.82639539e-05  1.14036678e-05]\n",
      " [-9.28716510e-02  1.14036678e-05  5.72144939e-05]],  \n",
      "poptErr = array([2.04931425e+01, 9.91281766e-03, 7.56402630e-03])\n"
     ]
    },
    {
     "name": "stderr",
     "output_type": "stream",
     "text": [
      "/tmp/ipykernel_40318/26170352.py:60: SettingWithCopyWarning: \n",
      "A value is trying to be set on a copy of a slice from a DataFrame.\n",
      "Try using .loc[row_indexer,col_indexer] = value instead\n",
      "\n",
      "See the caveats in the documentation: https://pandas.pydata.org/pandas-docs/stable/user_guide/indexing.html#returning-a-view-versus-a-copy\n",
      "  data_toUse_[sL1JetResponse] = data_toUse_[sL1JetEt_forResolutionPlots] / data_toUse_[sRefJetEt]\n"
     ]
    },
    {
     "name": "stdout",
     "output_type": "stream",
     "text": [
      "popt: [4.91631783e+02 1.14374590e+00 2.48947902e-01], \n",
      "pcov: \n",
      "[[ 4.40263335e+02 -1.97641466e-02 -8.45824342e-02]\n",
      " [-1.97641466e-02  7.94952942e-05  8.20823603e-06]\n",
      " [-8.45824342e-02  8.20823603e-06  4.56819103e-05]],  \n",
      "poptErr = array([2.09824530e+01, 8.91601336e-03, 6.75883942e-03])\n"
     ]
    },
    {
     "name": "stderr",
     "output_type": "stream",
     "text": [
      "/tmp/ipykernel_40318/26170352.py:60: SettingWithCopyWarning: \n",
      "A value is trying to be set on a copy of a slice from a DataFrame.\n",
      "Try using .loc[row_indexer,col_indexer] = value instead\n",
      "\n",
      "See the caveats in the documentation: https://pandas.pydata.org/pandas-docs/stable/user_guide/indexing.html#returning-a-view-versus-a-copy\n",
      "  data_toUse_[sL1JetResponse] = data_toUse_[sL1JetEt_forResolutionPlots] / data_toUse_[sRefJetEt]\n"
     ]
    },
    {
     "name": "stdout",
     "output_type": "stream",
     "text": [
      "popt: [5.32246328e+02 1.12159937e+00 2.40442585e-01], \n",
      "pcov: \n",
      "[[ 5.26424280e+02 -2.83336340e-02 -8.16887457e-02]\n",
      " [-2.83336340e-02  7.91463861e-05  1.18849556e-05]\n",
      " [-8.16887457e-02  1.18849556e-05  3.84465203e-05]],  \n",
      "poptErr = array([2.29439378e+01, 8.89642547e-03, 6.20052581e-03])\n"
     ]
    },
    {
     "name": "stderr",
     "output_type": "stream",
     "text": [
      "/tmp/ipykernel_40318/26170352.py:60: SettingWithCopyWarning: \n",
      "A value is trying to be set on a copy of a slice from a DataFrame.\n",
      "Try using .loc[row_indexer,col_indexer] = value instead\n",
      "\n",
      "See the caveats in the documentation: https://pandas.pydata.org/pandas-docs/stable/user_guide/indexing.html#returning-a-view-versus-a-copy\n",
      "  data_toUse_[sL1JetResponse] = data_toUse_[sL1JetEt_forResolutionPlots] / data_toUse_[sRefJetEt]\n"
     ]
    },
    {
     "name": "stdout",
     "output_type": "stream",
     "text": [
      "popt: [5.55572147e+02 1.08591562e+00 2.46428346e-01], \n",
      "pcov: \n",
      "[[ 4.04270396e+02 -1.36501678e-02 -6.53935420e-02]\n",
      " [-1.36501678e-02  5.60280826e-05  5.01061648e-06]\n",
      " [-6.53935420e-02  5.01061648e-06  3.06284060e-05]],  \n",
      "poptErr = array([2.01064765e+01, 7.48519089e-03, 5.53429363e-03])\n"
     ]
    },
    {
     "name": "stderr",
     "output_type": "stream",
     "text": [
      "/tmp/ipykernel_40318/26170352.py:60: SettingWithCopyWarning: \n",
      "A value is trying to be set on a copy of a slice from a DataFrame.\n",
      "Try using .loc[row_indexer,col_indexer] = value instead\n",
      "\n",
      "See the caveats in the documentation: https://pandas.pydata.org/pandas-docs/stable/user_guide/indexing.html#returning-a-view-versus-a-copy\n",
      "  data_toUse_[sL1JetResponse] = data_toUse_[sL1JetEt_forResolutionPlots] / data_toUse_[sRefJetEt]\n"
     ]
    },
    {
     "name": "stdout",
     "output_type": "stream",
     "text": [
      "popt: [5.85686780e+02 1.05824353e+00 2.47715396e-01], \n",
      "pcov: \n",
      "[[ 2.45590877e+02 -3.58973293e-03 -3.93149651e-02]\n",
      " [-3.58973293e-03  3.01048529e-05  8.12357281e-07]\n",
      " [-3.93149651e-02  8.12357281e-07  1.76600251e-05]],  \n",
      "poptErr = array([1.56713394e+01, 5.48678894e-03, 4.20238326e-03])\n"
     ]
    },
    {
     "name": "stderr",
     "output_type": "stream",
     "text": [
      "/tmp/ipykernel_40318/26170352.py:60: SettingWithCopyWarning: \n",
      "A value is trying to be set on a copy of a slice from a DataFrame.\n",
      "Try using .loc[row_indexer,col_indexer] = value instead\n",
      "\n",
      "See the caveats in the documentation: https://pandas.pydata.org/pandas-docs/stable/user_guide/indexing.html#returning-a-view-versus-a-copy\n",
      "  data_toUse_[sL1JetResponse] = data_toUse_[sL1JetEt_forResolutionPlots] / data_toUse_[sRefJetEt]\n"
     ]
    },
    {
     "name": "stdout",
     "output_type": "stream",
     "text": [
      "popt: [5.96516497e+02 1.03725046e+00 2.46143811e-01], \n",
      "pcov: \n",
      "[[ 1.50568753e+02 -9.66924005e-04 -2.37636329e-02]\n",
      " [-9.66924005e-04  1.73478220e-05 -5.28206088e-09]\n",
      " [-2.37636329e-02 -5.28206088e-09  1.03858025e-05]],  \n",
      "poptErr = array([1.22706460e+01, 4.16507167e-03, 3.22270112e-03])\n"
     ]
    },
    {
     "name": "stderr",
     "output_type": "stream",
     "text": [
      "/tmp/ipykernel_40318/26170352.py:60: SettingWithCopyWarning: \n",
      "A value is trying to be set on a copy of a slice from a DataFrame.\n",
      "Try using .loc[row_indexer,col_indexer] = value instead\n",
      "\n",
      "See the caveats in the documentation: https://pandas.pydata.org/pandas-docs/stable/user_guide/indexing.html#returning-a-view-versus-a-copy\n",
      "  data_toUse_[sL1JetResponse] = data_toUse_[sL1JetEt_forResolutionPlots] / data_toUse_[sRefJetEt]\n"
     ]
    },
    {
     "name": "stdout",
     "output_type": "stream",
     "text": [
      "popt: [6.04883267e+02 1.03340390e+00 2.42447764e-01], \n",
      "pcov: \n",
      "[[ 1.28407781e+02 -2.90228034e-04 -1.91239854e-02]\n",
      " [-2.90228034e-04  1.39089500e-05 -1.26614935e-07]\n",
      " [-1.91239854e-02 -1.26614935e-07  8.01701741e-06]],  \n",
      "poptErr = array([1.13317157e+01, 3.72947047e-03, 2.83143381e-03])\n"
     ]
    },
    {
     "name": "stderr",
     "output_type": "stream",
     "text": [
      "/tmp/ipykernel_40318/26170352.py:60: SettingWithCopyWarning: \n",
      "A value is trying to be set on a copy of a slice from a DataFrame.\n",
      "Try using .loc[row_indexer,col_indexer] = value instead\n",
      "\n",
      "See the caveats in the documentation: https://pandas.pydata.org/pandas-docs/stable/user_guide/indexing.html#returning-a-view-versus-a-copy\n",
      "  data_toUse_[sL1JetResponse] = data_toUse_[sL1JetEt_forResolutionPlots] / data_toUse_[sRefJetEt]\n"
     ]
    },
    {
     "name": "stdout",
     "output_type": "stream",
     "text": [
      "popt: [5.84981643e+02 1.01991275e+00 2.44271478e-01], \n",
      "pcov: \n",
      "[[ 7.61687937e+01  1.69930272e-04 -1.18893909e-02]\n",
      " [ 1.69930272e-04  8.90408928e-06 -2.20319343e-07]\n",
      " [-1.18893909e-02 -2.20319343e-07  5.18310412e-06]],  \n",
      "poptErr = array([8.72747350e+00, 2.98397206e-03, 2.27664317e-03])\n"
     ]
    },
    {
     "name": "stderr",
     "output_type": "stream",
     "text": [
      "/tmp/ipykernel_40318/26170352.py:60: SettingWithCopyWarning: \n",
      "A value is trying to be set on a copy of a slice from a DataFrame.\n",
      "Try using .loc[row_indexer,col_indexer] = value instead\n",
      "\n",
      "See the caveats in the documentation: https://pandas.pydata.org/pandas-docs/stable/user_guide/indexing.html#returning-a-view-versus-a-copy\n",
      "  data_toUse_[sL1JetResponse] = data_toUse_[sL1JetEt_forResolutionPlots] / data_toUse_[sRefJetEt]\n"
     ]
    },
    {
     "name": "stdout",
     "output_type": "stream",
     "text": [
      "popt: [6.09661968e+02 1.01362465e+00 2.33077399e-01], \n",
      "pcov: \n",
      "[[ 1.06821838e+02 -2.68133770e-04 -1.45016084e-02]\n",
      " [-2.68133770e-04  1.04823534e-05  5.03281272e-09]\n",
      " [-1.45016084e-02  5.03281272e-09  5.69083746e-06]],  \n",
      "poptErr = array([1.03354651e+01, 3.23764628e-03, 2.38554762e-03])\n"
     ]
    },
    {
     "name": "stderr",
     "output_type": "stream",
     "text": [
      "/tmp/ipykernel_40318/26170352.py:60: SettingWithCopyWarning: \n",
      "A value is trying to be set on a copy of a slice from a DataFrame.\n",
      "Try using .loc[row_indexer,col_indexer] = value instead\n",
      "\n",
      "See the caveats in the documentation: https://pandas.pydata.org/pandas-docs/stable/user_guide/indexing.html#returning-a-view-versus-a-copy\n",
      "  data_toUse_[sL1JetResponse] = data_toUse_[sL1JetEt_forResolutionPlots] / data_toUse_[sRefJetEt]\n"
     ]
    },
    {
     "name": "stdout",
     "output_type": "stream",
     "text": [
      "popt: [1.00916479e+03 1.00980596e+00 2.29137720e-01], \n",
      "pcov: \n",
      "[[ 2.11214278e+02 -3.43179279e-04 -1.67375880e-02]\n",
      " [-3.43179279e-04  7.29309312e-06  3.29610497e-08]\n",
      " [-1.67375880e-02  3.29610497e-08  3.87147637e-06]],  \n",
      "poptErr = array([1.45332129e+01, 2.70057274e-03, 1.96760676e-03])\n"
     ]
    },
    {
     "name": "stderr",
     "output_type": "stream",
     "text": [
      "/tmp/ipykernel_40318/26170352.py:60: SettingWithCopyWarning: \n",
      "A value is trying to be set on a copy of a slice from a DataFrame.\n",
      "Try using .loc[row_indexer,col_indexer] = value instead\n",
      "\n",
      "See the caveats in the documentation: https://pandas.pydata.org/pandas-docs/stable/user_guide/indexing.html#returning-a-view-versus-a-copy\n",
      "  data_toUse_[sL1JetResponse] = data_toUse_[sL1JetEt_forResolutionPlots] / data_toUse_[sRefJetEt]\n"
     ]
    },
    {
     "name": "stdout",
     "output_type": "stream",
     "text": [
      "popt: [9.74870634e+02 1.00050173e+00 2.24276792e-01], \n",
      "pcov: \n",
      "[[ 1.50551382e+02  1.06665730e-04 -1.19947780e-02]\n",
      " [ 1.06665730e-04  5.31610726e-06 -4.73997582e-08]\n",
      " [-1.19947780e-02 -4.73997582e-08  2.79654795e-06]],  \n",
      "poptErr = array([1.22699381e+01, 2.30566851e-03, 1.67228824e-03])\n"
     ]
    },
    {
     "name": "stderr",
     "output_type": "stream",
     "text": [
      "/tmp/ipykernel_40318/26170352.py:60: SettingWithCopyWarning: \n",
      "A value is trying to be set on a copy of a slice from a DataFrame.\n",
      "Try using .loc[row_indexer,col_indexer] = value instead\n",
      "\n",
      "See the caveats in the documentation: https://pandas.pydata.org/pandas-docs/stable/user_guide/indexing.html#returning-a-view-versus-a-copy\n",
      "  data_toUse_[sL1JetResponse] = data_toUse_[sL1JetEt_forResolutionPlots] / data_toUse_[sRefJetEt]\n"
     ]
    },
    {
     "name": "stdout",
     "output_type": "stream",
     "text": [
      "popt: [9.60155694e+02 9.98615103e-01 2.20308946e-01], \n",
      "pcov: \n",
      "[[ 1.08976486e+02  8.00941545e-04 -8.83834707e-03]\n",
      " [ 8.00941545e-04  3.77876385e-06 -1.94876812e-07]\n",
      " [-8.83834707e-03 -1.94876812e-07  2.04622887e-06]],  \n",
      "poptErr = array([1.04391803e+01, 1.94390428e-03, 1.43046456e-03])\n"
     ]
    },
    {
     "name": "stderr",
     "output_type": "stream",
     "text": [
      "/tmp/ipykernel_40318/26170352.py:60: SettingWithCopyWarning: \n",
      "A value is trying to be set on a copy of a slice from a DataFrame.\n",
      "Try using .loc[row_indexer,col_indexer] = value instead\n",
      "\n",
      "See the caveats in the documentation: https://pandas.pydata.org/pandas-docs/stable/user_guide/indexing.html#returning-a-view-versus-a-copy\n",
      "  data_toUse_[sL1JetResponse] = data_toUse_[sL1JetEt_forResolutionPlots] / data_toUse_[sRefJetEt]\n"
     ]
    },
    {
     "name": "stdout",
     "output_type": "stream",
     "text": [
      "popt: [9.20638532e+02 9.97548386e-01 2.14493843e-01], \n",
      "pcov: \n",
      "[[ 1.89611001e+02  1.41826820e-03 -1.56424551e-02]\n",
      " [ 1.41826820e-03  6.72815998e-06 -3.41108849e-07]\n",
      " [-1.56424551e-02 -3.41108849e-07  3.66188574e-06]],  \n",
      "poptErr = array([1.37699310e+01, 2.59386969e-03, 1.91360543e-03])\n"
     ]
    },
    {
     "name": "stderr",
     "output_type": "stream",
     "text": [
      "/tmp/ipykernel_40318/26170352.py:60: SettingWithCopyWarning: \n",
      "A value is trying to be set on a copy of a slice from a DataFrame.\n",
      "Try using .loc[row_indexer,col_indexer] = value instead\n",
      "\n",
      "See the caveats in the documentation: https://pandas.pydata.org/pandas-docs/stable/user_guide/indexing.html#returning-a-view-versus-a-copy\n",
      "  data_toUse_[sL1JetResponse] = data_toUse_[sL1JetEt_forResolutionPlots] / data_toUse_[sRefJetEt]\n"
     ]
    },
    {
     "name": "stdout",
     "output_type": "stream",
     "text": [
      "popt: [8.94147308e+02 9.91818638e-01 2.08909195e-01], \n",
      "pcov: \n",
      "[[ 2.28338136e+02  2.71500910e-03 -1.93660786e-02]\n",
      " [ 2.71500910e-03  8.08228941e-06 -6.45333445e-07]\n",
      " [-1.93660786e-02 -6.45333445e-07  4.54355992e-06]],  \n",
      "poptErr = array([1.51108615e+01, 2.84293676e-03, 2.13156279e-03])\n"
     ]
    },
    {
     "name": "stderr",
     "output_type": "stream",
     "text": [
      "/tmp/ipykernel_40318/26170352.py:60: SettingWithCopyWarning: \n",
      "A value is trying to be set on a copy of a slice from a DataFrame.\n",
      "Try using .loc[row_indexer,col_indexer] = value instead\n",
      "\n",
      "See the caveats in the documentation: https://pandas.pydata.org/pandas-docs/stable/user_guide/indexing.html#returning-a-view-versus-a-copy\n",
      "  data_toUse_[sL1JetResponse] = data_toUse_[sL1JetEt_forResolutionPlots] / data_toUse_[sRefJetEt]\n"
     ]
    },
    {
     "name": "stdout",
     "output_type": "stream",
     "text": [
      "popt: [8.97194721e+02 9.96027890e-01 2.01270965e-01], \n",
      "pcov: \n",
      "[[ 2.65360299e+02  2.68402484e-03 -2.15654266e-02]\n",
      " [ 2.68402484e-03  8.63513983e-06 -6.07561061e-07]\n",
      " [-2.15654266e-02 -6.07561061e-07  4.85337751e-06]],  \n",
      "poptErr = array([1.62898833e+01, 2.93856084e-03, 2.20303825e-03])\n"
     ]
    },
    {
     "name": "stderr",
     "output_type": "stream",
     "text": [
      "/tmp/ipykernel_40318/26170352.py:60: SettingWithCopyWarning: \n",
      "A value is trying to be set on a copy of a slice from a DataFrame.\n",
      "Try using .loc[row_indexer,col_indexer] = value instead\n",
      "\n",
      "See the caveats in the documentation: https://pandas.pydata.org/pandas-docs/stable/user_guide/indexing.html#returning-a-view-versus-a-copy\n",
      "  data_toUse_[sL1JetResponse] = data_toUse_[sL1JetEt_forResolutionPlots] / data_toUse_[sRefJetEt]\n"
     ]
    },
    {
     "name": "stdout",
     "output_type": "stream",
     "text": [
      "popt: [8.65649916e+02 9.91565028e-01 1.95163033e-01], \n",
      "pcov: \n",
      "[[ 2.85719738e+02  3.50199309e-03 -2.32769409e-02]\n",
      " [ 3.50199309e-03  9.42109389e-06 -7.91694285e-07]\n",
      " [-2.32769409e-02 -7.91694285e-07  5.25759381e-06]],  \n",
      "poptErr = array([1.69032464e+01, 3.06938005e-03, 2.29294435e-03])\n"
     ]
    },
    {
     "name": "stderr",
     "output_type": "stream",
     "text": [
      "/tmp/ipykernel_40318/26170352.py:60: SettingWithCopyWarning: \n",
      "A value is trying to be set on a copy of a slice from a DataFrame.\n",
      "Try using .loc[row_indexer,col_indexer] = value instead\n",
      "\n",
      "See the caveats in the documentation: https://pandas.pydata.org/pandas-docs/stable/user_guide/indexing.html#returning-a-view-versus-a-copy\n",
      "  data_toUse_[sL1JetResponse] = data_toUse_[sL1JetEt_forResolutionPlots] / data_toUse_[sRefJetEt]\n"
     ]
    },
    {
     "name": "stdout",
     "output_type": "stream",
     "text": [
      "popt: [8.42724424e+02 9.90814485e-01 1.90259998e-01], \n",
      "pcov: \n",
      "[[ 2.84422993e+02  3.01094020e-03 -2.33696014e-02]\n",
      " [ 3.01094020e-03  9.31800119e-06 -6.81010574e-07]\n",
      " [-2.33696014e-02 -6.81010574e-07  5.27936107e-06]],  \n",
      "poptErr = array([1.68648449e+01, 3.05254012e-03, 2.29768602e-03])\n"
     ]
    },
    {
     "name": "stderr",
     "output_type": "stream",
     "text": [
      "/tmp/ipykernel_40318/26170352.py:60: SettingWithCopyWarning: \n",
      "A value is trying to be set on a copy of a slice from a DataFrame.\n",
      "Try using .loc[row_indexer,col_indexer] = value instead\n",
      "\n",
      "See the caveats in the documentation: https://pandas.pydata.org/pandas-docs/stable/user_guide/indexing.html#returning-a-view-versus-a-copy\n",
      "  data_toUse_[sL1JetResponse] = data_toUse_[sL1JetEt_forResolutionPlots] / data_toUse_[sRefJetEt]\n"
     ]
    },
    {
     "name": "stdout",
     "output_type": "stream",
     "text": [
      "popt: [8.13649104e+02 9.92839822e-01 1.89603682e-01], \n",
      "pcov: \n",
      "[[ 3.01831190e+02  3.94584935e-03 -2.53325043e-02]\n",
      " [ 3.94584935e-03  1.06459206e-05 -9.20058143e-07]\n",
      " [-2.53325043e-02 -9.20058143e-07  5.90881121e-06]],  \n",
      "poptErr = array([1.73732896e+01, 3.26280869e-03, 2.43080464e-03])\n"
     ]
    },
    {
     "name": "stderr",
     "output_type": "stream",
     "text": [
      "/tmp/ipykernel_40318/26170352.py:60: SettingWithCopyWarning: \n",
      "A value is trying to be set on a copy of a slice from a DataFrame.\n",
      "Try using .loc[row_indexer,col_indexer] = value instead\n",
      "\n",
      "See the caveats in the documentation: https://pandas.pydata.org/pandas-docs/stable/user_guide/indexing.html#returning-a-view-versus-a-copy\n",
      "  data_toUse_[sL1JetResponse] = data_toUse_[sL1JetEt_forResolutionPlots] / data_toUse_[sRefJetEt]\n"
     ]
    },
    {
     "name": "stdout",
     "output_type": "stream",
     "text": [
      "popt: [8.03788105e+02 9.94504156e-01 1.83281059e-01], \n",
      "pcov: \n",
      "[[ 3.82201614e+02  4.75406077e-03 -3.22772506e-02]\n",
      " [ 4.75406077e-03  1.26968790e-05 -1.08178261e-06]\n",
      " [-3.22772506e-02 -1.08178261e-06  7.36925807e-06]],  \n",
      "poptErr = array([1.95499773e+01, 3.56326802e-03, 2.71463774e-03])\n"
     ]
    },
    {
     "name": "stderr",
     "output_type": "stream",
     "text": [
      "/tmp/ipykernel_40318/26170352.py:60: SettingWithCopyWarning: \n",
      "A value is trying to be set on a copy of a slice from a DataFrame.\n",
      "Try using .loc[row_indexer,col_indexer] = value instead\n",
      "\n",
      "See the caveats in the documentation: https://pandas.pydata.org/pandas-docs/stable/user_guide/indexing.html#returning-a-view-versus-a-copy\n",
      "  data_toUse_[sL1JetResponse] = data_toUse_[sL1JetEt_forResolutionPlots] / data_toUse_[sRefJetEt]\n"
     ]
    },
    {
     "name": "stdout",
     "output_type": "stream",
     "text": [
      "popt: [7.87015312e+02 9.91647290e-01 1.78363979e-01], \n",
      "pcov: \n",
      "[[ 2.81389924e+02  3.68435637e-03 -2.28735379e-02]\n",
      " [ 3.68435637e-03  9.40941361e-06 -8.34731289e-07]\n",
      " [-2.28735379e-02 -8.34731289e-07  5.18599601e-06]],  \n",
      "poptErr = array([1.67746810e+01, 3.06747675e-03, 2.27727820e-03])\n"
     ]
    },
    {
     "name": "stderr",
     "output_type": "stream",
     "text": [
      "/tmp/ipykernel_40318/26170352.py:60: SettingWithCopyWarning: \n",
      "A value is trying to be set on a copy of a slice from a DataFrame.\n",
      "Try using .loc[row_indexer,col_indexer] = value instead\n",
      "\n",
      "See the caveats in the documentation: https://pandas.pydata.org/pandas-docs/stable/user_guide/indexing.html#returning-a-view-versus-a-copy\n",
      "  data_toUse_[sL1JetResponse] = data_toUse_[sL1JetEt_forResolutionPlots] / data_toUse_[sRefJetEt]\n"
     ]
    },
    {
     "name": "stdout",
     "output_type": "stream",
     "text": [
      "popt: [7.67158801e+02 9.97244986e-01 1.75847854e-01], \n",
      "pcov: \n",
      "[[ 3.43317790e+02  4.41058107e-03 -2.88953597e-02]\n",
      " [ 4.41058107e-03  1.15988866e-05 -1.00700070e-06]\n",
      " [-2.88953597e-02 -1.00700070e-06  6.63433613e-06]],  \n",
      "poptErr = array([1.85288367e+01, 3.40571382e-03, 2.57572051e-03])\n"
     ]
    },
    {
     "name": "stderr",
     "output_type": "stream",
     "text": [
      "/tmp/ipykernel_40318/26170352.py:60: SettingWithCopyWarning: \n",
      "A value is trying to be set on a copy of a slice from a DataFrame.\n",
      "Try using .loc[row_indexer,col_indexer] = value instead\n",
      "\n",
      "See the caveats in the documentation: https://pandas.pydata.org/pandas-docs/stable/user_guide/indexing.html#returning-a-view-versus-a-copy\n",
      "  data_toUse_[sL1JetResponse] = data_toUse_[sL1JetEt_forResolutionPlots] / data_toUse_[sRefJetEt]\n"
     ]
    },
    {
     "name": "stdout",
     "output_type": "stream",
     "text": [
      "popt: [1.47235478e+03 9.94945008e-01 1.71339708e-01], \n",
      "pcov: \n",
      "[[ 1.16067249e+03  7.46389080e-03 -4.93410487e-02]\n",
      " [ 7.46389080e-03  1.01088878e-05 -8.68540350e-07]\n",
      " [-4.93410487e-02 -8.68540350e-07  5.74231610e-06]],  \n",
      "poptErr = array([3.40686438e+01, 3.17944772e-03, 2.39631302e-03])\n"
     ]
    },
    {
     "name": "stderr",
     "output_type": "stream",
     "text": [
      "/tmp/ipykernel_40318/26170352.py:60: SettingWithCopyWarning: \n",
      "A value is trying to be set on a copy of a slice from a DataFrame.\n",
      "Try using .loc[row_indexer,col_indexer] = value instead\n",
      "\n",
      "See the caveats in the documentation: https://pandas.pydata.org/pandas-docs/stable/user_guide/indexing.html#returning-a-view-versus-a-copy\n",
      "  data_toUse_[sL1JetResponse] = data_toUse_[sL1JetEt_forResolutionPlots] / data_toUse_[sRefJetEt]\n"
     ]
    },
    {
     "name": "stdout",
     "output_type": "stream",
     "text": [
      "popt: [1.42972297e+03 9.97813904e-01 1.61222395e-01], \n",
      "pcov: \n",
      "[[ 1.20835601e+03  8.39625545e-03 -4.87637872e-02]\n",
      " [ 8.39625545e-03  1.00300574e-05 -9.46697146e-07]\n",
      " [-4.87637872e-02 -9.46697146e-07  5.49896114e-06]],  \n",
      "poptErr = array([3.47614155e+01, 3.16702658e-03, 2.34498638e-03])\n"
     ]
    },
    {
     "name": "stderr",
     "output_type": "stream",
     "text": [
      "/tmp/ipykernel_40318/26170352.py:60: SettingWithCopyWarning: \n",
      "A value is trying to be set on a copy of a slice from a DataFrame.\n",
      "Try using .loc[row_indexer,col_indexer] = value instead\n",
      "\n",
      "See the caveats in the documentation: https://pandas.pydata.org/pandas-docs/stable/user_guide/indexing.html#returning-a-view-versus-a-copy\n",
      "  data_toUse_[sL1JetResponse] = data_toUse_[sL1JetEt_forResolutionPlots] / data_toUse_[sRefJetEt]\n"
     ]
    },
    {
     "name": "stdout",
     "output_type": "stream",
     "text": [
      "popt: [1.35636675e+03 9.96419751e-01 1.58583160e-01], \n",
      "pcov: \n",
      "[[ 1.33144700e+03  1.11444336e-02 -5.64893388e-02]\n",
      " [ 1.11444336e-02  1.18532674e-05 -1.30291201e-06]\n",
      " [-5.64893388e-02 -1.30291201e-06  6.60464277e-06]],  \n",
      "poptErr = array([3.64889983e+01, 3.44285744e-03, 2.56994995e-03])\n"
     ]
    },
    {
     "name": "stderr",
     "output_type": "stream",
     "text": [
      "/tmp/ipykernel_40318/26170352.py:60: SettingWithCopyWarning: \n",
      "A value is trying to be set on a copy of a slice from a DataFrame.\n",
      "Try using .loc[row_indexer,col_indexer] = value instead\n",
      "\n",
      "See the caveats in the documentation: https://pandas.pydata.org/pandas-docs/stable/user_guide/indexing.html#returning-a-view-versus-a-copy\n",
      "  data_toUse_[sL1JetResponse] = data_toUse_[sL1JetEt_forResolutionPlots] / data_toUse_[sRefJetEt]\n"
     ]
    },
    {
     "name": "stdout",
     "output_type": "stream",
     "text": [
      "popt: [2.59489576e+03 1.00003831e+00 1.49127900e-01], \n",
      "pcov: \n",
      "[[ 4.21677444e+03  1.53884201e-02 -8.82028073e-02]\n",
      " [ 1.53884201e-02  9.01244580e-06 -8.84331434e-07]\n",
      " [-8.82028073e-02 -8.84331434e-07  5.06899756e-06]],  \n",
      "poptErr = array([6.49366956e+01, 3.00207358e-03, 2.25144344e-03])\n"
     ]
    },
    {
     "name": "stderr",
     "output_type": "stream",
     "text": [
      "/tmp/ipykernel_40318/26170352.py:60: SettingWithCopyWarning: \n",
      "A value is trying to be set on a copy of a slice from a DataFrame.\n",
      "Try using .loc[row_indexer,col_indexer] = value instead\n",
      "\n",
      "See the caveats in the documentation: https://pandas.pydata.org/pandas-docs/stable/user_guide/indexing.html#returning-a-view-versus-a-copy\n",
      "  data_toUse_[sL1JetResponse] = data_toUse_[sL1JetEt_forResolutionPlots] / data_toUse_[sRefJetEt]\n"
     ]
    },
    {
     "name": "stdout",
     "output_type": "stream",
     "text": [
      "popt: [2.37198032e+03 9.97861726e-01 1.39197507e-01], \n",
      "pcov: \n",
      "[[ 4.45837101e+03  1.85020386e-02 -9.56907552e-02]\n",
      " [ 1.85020386e-02  9.94854274e-06 -1.08568460e-06]\n",
      " [-9.56907552e-02 -1.08568460e-06  5.61554622e-06]],  \n",
      "poptErr = array([6.67710342e+01, 3.15413106e-03, 2.36971437e-03])\n"
     ]
    },
    {
     "name": "stderr",
     "output_type": "stream",
     "text": [
      "/tmp/ipykernel_40318/26170352.py:60: SettingWithCopyWarning: \n",
      "A value is trying to be set on a copy of a slice from a DataFrame.\n",
      "Try using .loc[row_indexer,col_indexer] = value instead\n",
      "\n",
      "See the caveats in the documentation: https://pandas.pydata.org/pandas-docs/stable/user_guide/indexing.html#returning-a-view-versus-a-copy\n",
      "  data_toUse_[sL1JetResponse] = data_toUse_[sL1JetEt_forResolutionPlots] / data_toUse_[sRefJetEt]\n"
     ]
    },
    {
     "name": "stdout",
     "output_type": "stream",
     "text": [
      "popt: [2.17615697e+03 9.97292351e-01 1.33754536e-01], \n",
      "pcov: \n",
      "[[ 3.14731227e+03  1.32665906e-02 -7.07536592e-02]\n",
      " [ 1.32665906e-02  7.69414920e-06 -8.15356988e-07]\n",
      " [-7.07536592e-02 -8.15356988e-07  4.34879060e-06]],  \n",
      "poptErr = array([5.61009115e+01, 2.77383294e-03, 2.08537541e-03])\n"
     ]
    },
    {
     "name": "stderr",
     "output_type": "stream",
     "text": [
      "/tmp/ipykernel_40318/26170352.py:60: SettingWithCopyWarning: \n",
      "A value is trying to be set on a copy of a slice from a DataFrame.\n",
      "Try using .loc[row_indexer,col_indexer] = value instead\n",
      "\n",
      "See the caveats in the documentation: https://pandas.pydata.org/pandas-docs/stable/user_guide/indexing.html#returning-a-view-versus-a-copy\n",
      "  data_toUse_[sL1JetResponse] = data_toUse_[sL1JetEt_forResolutionPlots] / data_toUse_[sRefJetEt]\n"
     ]
    },
    {
     "name": "stdout",
     "output_type": "stream",
     "text": [
      "popt: [1.98077469e+03 9.93994466e-01 1.26991410e-01], \n",
      "pcov: \n",
      "[[ 3.13191475e+03  1.57946320e-02 -7.33456724e-02]\n",
      " [ 1.57946320e-02  8.38906836e-06 -1.01259734e-06]\n",
      " [-7.33456724e-02 -1.01259734e-06  4.70234281e-06]],  \n",
      "poptErr = array([5.59635127e+01, 2.89638885e-03, 2.16848860e-03])\n"
     ]
    },
    {
     "name": "stderr",
     "output_type": "stream",
     "text": [
      "/tmp/ipykernel_40318/26170352.py:60: SettingWithCopyWarning: \n",
      "A value is trying to be set on a copy of a slice from a DataFrame.\n",
      "Try using .loc[row_indexer,col_indexer] = value instead\n",
      "\n",
      "See the caveats in the documentation: https://pandas.pydata.org/pandas-docs/stable/user_guide/indexing.html#returning-a-view-versus-a-copy\n",
      "  data_toUse_[sL1JetResponse] = data_toUse_[sL1JetEt_forResolutionPlots] / data_toUse_[sRefJetEt]\n"
     ]
    },
    {
     "name": "stdout",
     "output_type": "stream",
     "text": [
      "popt: [6.40368927e+02 1.10987511e+00 3.39821982e-01], \n",
      "pcov: \n",
      "[[ 7.04865950e+02 -2.22571867e-02 -1.65613658e-01]\n",
      " [-2.22571867e-02  1.37870434e-04  3.70522580e-06]\n",
      " [-1.65613658e-01  3.70522580e-06  9.97336349e-05]],  \n",
      "poptErr = array([2.65493117e+01, 1.17418241e-02, 9.98667286e-03])\n"
     ]
    },
    {
     "name": "stderr",
     "output_type": "stream",
     "text": [
      "/tmp/ipykernel_40318/26170352.py:60: SettingWithCopyWarning: \n",
      "A value is trying to be set on a copy of a slice from a DataFrame.\n",
      "Try using .loc[row_indexer,col_indexer] = value instead\n",
      "\n",
      "See the caveats in the documentation: https://pandas.pydata.org/pandas-docs/stable/user_guide/indexing.html#returning-a-view-versus-a-copy\n",
      "  data_toUse_[sL1JetResponse] = data_toUse_[sL1JetEt_forResolutionPlots] / data_toUse_[sRefJetEt]\n"
     ]
    },
    {
     "name": "stdout",
     "output_type": "stream",
     "text": [
      "popt: [6.91638453e+02 1.06889589e+00 3.22835936e-01], \n",
      "pcov: \n",
      "[[ 8.13228012e+02 -3.27165926e-02 -1.58946981e-01]\n",
      " [-3.27165926e-02  1.23206338e-04  1.04495184e-05]\n",
      " [-1.58946981e-01  1.04495184e-05  8.17550148e-05]],  \n",
      "poptErr = array([2.85171529e+01, 1.10998351e-02, 9.04184798e-03])\n"
     ]
    },
    {
     "name": "stderr",
     "output_type": "stream",
     "text": [
      "/tmp/ipykernel_40318/26170352.py:60: SettingWithCopyWarning: \n",
      "A value is trying to be set on a copy of a slice from a DataFrame.\n",
      "Try using .loc[row_indexer,col_indexer] = value instead\n",
      "\n",
      "See the caveats in the documentation: https://pandas.pydata.org/pandas-docs/stable/user_guide/indexing.html#returning-a-view-versus-a-copy\n",
      "  data_toUse_[sL1JetResponse] = data_toUse_[sL1JetEt_forResolutionPlots] / data_toUse_[sRefJetEt]\n"
     ]
    },
    {
     "name": "stdout",
     "output_type": "stream",
     "text": [
      "popt: [7.04606512e+02 1.03120143e+00 3.23031328e-01], \n",
      "pcov: \n",
      "[[ 6.04428711e+02 -1.31436715e-02 -1.18025127e-01]\n",
      " [-1.31436715e-02  8.78309681e-05  1.65627593e-06]\n",
      " [-1.18025127e-01  1.65627593e-06  6.03759135e-05]],  \n",
      "poptErr = array([2.45851319e+01, 9.37181776e-03, 7.77019392e-03])\n"
     ]
    },
    {
     "name": "stderr",
     "output_type": "stream",
     "text": [
      "/tmp/ipykernel_40318/26170352.py:60: SettingWithCopyWarning: \n",
      "A value is trying to be set on a copy of a slice from a DataFrame.\n",
      "Try using .loc[row_indexer,col_indexer] = value instead\n",
      "\n",
      "See the caveats in the documentation: https://pandas.pydata.org/pandas-docs/stable/user_guide/indexing.html#returning-a-view-versus-a-copy\n",
      "  data_toUse_[sL1JetResponse] = data_toUse_[sL1JetEt_forResolutionPlots] / data_toUse_[sRefJetEt]\n"
     ]
    },
    {
     "name": "stdout",
     "output_type": "stream",
     "text": [
      "popt: [7.32388605e+02 1.02364313e+00 2.99332383e-01], \n",
      "pcov: \n",
      "[[ 7.90638448e+02 -3.66503892e-02 -1.19841898e-01]\n",
      " [-3.66503892e-02  9.48298001e-05  1.32948368e-05]\n",
      " [-1.19841898e-01  1.32948368e-05  5.18258191e-05]],  \n",
      "poptErr = array([2.81182938e+01, 9.73805936e-03, 7.19901515e-03])\n"
     ]
    },
    {
     "name": "stderr",
     "output_type": "stream",
     "text": [
      "/tmp/ipykernel_40318/26170352.py:60: SettingWithCopyWarning: \n",
      "A value is trying to be set on a copy of a slice from a DataFrame.\n",
      "Try using .loc[row_indexer,col_indexer] = value instead\n",
      "\n",
      "See the caveats in the documentation: https://pandas.pydata.org/pandas-docs/stable/user_guide/indexing.html#returning-a-view-versus-a-copy\n",
      "  data_toUse_[sL1JetResponse] = data_toUse_[sL1JetEt_forResolutionPlots] / data_toUse_[sRefJetEt]\n"
     ]
    },
    {
     "name": "stdout",
     "output_type": "stream",
     "text": [
      "popt: [7.48458511e+02 1.00676186e+00 2.87806136e-01], \n",
      "pcov: \n",
      "[[ 8.57050885e+02 -4.31737478e-02 -1.16703183e-01]\n",
      " [-4.31737478e-02  9.31271895e-05  1.55197648e-05]\n",
      " [-1.16703183e-01  1.55197648e-05  4.68348913e-05]],  \n",
      "poptErr = array([2.92754314e+01, 9.65024297e-03, 6.84360222e-03])\n"
     ]
    },
    {
     "name": "stderr",
     "output_type": "stream",
     "text": [
      "/tmp/ipykernel_40318/26170352.py:60: SettingWithCopyWarning: \n",
      "A value is trying to be set on a copy of a slice from a DataFrame.\n",
      "Try using .loc[row_indexer,col_indexer] = value instead\n",
      "\n",
      "See the caveats in the documentation: https://pandas.pydata.org/pandas-docs/stable/user_guide/indexing.html#returning-a-view-versus-a-copy\n",
      "  data_toUse_[sL1JetResponse] = data_toUse_[sL1JetEt_forResolutionPlots] / data_toUse_[sRefJetEt]\n"
     ]
    },
    {
     "name": "stdout",
     "output_type": "stream",
     "text": [
      "popt: [7.21095135e+02 9.85485793e-01 3.06411988e-01], \n",
      "pcov: \n",
      "[[ 3.31456562e+02 -5.57691889e-03 -5.51020594e-02]\n",
      " [-5.57691889e-03  4.12316638e-05  1.08798037e-06]\n",
      " [-5.51020594e-02  1.08798037e-06  2.52478974e-05]],  \n",
      "poptErr = array([1.82059485e+01, 6.42118866e-03, 5.02472859e-03])\n"
     ]
    },
    {
     "name": "stderr",
     "output_type": "stream",
     "text": [
      "/tmp/ipykernel_40318/26170352.py:60: SettingWithCopyWarning: \n",
      "A value is trying to be set on a copy of a slice from a DataFrame.\n",
      "Try using .loc[row_indexer,col_indexer] = value instead\n",
      "\n",
      "See the caveats in the documentation: https://pandas.pydata.org/pandas-docs/stable/user_guide/indexing.html#returning-a-view-versus-a-copy\n",
      "  data_toUse_[sL1JetResponse] = data_toUse_[sL1JetEt_forResolutionPlots] / data_toUse_[sRefJetEt]\n"
     ]
    },
    {
     "name": "stdout",
     "output_type": "stream",
     "text": [
      "popt: [7.14430580e+02 9.84182625e-01 2.94577465e-01], \n",
      "pcov: \n",
      "[[ 3.61963300e+02 -9.75045527e-03 -5.56708380e-02]\n",
      " [-9.75045527e-03  4.24254515e-05  3.25537344e-06]\n",
      " [-5.56708380e-02  3.25537344e-06  2.41746634e-05]],  \n",
      "poptErr = array([1.90253331e+01, 6.51348229e-03, 4.91677368e-03])\n"
     ]
    },
    {
     "name": "stderr",
     "output_type": "stream",
     "text": [
      "/tmp/ipykernel_40318/26170352.py:60: SettingWithCopyWarning: \n",
      "A value is trying to be set on a copy of a slice from a DataFrame.\n",
      "Try using .loc[row_indexer,col_indexer] = value instead\n",
      "\n",
      "See the caveats in the documentation: https://pandas.pydata.org/pandas-docs/stable/user_guide/indexing.html#returning-a-view-versus-a-copy\n",
      "  data_toUse_[sL1JetResponse] = data_toUse_[sL1JetEt_forResolutionPlots] / data_toUse_[sRefJetEt]\n"
     ]
    },
    {
     "name": "stdout",
     "output_type": "stream",
     "text": [
      "popt: [7.07344017e+02 9.76319267e-01 2.90470244e-01], \n",
      "pcov: \n",
      "[[ 2.19707633e+02 -4.56743900e-03 -3.27554590e-02]\n",
      " [-4.56743900e-03  2.54404101e-05  1.49443903e-06]\n",
      " [-3.27554590e-02  1.49443903e-06  1.40438962e-05]],  \n",
      "poptErr = array([1.48225380e+01, 5.04384873e-03, 3.74751867e-03])\n"
     ]
    },
    {
     "name": "stderr",
     "output_type": "stream",
     "text": [
      "/tmp/ipykernel_40318/26170352.py:60: SettingWithCopyWarning: \n",
      "A value is trying to be set on a copy of a slice from a DataFrame.\n",
      "Try using .loc[row_indexer,col_indexer] = value instead\n",
      "\n",
      "See the caveats in the documentation: https://pandas.pydata.org/pandas-docs/stable/user_guide/indexing.html#returning-a-view-versus-a-copy\n",
      "  data_toUse_[sL1JetResponse] = data_toUse_[sL1JetEt_forResolutionPlots] / data_toUse_[sRefJetEt]\n"
     ]
    },
    {
     "name": "stdout",
     "output_type": "stream",
     "text": [
      "popt: [7.12036121e+02 9.82107432e-01 2.70202223e-01], \n",
      "pcov: \n",
      "[[ 3.54948440e+02 -1.25427657e-02 -4.30902481e-02]\n",
      " [-1.25427657e-02  3.71339932e-05  4.56885109e-06]\n",
      " [-4.30902481e-02  4.56885109e-06  1.66852667e-05]],  \n",
      "poptErr = array([1.88400754e+01, 6.09376675e-03, 4.08476030e-03])\n"
     ]
    },
    {
     "name": "stderr",
     "output_type": "stream",
     "text": [
      "/tmp/ipykernel_40318/26170352.py:60: SettingWithCopyWarning: \n",
      "A value is trying to be set on a copy of a slice from a DataFrame.\n",
      "Try using .loc[row_indexer,col_indexer] = value instead\n",
      "\n",
      "See the caveats in the documentation: https://pandas.pydata.org/pandas-docs/stable/user_guide/indexing.html#returning-a-view-versus-a-copy\n",
      "  data_toUse_[sL1JetResponse] = data_toUse_[sL1JetEt_forResolutionPlots] / data_toUse_[sRefJetEt]\n"
     ]
    },
    {
     "name": "stdout",
     "output_type": "stream",
     "text": [
      "popt: [6.67117968e+02 9.74935310e-01 2.78264186e-01], \n",
      "pcov: \n",
      "[[ 1.38335969e+02 -2.32075336e-03 -2.02216944e-02]\n",
      " [-2.32075336e-03  1.64195297e-05  8.19748204e-07]\n",
      " [-2.02216944e-02  8.19748204e-07  8.67718149e-06]],  \n",
      "poptErr = array([1.17616312e+01, 4.05210188e-03, 2.94570560e-03])\n"
     ]
    },
    {
     "name": "stderr",
     "output_type": "stream",
     "text": [
      "/tmp/ipykernel_40318/26170352.py:60: SettingWithCopyWarning: \n",
      "A value is trying to be set on a copy of a slice from a DataFrame.\n",
      "Try using .loc[row_indexer,col_indexer] = value instead\n",
      "\n",
      "See the caveats in the documentation: https://pandas.pydata.org/pandas-docs/stable/user_guide/indexing.html#returning-a-view-versus-a-copy\n",
      "  data_toUse_[sL1JetResponse] = data_toUse_[sL1JetEt_forResolutionPlots] / data_toUse_[sRefJetEt]\n"
     ]
    },
    {
     "name": "stdout",
     "output_type": "stream",
     "text": [
      "popt: [6.52757078e+02 9.73356757e-01 2.71142520e-01], \n",
      "pcov: \n",
      "[[ 1.17606304e+02 -1.36577174e-03 -1.72750285e-02]\n",
      " [-1.36577174e-03  1.36507581e-05  4.57910023e-07]\n",
      " [-1.72750285e-02  4.57910023e-07  7.35191798e-06]],  \n",
      "poptErr = array([1.08446440e+01, 3.69469323e-03, 2.71144205e-03])\n"
     ]
    },
    {
     "name": "stderr",
     "output_type": "stream",
     "text": [
      "/tmp/ipykernel_40318/26170352.py:60: SettingWithCopyWarning: \n",
      "A value is trying to be set on a copy of a slice from a DataFrame.\n",
      "Try using .loc[row_indexer,col_indexer] = value instead\n",
      "\n",
      "See the caveats in the documentation: https://pandas.pydata.org/pandas-docs/stable/user_guide/indexing.html#returning-a-view-versus-a-copy\n",
      "  data_toUse_[sL1JetResponse] = data_toUse_[sL1JetEt_forResolutionPlots] / data_toUse_[sRefJetEt]\n"
     ]
    },
    {
     "name": "stdout",
     "output_type": "stream",
     "text": [
      "popt: [6.45211379e+02 9.73681574e-01 2.58022444e-01], \n",
      "pcov: \n",
      "[[ 1.18603846e+02 -2.05527787e-03 -1.57122925e-02]\n",
      " [-2.05527787e-03  1.30353104e-05  7.75128018e-07]\n",
      " [-1.57122925e-02  7.75128018e-07  6.36611100e-06]],  \n",
      "poptErr = array([1.08905393e+01, 3.61044462e-03, 2.52311534e-03])\n"
     ]
    },
    {
     "name": "stderr",
     "output_type": "stream",
     "text": [
      "/tmp/ipykernel_40318/26170352.py:60: SettingWithCopyWarning: \n",
      "A value is trying to be set on a copy of a slice from a DataFrame.\n",
      "Try using .loc[row_indexer,col_indexer] = value instead\n",
      "\n",
      "See the caveats in the documentation: https://pandas.pydata.org/pandas-docs/stable/user_guide/indexing.html#returning-a-view-versus-a-copy\n",
      "  data_toUse_[sL1JetResponse] = data_toUse_[sL1JetEt_forResolutionPlots] / data_toUse_[sRefJetEt]\n"
     ]
    },
    {
     "name": "stdout",
     "output_type": "stream",
     "text": [
      "popt: [1.00977092e+03 9.71161362e-01 2.57593463e-01], \n",
      "pcov: \n",
      "[[ 2.39099899e+02 -2.43333655e-03 -2.05487132e-02]\n",
      " [-2.43333655e-03  1.05456002e-05  5.91573497e-07]\n",
      " [-2.05487132e-02  5.91573497e-07  5.29513272e-06]],  \n",
      "poptErr = array([1.54628554e+01, 3.24739899e-03, 2.30111554e-03])\n"
     ]
    },
    {
     "name": "stderr",
     "output_type": "stream",
     "text": [
      "/tmp/ipykernel_40318/26170352.py:60: SettingWithCopyWarning: \n",
      "A value is trying to be set on a copy of a slice from a DataFrame.\n",
      "Try using .loc[row_indexer,col_indexer] = value instead\n",
      "\n",
      "See the caveats in the documentation: https://pandas.pydata.org/pandas-docs/stable/user_guide/indexing.html#returning-a-view-versus-a-copy\n",
      "  data_toUse_[sL1JetResponse] = data_toUse_[sL1JetEt_forResolutionPlots] / data_toUse_[sRefJetEt]\n"
     ]
    },
    {
     "name": "stdout",
     "output_type": "stream",
     "text": [
      "popt: [9.65156580e+02 9.70555997e-01 2.50700813e-01], \n",
      "pcov: \n",
      "[[ 1.28511132e+02 -5.78003313e-05 -1.18834319e-02]\n",
      " [-5.78003313e-05  5.66503439e-06  2.08368863e-09]\n",
      " [-1.18834319e-02  2.08368863e-09  3.11555820e-06]],  \n",
      "poptErr = array([1.13362750e+01, 2.38013327e-03, 1.76509439e-03])\n"
     ]
    },
    {
     "name": "stderr",
     "output_type": "stream",
     "text": [
      "/tmp/ipykernel_40318/26170352.py:60: SettingWithCopyWarning: \n",
      "A value is trying to be set on a copy of a slice from a DataFrame.\n",
      "Try using .loc[row_indexer,col_indexer] = value instead\n",
      "\n",
      "See the caveats in the documentation: https://pandas.pydata.org/pandas-docs/stable/user_guide/indexing.html#returning-a-view-versus-a-copy\n",
      "  data_toUse_[sL1JetResponse] = data_toUse_[sL1JetEt_forResolutionPlots] / data_toUse_[sRefJetEt]\n"
     ]
    },
    {
     "name": "stdout",
     "output_type": "stream",
     "text": [
      "popt: [9.18012286e+02 9.73045006e-01 2.41399317e-01], \n",
      "pcov: \n",
      "[[ 1.71468317e+02 -1.83335123e-04 -1.67468773e-02]\n",
      " [-1.83335123e-04  7.51982721e-06  3.57983539e-08]\n",
      " [-1.67468773e-02  3.57983539e-08  4.42845832e-06]],  \n",
      "poptErr = array([1.30945911e+01, 2.74223033e-03, 2.10439025e-03])\n"
     ]
    },
    {
     "name": "stderr",
     "output_type": "stream",
     "text": [
      "/tmp/ipykernel_40318/26170352.py:60: SettingWithCopyWarning: \n",
      "A value is trying to be set on a copy of a slice from a DataFrame.\n",
      "Try using .loc[row_indexer,col_indexer] = value instead\n",
      "\n",
      "See the caveats in the documentation: https://pandas.pydata.org/pandas-docs/stable/user_guide/indexing.html#returning-a-view-versus-a-copy\n",
      "  data_toUse_[sL1JetResponse] = data_toUse_[sL1JetEt_forResolutionPlots] / data_toUse_[sRefJetEt]\n"
     ]
    },
    {
     "name": "stdout",
     "output_type": "stream",
     "text": [
      "popt: [8.78004926e+02 9.71230213e-01 2.35027718e-01], \n",
      "pcov: \n",
      "[[ 1.73560716e+02 -1.80797271e-04 -1.70059057e-02]\n",
      " [-1.80797271e-04  7.92462865e-06  4.17196156e-08]\n",
      " [-1.70059057e-02  4.17196156e-08  4.56682433e-06]],  \n",
      "poptErr = array([1.31742444e+01, 2.81507170e-03, 2.13701294e-03])\n"
     ]
    },
    {
     "name": "stderr",
     "output_type": "stream",
     "text": [
      "/tmp/ipykernel_40318/26170352.py:60: SettingWithCopyWarning: \n",
      "A value is trying to be set on a copy of a slice from a DataFrame.\n",
      "Try using .loc[row_indexer,col_indexer] = value instead\n",
      "\n",
      "See the caveats in the documentation: https://pandas.pydata.org/pandas-docs/stable/user_guide/indexing.html#returning-a-view-versus-a-copy\n",
      "  data_toUse_[sL1JetResponse] = data_toUse_[sL1JetEt_forResolutionPlots] / data_toUse_[sRefJetEt]\n"
     ]
    },
    {
     "name": "stdout",
     "output_type": "stream",
     "text": [
      "popt: [8.21955474e+02 9.74874478e-01 2.28788080e-01], \n",
      "pcov: \n",
      "[[ 1.51456320e+02  4.99127106e-04 -1.55784048e-02]\n",
      " [ 4.99127106e-04  7.42919356e-06 -1.43554043e-07]\n",
      " [-1.55784048e-02 -1.43554043e-07  4.34595190e-06]],  \n",
      "poptErr = array([1.23067591e+01, 2.72565470e-03, 2.08469468e-03])\n"
     ]
    },
    {
     "name": "stderr",
     "output_type": "stream",
     "text": [
      "/tmp/ipykernel_40318/26170352.py:60: SettingWithCopyWarning: \n",
      "A value is trying to be set on a copy of a slice from a DataFrame.\n",
      "Try using .loc[row_indexer,col_indexer] = value instead\n",
      "\n",
      "See the caveats in the documentation: https://pandas.pydata.org/pandas-docs/stable/user_guide/indexing.html#returning-a-view-versus-a-copy\n",
      "  data_toUse_[sL1JetResponse] = data_toUse_[sL1JetEt_forResolutionPlots] / data_toUse_[sRefJetEt]\n"
     ]
    },
    {
     "name": "stdout",
     "output_type": "stream",
     "text": [
      "popt: [7.85507508e+02 9.78512501e-01 2.24750621e-01], \n",
      "pcov: \n",
      "[[ 1.51398905e+02  4.58201633e-04 -1.61590280e-02]\n",
      " [ 4.58201633e-04  7.79553807e-06 -1.34757250e-07]\n",
      " [-1.61590280e-02 -1.34757250e-07  4.63115984e-06]],  \n",
      "poptErr = array([1.23044263e+01, 2.79204908e-03, 2.15201297e-03])\n"
     ]
    },
    {
     "name": "stderr",
     "output_type": "stream",
     "text": [
      "/tmp/ipykernel_40318/26170352.py:60: SettingWithCopyWarning: \n",
      "A value is trying to be set on a copy of a slice from a DataFrame.\n",
      "Try using .loc[row_indexer,col_indexer] = value instead\n",
      "\n",
      "See the caveats in the documentation: https://pandas.pydata.org/pandas-docs/stable/user_guide/indexing.html#returning-a-view-versus-a-copy\n",
      "  data_toUse_[sL1JetResponse] = data_toUse_[sL1JetEt_forResolutionPlots] / data_toUse_[sRefJetEt]\n"
     ]
    },
    {
     "name": "stdout",
     "output_type": "stream",
     "text": [
      "popt: [7.59120105e+02 9.78074871e-01 2.13850016e-01], \n",
      "pcov: \n",
      "[[ 1.79560842e+02  5.26748744e-04 -1.87050515e-02]\n",
      " [ 5.26748744e-04  9.00255625e-06 -1.50359384e-07]\n",
      " [-1.87050515e-02 -1.50359384e-07  5.27590397e-06]],  \n",
      "poptErr = array([1.34000314e+01, 3.00042601e-03, 2.29693360e-03])\n"
     ]
    },
    {
     "name": "stderr",
     "output_type": "stream",
     "text": [
      "/tmp/ipykernel_40318/26170352.py:60: SettingWithCopyWarning: \n",
      "A value is trying to be set on a copy of a slice from a DataFrame.\n",
      "Try using .loc[row_indexer,col_indexer] = value instead\n",
      "\n",
      "See the caveats in the documentation: https://pandas.pydata.org/pandas-docs/stable/user_guide/indexing.html#returning-a-view-versus-a-copy\n",
      "  data_toUse_[sL1JetResponse] = data_toUse_[sL1JetEt_forResolutionPlots] / data_toUse_[sRefJetEt]\n"
     ]
    },
    {
     "name": "stdout",
     "output_type": "stream",
     "text": [
      "popt: [7.23695171e+02 9.77163067e-01 2.09070378e-01], \n",
      "pcov: \n",
      "[[ 1.61153900e+02  3.65646853e-04 -1.72553291e-02]\n",
      " [ 3.65646853e-04  8.48083199e-06 -1.07807162e-07]\n",
      " [-1.72553291e-02 -1.07807162e-07  4.98996679e-06]],  \n",
      "poptErr = array([1.26946406e+01, 2.91218681e-03, 2.23382336e-03])\n"
     ]
    },
    {
     "name": "stderr",
     "output_type": "stream",
     "text": [
      "/tmp/ipykernel_40318/26170352.py:60: SettingWithCopyWarning: \n",
      "A value is trying to be set on a copy of a slice from a DataFrame.\n",
      "Try using .loc[row_indexer,col_indexer] = value instead\n",
      "\n",
      "See the caveats in the documentation: https://pandas.pydata.org/pandas-docs/stable/user_guide/indexing.html#returning-a-view-versus-a-copy\n",
      "  data_toUse_[sL1JetResponse] = data_toUse_[sL1JetEt_forResolutionPlots] / data_toUse_[sRefJetEt]\n"
     ]
    },
    {
     "name": "stdout",
     "output_type": "stream",
     "text": [
      "popt: [6.91570769e+02 9.76845437e-01 2.08006717e-01], \n",
      "pcov: \n",
      "[[ 1.50899774e+02  6.80774114e-04 -1.69046282e-02]\n",
      " [ 6.80774114e-04  8.58364337e-06 -2.06061141e-07]\n",
      " [-1.69046282e-02 -2.06061141e-07  5.08768108e-06]],  \n",
      "poptErr = array([1.22841269e+01, 2.92978555e-03, 2.25558885e-03])\n"
     ]
    },
    {
     "name": "stderr",
     "output_type": "stream",
     "text": [
      "/tmp/ipykernel_40318/26170352.py:60: SettingWithCopyWarning: \n",
      "A value is trying to be set on a copy of a slice from a DataFrame.\n",
      "Try using .loc[row_indexer,col_indexer] = value instead\n",
      "\n",
      "See the caveats in the documentation: https://pandas.pydata.org/pandas-docs/stable/user_guide/indexing.html#returning-a-view-versus-a-copy\n",
      "  data_toUse_[sL1JetResponse] = data_toUse_[sL1JetEt_forResolutionPlots] / data_toUse_[sRefJetEt]\n"
     ]
    },
    {
     "name": "stdout",
     "output_type": "stream",
     "text": [
      "popt: [6.73478684e+02 9.75970181e-01 2.00452867e-01], \n",
      "pcov: \n",
      "[[ 1.83677266e+02  8.39446052e-04 -2.05044294e-02]\n",
      " [ 8.39446052e-04  1.01849181e-05 -2.50724661e-07]\n",
      " [-2.05044294e-02 -2.50724661e-07  6.10505905e-06]],  \n",
      "poptErr = array([1.35527586e+01, 3.19138184e-03, 2.47084177e-03])\n"
     ]
    },
    {
     "name": "stderr",
     "output_type": "stream",
     "text": [
      "/tmp/ipykernel_40318/26170352.py:60: SettingWithCopyWarning: \n",
      "A value is trying to be set on a copy of a slice from a DataFrame.\n",
      "Try using .loc[row_indexer,col_indexer] = value instead\n",
      "\n",
      "See the caveats in the documentation: https://pandas.pydata.org/pandas-docs/stable/user_guide/indexing.html#returning-a-view-versus-a-copy\n",
      "  data_toUse_[sL1JetResponse] = data_toUse_[sL1JetEt_forResolutionPlots] / data_toUse_[sRefJetEt]\n"
     ]
    },
    {
     "name": "stdout",
     "output_type": "stream",
     "text": [
      "popt: [6.35054015e+02 9.79263849e-01 1.94783334e-01], \n",
      "pcov: \n",
      "[[ 1.86372681e+02  7.63417040e-04 -2.14976940e-02]\n",
      " [ 7.63417040e-04  1.09509288e-05 -2.34358601e-07]\n",
      " [-2.14976940e-02 -2.34358601e-07  6.59483666e-06]],  \n",
      "poptErr = array([1.36518380e+01, 3.30921876e-03, 2.56804141e-03])\n"
     ]
    },
    {
     "name": "stderr",
     "output_type": "stream",
     "text": [
      "/tmp/ipykernel_40318/26170352.py:60: SettingWithCopyWarning: \n",
      "A value is trying to be set on a copy of a slice from a DataFrame.\n",
      "Try using .loc[row_indexer,col_indexer] = value instead\n",
      "\n",
      "See the caveats in the documentation: https://pandas.pydata.org/pandas-docs/stable/user_guide/indexing.html#returning-a-view-versus-a-copy\n",
      "  data_toUse_[sL1JetResponse] = data_toUse_[sL1JetEt_forResolutionPlots] / data_toUse_[sRefJetEt]\n"
     ]
    },
    {
     "name": "stdout",
     "output_type": "stream",
     "text": [
      "popt: [5.98611066e+02 9.78540211e-01 1.93988377e-01], \n",
      "pcov: \n",
      "[[ 1.76570138e+02  1.22973631e-03 -2.17096624e-02]\n",
      " [ 1.22973631e-03  1.15330577e-05 -3.98748968e-07]\n",
      " [-2.17096624e-02 -3.98748968e-07  7.03636615e-06]],  \n",
      "poptErr = array([1.32879697e+01, 3.39603559e-03, 2.65261496e-03])\n"
     ]
    },
    {
     "name": "stderr",
     "output_type": "stream",
     "text": [
      "/tmp/ipykernel_40318/26170352.py:60: SettingWithCopyWarning: \n",
      "A value is trying to be set on a copy of a slice from a DataFrame.\n",
      "Try using .loc[row_indexer,col_indexer] = value instead\n",
      "\n",
      "See the caveats in the documentation: https://pandas.pydata.org/pandas-docs/stable/user_guide/indexing.html#returning-a-view-versus-a-copy\n",
      "  data_toUse_[sL1JetResponse] = data_toUse_[sL1JetEt_forResolutionPlots] / data_toUse_[sRefJetEt]\n"
     ]
    },
    {
     "name": "stdout",
     "output_type": "stream",
     "text": [
      "popt: [1.12934158e+03 9.76349758e-01 1.87428609e-01], \n",
      "pcov: \n",
      "[[ 6.93065954e+02  2.76433296e-03 -4.39504819e-02]\n",
      " [ 2.76433296e-03  1.18257362e-05 -4.58926418e-07]\n",
      " [-4.39504819e-02 -4.58926418e-07  7.29465543e-06]],  \n",
      "poptErr = array([2.63261458e+01, 3.43885681e-03, 2.70086198e-03])\n"
     ]
    },
    {
     "name": "stderr",
     "output_type": "stream",
     "text": [
      "/tmp/ipykernel_40318/26170352.py:60: SettingWithCopyWarning: \n",
      "A value is trying to be set on a copy of a slice from a DataFrame.\n",
      "Try using .loc[row_indexer,col_indexer] = value instead\n",
      "\n",
      "See the caveats in the documentation: https://pandas.pydata.org/pandas-docs/stable/user_guide/indexing.html#returning-a-view-versus-a-copy\n",
      "  data_toUse_[sL1JetResponse] = data_toUse_[sL1JetEt_forResolutionPlots] / data_toUse_[sRefJetEt]\n"
     ]
    },
    {
     "name": "stdout",
     "output_type": "stream",
     "text": [
      "popt: [1.03421165e+03 9.73865097e-01 1.79565767e-01], \n",
      "pcov: \n",
      "[[ 5.21936033e+02  2.78535316e-03 -3.45375363e-02]\n",
      " [ 2.78535316e-03  9.77704367e-06 -4.83620809e-07]\n",
      " [-3.45375363e-02 -4.83620809e-07  5.99670890e-06]],  \n",
      "poptErr = array([2.28459194e+01, 3.12682645e-03, 2.44881786e-03])\n"
     ]
    },
    {
     "name": "stderr",
     "output_type": "stream",
     "text": [
      "/tmp/ipykernel_40318/26170352.py:60: SettingWithCopyWarning: \n",
      "A value is trying to be set on a copy of a slice from a DataFrame.\n",
      "Try using .loc[row_indexer,col_indexer] = value instead\n",
      "\n",
      "See the caveats in the documentation: https://pandas.pydata.org/pandas-docs/stable/user_guide/indexing.html#returning-a-view-versus-a-copy\n",
      "  data_toUse_[sL1JetResponse] = data_toUse_[sL1JetEt_forResolutionPlots] / data_toUse_[sRefJetEt]\n"
     ]
    },
    {
     "name": "stdout",
     "output_type": "stream",
     "text": [
      "popt: [9.27410337e+02 9.75218296e-01 1.75912468e-01], \n",
      "pcov: \n",
      "[[ 5.36002015e+02  2.87274097e-03 -3.94069998e-02]\n",
      " [ 2.87274097e-03  1.18505461e-05 -5.44985070e-07]\n",
      " [-3.94069998e-02 -5.44985070e-07  7.47502928e-06]],  \n",
      "poptErr = array([2.31517173e+01, 3.44246222e-03, 2.73404998e-03])\n"
     ]
    },
    {
     "name": "stderr",
     "output_type": "stream",
     "text": [
      "/tmp/ipykernel_40318/26170352.py:60: SettingWithCopyWarning: \n",
      "A value is trying to be set on a copy of a slice from a DataFrame.\n",
      "Try using .loc[row_indexer,col_indexer] = value instead\n",
      "\n",
      "See the caveats in the documentation: https://pandas.pydata.org/pandas-docs/stable/user_guide/indexing.html#returning-a-view-versus-a-copy\n",
      "  data_toUse_[sL1JetResponse] = data_toUse_[sL1JetEt_forResolutionPlots] / data_toUse_[sRefJetEt]\n"
     ]
    },
    {
     "name": "stdout",
     "output_type": "stream",
     "text": [
      "popt: [1.64608946e+03 9.72083818e-01 1.66691864e-01], \n",
      "pcov: \n",
      "[[ 1.65136173e+03  3.88675320e-03 -6.53102080e-02]\n",
      " [ 3.88675320e-03  1.03441666e-05 -3.93586138e-07]\n",
      " [-6.53102080e-02 -3.93586138e-07  6.61369775e-06]],  \n",
      "poptErr = array([4.06369503e+01, 3.21623484e-03, 2.57171106e-03])\n"
     ]
    },
    {
     "name": "stderr",
     "output_type": "stream",
     "text": [
      "/tmp/ipykernel_40318/26170352.py:60: SettingWithCopyWarning: \n",
      "A value is trying to be set on a copy of a slice from a DataFrame.\n",
      "Try using .loc[row_indexer,col_indexer] = value instead\n",
      "\n",
      "See the caveats in the documentation: https://pandas.pydata.org/pandas-docs/stable/user_guide/indexing.html#returning-a-view-versus-a-copy\n",
      "  data_toUse_[sL1JetResponse] = data_toUse_[sL1JetEt_forResolutionPlots] / data_toUse_[sRefJetEt]\n"
     ]
    },
    {
     "name": "stdout",
     "output_type": "stream",
     "text": [
      "popt: [1.39277232e+03 9.70206341e-01 1.57254158e-01], \n",
      "pcov: \n",
      "[[ 1.43148444e+03  5.24545711e-03 -6.32031017e-02]\n",
      " [ 5.24545711e-03  1.11620284e-05 -5.92222868e-07]\n",
      " [-6.32031017e-02 -5.92222868e-07  7.13612867e-06]],  \n",
      "poptErr = array([3.78349632e+01, 3.34096219e-03, 2.67135334e-03])\n"
     ]
    },
    {
     "name": "stderr",
     "output_type": "stream",
     "text": [
      "/tmp/ipykernel_40318/26170352.py:60: SettingWithCopyWarning: \n",
      "A value is trying to be set on a copy of a slice from a DataFrame.\n",
      "Try using .loc[row_indexer,col_indexer] = value instead\n",
      "\n",
      "See the caveats in the documentation: https://pandas.pydata.org/pandas-docs/stable/user_guide/indexing.html#returning-a-view-versus-a-copy\n",
      "  data_toUse_[sL1JetResponse] = data_toUse_[sL1JetEt_forResolutionPlots] / data_toUse_[sRefJetEt]\n"
     ]
    },
    {
     "name": "stdout",
     "output_type": "stream",
     "text": [
      "popt: [1.16706500e+03 9.69246576e-01 1.49115386e-01], \n",
      "pcov: \n",
      "[[ 1.21434795e+03  4.72738030e-03 -6.09476815e-02]\n",
      " [ 4.72738030e-03  1.20843693e-05 -6.03978617e-07]\n",
      " [-6.09476815e-02 -6.03978617e-07  7.78731298e-06]],  \n",
      "poptErr = array([3.48474956e+01, 3.47625794e-03, 2.79057574e-03])\n"
     ]
    },
    {
     "name": "stderr",
     "output_type": "stream",
     "text": [
      "/tmp/ipykernel_40318/26170352.py:60: SettingWithCopyWarning: \n",
      "A value is trying to be set on a copy of a slice from a DataFrame.\n",
      "Try using .loc[row_indexer,col_indexer] = value instead\n",
      "\n",
      "See the caveats in the documentation: https://pandas.pydata.org/pandas-docs/stable/user_guide/indexing.html#returning-a-view-versus-a-copy\n",
      "  data_toUse_[sL1JetResponse] = data_toUse_[sL1JetEt_forResolutionPlots] / data_toUse_[sRefJetEt]\n"
     ]
    },
    {
     "name": "stdout",
     "output_type": "stream",
     "text": [
      "popt: [9.75354177e+02 9.65115740e-01 1.42991632e-01], \n",
      "pcov: \n",
      "[[ 9.03487551e+02  3.98043544e-03 -5.26305889e-02]\n",
      " [ 3.98043544e-03  1.17472231e-05 -5.83544070e-07]\n",
      " [-5.26305889e-02 -5.83544070e-07  7.71596201e-06]],  \n",
      "poptErr = array([3.00580696e+01, 3.42742222e-03, 2.77776205e-03])\n"
     ]
    },
    {
     "name": "stderr",
     "output_type": "stream",
     "text": [
      "/tmp/ipykernel_40318/26170352.py:60: SettingWithCopyWarning: \n",
      "A value is trying to be set on a copy of a slice from a DataFrame.\n",
      "Try using .loc[row_indexer,col_indexer] = value instead\n",
      "\n",
      "See the caveats in the documentation: https://pandas.pydata.org/pandas-docs/stable/user_guide/indexing.html#returning-a-view-versus-a-copy\n",
      "  data_toUse_[sL1JetResponse] = data_toUse_[sL1JetEt_forResolutionPlots] / data_toUse_[sRefJetEt]\n"
     ]
    },
    {
     "name": "stdout",
     "output_type": "stream",
     "text": [
      "popt: [4.86412571e+02 1.10139049e+00 2.52573418e-01], \n",
      "pcov: \n",
      "[[ 4.58845755e+02 -3.73371775e-02 -8.69951867e-02]\n",
      " [-3.73371775e-02  9.06101670e-05  1.87803922e-05]\n",
      " [-8.69951867e-02  1.87803922e-05  4.66341516e-05]],  \n",
      "poptErr = array([2.14206852e+01, 9.51893728e-03, 6.82892023e-03])\n"
     ]
    },
    {
     "name": "stderr",
     "output_type": "stream",
     "text": [
      "/tmp/ipykernel_40318/26170352.py:60: SettingWithCopyWarning: \n",
      "A value is trying to be set on a copy of a slice from a DataFrame.\n",
      "Try using .loc[row_indexer,col_indexer] = value instead\n",
      "\n",
      "See the caveats in the documentation: https://pandas.pydata.org/pandas-docs/stable/user_guide/indexing.html#returning-a-view-versus-a-copy\n",
      "  data_toUse_[sL1JetResponse] = data_toUse_[sL1JetEt_forResolutionPlots] / data_toUse_[sRefJetEt]\n"
     ]
    },
    {
     "name": "stdout",
     "output_type": "stream",
     "text": [
      "popt: [5.12884044e+02 1.04841148e+00 2.43881896e-01], \n",
      "pcov: \n",
      "[[ 4.84485221e+02 -3.77383787e-02 -8.36892492e-02]\n",
      " [-3.77383787e-02  8.05927434e-05  1.75492054e-05]\n",
      " [-8.36892492e-02  1.75492054e-05  4.08579071e-05]],  \n",
      "poptErr = array([2.20110250e+01, 8.97734612e-03, 6.39201902e-03])\n"
     ]
    },
    {
     "name": "stderr",
     "output_type": "stream",
     "text": [
      "/tmp/ipykernel_40318/26170352.py:60: SettingWithCopyWarning: \n",
      "A value is trying to be set on a copy of a slice from a DataFrame.\n",
      "Try using .loc[row_indexer,col_indexer] = value instead\n",
      "\n",
      "See the caveats in the documentation: https://pandas.pydata.org/pandas-docs/stable/user_guide/indexing.html#returning-a-view-versus-a-copy\n",
      "  data_toUse_[sL1JetResponse] = data_toUse_[sL1JetEt_forResolutionPlots] / data_toUse_[sRefJetEt]\n"
     ]
    },
    {
     "name": "stdout",
     "output_type": "stream",
     "text": [
      "popt: [5.13895932e+02 1.01726976e+00 2.42783243e-01], \n",
      "pcov: \n",
      "[[ 4.57603279e+02 -3.19814390e-02 -7.77980813e-02]\n",
      " [-3.19814390e-02  7.42823565e-05  1.46808792e-05]\n",
      " [-7.77980813e-02  1.46808792e-05  3.77856428e-05]],  \n",
      "poptErr = array([2.13916638e+01, 8.61872128e-03, 6.14700275e-03])\n"
     ]
    },
    {
     "name": "stderr",
     "output_type": "stream",
     "text": [
      "/tmp/ipykernel_40318/26170352.py:60: SettingWithCopyWarning: \n",
      "A value is trying to be set on a copy of a slice from a DataFrame.\n",
      "Try using .loc[row_indexer,col_indexer] = value instead\n",
      "\n",
      "See the caveats in the documentation: https://pandas.pydata.org/pandas-docs/stable/user_guide/indexing.html#returning-a-view-versus-a-copy\n",
      "  data_toUse_[sL1JetResponse] = data_toUse_[sL1JetEt_forResolutionPlots] / data_toUse_[sRefJetEt]\n"
     ]
    },
    {
     "name": "stdout",
     "output_type": "stream",
     "text": [
      "popt: [5.09165307e+02 9.91522375e-01 2.36442299e-01], \n",
      "pcov: \n",
      "[[ 3.82908722e+02 -2.64320795e-02 -6.11495365e-02]\n",
      " [-2.64320795e-02  6.13183866e-05  1.19848667e-05]\n",
      " [-6.11495365e-02  1.19848667e-05  2.90707232e-05]],  \n",
      "poptErr = array([1.95680536e+01, 7.83060576e-03, 5.39172729e-03])\n"
     ]
    },
    {
     "name": "stderr",
     "output_type": "stream",
     "text": [
      "/tmp/ipykernel_40318/26170352.py:60: SettingWithCopyWarning: \n",
      "A value is trying to be set on a copy of a slice from a DataFrame.\n",
      "Try using .loc[row_indexer,col_indexer] = value instead\n",
      "\n",
      "See the caveats in the documentation: https://pandas.pydata.org/pandas-docs/stable/user_guide/indexing.html#returning-a-view-versus-a-copy\n",
      "  data_toUse_[sL1JetResponse] = data_toUse_[sL1JetEt_forResolutionPlots] / data_toUse_[sRefJetEt]\n"
     ]
    },
    {
     "name": "stdout",
     "output_type": "stream",
     "text": [
      "popt: [4.75271965e+02 9.84147787e-01 2.42743364e-01], \n",
      "pcov: \n",
      "[[ 2.68297973e+02 -1.54614617e-02 -4.89828157e-02]\n",
      " [-1.54614617e-02  4.95541223e-05  7.50305188e-06]\n",
      " [-4.89828157e-02  7.50305188e-06  2.58093182e-05]],  \n",
      "poptErr = array([1.63798038e+01, 7.03946889e-03, 5.08028721e-03])\n"
     ]
    },
    {
     "name": "stderr",
     "output_type": "stream",
     "text": [
      "/tmp/ipykernel_40318/26170352.py:60: SettingWithCopyWarning: \n",
      "A value is trying to be set on a copy of a slice from a DataFrame.\n",
      "Try using .loc[row_indexer,col_indexer] = value instead\n",
      "\n",
      "See the caveats in the documentation: https://pandas.pydata.org/pandas-docs/stable/user_guide/indexing.html#returning-a-view-versus-a-copy\n",
      "  data_toUse_[sL1JetResponse] = data_toUse_[sL1JetEt_forResolutionPlots] / data_toUse_[sRefJetEt]\n"
     ]
    },
    {
     "name": "stdout",
     "output_type": "stream",
     "text": [
      "popt: [4.59660351e+02 9.72125877e-01 2.37641845e-01], \n",
      "pcov: \n",
      "[[ 2.09488456e+02 -1.21985356e-02 -3.69596553e-02]\n",
      " [-1.21985356e-02  3.99628315e-05  6.14196662e-06]\n",
      " [-3.69596553e-02  6.14196662e-06  1.94664358e-05]],  \n",
      "poptErr = array([1.44737161e+01, 6.32161621e-03, 4.41207840e-03])\n"
     ]
    },
    {
     "name": "stderr",
     "output_type": "stream",
     "text": [
      "/tmp/ipykernel_40318/26170352.py:60: SettingWithCopyWarning: \n",
      "A value is trying to be set on a copy of a slice from a DataFrame.\n",
      "Try using .loc[row_indexer,col_indexer] = value instead\n",
      "\n",
      "See the caveats in the documentation: https://pandas.pydata.org/pandas-docs/stable/user_guide/indexing.html#returning-a-view-versus-a-copy\n",
      "  data_toUse_[sL1JetResponse] = data_toUse_[sL1JetEt_forResolutionPlots] / data_toUse_[sRefJetEt]\n"
     ]
    },
    {
     "name": "stdout",
     "output_type": "stream",
     "text": [
      "popt: [4.36002460e+02 9.65283211e-01 2.33466339e-01], \n",
      "pcov: \n",
      "[[ 1.64875488e+02 -9.52719230e-03 -2.98010766e-02]\n",
      " [-9.52719230e-03  3.37552590e-05  4.96865917e-06]\n",
      " [-2.98010766e-02  4.96865917e-06  1.62444211e-05]],  \n",
      "poptErr = array([1.28403850e+01, 5.80992762e-03, 4.03043684e-03])\n"
     ]
    },
    {
     "name": "stderr",
     "output_type": "stream",
     "text": [
      "/tmp/ipykernel_40318/26170352.py:60: SettingWithCopyWarning: \n",
      "A value is trying to be set on a copy of a slice from a DataFrame.\n",
      "Try using .loc[row_indexer,col_indexer] = value instead\n",
      "\n",
      "See the caveats in the documentation: https://pandas.pydata.org/pandas-docs/stable/user_guide/indexing.html#returning-a-view-versus-a-copy\n",
      "  data_toUse_[sL1JetResponse] = data_toUse_[sL1JetEt_forResolutionPlots] / data_toUse_[sRefJetEt]\n"
     ]
    },
    {
     "name": "stdout",
     "output_type": "stream",
     "text": [
      "popt: [4.18209921e+02 9.57333485e-01 2.33160967e-01], \n",
      "pcov: \n",
      "[[ 1.15444852e+02 -5.38153754e-03 -2.19571799e-02]\n",
      " [-5.38153754e-03  2.48992358e-05  2.91096177e-06]\n",
      " [-2.19571799e-02  2.91096177e-06  1.24269865e-05]],  \n",
      "poptErr = array([1.07445266e+01, 4.98991340e-03, 3.52519311e-03])\n"
     ]
    },
    {
     "name": "stderr",
     "output_type": "stream",
     "text": [
      "/tmp/ipykernel_40318/26170352.py:60: SettingWithCopyWarning: \n",
      "A value is trying to be set on a copy of a slice from a DataFrame.\n",
      "Try using .loc[row_indexer,col_indexer] = value instead\n",
      "\n",
      "See the caveats in the documentation: https://pandas.pydata.org/pandas-docs/stable/user_guide/indexing.html#returning-a-view-versus-a-copy\n",
      "  data_toUse_[sL1JetResponse] = data_toUse_[sL1JetEt_forResolutionPlots] / data_toUse_[sRefJetEt]\n"
     ]
    },
    {
     "name": "stdout",
     "output_type": "stream",
     "text": [
      "popt: [3.75420078e+02 9.56068362e-01 2.32931705e-01], \n",
      "pcov: \n",
      "[[ 7.19589290e+01 -2.49132879e-03 -1.54333783e-02]\n",
      " [-2.49132879e-03  1.87966418e-05  1.46547260e-06]\n",
      " [-1.54333783e-02  1.46547260e-06  9.72574885e-06]],  \n",
      "poptErr = array([8.48286090e+00, 4.33550940e-03, 3.11861329e-03])\n"
     ]
    },
    {
     "name": "stderr",
     "output_type": "stream",
     "text": [
      "/tmp/ipykernel_40318/26170352.py:60: SettingWithCopyWarning: \n",
      "A value is trying to be set on a copy of a slice from a DataFrame.\n",
      "Try using .loc[row_indexer,col_indexer] = value instead\n",
      "\n",
      "See the caveats in the documentation: https://pandas.pydata.org/pandas-docs/stable/user_guide/indexing.html#returning-a-view-versus-a-copy\n",
      "  data_toUse_[sL1JetResponse] = data_toUse_[sL1JetEt_forResolutionPlots] / data_toUse_[sRefJetEt]\n"
     ]
    },
    {
     "name": "stdout",
     "output_type": "stream",
     "text": [
      "popt: [3.63808450e+02 9.52994016e-01 2.28014538e-01], \n",
      "pcov: \n",
      "[[ 5.51013577e+01 -1.80805411e-03 -1.22802664e-02]\n",
      " [-1.80805411e-03  1.44081173e-05  1.08017594e-06]\n",
      " [-1.22802664e-02  1.08017594e-06  7.80370781e-06]],  \n",
      "poptErr = array([7.42302887e+00, 3.79580259e-03, 2.79351173e-03])\n"
     ]
    },
    {
     "name": "stderr",
     "output_type": "stream",
     "text": [
      "/tmp/ipykernel_40318/26170352.py:60: SettingWithCopyWarning: \n",
      "A value is trying to be set on a copy of a slice from a DataFrame.\n",
      "Try using .loc[row_indexer,col_indexer] = value instead\n",
      "\n",
      "See the caveats in the documentation: https://pandas.pydata.org/pandas-docs/stable/user_guide/indexing.html#returning-a-view-versus-a-copy\n",
      "  data_toUse_[sL1JetResponse] = data_toUse_[sL1JetEt_forResolutionPlots] / data_toUse_[sRefJetEt]\n"
     ]
    },
    {
     "name": "stdout",
     "output_type": "stream",
     "text": [
      "popt: [3.34302514e+02 9.50663806e-01 2.24568142e-01], \n",
      "pcov: \n",
      "[[ 4.45487330e+01 -1.46636666e-03 -1.07082885e-02]\n",
      " [-1.46636666e-03  1.32268426e-05  9.53815672e-07]\n",
      " [-1.07082885e-02  9.53815672e-07  7.26013550e-06]],  \n",
      "poptErr = array([6.67448372e+00, 3.63687263e-03, 2.69446386e-03])\n"
     ]
    },
    {
     "name": "stderr",
     "output_type": "stream",
     "text": [
      "/tmp/ipykernel_40318/26170352.py:60: SettingWithCopyWarning: \n",
      "A value is trying to be set on a copy of a slice from a DataFrame.\n",
      "Try using .loc[row_indexer,col_indexer] = value instead\n",
      "\n",
      "See the caveats in the documentation: https://pandas.pydata.org/pandas-docs/stable/user_guide/indexing.html#returning-a-view-versus-a-copy\n",
      "  data_toUse_[sL1JetResponse] = data_toUse_[sL1JetEt_forResolutionPlots] / data_toUse_[sRefJetEt]\n"
     ]
    },
    {
     "name": "stdout",
     "output_type": "stream",
     "text": [
      "popt: [3.27580122e+02 9.54686795e-01 2.24320512e-01], \n",
      "pcov: \n",
      "[[ 3.40532026e+01 -6.82482044e-04 -8.33137278e-03]\n",
      " [-6.82482044e-04  1.04493759e-05  4.43113468e-07]\n",
      " [-8.33137278e-03  4.43113468e-07  5.75869469e-06]],  \n",
      "poptErr = array([5.83551220e+00, 3.23254945e-03, 2.39972805e-03])\n"
     ]
    },
    {
     "name": "stderr",
     "output_type": "stream",
     "text": [
      "/tmp/ipykernel_40318/26170352.py:60: SettingWithCopyWarning: \n",
      "A value is trying to be set on a copy of a slice from a DataFrame.\n",
      "Try using .loc[row_indexer,col_indexer] = value instead\n",
      "\n",
      "See the caveats in the documentation: https://pandas.pydata.org/pandas-docs/stable/user_guide/indexing.html#returning-a-view-versus-a-copy\n",
      "  data_toUse_[sL1JetResponse] = data_toUse_[sL1JetEt_forResolutionPlots] / data_toUse_[sRefJetEt]\n"
     ]
    },
    {
     "name": "stdout",
     "output_type": "stream",
     "text": [
      "popt: [4.98637904e+02 9.55270437e-01 2.17259578e-01], \n",
      "pcov: \n",
      "[[ 8.32492504e+01 -8.33020363e-04 -1.34099524e-02]\n",
      " [-8.33020363e-04  1.00582885e-05  3.50824085e-07]\n",
      " [-1.34099524e-02  3.50824085e-07  5.87057869e-06]],  \n",
      "poptErr = array([9.12410272e+00, 3.17148049e-03, 2.42292771e-03])\n"
     ]
    },
    {
     "name": "stderr",
     "output_type": "stream",
     "text": [
      "/tmp/ipykernel_40318/26170352.py:60: SettingWithCopyWarning: \n",
      "A value is trying to be set on a copy of a slice from a DataFrame.\n",
      "Try using .loc[row_indexer,col_indexer] = value instead\n",
      "\n",
      "See the caveats in the documentation: https://pandas.pydata.org/pandas-docs/stable/user_guide/indexing.html#returning-a-view-versus-a-copy\n",
      "  data_toUse_[sL1JetResponse] = data_toUse_[sL1JetEt_forResolutionPlots] / data_toUse_[sRefJetEt]\n"
     ]
    },
    {
     "name": "stdout",
     "output_type": "stream",
     "text": [
      "popt: [4.64299372e+02 9.55465907e-01 2.08762736e-01], \n",
      "pcov: \n",
      "[[ 7.51931456e+01 -4.71783068e-04 -1.24167626e-02]\n",
      " [-4.71783068e-04  9.68198404e-06  2.03601114e-07]\n",
      " [-1.24167626e-02  2.03601114e-07  5.60334817e-06]],  \n",
      "poptErr = array([8.67139813e+00, 3.11158867e-03, 2.36713924e-03])\n"
     ]
    },
    {
     "name": "stderr",
     "output_type": "stream",
     "text": [
      "/tmp/ipykernel_40318/26170352.py:60: SettingWithCopyWarning: \n",
      "A value is trying to be set on a copy of a slice from a DataFrame.\n",
      "Try using .loc[row_indexer,col_indexer] = value instead\n",
      "\n",
      "See the caveats in the documentation: https://pandas.pydata.org/pandas-docs/stable/user_guide/indexing.html#returning-a-view-versus-a-copy\n",
      "  data_toUse_[sL1JetResponse] = data_toUse_[sL1JetEt_forResolutionPlots] / data_toUse_[sRefJetEt]\n"
     ]
    },
    {
     "name": "stdout",
     "output_type": "stream",
     "text": [
      "popt: [4.40473917e+02 9.62242740e-01 1.96856123e-01], \n",
      "pcov: \n",
      "[[ 6.39677240e+01 -3.13180009e-04 -1.05943191e-02]\n",
      " [-3.13180009e-04  8.06658218e-06  1.40147201e-07]\n",
      " [-1.05943191e-02  1.40147201e-07  4.74236598e-06]],  \n",
      "poptErr = array([7.99798249e+00, 2.84017291e-03, 2.17769740e-03])\n"
     ]
    },
    {
     "name": "stderr",
     "output_type": "stream",
     "text": [
      "/tmp/ipykernel_40318/26170352.py:60: SettingWithCopyWarning: \n",
      "A value is trying to be set on a copy of a slice from a DataFrame.\n",
      "Try using .loc[row_indexer,col_indexer] = value instead\n",
      "\n",
      "See the caveats in the documentation: https://pandas.pydata.org/pandas-docs/stable/user_guide/indexing.html#returning-a-view-versus-a-copy\n",
      "  data_toUse_[sL1JetResponse] = data_toUse_[sL1JetEt_forResolutionPlots] / data_toUse_[sRefJetEt]\n"
     ]
    },
    {
     "name": "stdout",
     "output_type": "stream",
     "text": [
      "popt: [4.09382624e+02 9.66512497e-01 1.90938409e-01], \n",
      "pcov: \n",
      "[[ 6.77990696e+01  8.67341641e-05 -1.17619756e-02]\n",
      " [ 8.67341641e-05  9.28520280e-06 -4.40814754e-08]\n",
      " [-1.17619756e-02 -4.40814754e-08  5.49405590e-06]],  \n",
      "poptErr = array([8.23401905e+00, 3.04716307e-03, 2.34394025e-03])\n"
     ]
    },
    {
     "name": "stderr",
     "output_type": "stream",
     "text": [
      "/tmp/ipykernel_40318/26170352.py:60: SettingWithCopyWarning: \n",
      "A value is trying to be set on a copy of a slice from a DataFrame.\n",
      "Try using .loc[row_indexer,col_indexer] = value instead\n",
      "\n",
      "See the caveats in the documentation: https://pandas.pydata.org/pandas-docs/stable/user_guide/indexing.html#returning-a-view-versus-a-copy\n",
      "  data_toUse_[sL1JetResponse] = data_toUse_[sL1JetEt_forResolutionPlots] / data_toUse_[sRefJetEt]\n"
     ]
    },
    {
     "name": "stdout",
     "output_type": "stream",
     "text": [
      "popt: [3.81427488e+02 9.65870380e-01 1.81221495e-01], \n",
      "pcov: \n",
      "[[ 6.08474985e+01  3.26056001e-04 -1.06907959e-02]\n",
      " [ 3.26056001e-04  8.66817980e-06 -1.55460667e-07]\n",
      " [-1.06907959e-02 -1.55460667e-07  5.08209636e-06]],  \n",
      "poptErr = array([7.80048066e+00, 2.94417727e-03, 2.25435054e-03])\n"
     ]
    },
    {
     "name": "stderr",
     "output_type": "stream",
     "text": [
      "/tmp/ipykernel_40318/26170352.py:60: SettingWithCopyWarning: \n",
      "A value is trying to be set on a copy of a slice from a DataFrame.\n",
      "Try using .loc[row_indexer,col_indexer] = value instead\n",
      "\n",
      "See the caveats in the documentation: https://pandas.pydata.org/pandas-docs/stable/user_guide/indexing.html#returning-a-view-versus-a-copy\n",
      "  data_toUse_[sL1JetResponse] = data_toUse_[sL1JetEt_forResolutionPlots] / data_toUse_[sRefJetEt]\n"
     ]
    },
    {
     "name": "stdout",
     "output_type": "stream",
     "text": [
      "popt: [3.51039582e+02 9.65456147e-01 1.79772212e-01], \n",
      "pcov: \n",
      "[[ 6.06712483e+01  3.98437466e-04 -1.14778265e-02]\n",
      " [ 3.98437466e-04  1.00446294e-05 -2.03775979e-07]\n",
      " [-1.14778265e-02 -2.03775979e-07  5.87934843e-06]],  \n",
      "poptErr = array([7.78917507e+00, 3.16932632e-03, 2.42473677e-03])\n"
     ]
    },
    {
     "name": "stderr",
     "output_type": "stream",
     "text": [
      "/tmp/ipykernel_40318/26170352.py:60: SettingWithCopyWarning: \n",
      "A value is trying to be set on a copy of a slice from a DataFrame.\n",
      "Try using .loc[row_indexer,col_indexer] = value instead\n",
      "\n",
      "See the caveats in the documentation: https://pandas.pydata.org/pandas-docs/stable/user_guide/indexing.html#returning-a-view-versus-a-copy\n",
      "  data_toUse_[sL1JetResponse] = data_toUse_[sL1JetEt_forResolutionPlots] / data_toUse_[sRefJetEt]\n"
     ]
    },
    {
     "name": "stdout",
     "output_type": "stream",
     "text": [
      "popt: [3.23208087e+02 9.67953823e-01 1.72990010e-01], \n",
      "pcov: \n",
      "[[ 4.78504416e+01 -1.05220967e-05 -9.47325179e-03]\n",
      " [-1.05220967e-05  8.63921083e-06  5.62563996e-09]\n",
      " [-9.47325179e-03  5.62563996e-09  5.07102093e-06]],  \n",
      "poptErr = array([6.91740136e+00, 2.93925345e-03, 2.25189274e-03])\n"
     ]
    },
    {
     "name": "stderr",
     "output_type": "stream",
     "text": [
      "/tmp/ipykernel_40318/26170352.py:60: SettingWithCopyWarning: \n",
      "A value is trying to be set on a copy of a slice from a DataFrame.\n",
      "Try using .loc[row_indexer,col_indexer] = value instead\n",
      "\n",
      "See the caveats in the documentation: https://pandas.pydata.org/pandas-docs/stable/user_guide/indexing.html#returning-a-view-versus-a-copy\n",
      "  data_toUse_[sL1JetResponse] = data_toUse_[sL1JetEt_forResolutionPlots] / data_toUse_[sRefJetEt]\n"
     ]
    },
    {
     "name": "stdout",
     "output_type": "stream",
     "text": [
      "popt: [3.05774747e+02 9.70202290e-01 1.65361271e-01], \n",
      "pcov: \n",
      "[[ 6.36617962e+01  6.65199031e-04 -1.28728090e-02]\n",
      " [ 6.65199031e-04  1.16809024e-05 -3.59332037e-07]\n",
      " [-1.28728090e-02 -3.59332037e-07  6.96349022e-06]],  \n",
      "poptErr = array([7.97883426e+00, 3.41773352e-03, 2.63884259e-03])\n"
     ]
    },
    {
     "name": "stderr",
     "output_type": "stream",
     "text": [
      "/tmp/ipykernel_40318/26170352.py:60: SettingWithCopyWarning: \n",
      "A value is trying to be set on a copy of a slice from a DataFrame.\n",
      "Try using .loc[row_indexer,col_indexer] = value instead\n",
      "\n",
      "See the caveats in the documentation: https://pandas.pydata.org/pandas-docs/stable/user_guide/indexing.html#returning-a-view-versus-a-copy\n",
      "  data_toUse_[sL1JetResponse] = data_toUse_[sL1JetEt_forResolutionPlots] / data_toUse_[sRefJetEt]\n"
     ]
    },
    {
     "name": "stdout",
     "output_type": "stream",
     "text": [
      "popt: [2.85952040e+02 9.67774935e-01 1.61783773e-01], \n",
      "pcov: \n",
      "[[ 6.09520610e+01 -2.32043521e-04 -1.30513887e-02]\n",
      " [-2.32043521e-04  1.21336279e-05  1.31926675e-07]\n",
      " [-1.30513887e-02  1.31926675e-07  7.38586860e-06]],  \n",
      "poptErr = array([7.80718010e+00, 3.48333574e-03, 2.71769546e-03])\n"
     ]
    },
    {
     "name": "stderr",
     "output_type": "stream",
     "text": [
      "/tmp/ipykernel_40318/26170352.py:60: SettingWithCopyWarning: \n",
      "A value is trying to be set on a copy of a slice from a DataFrame.\n",
      "Try using .loc[row_indexer,col_indexer] = value instead\n",
      "\n",
      "See the caveats in the documentation: https://pandas.pydata.org/pandas-docs/stable/user_guide/indexing.html#returning-a-view-versus-a-copy\n",
      "  data_toUse_[sL1JetResponse] = data_toUse_[sL1JetEt_forResolutionPlots] / data_toUse_[sRefJetEt]\n"
     ]
    },
    {
     "name": "stdout",
     "output_type": "stream",
     "text": [
      "popt: [2.77614438e+02 9.66044755e-01 1.55381854e-01], \n",
      "pcov: \n",
      "[[ 4.79770840e+01  3.63525380e-04 -9.79816659e-03]\n",
      " [ 3.63525380e-04  9.56781505e-06 -2.01147202e-07]\n",
      " [-9.79816659e-03 -2.01147202e-07  5.48942644e-06]],  \n",
      "poptErr = array([6.92654921e+00, 3.09318849e-03, 2.34295251e-03])\n"
     ]
    },
    {
     "name": "stderr",
     "output_type": "stream",
     "text": [
      "/tmp/ipykernel_40318/26170352.py:60: SettingWithCopyWarning: \n",
      "A value is trying to be set on a copy of a slice from a DataFrame.\n",
      "Try using .loc[row_indexer,col_indexer] = value instead\n",
      "\n",
      "See the caveats in the documentation: https://pandas.pydata.org/pandas-docs/stable/user_guide/indexing.html#returning-a-view-versus-a-copy\n",
      "  data_toUse_[sL1JetResponse] = data_toUse_[sL1JetEt_forResolutionPlots] / data_toUse_[sRefJetEt]\n"
     ]
    },
    {
     "name": "stdout",
     "output_type": "stream",
     "text": [
      "popt: [2.50532458e+02 9.67467398e-01 1.48915688e-01], \n",
      "pcov: \n",
      "[[ 4.95459641e+01 -4.76235194e-04 -1.03100465e-02]\n",
      " [-4.76235194e-04  1.14058174e-05  2.85220482e-07]\n",
      " [-1.03100465e-02  2.85220482e-07  6.13382355e-06]],  \n",
      "poptErr = array([7.03888941e+00, 3.37724998e-03, 2.47665572e-03])\n"
     ]
    },
    {
     "name": "stderr",
     "output_type": "stream",
     "text": [
      "/tmp/ipykernel_40318/26170352.py:60: SettingWithCopyWarning: \n",
      "A value is trying to be set on a copy of a slice from a DataFrame.\n",
      "Try using .loc[row_indexer,col_indexer] = value instead\n",
      "\n",
      "See the caveats in the documentation: https://pandas.pydata.org/pandas-docs/stable/user_guide/indexing.html#returning-a-view-versus-a-copy\n",
      "  data_toUse_[sL1JetResponse] = data_toUse_[sL1JetEt_forResolutionPlots] / data_toUse_[sRefJetEt]\n"
     ]
    },
    {
     "name": "stdout",
     "output_type": "stream",
     "text": [
      "popt: [2.29939913e+02 9.64124174e-01 1.50882644e-01], \n",
      "pcov: \n",
      "[[ 3.91693359e+01 -2.22772215e-04 -9.46327085e-03]\n",
      " [-2.22772215e-04  1.06629885e-05  1.46748584e-07]\n",
      " [-9.46327085e-03  1.46748584e-07  6.21099199e-06]],  \n",
      "poptErr = array([6.25854104e+00, 3.26542318e-03, 2.49218619e-03])\n"
     ]
    },
    {
     "name": "stderr",
     "output_type": "stream",
     "text": [
      "/tmp/ipykernel_40318/26170352.py:60: SettingWithCopyWarning: \n",
      "A value is trying to be set on a copy of a slice from a DataFrame.\n",
      "Try using .loc[row_indexer,col_indexer] = value instead\n",
      "\n",
      "See the caveats in the documentation: https://pandas.pydata.org/pandas-docs/stable/user_guide/indexing.html#returning-a-view-versus-a-copy\n",
      "  data_toUse_[sL1JetResponse] = data_toUse_[sL1JetEt_forResolutionPlots] / data_toUse_[sRefJetEt]\n"
     ]
    },
    {
     "name": "stdout",
     "output_type": "stream",
     "text": [
      "popt: [4.23171671e+02 9.59757593e-01 1.40612128e-01], \n",
      "pcov: \n",
      "[[ 1.40300998e+02  6.39473963e-04 -1.73437049e-02]\n",
      " [ 6.39473963e-04  9.73692450e-06 -2.12326541e-07]\n",
      " [-1.73437049e-02 -2.12326541e-07  5.76339266e-06]],  \n",
      "poptErr = array([1.18448722e+01, 3.12040454e-03, 2.40070670e-03])\n"
     ]
    },
    {
     "name": "stderr",
     "output_type": "stream",
     "text": [
      "/tmp/ipykernel_40318/26170352.py:60: SettingWithCopyWarning: \n",
      "A value is trying to be set on a copy of a slice from a DataFrame.\n",
      "Try using .loc[row_indexer,col_indexer] = value instead\n",
      "\n",
      "See the caveats in the documentation: https://pandas.pydata.org/pandas-docs/stable/user_guide/indexing.html#returning-a-view-versus-a-copy\n",
      "  data_toUse_[sL1JetResponse] = data_toUse_[sL1JetEt_forResolutionPlots] / data_toUse_[sRefJetEt]\n"
     ]
    },
    {
     "name": "stdout",
     "output_type": "stream",
     "text": [
      "popt: [3.36255084e+02 9.53005579e-01 1.35520227e-01], \n",
      "pcov: \n",
      "[[ 1.10598415e+02  1.44108995e-03 -1.68668737e-02]\n",
      " [ 1.44108995e-03  1.12288853e-05 -5.79086008e-07]\n",
      " [-1.68668737e-02 -5.79086008e-07  6.80248581e-06]],  \n",
      "poptErr = array([1.05165781e+01, 3.35095289e-03, 2.60815755e-03])\n"
     ]
    },
    {
     "name": "stderr",
     "output_type": "stream",
     "text": [
      "/tmp/ipykernel_40318/26170352.py:60: SettingWithCopyWarning: \n",
      "A value is trying to be set on a copy of a slice from a DataFrame.\n",
      "Try using .loc[row_indexer,col_indexer] = value instead\n",
      "\n",
      "See the caveats in the documentation: https://pandas.pydata.org/pandas-docs/stable/user_guide/indexing.html#returning-a-view-versus-a-copy\n",
      "  data_toUse_[sL1JetResponse] = data_toUse_[sL1JetEt_forResolutionPlots] / data_toUse_[sRefJetEt]\n"
     ]
    },
    {
     "name": "stdout",
     "output_type": "stream",
     "text": [
      "popt: [2.92529825e+02 9.48321777e-01 1.26380357e-01], \n",
      "pcov: \n",
      "[[ 8.76063501e+01  4.07531687e-04 -1.47959040e-02]\n",
      " [ 4.07531687e-04  1.00043609e-05 -1.68912275e-07]\n",
      " [-1.47959040e-02 -1.68912275e-07  6.40801729e-06]],  \n",
      "poptErr = array([9.35982639e+00, 3.16296710e-03, 2.53140619e-03])\n"
     ]
    },
    {
     "name": "stderr",
     "output_type": "stream",
     "text": [
      "/tmp/ipykernel_40318/26170352.py:60: SettingWithCopyWarning: \n",
      "A value is trying to be set on a copy of a slice from a DataFrame.\n",
      "Try using .loc[row_indexer,col_indexer] = value instead\n",
      "\n",
      "See the caveats in the documentation: https://pandas.pydata.org/pandas-docs/stable/user_guide/indexing.html#returning-a-view-versus-a-copy\n",
      "  data_toUse_[sL1JetResponse] = data_toUse_[sL1JetEt_forResolutionPlots] / data_toUse_[sRefJetEt]\n"
     ]
    },
    {
     "name": "stdout",
     "output_type": "stream",
     "text": [
      "popt: [4.23438525e+02 9.34426432e-01 1.24028089e-01], \n",
      "pcov: \n",
      "[[ 1.36602004e+02 -1.76547219e-04 -1.51205403e-02]\n",
      " [-1.76547219e-04  7.29148971e-06  5.17105326e-08]\n",
      " [-1.51205403e-02  5.17105326e-08  4.42892108e-06]],  \n",
      "poptErr = array([1.16876860e+01, 2.70027586e-03, 2.10450020e-03])\n"
     ]
    },
    {
     "name": "stderr",
     "output_type": "stream",
     "text": [
      "/tmp/ipykernel_40318/26170352.py:60: SettingWithCopyWarning: \n",
      "A value is trying to be set on a copy of a slice from a DataFrame.\n",
      "Try using .loc[row_indexer,col_indexer] = value instead\n",
      "\n",
      "See the caveats in the documentation: https://pandas.pydata.org/pandas-docs/stable/user_guide/indexing.html#returning-a-view-versus-a-copy\n",
      "  data_toUse_[sL1JetResponse] = data_toUse_[sL1JetEt_forResolutionPlots] / data_toUse_[sRefJetEt]\n"
     ]
    },
    {
     "name": "stdout",
     "output_type": "stream",
     "text": [
      "popt: [2.46617252e+02 9.24273456e-01 1.16407032e-01], \n",
      "pcov: \n",
      "[[ 7.10398196e+01  4.02895587e-04 -1.29201565e-02]\n",
      " [ 4.02895587e-04  9.73671541e-06 -1.89949641e-07]\n",
      " [-1.29201565e-02 -1.89949641e-07  6.09914638e-06]],  \n",
      "poptErr = array([8.42851230e+00, 3.12037104e-03, 2.46964499e-03])\n"
     ]
    },
    {
     "name": "stderr",
     "output_type": "stream",
     "text": [
      "/tmp/ipykernel_40318/26170352.py:60: SettingWithCopyWarning: \n",
      "A value is trying to be set on a copy of a slice from a DataFrame.\n",
      "Try using .loc[row_indexer,col_indexer] = value instead\n",
      "\n",
      "See the caveats in the documentation: https://pandas.pydata.org/pandas-docs/stable/user_guide/indexing.html#returning-a-view-versus-a-copy\n",
      "  data_toUse_[sL1JetResponse] = data_toUse_[sL1JetEt_forResolutionPlots] / data_toUse_[sRefJetEt]\n"
     ]
    },
    {
     "name": "stdout",
     "output_type": "stream",
     "text": [
      "popt: [1.46065135e+02 9.10818133e-01 1.12372720e-01], \n",
      "pcov: \n",
      "[[ 3.26912318e+01  6.01330920e-04 -9.34427139e-03]\n",
      " [ 6.01330920e-04  1.22179381e-05 -4.58588685e-07]\n",
      " [-9.34427139e-03 -4.58588685e-07  7.19923653e-06]],  \n",
      "poptErr = array([5.71762466e+00, 3.49541672e-03, 2.68313930e-03])\n"
     ]
    },
    {
     "name": "stderr",
     "output_type": "stream",
     "text": [
      "/tmp/ipykernel_40318/26170352.py:60: SettingWithCopyWarning: \n",
      "A value is trying to be set on a copy of a slice from a DataFrame.\n",
      "Try using .loc[row_indexer,col_indexer] = value instead\n",
      "\n",
      "See the caveats in the documentation: https://pandas.pydata.org/pandas-docs/stable/user_guide/indexing.html#returning-a-view-versus-a-copy\n",
      "  data_toUse_[sL1JetResponse] = data_toUse_[sL1JetEt_forResolutionPlots] / data_toUse_[sRefJetEt]\n"
     ]
    },
    {
     "name": "stdout",
     "output_type": "stream",
     "text": [
      "popt: [89.64753082  0.90029395  0.0994344 ], \n",
      "pcov: \n",
      "[[ 2.06662653e+01  2.09746440e-04 -8.26920095e-03]\n",
      " [ 2.09746440e-04  1.64009259e-05 -2.06861919e-07]\n",
      " [-8.26920095e-03 -2.06861919e-07  9.22335665e-06]],  \n",
      "poptErr = array([4.54601642e+00, 4.04980566e-03, 3.03699797e-03])\n"
     ]
    },
    {
     "name": "stderr",
     "output_type": "stream",
     "text": [
      "/tmp/ipykernel_40318/26170352.py:60: SettingWithCopyWarning: \n",
      "A value is trying to be set on a copy of a slice from a DataFrame.\n",
      "Try using .loc[row_indexer,col_indexer] = value instead\n",
      "\n",
      "See the caveats in the documentation: https://pandas.pydata.org/pandas-docs/stable/user_guide/indexing.html#returning-a-view-versus-a-copy\n",
      "  data_toUse_[sL1JetResponse] = data_toUse_[sL1JetEt_forResolutionPlots] / data_toUse_[sRefJetEt]\n"
     ]
    },
    {
     "name": "stdout",
     "output_type": "stream",
     "text": [
      "popt: [4.63996414e+02 1.01193024e+00 2.20983886e-01], \n",
      "pcov: \n",
      "[[ 4.05582370e+02 -1.86502176e-02 -7.96142667e-02]\n",
      " [-1.86502176e-02  5.95379318e-05  8.27515394e-06]\n",
      " [-7.96142667e-02  8.27515394e-06  3.93676839e-05]],  \n",
      "poptErr = array([2.01390757e+01, 7.71608267e-03, 6.27436721e-03])\n"
     ]
    },
    {
     "name": "stderr",
     "output_type": "stream",
     "text": [
      "/tmp/ipykernel_40318/26170352.py:60: SettingWithCopyWarning: \n",
      "A value is trying to be set on a copy of a slice from a DataFrame.\n",
      "Try using .loc[row_indexer,col_indexer] = value instead\n",
      "\n",
      "See the caveats in the documentation: https://pandas.pydata.org/pandas-docs/stable/user_guide/indexing.html#returning-a-view-versus-a-copy\n",
      "  data_toUse_[sL1JetResponse] = data_toUse_[sL1JetEt_forResolutionPlots] / data_toUse_[sRefJetEt]\n"
     ]
    },
    {
     "name": "stdout",
     "output_type": "stream",
     "text": [
      "popt: [4.76035109e+02 9.82359700e-01 2.01731200e-01], \n",
      "pcov: \n",
      "[[ 4.01091734e+02 -2.50595297e-02 -5.76914380e-02]\n",
      " [-2.50595297e-02  5.29620401e-05  1.05282399e-05]\n",
      " [-5.76914380e-02  1.05282399e-05  2.47217229e-05]],  \n",
      "poptErr = array([2.00272747e+01, 7.27750232e-03, 4.97209442e-03])\n"
     ]
    },
    {
     "name": "stderr",
     "output_type": "stream",
     "text": [
      "/tmp/ipykernel_40318/26170352.py:60: SettingWithCopyWarning: \n",
      "A value is trying to be set on a copy of a slice from a DataFrame.\n",
      "Try using .loc[row_indexer,col_indexer] = value instead\n",
      "\n",
      "See the caveats in the documentation: https://pandas.pydata.org/pandas-docs/stable/user_guide/indexing.html#returning-a-view-versus-a-copy\n",
      "  data_toUse_[sL1JetResponse] = data_toUse_[sL1JetEt_forResolutionPlots] / data_toUse_[sRefJetEt]\n"
     ]
    },
    {
     "name": "stdout",
     "output_type": "stream",
     "text": [
      "popt: [4.16548706e+02 9.62525472e-01 2.11917107e-01], \n",
      "pcov: \n",
      "[[ 2.16403205e+02 -1.11353574e-02 -4.06985776e-02]\n",
      " [-1.11353574e-02  3.80335564e-05  5.47014511e-06]\n",
      " [-4.06985776e-02  5.47014511e-06  2.11605981e-05]],  \n",
      "poptErr = array([1.47106494e+01, 6.16713519e-03, 4.60006501e-03])\n"
     ]
    },
    {
     "name": "stderr",
     "output_type": "stream",
     "text": [
      "/tmp/ipykernel_40318/26170352.py:60: SettingWithCopyWarning: \n",
      "A value is trying to be set on a copy of a slice from a DataFrame.\n",
      "Try using .loc[row_indexer,col_indexer] = value instead\n",
      "\n",
      "See the caveats in the documentation: https://pandas.pydata.org/pandas-docs/stable/user_guide/indexing.html#returning-a-view-versus-a-copy\n",
      "  data_toUse_[sL1JetResponse] = data_toUse_[sL1JetEt_forResolutionPlots] / data_toUse_[sRefJetEt]\n"
     ]
    },
    {
     "name": "stdout",
     "output_type": "stream",
     "text": [
      "popt: [3.71922491e+02 9.44946729e-01 2.03958166e-01], \n",
      "pcov: \n",
      "[[ 1.40435432e+02 -7.99788192e-03 -2.70320731e-02]\n",
      " [-7.99788192e-03  2.93213907e-05  4.29188135e-06]\n",
      " [-2.70320731e-02  4.29188135e-06  1.50495017e-05]],  \n",
      "poptErr = array([1.18505456e+01, 5.41492296e-03, 3.87936872e-03])\n"
     ]
    },
    {
     "name": "stderr",
     "output_type": "stream",
     "text": [
      "/tmp/ipykernel_40318/26170352.py:60: SettingWithCopyWarning: \n",
      "A value is trying to be set on a copy of a slice from a DataFrame.\n",
      "Try using .loc[row_indexer,col_indexer] = value instead\n",
      "\n",
      "See the caveats in the documentation: https://pandas.pydata.org/pandas-docs/stable/user_guide/indexing.html#returning-a-view-versus-a-copy\n",
      "  data_toUse_[sL1JetResponse] = data_toUse_[sL1JetEt_forResolutionPlots] / data_toUse_[sRefJetEt]\n"
     ]
    },
    {
     "name": "stdout",
     "output_type": "stream",
     "text": [
      "popt: [3.31775676e+02 9.45122624e-01 1.94455101e-01], \n",
      "pcov: \n",
      "[[ 1.18693598e+02 -7.93484297e-03 -2.26347652e-02]\n",
      " [-7.93484297e-03  2.93336441e-05  4.62973735e-06]\n",
      " [-2.26347652e-02  4.62973735e-06  1.33325108e-05]],  \n",
      "poptErr = array([1.08946591e+01, 5.41605430e-03, 3.65137109e-03])\n"
     ]
    },
    {
     "name": "stderr",
     "output_type": "stream",
     "text": [
      "/tmp/ipykernel_40318/26170352.py:60: SettingWithCopyWarning: \n",
      "A value is trying to be set on a copy of a slice from a DataFrame.\n",
      "Try using .loc[row_indexer,col_indexer] = value instead\n",
      "\n",
      "See the caveats in the documentation: https://pandas.pydata.org/pandas-docs/stable/user_guide/indexing.html#returning-a-view-versus-a-copy\n",
      "  data_toUse_[sL1JetResponse] = data_toUse_[sL1JetEt_forResolutionPlots] / data_toUse_[sRefJetEt]\n"
     ]
    },
    {
     "name": "stdout",
     "output_type": "stream",
     "text": [
      "popt: [2.96833106e+02 9.33850098e-01 1.89949350e-01], \n",
      "pcov: \n",
      "[[ 6.31708260e+01 -2.95506326e-03 -1.40244421e-02]\n",
      " [-2.95506326e-03  1.75556124e-05  1.84300605e-06]\n",
      " [-1.40244421e-02  1.84300605e-06  9.06937359e-06]],  \n",
      "poptErr = array([7.94800768e+00, 4.18994182e-03, 3.01154007e-03])\n"
     ]
    },
    {
     "name": "stderr",
     "output_type": "stream",
     "text": [
      "/tmp/ipykernel_40318/26170352.py:60: SettingWithCopyWarning: \n",
      "A value is trying to be set on a copy of a slice from a DataFrame.\n",
      "Try using .loc[row_indexer,col_indexer] = value instead\n",
      "\n",
      "See the caveats in the documentation: https://pandas.pydata.org/pandas-docs/stable/user_guide/indexing.html#returning-a-view-versus-a-copy\n",
      "  data_toUse_[sL1JetResponse] = data_toUse_[sL1JetEt_forResolutionPlots] / data_toUse_[sRefJetEt]\n"
     ]
    },
    {
     "name": "stdout",
     "output_type": "stream",
     "text": [
      "popt: [2.46738359e+02 9.37455809e-01 1.93646690e-01], \n",
      "pcov: \n",
      "[[ 4.82539302e+01 -2.88888651e-03 -1.32514352e-02]\n",
      " [-2.88888651e-03  2.00776117e-05  2.23261696e-06]\n",
      " [-1.32514352e-02  2.23261696e-06  1.04940990e-05]],  \n",
      "poptErr = array([6.94650489e+00, 4.48080480e-03, 3.23945967e-03])\n"
     ]
    },
    {
     "name": "stderr",
     "output_type": "stream",
     "text": [
      "/tmp/ipykernel_40318/26170352.py:60: SettingWithCopyWarning: \n",
      "A value is trying to be set on a copy of a slice from a DataFrame.\n",
      "Try using .loc[row_indexer,col_indexer] = value instead\n",
      "\n",
      "See the caveats in the documentation: https://pandas.pydata.org/pandas-docs/stable/user_guide/indexing.html#returning-a-view-versus-a-copy\n",
      "  data_toUse_[sL1JetResponse] = data_toUse_[sL1JetEt_forResolutionPlots] / data_toUse_[sRefJetEt]\n"
     ]
    },
    {
     "name": "stdout",
     "output_type": "stream",
     "text": [
      "popt: [2.20680039e+02 9.30905982e-01 1.87694416e-01], \n",
      "pcov: \n",
      "[[ 2.41532870e+01 -3.77917182e-04 -7.61488519e-03]\n",
      " [-3.77917182e-04  1.12439292e-05  2.76256403e-07]\n",
      " [-7.61488519e-03  2.76256403e-07  6.56356139e-06]],  \n",
      "poptErr = array([4.91459937e+00, 3.35319687e-03, 2.56194485e-03])\n"
     ]
    },
    {
     "name": "stderr",
     "output_type": "stream",
     "text": [
      "/tmp/ipykernel_40318/26170352.py:60: SettingWithCopyWarning: \n",
      "A value is trying to be set on a copy of a slice from a DataFrame.\n",
      "Try using .loc[row_indexer,col_indexer] = value instead\n",
      "\n",
      "See the caveats in the documentation: https://pandas.pydata.org/pandas-docs/stable/user_guide/indexing.html#returning-a-view-versus-a-copy\n",
      "  data_toUse_[sL1JetResponse] = data_toUse_[sL1JetEt_forResolutionPlots] / data_toUse_[sRefJetEt]\n"
     ]
    },
    {
     "name": "stdout",
     "output_type": "stream",
     "text": [
      "popt: [1.97272971e+02 9.40071697e-01 1.80219628e-01], \n",
      "pcov: \n",
      "[[ 2.10234504e+01 -4.64021769e-04 -6.92458309e-03]\n",
      " [-4.64021769e-04  1.15178516e-05  3.76576426e-07]\n",
      " [-6.92458309e-03  3.76576426e-07  6.42428922e-06]],  \n",
      "poptErr = array([4.58513363e+00, 3.39379605e-03, 2.53461816e-03])\n"
     ]
    },
    {
     "name": "stderr",
     "output_type": "stream",
     "text": [
      "/tmp/ipykernel_40318/26170352.py:60: SettingWithCopyWarning: \n",
      "A value is trying to be set on a copy of a slice from a DataFrame.\n",
      "Try using .loc[row_indexer,col_indexer] = value instead\n",
      "\n",
      "See the caveats in the documentation: https://pandas.pydata.org/pandas-docs/stable/user_guide/indexing.html#returning-a-view-versus-a-copy\n",
      "  data_toUse_[sL1JetResponse] = data_toUse_[sL1JetEt_forResolutionPlots] / data_toUse_[sRefJetEt]\n"
     ]
    },
    {
     "name": "stdout",
     "output_type": "stream",
     "text": [
      "popt: [168.48114196   0.93835594   0.17639169], \n",
      "pcov: \n",
      "[[ 1.28939401e+01 -3.46979493e-04 -4.76695234e-03]\n",
      " [-3.46979493e-04  9.28493196e-06  3.40954826e-07]\n",
      " [-4.76695234e-03  3.40954826e-07  5.03230315e-06]],  \n",
      "poptErr = array([3.59081329e+00, 3.04711863e-03, 2.24327955e-03])\n"
     ]
    },
    {
     "name": "stderr",
     "output_type": "stream",
     "text": [
      "/tmp/ipykernel_40318/26170352.py:60: SettingWithCopyWarning: \n",
      "A value is trying to be set on a copy of a slice from a DataFrame.\n",
      "Try using .loc[row_indexer,col_indexer] = value instead\n",
      "\n",
      "See the caveats in the documentation: https://pandas.pydata.org/pandas-docs/stable/user_guide/indexing.html#returning-a-view-versus-a-copy\n",
      "  data_toUse_[sL1JetResponse] = data_toUse_[sL1JetEt_forResolutionPlots] / data_toUse_[sRefJetEt]\n"
     ]
    },
    {
     "name": "stdout",
     "output_type": "stream",
     "text": [
      "popt: [155.52009419   0.94362344   0.16497242], \n",
      "pcov: \n",
      "[[ 1.62361174e+01 -4.39099818e-04 -6.39136686e-03]\n",
      " [-4.39099818e-04  1.16470889e-05  4.56249353e-07]\n",
      " [-6.39136686e-03  4.56249353e-07  6.82646551e-06]],  \n",
      "poptErr = array([4.02940658e+00, 3.41278316e-03, 2.61275056e-03])\n"
     ]
    },
    {
     "name": "stderr",
     "output_type": "stream",
     "text": [
      "/tmp/ipykernel_40318/26170352.py:60: SettingWithCopyWarning: \n",
      "A value is trying to be set on a copy of a slice from a DataFrame.\n",
      "Try using .loc[row_indexer,col_indexer] = value instead\n",
      "\n",
      "See the caveats in the documentation: https://pandas.pydata.org/pandas-docs/stable/user_guide/indexing.html#returning-a-view-versus-a-copy\n",
      "  data_toUse_[sL1JetResponse] = data_toUse_[sL1JetEt_forResolutionPlots] / data_toUse_[sRefJetEt]\n"
     ]
    },
    {
     "name": "stdout",
     "output_type": "stream",
     "text": [
      "popt: [131.46999888   0.94471366   0.16712481], \n",
      "pcov: \n",
      "[[ 1.34390897e+01 -5.74081847e-04 -6.08628957e-03]\n",
      " [-5.74081847e-04  1.41886318e-05  7.41817463e-07]\n",
      " [-6.08628957e-03  7.41817463e-07  7.78627188e-06]],  \n",
      "poptErr = array([3.66593640e+00, 3.76678003e-03, 2.79038920e-03])\n"
     ]
    },
    {
     "name": "stderr",
     "output_type": "stream",
     "text": [
      "/tmp/ipykernel_40318/26170352.py:60: SettingWithCopyWarning: \n",
      "A value is trying to be set on a copy of a slice from a DataFrame.\n",
      "Try using .loc[row_indexer,col_indexer] = value instead\n",
      "\n",
      "See the caveats in the documentation: https://pandas.pydata.org/pandas-docs/stable/user_guide/indexing.html#returning-a-view-versus-a-copy\n",
      "  data_toUse_[sL1JetResponse] = data_toUse_[sL1JetEt_forResolutionPlots] / data_toUse_[sRefJetEt]\n"
     ]
    },
    {
     "name": "stdout",
     "output_type": "stream",
     "text": [
      "popt: [1.91860896e+02 9.44379339e-01 1.57035572e-01], \n",
      "pcov: \n",
      "[[ 2.13572569e+01 -2.47005404e-04 -6.35557964e-03]\n",
      " [-2.47005404e-04  9.20240158e-06  1.92641036e-07]\n",
      " [-6.35557964e-03  1.92641036e-07  5.23437785e-06]],  \n",
      "poptErr = array([4.62139123e+00, 3.03354604e-03, 2.28787627e-03])\n"
     ]
    },
    {
     "name": "stderr",
     "output_type": "stream",
     "text": [
      "/tmp/ipykernel_40318/26170352.py:60: SettingWithCopyWarning: \n",
      "A value is trying to be set on a copy of a slice from a DataFrame.\n",
      "Try using .loc[row_indexer,col_indexer] = value instead\n",
      "\n",
      "See the caveats in the documentation: https://pandas.pydata.org/pandas-docs/stable/user_guide/indexing.html#returning-a-view-versus-a-copy\n",
      "  data_toUse_[sL1JetResponse] = data_toUse_[sL1JetEt_forResolutionPlots] / data_toUse_[sRefJetEt]\n"
     ]
    },
    {
     "name": "stdout",
     "output_type": "stream",
     "text": [
      "popt: [1.57952797e+02 9.47385726e-01 1.43789498e-01], \n",
      "pcov: \n",
      "[[ 2.59249178e+01 -3.91330922e-04 -8.68889279e-03]\n",
      " [-3.91330922e-04  1.36650243e-05  3.44297481e-07]\n",
      " [-8.68889279e-03  3.44297481e-07  7.93736276e-06]],  \n",
      "poptErr = array([5.09165178e+00, 3.69662336e-03, 2.81733256e-03])\n"
     ]
    },
    {
     "name": "stderr",
     "output_type": "stream",
     "text": [
      "/tmp/ipykernel_40318/26170352.py:60: SettingWithCopyWarning: \n",
      "A value is trying to be set on a copy of a slice from a DataFrame.\n",
      "Try using .loc[row_indexer,col_indexer] = value instead\n",
      "\n",
      "See the caveats in the documentation: https://pandas.pydata.org/pandas-docs/stable/user_guide/indexing.html#returning-a-view-versus-a-copy\n",
      "  data_toUse_[sL1JetResponse] = data_toUse_[sL1JetEt_forResolutionPlots] / data_toUse_[sRefJetEt]\n"
     ]
    },
    {
     "name": "stdout",
     "output_type": "stream",
     "text": [
      "popt: [133.48646497   0.95166395   0.14060345], \n",
      "pcov: \n",
      "[[ 2.33052123e+01 -1.84995783e-04 -8.81010582e-03]\n",
      " [-1.84995783e-04  1.66757811e-05  1.89824607e-07]\n",
      " [-8.81010582e-03  1.89824607e-07  9.31384830e-06]],  \n",
      "poptErr = array([4.82754724e+00, 4.08359904e-03, 3.05185981e-03])\n"
     ]
    },
    {
     "name": "stderr",
     "output_type": "stream",
     "text": [
      "/tmp/ipykernel_40318/26170352.py:60: SettingWithCopyWarning: \n",
      "A value is trying to be set on a copy of a slice from a DataFrame.\n",
      "Try using .loc[row_indexer,col_indexer] = value instead\n",
      "\n",
      "See the caveats in the documentation: https://pandas.pydata.org/pandas-docs/stable/user_guide/indexing.html#returning-a-view-versus-a-copy\n",
      "  data_toUse_[sL1JetResponse] = data_toUse_[sL1JetEt_forResolutionPlots] / data_toUse_[sRefJetEt]\n"
     ]
    },
    {
     "name": "stdout",
     "output_type": "stream",
     "text": [
      "popt: [108.62283435   0.95326678   0.13739243], \n",
      "pcov: \n",
      "[[ 1.23630528e+01  8.20022303e-05 -5.74995972e-03]\n",
      " [ 8.20022303e-05  1.28779600e-05 -7.00622512e-08]\n",
      " [-5.74995972e-03 -7.00622512e-08  7.40909774e-06]],  \n",
      "poptErr = array([3.51611331e+00, 3.58858747e-03, 2.72196579e-03])\n"
     ]
    },
    {
     "name": "stderr",
     "output_type": "stream",
     "text": [
      "/tmp/ipykernel_40318/26170352.py:60: SettingWithCopyWarning: \n",
      "A value is trying to be set on a copy of a slice from a DataFrame.\n",
      "Try using .loc[row_indexer,col_indexer] = value instead\n",
      "\n",
      "See the caveats in the documentation: https://pandas.pydata.org/pandas-docs/stable/user_guide/indexing.html#returning-a-view-versus-a-copy\n",
      "  data_toUse_[sL1JetResponse] = data_toUse_[sL1JetEt_forResolutionPlots] / data_toUse_[sRefJetEt]\n"
     ]
    },
    {
     "name": "stdout",
     "output_type": "stream",
     "text": [
      "popt: [91.46346012  0.9493563   0.12963794], \n",
      "pcov: \n",
      "[[ 5.73536971e+00  6.46728412e-06 -2.92503799e-03]\n",
      " [ 6.46728412e-06  7.45924675e-06 -5.75009878e-09]\n",
      " [-2.92503799e-03 -5.75009878e-09  4.17572646e-06]],  \n",
      "poptErr = array([2.39486319e+00, 2.73116216e-03, 2.04345944e-03])\n"
     ]
    },
    {
     "name": "stderr",
     "output_type": "stream",
     "text": [
      "/tmp/ipykernel_40318/26170352.py:60: SettingWithCopyWarning: \n",
      "A value is trying to be set on a copy of a slice from a DataFrame.\n",
      "Try using .loc[row_indexer,col_indexer] = value instead\n",
      "\n",
      "See the caveats in the documentation: https://pandas.pydata.org/pandas-docs/stable/user_guide/indexing.html#returning-a-view-versus-a-copy\n",
      "  data_toUse_[sL1JetResponse] = data_toUse_[sL1JetEt_forResolutionPlots] / data_toUse_[sRefJetEt]\n"
     ]
    },
    {
     "name": "stdout",
     "output_type": "stream",
     "text": [
      "popt: [78.81431767  0.950725    0.11609556], \n",
      "pcov: \n",
      "[[ 1.30460529e+01  4.52872807e-04 -7.04191178e-03]\n",
      " [ 4.52872807e-04  1.81289956e-05 -6.59920825e-07]\n",
      " [-7.04191178e-03 -6.59920825e-07  1.04285324e-05]],  \n",
      "poptErr = array([3.61193202e+00, 4.25781583e-03, 3.22932383e-03])\n"
     ]
    },
    {
     "name": "stderr",
     "output_type": "stream",
     "text": [
      "/tmp/ipykernel_40318/26170352.py:60: SettingWithCopyWarning: \n",
      "A value is trying to be set on a copy of a slice from a DataFrame.\n",
      "Try using .loc[row_indexer,col_indexer] = value instead\n",
      "\n",
      "See the caveats in the documentation: https://pandas.pydata.org/pandas-docs/stable/user_guide/indexing.html#returning-a-view-versus-a-copy\n",
      "  data_toUse_[sL1JetResponse] = data_toUse_[sL1JetEt_forResolutionPlots] / data_toUse_[sRefJetEt]\n"
     ]
    },
    {
     "name": "stdout",
     "output_type": "stream",
     "text": [
      "popt: [61.71313296  0.95221105  0.11916082], \n",
      "pcov: \n",
      "[[ 9.02564635e+00  1.30614301e-04 -6.78052988e-03]\n",
      " [ 1.30614301e-04  2.09720713e-05 -2.71164384e-07]\n",
      " [-6.78052988e-03 -2.71164384e-07  1.32513345e-05]],  \n",
      "poptErr = array([3.00427135, 0.00457953, 0.00364024])\n"
     ]
    },
    {
     "name": "stderr",
     "output_type": "stream",
     "text": [
      "/tmp/ipykernel_40318/26170352.py:60: SettingWithCopyWarning: \n",
      "A value is trying to be set on a copy of a slice from a DataFrame.\n",
      "Try using .loc[row_indexer,col_indexer] = value instead\n",
      "\n",
      "See the caveats in the documentation: https://pandas.pydata.org/pandas-docs/stable/user_guide/indexing.html#returning-a-view-versus-a-copy\n",
      "  data_toUse_[sL1JetResponse] = data_toUse_[sL1JetEt_forResolutionPlots] / data_toUse_[sRefJetEt]\n"
     ]
    },
    {
     "name": "stdout",
     "output_type": "stream",
     "text": [
      "popt: [47.29393316  0.95791295  0.11877786], \n",
      "pcov: \n",
      "[[ 5.12099732e+00  6.99772046e-04 -5.12599370e-03]\n",
      " [ 6.99772046e-04  2.07768388e-05 -2.03401737e-06]\n",
      " [-5.12599370e-03 -2.03401737e-06  1.33009705e-05]],  \n",
      "poptErr = array([2.26296207, 0.00455816, 0.00364705])\n"
     ]
    },
    {
     "name": "stderr",
     "output_type": "stream",
     "text": [
      "/tmp/ipykernel_40318/26170352.py:60: SettingWithCopyWarning: \n",
      "A value is trying to be set on a copy of a slice from a DataFrame.\n",
      "Try using .loc[row_indexer,col_indexer] = value instead\n",
      "\n",
      "See the caveats in the documentation: https://pandas.pydata.org/pandas-docs/stable/user_guide/indexing.html#returning-a-view-versus-a-copy\n",
      "  data_toUse_[sL1JetResponse] = data_toUse_[sL1JetEt_forResolutionPlots] / data_toUse_[sRefJetEt]\n"
     ]
    },
    {
     "name": "stdout",
     "output_type": "stream",
     "text": [
      "popt: [43.11808048  0.94587574  0.11730613], \n",
      "pcov: \n",
      "[[ 3.21894268e+00 -1.95816862e-05 -3.44979728e-03]\n",
      " [-1.95816862e-05  1.62494771e-05 -1.51282497e-07]\n",
      " [-3.44979728e-03 -1.51282497e-07  1.00987093e-05]],  \n",
      "poptErr = array([1.79414121, 0.00403106, 0.00317785])\n"
     ]
    },
    {
     "name": "stderr",
     "output_type": "stream",
     "text": [
      "/tmp/ipykernel_40318/26170352.py:60: SettingWithCopyWarning: \n",
      "A value is trying to be set on a copy of a slice from a DataFrame.\n",
      "Try using .loc[row_indexer,col_indexer] = value instead\n",
      "\n",
      "See the caveats in the documentation: https://pandas.pydata.org/pandas-docs/stable/user_guide/indexing.html#returning-a-view-versus-a-copy\n",
      "  data_toUse_[sL1JetResponse] = data_toUse_[sL1JetEt_forResolutionPlots] / data_toUse_[sRefJetEt]\n"
     ]
    },
    {
     "name": "stdout",
     "output_type": "stream",
     "text": [
      "popt: [38.62612506  0.95051632  0.10937488], \n",
      "pcov: \n",
      "[[ 5.08314933e+00 -3.02374674e-04 -5.84137069e-03]\n",
      " [-3.02374674e-04  2.56830611e-05  1.07101690e-06]\n",
      " [-5.84137069e-03  1.07101690e-06  1.71128990e-05]],  \n",
      "poptErr = array([2.25458407, 0.00506785, 0.00413677])\n"
     ]
    },
    {
     "name": "stderr",
     "output_type": "stream",
     "text": [
      "/tmp/ipykernel_40318/26170352.py:60: SettingWithCopyWarning: \n",
      "A value is trying to be set on a copy of a slice from a DataFrame.\n",
      "Try using .loc[row_indexer,col_indexer] = value instead\n",
      "\n",
      "See the caveats in the documentation: https://pandas.pydata.org/pandas-docs/stable/user_guide/indexing.html#returning-a-view-versus-a-copy\n",
      "  data_toUse_[sL1JetResponse] = data_toUse_[sL1JetEt_forResolutionPlots] / data_toUse_[sRefJetEt]\n"
     ]
    },
    {
     "name": "stdout",
     "output_type": "stream",
     "text": [
      "popt: [30.74487531  0.95156672  0.1039615 ], \n",
      "pcov: \n",
      "[[ 2.30984504e+00  1.51242731e-04 -3.18737763e-03]\n",
      " [ 1.51242731e-04  1.69231583e-05 -4.67609031e-07]\n",
      " [-3.18737763e-03 -4.67609031e-07  1.12952556e-05]],  \n",
      "poptErr = array([1.51981744, 0.00411378, 0.00336084])\n"
     ]
    },
    {
     "name": "stderr",
     "output_type": "stream",
     "text": [
      "/tmp/ipykernel_40318/26170352.py:60: SettingWithCopyWarning: \n",
      "A value is trying to be set on a copy of a slice from a DataFrame.\n",
      "Try using .loc[row_indexer,col_indexer] = value instead\n",
      "\n",
      "See the caveats in the documentation: https://pandas.pydata.org/pandas-docs/stable/user_guide/indexing.html#returning-a-view-versus-a-copy\n",
      "  data_toUse_[sL1JetResponse] = data_toUse_[sL1JetEt_forResolutionPlots] / data_toUse_[sRefJetEt]\n"
     ]
    },
    {
     "name": "stdout",
     "output_type": "stream",
     "text": [
      "popt: [24.21267266  0.95251702  0.10076695], \n",
      "pcov: \n",
      "[[ 1.84264984e+00 -2.68076471e-05 -3.07351212e-03]\n",
      " [-2.68076471e-05  2.07275594e-05  3.37676233e-07]\n",
      " [-3.07351212e-03  3.37676233e-07  1.34325290e-05]],  \n",
      "poptErr = array([1.35744239, 0.00455275, 0.00366504])\n"
     ]
    },
    {
     "name": "stderr",
     "output_type": "stream",
     "text": [
      "/tmp/ipykernel_40318/26170352.py:60: SettingWithCopyWarning: \n",
      "A value is trying to be set on a copy of a slice from a DataFrame.\n",
      "Try using .loc[row_indexer,col_indexer] = value instead\n",
      "\n",
      "See the caveats in the documentation: https://pandas.pydata.org/pandas-docs/stable/user_guide/indexing.html#returning-a-view-versus-a-copy\n",
      "  data_toUse_[sL1JetResponse] = data_toUse_[sL1JetEt_forResolutionPlots] / data_toUse_[sRefJetEt]\n"
     ]
    },
    {
     "name": "stdout",
     "output_type": "stream",
     "text": [
      "popt: [31.51318342  0.93795362  0.10784348], \n",
      "pcov: \n",
      "[[ 4.48751246e+00  3.07247280e-04 -6.53778935e-03]\n",
      " [ 3.07247280e-04  3.21129586e-05 -7.54394437e-07]\n",
      " [-6.53778935e-03 -7.54394437e-07  2.31804886e-05]],  \n",
      "poptErr = array([2.11837496, 0.00566683, 0.00481461])\n"
     ]
    },
    {
     "name": "stderr",
     "output_type": "stream",
     "text": [
      "/tmp/ipykernel_40318/26170352.py:60: SettingWithCopyWarning: \n",
      "A value is trying to be set on a copy of a slice from a DataFrame.\n",
      "Try using .loc[row_indexer,col_indexer] = value instead\n",
      "\n",
      "See the caveats in the documentation: https://pandas.pydata.org/pandas-docs/stable/user_guide/indexing.html#returning-a-view-versus-a-copy\n",
      "  data_toUse_[sL1JetResponse] = data_toUse_[sL1JetEt_forResolutionPlots] / data_toUse_[sRefJetEt]\n"
     ]
    },
    {
     "name": "stdout",
     "output_type": "stream",
     "text": [
      "popt: [24.40340656  0.9473896   0.08354703], \n",
      "pcov: \n",
      "[[ 6.01558609e+00 -2.04007696e-04 -8.20667285e-03]\n",
      " [-2.04007696e-04  4.41909468e-05  1.09273625e-06]\n",
      " [-8.20667285e-03  1.09273625e-06  2.87934981e-05]],  \n",
      "poptErr = array([2.45266918, 0.00664763, 0.00536596])\n"
     ]
    },
    {
     "name": "stderr",
     "output_type": "stream",
     "text": [
      "/tmp/ipykernel_40318/26170352.py:60: SettingWithCopyWarning: \n",
      "A value is trying to be set on a copy of a slice from a DataFrame.\n",
      "Try using .loc[row_indexer,col_indexer] = value instead\n",
      "\n",
      "See the caveats in the documentation: https://pandas.pydata.org/pandas-docs/stable/user_guide/indexing.html#returning-a-view-versus-a-copy\n",
      "  data_toUse_[sL1JetResponse] = data_toUse_[sL1JetEt_forResolutionPlots] / data_toUse_[sRefJetEt]\n"
     ]
    },
    {
     "name": "stdout",
     "output_type": "stream",
     "text": [
      "popt: [12.93251048  0.92290869  0.08059234], \n",
      "pcov: \n",
      "[[ 3.99372632e+00  4.10027998e-03 -1.07750497e-02]\n",
      " [ 4.10027998e-03  1.16459832e-04 -3.09804044e-05]\n",
      " [-1.07750497e-02 -3.09804044e-05  7.43853245e-05]],  \n",
      "poptErr = array([1.99843096, 0.01079166, 0.00862469])\n"
     ]
    },
    {
     "name": "stderr",
     "output_type": "stream",
     "text": [
      "/tmp/ipykernel_40318/26170352.py:60: SettingWithCopyWarning: \n",
      "A value is trying to be set on a copy of a slice from a DataFrame.\n",
      "Try using .loc[row_indexer,col_indexer] = value instead\n",
      "\n",
      "See the caveats in the documentation: https://pandas.pydata.org/pandas-docs/stable/user_guide/indexing.html#returning-a-view-versus-a-copy\n",
      "  data_toUse_[sL1JetResponse] = data_toUse_[sL1JetEt_forResolutionPlots] / data_toUse_[sRefJetEt]\n"
     ]
    },
    {
     "name": "stdout",
     "output_type": "stream",
     "text": [
      "popt: [9.47762017 0.90067579 0.09046552], \n",
      "pcov: \n",
      "[[ 1.20210217e+00  4.70403918e-04 -5.55999439e-03]\n",
      " [ 4.70403918e-04  7.42383017e-05 -5.11376241e-06]\n",
      " [-5.55999439e-03 -5.11376241e-06  6.14786594e-05]],  \n",
      "poptErr = array([1.0964042 , 0.00861617, 0.00784083])\n"
     ]
    },
    {
     "name": "stderr",
     "output_type": "stream",
     "text": [
      "/tmp/ipykernel_40318/26170352.py:60: SettingWithCopyWarning: \n",
      "A value is trying to be set on a copy of a slice from a DataFrame.\n",
      "Try using .loc[row_indexer,col_indexer] = value instead\n",
      "\n",
      "See the caveats in the documentation: https://pandas.pydata.org/pandas-docs/stable/user_guide/indexing.html#returning-a-view-versus-a-copy\n",
      "  data_toUse_[sL1JetResponse] = data_toUse_[sL1JetEt_forResolutionPlots] / data_toUse_[sRefJetEt]\n"
     ]
    },
    {
     "name": "stdout",
     "output_type": "stream",
     "text": [
      "popt: [3.15615477 0.94959324 0.09178051], \n",
      "pcov: \n",
      "[[ 4.49476790e-01 -2.00707429e-04 -1.05193054e-02]\n",
      " [-2.00707429e-04  3.10424151e-04  1.59049011e-05]\n",
      " [-1.05193054e-02  1.59049011e-05  4.95801146e-04]],  \n",
      "poptErr = array([0.6704303 , 0.01761886, 0.02226659])\n"
     ]
    },
    {
     "name": "stderr",
     "output_type": "stream",
     "text": [
      "/tmp/ipykernel_40318/26170352.py:60: SettingWithCopyWarning: \n",
      "A value is trying to be set on a copy of a slice from a DataFrame.\n",
      "Try using .loc[row_indexer,col_indexer] = value instead\n",
      "\n",
      "See the caveats in the documentation: https://pandas.pydata.org/pandas-docs/stable/user_guide/indexing.html#returning-a-view-versus-a-copy\n",
      "  data_toUse_[sL1JetResponse] = data_toUse_[sL1JetEt_forResolutionPlots] / data_toUse_[sRefJetEt]\n",
      "/tmp/ipykernel_40318/26170352.py:60: SettingWithCopyWarning: \n",
      "A value is trying to be set on a copy of a slice from a DataFrame.\n",
      "Try using .loc[row_indexer,col_indexer] = value instead\n",
      "\n",
      "See the caveats in the documentation: https://pandas.pydata.org/pandas-docs/stable/user_guide/indexing.html#returning-a-view-versus-a-copy\n",
      "  data_toUse_[sL1JetResponse] = data_toUse_[sL1JetEt_forResolutionPlots] / data_toUse_[sRefJetEt]\n",
      "/home/siddhesh/Work/CMS/L1_Trigger_Work/L1T_ServiceTask/hcalPUsub/myAna/hcalPUsub_v6_20230213/run_2/l1JetShapesStudies/l1JetLayer2Calibration_usingBDT/CommonTools.py:90: RuntimeWarning: divide by zero encountered in true_divide\n",
      "  return a*np.exp(-(x-x0)**2/(2*sigma**2))\n"
     ]
    },
    {
     "name": "stdout",
     "output_type": "stream",
     "text": [
      "PU_category = 'PU39to57', iEta_cat = 'iEta34to41', PtRangeMin = 190.5, PtRangeMax = 210.5, pInitial = [2.0, 0.8602138459955473, 0.10227824966837284]:  fit did not converge *** \n",
      "PU_category = 'PU39to57', iEta_cat = 'iEta34to41', PtRangeMin = 210.5, PtRangeMax = 230.5, pInitial = [1.0, 0.8465381267928918, 0.0]:  fit did not converge *** \n"
     ]
    },
    {
     "name": "stderr",
     "output_type": "stream",
     "text": [
      "/tmp/ipykernel_40318/26170352.py:60: SettingWithCopyWarning: \n",
      "A value is trying to be set on a copy of a slice from a DataFrame.\n",
      "Try using .loc[row_indexer,col_indexer] = value instead\n",
      "\n",
      "See the caveats in the documentation: https://pandas.pydata.org/pandas-docs/stable/user_guide/indexing.html#returning-a-view-versus-a-copy\n",
      "  data_toUse_[sL1JetResponse] = data_toUse_[sL1JetEt_forResolutionPlots] / data_toUse_[sRefJetEt]\n"
     ]
    },
    {
     "name": "stdout",
     "output_type": "stream",
     "text": [
      "popt: [7.16918847e+02 1.43776502e+00 3.07062399e-01], \n",
      "pcov: \n",
      "[[ 1.62089328e+03 -2.83818581e-02 -3.06944191e-01]\n",
      " [-2.83818581e-02  2.16736392e-04 -5.02248748e-06]\n",
      " [-3.06944191e-01 -5.02248748e-06  1.54151197e-04]],  \n",
      "poptErr = array([4.02603189e+01, 1.47219697e-02, 1.24157640e-02])\n"
     ]
    },
    {
     "name": "stderr",
     "output_type": "stream",
     "text": [
      "/tmp/ipykernel_40318/26170352.py:60: SettingWithCopyWarning: \n",
      "A value is trying to be set on a copy of a slice from a DataFrame.\n",
      "Try using .loc[row_indexer,col_indexer] = value instead\n",
      "\n",
      "See the caveats in the documentation: https://pandas.pydata.org/pandas-docs/stable/user_guide/indexing.html#returning-a-view-versus-a-copy\n",
      "  data_toUse_[sL1JetResponse] = data_toUse_[sL1JetEt_forResolutionPlots] / data_toUse_[sRefJetEt]\n"
     ]
    },
    {
     "name": "stdout",
     "output_type": "stream",
     "text": [
      "popt: [1.01124131e+03 1.37545526e+00 2.39185872e-01], \n",
      "pcov: \n",
      "[[ 5.48523716e+03 -2.39657520e-01 -4.32778016e-01]\n",
      " [-2.39657520e-01  2.45759981e-04  5.48353836e-05]\n",
      " [-4.32778016e-01  5.48353836e-05  1.05991963e-04]],  \n",
      "poptErr = array([7.40623870e+01, 1.56767337e-02, 1.02952398e-02])\n"
     ]
    },
    {
     "name": "stderr",
     "output_type": "stream",
     "text": [
      "/tmp/ipykernel_40318/26170352.py:60: SettingWithCopyWarning: \n",
      "A value is trying to be set on a copy of a slice from a DataFrame.\n",
      "Try using .loc[row_indexer,col_indexer] = value instead\n",
      "\n",
      "See the caveats in the documentation: https://pandas.pydata.org/pandas-docs/stable/user_guide/indexing.html#returning-a-view-versus-a-copy\n",
      "  data_toUse_[sL1JetResponse] = data_toUse_[sL1JetEt_forResolutionPlots] / data_toUse_[sRefJetEt]\n"
     ]
    },
    {
     "name": "stdout",
     "output_type": "stream",
     "text": [
      "popt: [1.28061478e+03 1.29924881e+00 2.18782976e-01], \n",
      "pcov: \n",
      "[[ 8.73580729e+03 -3.04667603e-01 -4.61266400e-01]\n",
      " [-3.04667603e-01  2.15209793e-04  5.13474106e-05]\n",
      " [-4.61266400e-01  5.13474106e-05  8.03874579e-05]],  \n",
      "poptErr = array([9.34655407e+01, 1.46700304e-02, 8.96590530e-03])\n"
     ]
    },
    {
     "name": "stderr",
     "output_type": "stream",
     "text": [
      "/tmp/ipykernel_40318/26170352.py:60: SettingWithCopyWarning: \n",
      "A value is trying to be set on a copy of a slice from a DataFrame.\n",
      "Try using .loc[row_indexer,col_indexer] = value instead\n",
      "\n",
      "See the caveats in the documentation: https://pandas.pydata.org/pandas-docs/stable/user_guide/indexing.html#returning-a-view-versus-a-copy\n",
      "  data_toUse_[sL1JetResponse] = data_toUse_[sL1JetEt_forResolutionPlots] / data_toUse_[sRefJetEt]\n"
     ]
    },
    {
     "name": "stdout",
     "output_type": "stream",
     "text": [
      "popt: [1.40040241e+03 1.21476727e+00 2.59072371e-01], \n",
      "pcov: \n",
      "[[ 4.40470600e+03 -7.50105058e-02 -3.16795449e-01]\n",
      " [-7.50105058e-02  1.07013821e-04  1.07365920e-05]\n",
      " [-3.16795449e-01  1.07365920e-05  6.33994378e-05]],  \n",
      "poptErr = array([6.63679591e+01, 1.03447485e-02, 7.96237639e-03])\n"
     ]
    },
    {
     "name": "stderr",
     "output_type": "stream",
     "text": [
      "/tmp/ipykernel_40318/26170352.py:60: SettingWithCopyWarning: \n",
      "A value is trying to be set on a copy of a slice from a DataFrame.\n",
      "Try using .loc[row_indexer,col_indexer] = value instead\n",
      "\n",
      "See the caveats in the documentation: https://pandas.pydata.org/pandas-docs/stable/user_guide/indexing.html#returning-a-view-versus-a-copy\n",
      "  data_toUse_[sL1JetResponse] = data_toUse_[sL1JetEt_forResolutionPlots] / data_toUse_[sRefJetEt]\n"
     ]
    },
    {
     "name": "stdout",
     "output_type": "stream",
     "text": [
      "popt: [1.63469403e+03 1.18013469e+00 2.39378978e-01], \n",
      "pcov: \n",
      "[[ 6.71143043e+03 -1.32475993e-01 -3.46413628e-01]\n",
      " [-1.32475993e-01  1.06781212e-04  1.80569461e-05]\n",
      " [-3.46413628e-01  1.80569461e-05  5.30832435e-05]],  \n",
      "poptErr = array([8.19233204e+01, 1.03334995e-02, 7.28582484e-03])\n"
     ]
    },
    {
     "name": "stderr",
     "output_type": "stream",
     "text": [
      "/tmp/ipykernel_40318/26170352.py:60: SettingWithCopyWarning: \n",
      "A value is trying to be set on a copy of a slice from a DataFrame.\n",
      "Try using .loc[row_indexer,col_indexer] = value instead\n",
      "\n",
      "See the caveats in the documentation: https://pandas.pydata.org/pandas-docs/stable/user_guide/indexing.html#returning-a-view-versus-a-copy\n",
      "  data_toUse_[sL1JetResponse] = data_toUse_[sL1JetEt_forResolutionPlots] / data_toUse_[sRefJetEt]\n"
     ]
    },
    {
     "name": "stdout",
     "output_type": "stream",
     "text": [
      "popt: [1.78068760e+03 1.14327824e+00 2.36751880e-01], \n",
      "pcov: \n",
      "[[ 7.05829246e+03 -1.27920731e-01 -3.21653476e-01]\n",
      " [-1.27920731e-01  9.32279954e-05  1.60904909e-05]\n",
      " [-3.21653476e-01  1.60904909e-05  4.44184849e-05]],  \n",
      "poptErr = array([8.40136445e+01, 9.65546453e-03, 6.66471942e-03])\n"
     ]
    },
    {
     "name": "stderr",
     "output_type": "stream",
     "text": [
      "/tmp/ipykernel_40318/26170352.py:60: SettingWithCopyWarning: \n",
      "A value is trying to be set on a copy of a slice from a DataFrame.\n",
      "Try using .loc[row_indexer,col_indexer] = value instead\n",
      "\n",
      "See the caveats in the documentation: https://pandas.pydata.org/pandas-docs/stable/user_guide/indexing.html#returning-a-view-versus-a-copy\n",
      "  data_toUse_[sL1JetResponse] = data_toUse_[sL1JetEt_forResolutionPlots] / data_toUse_[sRefJetEt]\n"
     ]
    },
    {
     "name": "stdout",
     "output_type": "stream",
     "text": [
      "popt: [1.81365422e+03 1.09551494e+00 2.61463419e-01], \n",
      "pcov: \n",
      "[[ 2.51264451e+03 -9.67508863e-03 -1.44987547e-01]\n",
      " [-9.67508863e-03  3.59609503e-05  5.43214805e-08]\n",
      " [-1.44987547e-01  5.43214805e-08  2.27583375e-05]],  \n",
      "poptErr = array([5.01262856e+01, 5.99674497e-03, 4.77056994e-03])\n"
     ]
    },
    {
     "name": "stderr",
     "output_type": "stream",
     "text": [
      "/tmp/ipykernel_40318/26170352.py:60: SettingWithCopyWarning: \n",
      "A value is trying to be set on a copy of a slice from a DataFrame.\n",
      "Try using .loc[row_indexer,col_indexer] = value instead\n",
      "\n",
      "See the caveats in the documentation: https://pandas.pydata.org/pandas-docs/stable/user_guide/indexing.html#returning-a-view-versus-a-copy\n",
      "  data_toUse_[sL1JetResponse] = data_toUse_[sL1JetEt_forResolutionPlots] / data_toUse_[sRefJetEt]\n"
     ]
    },
    {
     "name": "stdout",
     "output_type": "stream",
     "text": [
      "popt: [1.85849455e+03 1.06722121e+00 2.65053450e-01], \n",
      "pcov: \n",
      "[[ 1.18200144e+03  3.49411223e-03 -6.93784087e-02]\n",
      " [ 3.49411223e-03  1.66702951e-05 -1.29573824e-06]\n",
      " [-6.93784087e-02 -1.29573824e-06  1.09062005e-05]],  \n",
      "poptErr = array([3.43802478e+01, 4.08292727e-03, 3.30245371e-03])\n"
     ]
    },
    {
     "name": "stderr",
     "output_type": "stream",
     "text": [
      "/tmp/ipykernel_40318/26170352.py:60: SettingWithCopyWarning: \n",
      "A value is trying to be set on a copy of a slice from a DataFrame.\n",
      "Try using .loc[row_indexer,col_indexer] = value instead\n",
      "\n",
      "See the caveats in the documentation: https://pandas.pydata.org/pandas-docs/stable/user_guide/indexing.html#returning-a-view-versus-a-copy\n",
      "  data_toUse_[sL1JetResponse] = data_toUse_[sL1JetEt_forResolutionPlots] / data_toUse_[sRefJetEt]\n"
     ]
    },
    {
     "name": "stdout",
     "output_type": "stream",
     "text": [
      "popt: [2.08218654e+03 1.07725006e+00 2.25766485e-01], \n",
      "pcov: \n",
      "[[ 6.46709639e+03 -9.28918855e-02 -2.18975232e-01]\n",
      " [-9.28918855e-02  5.80012532e-05  9.81401601e-06]\n",
      " [-2.18975232e-01  9.81401601e-06  2.42267473e-05]],  \n",
      "poptErr = array([8.04182590e+01, 7.61585538e-03, 4.92206738e-03])\n"
     ]
    },
    {
     "name": "stderr",
     "output_type": "stream",
     "text": [
      "/tmp/ipykernel_40318/26170352.py:60: SettingWithCopyWarning: \n",
      "A value is trying to be set on a copy of a slice from a DataFrame.\n",
      "Try using .loc[row_indexer,col_indexer] = value instead\n",
      "\n",
      "See the caveats in the documentation: https://pandas.pydata.org/pandas-docs/stable/user_guide/indexing.html#returning-a-view-versus-a-copy\n",
      "  data_toUse_[sL1JetResponse] = data_toUse_[sL1JetEt_forResolutionPlots] / data_toUse_[sRefJetEt]\n"
     ]
    },
    {
     "name": "stdout",
     "output_type": "stream",
     "text": [
      "popt: [2.07829618e+03 1.05528241e+00 2.34316644e-01], \n",
      "pcov: \n",
      "[[ 3.81403414e+03 -3.97689870e-02 -1.43217699e-01]\n",
      " [-3.97689870e-02  3.48113311e-05  4.23316131e-06]\n",
      " [-1.43217699e-01  4.23316131e-06  1.65802053e-05]],  \n",
      "poptErr = array([6.17578670e+01, 5.90011280e-03, 4.07187982e-03])\n"
     ]
    },
    {
     "name": "stderr",
     "output_type": "stream",
     "text": [
      "/tmp/ipykernel_40318/26170352.py:60: SettingWithCopyWarning: \n",
      "A value is trying to be set on a copy of a slice from a DataFrame.\n",
      "Try using .loc[row_indexer,col_indexer] = value instead\n",
      "\n",
      "See the caveats in the documentation: https://pandas.pydata.org/pandas-docs/stable/user_guide/indexing.html#returning-a-view-versus-a-copy\n",
      "  data_toUse_[sL1JetResponse] = data_toUse_[sL1JetEt_forResolutionPlots] / data_toUse_[sRefJetEt]\n"
     ]
    },
    {
     "name": "stdout",
     "output_type": "stream",
     "text": [
      "popt: [2.10765236e+03 1.04899073e+00 2.28487454e-01], \n",
      "pcov: \n",
      "[[ 4.01168038e+03 -4.15424769e-02 -1.37718022e-01]\n",
      " [-4.15424769e-02  3.43968159e-05  4.34863955e-06]\n",
      " [-1.37718022e-01  4.34863955e-06  1.52044651e-05]],  \n",
      "poptErr = array([6.33378274e+01, 5.86487987e-03, 3.89929033e-03])\n"
     ]
    },
    {
     "name": "stderr",
     "output_type": "stream",
     "text": [
      "/tmp/ipykernel_40318/26170352.py:60: SettingWithCopyWarning: \n",
      "A value is trying to be set on a copy of a slice from a DataFrame.\n",
      "Try using .loc[row_indexer,col_indexer] = value instead\n",
      "\n",
      "See the caveats in the documentation: https://pandas.pydata.org/pandas-docs/stable/user_guide/indexing.html#returning-a-view-versus-a-copy\n",
      "  data_toUse_[sL1JetResponse] = data_toUse_[sL1JetEt_forResolutionPlots] / data_toUse_[sRefJetEt]\n"
     ]
    },
    {
     "name": "stdout",
     "output_type": "stream",
     "text": [
      "popt: [2.01395092e+03 1.02594610e+00 2.46087936e-01], \n",
      "pcov: \n",
      "[[ 5.40943252e+02  1.24241031e-03 -2.48403093e-02]\n",
      " [ 1.24241031e-03  5.40227324e-06 -2.46754000e-07]\n",
      " [-2.48403093e-02 -2.46754000e-07  3.16623417e-06]],  \n",
      "poptErr = array([2.32581868e+01, 2.32427908e-03, 1.77939152e-03])\n"
     ]
    },
    {
     "name": "stderr",
     "output_type": "stream",
     "text": [
      "/tmp/ipykernel_40318/26170352.py:60: SettingWithCopyWarning: \n",
      "A value is trying to be set on a copy of a slice from a DataFrame.\n",
      "Try using .loc[row_indexer,col_indexer] = value instead\n",
      "\n",
      "See the caveats in the documentation: https://pandas.pydata.org/pandas-docs/stable/user_guide/indexing.html#returning-a-view-versus-a-copy\n",
      "  data_toUse_[sL1JetResponse] = data_toUse_[sL1JetEt_forResolutionPlots] / data_toUse_[sRefJetEt]\n"
     ]
    },
    {
     "name": "stdout",
     "output_type": "stream",
     "text": [
      "popt: [3.48591758e+03 1.02897414e+00 2.26084195e-01], \n",
      "pcov: \n",
      "[[ 5.88428523e+03 -2.67667387e-02 -1.20287444e-01]\n",
      " [-2.67667387e-02  1.76308652e-05  1.68104642e-06]\n",
      " [-1.20287444e-01  1.68104642e-06  7.89808549e-06]],  \n",
      "poptErr = array([7.67090948e+01, 4.19891238e-03, 2.81035327e-03])\n"
     ]
    },
    {
     "name": "stderr",
     "output_type": "stream",
     "text": [
      "/tmp/ipykernel_40318/26170352.py:60: SettingWithCopyWarning: \n",
      "A value is trying to be set on a copy of a slice from a DataFrame.\n",
      "Try using .loc[row_indexer,col_indexer] = value instead\n",
      "\n",
      "See the caveats in the documentation: https://pandas.pydata.org/pandas-docs/stable/user_guide/indexing.html#returning-a-view-versus-a-copy\n",
      "  data_toUse_[sL1JetResponse] = data_toUse_[sL1JetEt_forResolutionPlots] / data_toUse_[sRefJetEt]\n"
     ]
    },
    {
     "name": "stdout",
     "output_type": "stream",
     "text": [
      "popt: [3.38607320e+03 1.02088246e+00 2.26591009e-01], \n",
      "pcov: \n",
      "[[ 3.54746458e+03 -8.54018630e-03 -7.64526746e-02]\n",
      " [-8.54018630e-03  1.09998973e-05  5.38298706e-07]\n",
      " [-7.64526746e-02  5.38298706e-07  5.17080691e-06]],  \n",
      "poptErr = array([5.95605958e+01, 3.31660931e-03, 2.27394083e-03])\n"
     ]
    },
    {
     "name": "stderr",
     "output_type": "stream",
     "text": [
      "/tmp/ipykernel_40318/26170352.py:60: SettingWithCopyWarning: \n",
      "A value is trying to be set on a copy of a slice from a DataFrame.\n",
      "Try using .loc[row_indexer,col_indexer] = value instead\n",
      "\n",
      "See the caveats in the documentation: https://pandas.pydata.org/pandas-docs/stable/user_guide/indexing.html#returning-a-view-versus-a-copy\n",
      "  data_toUse_[sL1JetResponse] = data_toUse_[sL1JetEt_forResolutionPlots] / data_toUse_[sRefJetEt]\n"
     ]
    },
    {
     "name": "stdout",
     "output_type": "stream",
     "text": [
      "popt: [3.29774430e+03 1.01213111e+00 2.24391465e-01], \n",
      "pcov: \n",
      "[[ 2.49270229e+03 -2.01138363e-04 -5.67158895e-02]\n",
      " [-2.01138363e-04  7.77847563e-06 -6.30644954e-09]\n",
      " [-5.67158895e-02 -6.30644954e-09  3.89143641e-06]],  \n",
      "poptErr = array([4.99269696e+01, 2.78899187e-03, 1.97267240e-03])\n"
     ]
    },
    {
     "name": "stderr",
     "output_type": "stream",
     "text": [
      "/tmp/ipykernel_40318/26170352.py:60: SettingWithCopyWarning: \n",
      "A value is trying to be set on a copy of a slice from a DataFrame.\n",
      "Try using .loc[row_indexer,col_indexer] = value instead\n",
      "\n",
      "See the caveats in the documentation: https://pandas.pydata.org/pandas-docs/stable/user_guide/indexing.html#returning-a-view-versus-a-copy\n",
      "  data_toUse_[sL1JetResponse] = data_toUse_[sL1JetEt_forResolutionPlots] / data_toUse_[sRefJetEt]\n"
     ]
    },
    {
     "name": "stdout",
     "output_type": "stream",
     "text": [
      "popt: [3.18987475e+03 1.00411872e+00 2.23888115e-01], \n",
      "pcov: \n",
      "[[ 1.66446228e+03  5.23271519e-03 -4.25173658e-02]\n",
      " [ 5.23271519e-03  5.33974368e-06 -3.85775144e-07]\n",
      " [-4.25173658e-02 -3.85775144e-07  3.01214406e-06]],  \n",
      "poptErr = array([4.07978220e+01, 2.31078854e-03, 1.73555295e-03])\n"
     ]
    },
    {
     "name": "stderr",
     "output_type": "stream",
     "text": [
      "/tmp/ipykernel_40318/26170352.py:60: SettingWithCopyWarning: \n",
      "A value is trying to be set on a copy of a slice from a DataFrame.\n",
      "Try using .loc[row_indexer,col_indexer] = value instead\n",
      "\n",
      "See the caveats in the documentation: https://pandas.pydata.org/pandas-docs/stable/user_guide/indexing.html#returning-a-view-versus-a-copy\n",
      "  data_toUse_[sL1JetResponse] = data_toUse_[sL1JetEt_forResolutionPlots] / data_toUse_[sRefJetEt]\n"
     ]
    },
    {
     "name": "stdout",
     "output_type": "stream",
     "text": [
      "popt: [3.15130577e+03 1.00461878e+00 2.16994442e-01], \n",
      "pcov: \n",
      "[[ 2.57425855e+03  8.89097250e-03 -6.47082976e-02]\n",
      " [ 8.89097250e-03  7.89614434e-06 -6.26115972e-07]\n",
      " [-6.47082976e-02 -6.26115972e-07  4.47758722e-06]],  \n",
      "poptErr = array([5.07371516e+01, 2.81000789e-03, 2.11603101e-03])\n"
     ]
    },
    {
     "name": "stderr",
     "output_type": "stream",
     "text": [
      "/tmp/ipykernel_40318/26170352.py:60: SettingWithCopyWarning: \n",
      "A value is trying to be set on a copy of a slice from a DataFrame.\n",
      "Try using .loc[row_indexer,col_indexer] = value instead\n",
      "\n",
      "See the caveats in the documentation: https://pandas.pydata.org/pandas-docs/stable/user_guide/indexing.html#returning-a-view-versus-a-copy\n",
      "  data_toUse_[sL1JetResponse] = data_toUse_[sL1JetEt_forResolutionPlots] / data_toUse_[sRefJetEt]\n"
     ]
    },
    {
     "name": "stdout",
     "output_type": "stream",
     "text": [
      "popt: [3.10835510e+03 1.00441961e+00 2.09398133e-01], \n",
      "pcov: \n",
      "[[ 3.33436214e+03  1.12892634e-02 -8.05385355e-02]\n",
      " [ 1.12892634e-02  9.84889049e-06 -7.68015900e-07]\n",
      " [-8.05385355e-02 -7.68015900e-07  5.43800475e-06]],  \n",
      "poptErr = array([5.77439359e+01, 3.13829420e-03, 2.33195299e-03])\n"
     ]
    },
    {
     "name": "stderr",
     "output_type": "stream",
     "text": [
      "/tmp/ipykernel_40318/26170352.py:60: SettingWithCopyWarning: \n",
      "A value is trying to be set on a copy of a slice from a DataFrame.\n",
      "Try using .loc[row_indexer,col_indexer] = value instead\n",
      "\n",
      "See the caveats in the documentation: https://pandas.pydata.org/pandas-docs/stable/user_guide/indexing.html#returning-a-view-versus-a-copy\n",
      "  data_toUse_[sL1JetResponse] = data_toUse_[sL1JetEt_forResolutionPlots] / data_toUse_[sRefJetEt]\n"
     ]
    },
    {
     "name": "stdout",
     "output_type": "stream",
     "text": [
      "popt: [3.04690228e+03 1.00467680e+00 2.04415429e-01], \n",
      "pcov: \n",
      "[[ 3.88066762e+03  1.61252173e-02 -9.54405349e-02]\n",
      " [ 1.61252173e-02  1.12779495e-05 -1.08837146e-06]\n",
      " [-9.54405349e-02 -1.08837146e-06  6.41407406e-06]],  \n",
      "poptErr = array([6.22950047e+01, 3.35826584e-03, 2.53260223e-03])\n"
     ]
    },
    {
     "name": "stderr",
     "output_type": "stream",
     "text": [
      "/tmp/ipykernel_40318/26170352.py:60: SettingWithCopyWarning: \n",
      "A value is trying to be set on a copy of a slice from a DataFrame.\n",
      "Try using .loc[row_indexer,col_indexer] = value instead\n",
      "\n",
      "See the caveats in the documentation: https://pandas.pydata.org/pandas-docs/stable/user_guide/indexing.html#returning-a-view-versus-a-copy\n",
      "  data_toUse_[sL1JetResponse] = data_toUse_[sL1JetEt_forResolutionPlots] / data_toUse_[sRefJetEt]\n"
     ]
    },
    {
     "name": "stdout",
     "output_type": "stream",
     "text": [
      "popt: [2.95714494e+03 1.00309321e+00 1.99873967e-01], \n",
      "pcov: \n",
      "[[ 4.52595219e+03  1.83763189e-02 -1.13909953e-01]\n",
      " [ 1.83763189e-02  1.31961086e-05 -1.24561686e-06]\n",
      " [-1.13909953e-01 -1.24561686e-06  7.70579983e-06]],  \n",
      "poptErr = array([6.72751974e+01, 3.63264485e-03, 2.77593225e-03])\n"
     ]
    },
    {
     "name": "stderr",
     "output_type": "stream",
     "text": [
      "/tmp/ipykernel_40318/26170352.py:60: SettingWithCopyWarning: \n",
      "A value is trying to be set on a copy of a slice from a DataFrame.\n",
      "Try using .loc[row_indexer,col_indexer] = value instead\n",
      "\n",
      "See the caveats in the documentation: https://pandas.pydata.org/pandas-docs/stable/user_guide/indexing.html#returning-a-view-versus-a-copy\n",
      "  data_toUse_[sL1JetResponse] = data_toUse_[sL1JetEt_forResolutionPlots] / data_toUse_[sRefJetEt]\n"
     ]
    },
    {
     "name": "stdout",
     "output_type": "stream",
     "text": [
      "popt: [2.93893830e+03 1.00367141e+00 1.94829455e-01], \n",
      "pcov: \n",
      "[[ 4.70850567e+03  2.08181812e-02 -1.13025538e-01]\n",
      " [ 2.08181812e-02  1.34671895e-05 -1.38251730e-06]\n",
      " [-1.13025538e-01 -1.38251730e-06  7.49737109e-06]],  \n",
      "poptErr = array([6.86185519e+01, 3.66976696e-03, 2.73813277e-03])\n"
     ]
    },
    {
     "name": "stderr",
     "output_type": "stream",
     "text": [
      "/tmp/ipykernel_40318/26170352.py:60: SettingWithCopyWarning: \n",
      "A value is trying to be set on a copy of a slice from a DataFrame.\n",
      "Try using .loc[row_indexer,col_indexer] = value instead\n",
      "\n",
      "See the caveats in the documentation: https://pandas.pydata.org/pandas-docs/stable/user_guide/indexing.html#returning-a-view-versus-a-copy\n",
      "  data_toUse_[sL1JetResponse] = data_toUse_[sL1JetEt_forResolutionPlots] / data_toUse_[sRefJetEt]\n"
     ]
    },
    {
     "name": "stdout",
     "output_type": "stream",
     "text": [
      "popt: [2.89008881e+03 1.00603061e+00 1.89722485e-01], \n",
      "pcov: \n",
      "[[ 4.92074994e+03  2.02564196e-02 -1.18819147e-01]\n",
      " [ 2.02564196e-02  1.36384812e-05 -1.33046986e-06]\n",
      " [-1.18819147e-01 -1.33046986e-06  7.80223709e-06]],  \n",
      "poptErr = array([7.01480573e+01, 3.69303144e-03, 2.79324848e-03])\n"
     ]
    },
    {
     "name": "stderr",
     "output_type": "stream",
     "text": [
      "/tmp/ipykernel_40318/26170352.py:60: SettingWithCopyWarning: \n",
      "A value is trying to be set on a copy of a slice from a DataFrame.\n",
      "Try using .loc[row_indexer,col_indexer] = value instead\n",
      "\n",
      "See the caveats in the documentation: https://pandas.pydata.org/pandas-docs/stable/user_guide/indexing.html#returning-a-view-versus-a-copy\n",
      "  data_toUse_[sL1JetResponse] = data_toUse_[sL1JetEt_forResolutionPlots] / data_toUse_[sRefJetEt]\n"
     ]
    },
    {
     "name": "stdout",
     "output_type": "stream",
     "text": [
      "popt: [2.84335683e+03 1.00336658e+00 1.83755578e-01], \n",
      "pcov: \n",
      "[[ 5.67734667e+03  2.52615459e-02 -1.34475905e-01]\n",
      " [ 2.52615459e-02  1.53314466e-05 -1.63308442e-06]\n",
      " [-1.34475905e-01 -1.63308442e-06  8.69190836e-06]],  \n",
      "poptErr = array([7.53481696e+01, 3.91553911e-03, 2.94820426e-03])\n"
     ]
    },
    {
     "name": "stderr",
     "output_type": "stream",
     "text": [
      "/tmp/ipykernel_40318/26170352.py:60: SettingWithCopyWarning: \n",
      "A value is trying to be set on a copy of a slice from a DataFrame.\n",
      "Try using .loc[row_indexer,col_indexer] = value instead\n",
      "\n",
      "See the caveats in the documentation: https://pandas.pydata.org/pandas-docs/stable/user_guide/indexing.html#returning-a-view-versus-a-copy\n",
      "  data_toUse_[sL1JetResponse] = data_toUse_[sL1JetEt_forResolutionPlots] / data_toUse_[sRefJetEt]\n"
     ]
    },
    {
     "name": "stdout",
     "output_type": "stream",
     "text": [
      "popt: [2.82398951e+03 1.00539508e+00 1.79932064e-01], \n",
      "pcov: \n",
      "[[ 5.56331587e+03  2.26224623e-02 -1.31240917e-01]\n",
      " [ 2.26224623e-02  1.44739223e-05 -1.44167592e-06]\n",
      " [-1.31240917e-01 -1.44167592e-06  8.36282270e-06]],  \n",
      "poptErr = array([7.45876388e+01, 3.80446084e-03, 2.89185454e-03])\n"
     ]
    },
    {
     "name": "stderr",
     "output_type": "stream",
     "text": [
      "/tmp/ipykernel_40318/26170352.py:60: SettingWithCopyWarning: \n",
      "A value is trying to be set on a copy of a slice from a DataFrame.\n",
      "Try using .loc[row_indexer,col_indexer] = value instead\n",
      "\n",
      "See the caveats in the documentation: https://pandas.pydata.org/pandas-docs/stable/user_guide/indexing.html#returning-a-view-versus-a-copy\n",
      "  data_toUse_[sL1JetResponse] = data_toUse_[sL1JetEt_forResolutionPlots] / data_toUse_[sRefJetEt]\n"
     ]
    },
    {
     "name": "stdout",
     "output_type": "stream",
     "text": [
      "popt: [5.46498695e+03 1.00414988e+00 1.75626862e-01], \n",
      "pcov: \n",
      "[[ 2.17956063e+04  4.79707904e-02 -2.57354281e-01]\n",
      " [ 4.79707904e-02  1.45277880e-05 -1.54163392e-06]\n",
      " [-2.57354281e-01 -1.54163392e-06  8.27081881e-06]],  \n",
      "poptErr = array([1.47633351e+02, 3.81153355e-03, 2.87590313e-03])\n"
     ]
    },
    {
     "name": "stderr",
     "output_type": "stream",
     "text": [
      "/tmp/ipykernel_40318/26170352.py:60: SettingWithCopyWarning: \n",
      "A value is trying to be set on a copy of a slice from a DataFrame.\n",
      "Try using .loc[row_indexer,col_indexer] = value instead\n",
      "\n",
      "See the caveats in the documentation: https://pandas.pydata.org/pandas-docs/stable/user_guide/indexing.html#returning-a-view-versus-a-copy\n",
      "  data_toUse_[sL1JetResponse] = data_toUse_[sL1JetEt_forResolutionPlots] / data_toUse_[sRefJetEt]\n"
     ]
    },
    {
     "name": "stdout",
     "output_type": "stream",
     "text": [
      "popt: [5.33131308e+03 1.00432202e+00 1.67563088e-01], \n",
      "pcov: \n",
      "[[ 2.45349506e+04  5.42136304e-02 -2.81989469e-01]\n",
      " [ 5.42136304e-02  1.57021135e-05 -1.70383510e-06]\n",
      " [-2.81989469e-01 -1.70383510e-06  8.86306246e-06]],  \n",
      "poptErr = array([1.56636364e+02, 3.96258924e-03, 2.97708960e-03])\n"
     ]
    },
    {
     "name": "stderr",
     "output_type": "stream",
     "text": [
      "/tmp/ipykernel_40318/26170352.py:60: SettingWithCopyWarning: \n",
      "A value is trying to be set on a copy of a slice from a DataFrame.\n",
      "Try using .loc[row_indexer,col_indexer] = value instead\n",
      "\n",
      "See the caveats in the documentation: https://pandas.pydata.org/pandas-docs/stable/user_guide/indexing.html#returning-a-view-versus-a-copy\n",
      "  data_toUse_[sL1JetResponse] = data_toUse_[sL1JetEt_forResolutionPlots] / data_toUse_[sRefJetEt]\n"
     ]
    },
    {
     "name": "stdout",
     "output_type": "stream",
     "text": [
      "popt: [5.19193716e+03 1.00354032e+00 1.61614730e-01], \n",
      "pcov: \n",
      "[[ 2.39159490e+04  5.84214808e-02 -2.71183765e-01]\n",
      " [ 5.84214808e-02  1.51240407e-05 -1.81849374e-06]\n",
      " [-2.71183765e-01 -1.81849374e-06  8.44144775e-06]],  \n",
      "poptErr = array([1.54647822e+02, 3.88896397e-03, 2.90541697e-03])\n"
     ]
    },
    {
     "name": "stderr",
     "output_type": "stream",
     "text": [
      "/tmp/ipykernel_40318/26170352.py:60: SettingWithCopyWarning: \n",
      "A value is trying to be set on a copy of a slice from a DataFrame.\n",
      "Try using .loc[row_indexer,col_indexer] = value instead\n",
      "\n",
      "See the caveats in the documentation: https://pandas.pydata.org/pandas-docs/stable/user_guide/indexing.html#returning-a-view-versus-a-copy\n",
      "  data_toUse_[sL1JetResponse] = data_toUse_[sL1JetEt_forResolutionPlots] / data_toUse_[sRefJetEt]\n"
     ]
    },
    {
     "name": "stdout",
     "output_type": "stream",
     "text": [
      "popt: [9.93554257e+03 1.00423144e+00 1.53285242e-01], \n",
      "pcov: \n",
      "[[ 9.01283591e+04  1.05492840e-01 -5.11744498e-01]\n",
      " [ 1.05492840e-01  1.38931159e-05 -1.62746999e-06]\n",
      " [-5.11744498e-01 -1.62746999e-06  7.89519611e-06]],  \n",
      "poptErr = array([3.00213856e+02, 3.72734703e-03, 2.80983916e-03])\n"
     ]
    },
    {
     "name": "stderr",
     "output_type": "stream",
     "text": [
      "/tmp/ipykernel_40318/26170352.py:60: SettingWithCopyWarning: \n",
      "A value is trying to be set on a copy of a slice from a DataFrame.\n",
      "Try using .loc[row_indexer,col_indexer] = value instead\n",
      "\n",
      "See the caveats in the documentation: https://pandas.pydata.org/pandas-docs/stable/user_guide/indexing.html#returning-a-view-versus-a-copy\n",
      "  data_toUse_[sL1JetResponse] = data_toUse_[sL1JetEt_forResolutionPlots] / data_toUse_[sRefJetEt]\n"
     ]
    },
    {
     "name": "stdout",
     "output_type": "stream",
     "text": [
      "popt: [9.44700208e+03 1.00296661e+00 1.43562879e-01], \n",
      "pcov: \n",
      "[[ 8.70529380e+04  1.08227020e-01 -4.84662469e-01]\n",
      " [ 1.08227020e-01  1.31061642e-05 -1.64459807e-06]\n",
      " [-4.84662469e-01 -1.64459807e-06  7.36527008e-06]],  \n",
      "poptErr = array([2.95047349e+02, 3.62024367e-03, 2.71390311e-03])\n"
     ]
    },
    {
     "name": "stderr",
     "output_type": "stream",
     "text": [
      "/tmp/ipykernel_40318/26170352.py:60: SettingWithCopyWarning: \n",
      "A value is trying to be set on a copy of a slice from a DataFrame.\n",
      "Try using .loc[row_indexer,col_indexer] = value instead\n",
      "\n",
      "See the caveats in the documentation: https://pandas.pydata.org/pandas-docs/stable/user_guide/indexing.html#returning-a-view-versus-a-copy\n",
      "  data_toUse_[sL1JetResponse] = data_toUse_[sL1JetEt_forResolutionPlots] / data_toUse_[sRefJetEt]\n"
     ]
    },
    {
     "name": "stdout",
     "output_type": "stream",
     "text": [
      "popt: [8.73513319e+03 1.00088641e+00 1.37435465e-01], \n",
      "pcov: \n",
      "[[ 7.43997346e+04  9.49033337e-02 -4.31862073e-01]\n",
      " [ 9.49033337e-02  1.19511460e-05 -1.49307968e-06]\n",
      " [-4.31862073e-01 -1.49307968e-06  6.79478643e-06]],  \n",
      "poptErr = array([2.72763147e+02, 3.45704296e-03, 2.60668111e-03])\n"
     ]
    },
    {
     "name": "stderr",
     "output_type": "stream",
     "text": [
      "/tmp/ipykernel_40318/26170352.py:60: SettingWithCopyWarning: \n",
      "A value is trying to be set on a copy of a slice from a DataFrame.\n",
      "Try using .loc[row_indexer,col_indexer] = value instead\n",
      "\n",
      "See the caveats in the documentation: https://pandas.pydata.org/pandas-docs/stable/user_guide/indexing.html#returning-a-view-versus-a-copy\n",
      "  data_toUse_[sL1JetResponse] = data_toUse_[sL1JetEt_forResolutionPlots] / data_toUse_[sRefJetEt]\n"
     ]
    },
    {
     "name": "stdout",
     "output_type": "stream",
     "text": [
      "popt: [8.23975850e+03 9.98445535e-01 1.30589824e-01], \n",
      "pcov: \n",
      "[[ 6.78636982e+04  9.07721563e-02 -3.97121274e-01]\n",
      " [ 9.07721563e-02  1.10815077e-05 -1.43851223e-06]\n",
      " [-3.97121274e-01 -1.43851223e-06  6.29390029e-06]],  \n",
      "poptErr = array([2.60506618e+02, 3.32888985e-03, 2.50876469e-03])\n"
     ]
    },
    {
     "name": "stderr",
     "output_type": "stream",
     "text": [
      "/tmp/ipykernel_40318/26170352.py:60: SettingWithCopyWarning: \n",
      "A value is trying to be set on a copy of a slice from a DataFrame.\n",
      "Try using .loc[row_indexer,col_indexer] = value instead\n",
      "\n",
      "See the caveats in the documentation: https://pandas.pydata.org/pandas-docs/stable/user_guide/indexing.html#returning-a-view-versus-a-copy\n",
      "  data_toUse_[sL1JetResponse] = data_toUse_[sL1JetEt_forResolutionPlots] / data_toUse_[sRefJetEt]\n"
     ]
    },
    {
     "name": "stdout",
     "output_type": "stream",
     "text": [
      "popt: [244.26889928   1.46666421   0.30779734], \n",
      "pcov: \n",
      "[[ 1.80455178e+02 -2.10567352e-02 -9.16403381e-02]\n",
      " [-2.10567352e-02  2.05401112e-04  1.92806966e-05]\n",
      " [-9.16403381e-02  1.92806966e-05  1.27531990e-04]],  \n",
      "poptErr = array([1.34333607e+01, 1.43318216e-02, 1.12930062e-02])\n"
     ]
    },
    {
     "name": "stderr",
     "output_type": "stream",
     "text": [
      "/tmp/ipykernel_40318/26170352.py:60: SettingWithCopyWarning: \n",
      "A value is trying to be set on a copy of a slice from a DataFrame.\n",
      "Try using .loc[row_indexer,col_indexer] = value instead\n",
      "\n",
      "See the caveats in the documentation: https://pandas.pydata.org/pandas-docs/stable/user_guide/indexing.html#returning-a-view-versus-a-copy\n",
      "  data_toUse_[sL1JetResponse] = data_toUse_[sL1JetEt_forResolutionPlots] / data_toUse_[sRefJetEt]\n"
     ]
    },
    {
     "name": "stdout",
     "output_type": "stream",
     "text": [
      "popt: [3.23179665e+02 1.37810368e+00 2.89306447e-01], \n",
      "pcov: \n",
      "[[ 2.97856338e+02 -2.79354413e-02 -1.03356233e-01]\n",
      " [-2.79354413e-02  1.71375887e-04  2.01729333e-05]\n",
      " [-1.03356233e-01  2.01729333e-05  1.00180025e-04]],  \n",
      "poptErr = array([1.72585149e+01, 1.30910613e-02, 1.00089972e-02])\n"
     ]
    },
    {
     "name": "stderr",
     "output_type": "stream",
     "text": [
      "/tmp/ipykernel_40318/26170352.py:60: SettingWithCopyWarning: \n",
      "A value is trying to be set on a copy of a slice from a DataFrame.\n",
      "Try using .loc[row_indexer,col_indexer] = value instead\n",
      "\n",
      "See the caveats in the documentation: https://pandas.pydata.org/pandas-docs/stable/user_guide/indexing.html#returning-a-view-versus-a-copy\n",
      "  data_toUse_[sL1JetResponse] = data_toUse_[sL1JetEt_forResolutionPlots] / data_toUse_[sRefJetEt]\n"
     ]
    },
    {
     "name": "stdout",
     "output_type": "stream",
     "text": [
      "popt: [4.10845253e+02 1.29759123e+00 2.65052524e-01], \n",
      "pcov: \n",
      "[[ 4.83601499e+02 -4.28379774e-02 -1.14365934e-01]\n",
      " [-4.28379774e-02  1.47971220e-04  2.53883524e-05]\n",
      " [-1.14365934e-01  2.53883524e-05  7.78002014e-05]],  \n",
      "poptErr = array([2.19909413e+01, 1.21643422e-02, 8.82044224e-03])\n"
     ]
    },
    {
     "name": "stderr",
     "output_type": "stream",
     "text": [
      "/tmp/ipykernel_40318/26170352.py:60: SettingWithCopyWarning: \n",
      "A value is trying to be set on a copy of a slice from a DataFrame.\n",
      "Try using .loc[row_indexer,col_indexer] = value instead\n",
      "\n",
      "See the caveats in the documentation: https://pandas.pydata.org/pandas-docs/stable/user_guide/indexing.html#returning-a-view-versus-a-copy\n",
      "  data_toUse_[sL1JetResponse] = data_toUse_[sL1JetEt_forResolutionPlots] / data_toUse_[sRefJetEt]\n"
     ]
    },
    {
     "name": "stdout",
     "output_type": "stream",
     "text": [
      "popt: [4.83932698e+02 1.23724497e+00 2.65313171e-01], \n",
      "pcov: \n",
      "[[ 4.98412324e+02 -3.04748551e-02 -1.01135295e-01]\n",
      " [-3.04748551e-02  1.08019629e-04  1.46325172e-05]\n",
      " [-1.01135295e-01  1.46325172e-05  5.88692695e-05]],  \n",
      "poptErr = array([2.23251500e+01, 1.03932492e-02, 7.67263120e-03])\n"
     ]
    },
    {
     "name": "stderr",
     "output_type": "stream",
     "text": [
      "/tmp/ipykernel_40318/26170352.py:60: SettingWithCopyWarning: \n",
      "A value is trying to be set on a copy of a slice from a DataFrame.\n",
      "Try using .loc[row_indexer,col_indexer] = value instead\n",
      "\n",
      "See the caveats in the documentation: https://pandas.pydata.org/pandas-docs/stable/user_guide/indexing.html#returning-a-view-versus-a-copy\n",
      "  data_toUse_[sL1JetResponse] = data_toUse_[sL1JetEt_forResolutionPlots] / data_toUse_[sRefJetEt]\n"
     ]
    },
    {
     "name": "stdout",
     "output_type": "stream",
     "text": [
      "popt: [5.63984071e+02 1.18270600e+00 2.61620153e-01], \n",
      "pcov: \n",
      "[[ 5.46521266e+02 -2.39616514e-02 -9.48239828e-02]\n",
      " [-2.39616514e-02  8.31886748e-05  9.45691800e-06]\n",
      " [-9.48239828e-02  9.45691800e-06  4.66729999e-05]],  \n",
      "poptErr = array([2.33777943e+01, 9.12078258e-03, 6.83176404e-03])\n"
     ]
    },
    {
     "name": "stderr",
     "output_type": "stream",
     "text": [
      "/tmp/ipykernel_40318/26170352.py:60: SettingWithCopyWarning: \n",
      "A value is trying to be set on a copy of a slice from a DataFrame.\n",
      "Try using .loc[row_indexer,col_indexer] = value instead\n",
      "\n",
      "See the caveats in the documentation: https://pandas.pydata.org/pandas-docs/stable/user_guide/indexing.html#returning-a-view-versus-a-copy\n",
      "  data_toUse_[sL1JetResponse] = data_toUse_[sL1JetEt_forResolutionPlots] / data_toUse_[sRefJetEt]\n"
     ]
    },
    {
     "name": "stdout",
     "output_type": "stream",
     "text": [
      "popt: [6.28319693e+02 1.15731361e+00 2.39526189e-01], \n",
      "pcov: \n",
      "[[ 8.64019805e+02 -4.87462282e-02 -1.07563698e-01]\n",
      " [-4.87462282e-02  9.62156457e-05  1.79839864e-05]\n",
      " [-1.07563698e-01  1.79839864e-05  4.21500618e-05]],  \n",
      "poptErr = array([2.93942138e+01, 9.80895742e-03, 6.49230790e-03])\n"
     ]
    },
    {
     "name": "stderr",
     "output_type": "stream",
     "text": [
      "/tmp/ipykernel_40318/26170352.py:60: SettingWithCopyWarning: \n",
      "A value is trying to be set on a copy of a slice from a DataFrame.\n",
      "Try using .loc[row_indexer,col_indexer] = value instead\n",
      "\n",
      "See the caveats in the documentation: https://pandas.pydata.org/pandas-docs/stable/user_guide/indexing.html#returning-a-view-versus-a-copy\n",
      "  data_toUse_[sL1JetResponse] = data_toUse_[sL1JetEt_forResolutionPlots] / data_toUse_[sRefJetEt]\n"
     ]
    },
    {
     "name": "stdout",
     "output_type": "stream",
     "text": [
      "popt: [6.81435783e+02 1.11969771e+00 2.43833329e-01], \n",
      "pcov: \n",
      "[[ 6.25812924e+02 -2.29344771e-02 -7.62100272e-02]\n",
      " [-2.29344771e-02  5.81444345e-05  7.59252241e-06]\n",
      " [-7.62100272e-02  7.59252241e-06  2.82915323e-05]],  \n",
      "poptErr = array([2.50162532e+01, 7.62524980e-03, 5.31897850e-03])\n"
     ]
    },
    {
     "name": "stderr",
     "output_type": "stream",
     "text": [
      "/tmp/ipykernel_40318/26170352.py:60: SettingWithCopyWarning: \n",
      "A value is trying to be set on a copy of a slice from a DataFrame.\n",
      "Try using .loc[row_indexer,col_indexer] = value instead\n",
      "\n",
      "See the caveats in the documentation: https://pandas.pydata.org/pandas-docs/stable/user_guide/indexing.html#returning-a-view-versus-a-copy\n",
      "  data_toUse_[sL1JetResponse] = data_toUse_[sL1JetEt_forResolutionPlots] / data_toUse_[sRefJetEt]\n"
     ]
    },
    {
     "name": "stdout",
     "output_type": "stream",
     "text": [
      "popt: [6.90544024e+02 1.08662169e+00 2.54007099e-01], \n",
      "pcov: \n",
      "[[ 2.63341851e+02 -3.15726482e-03 -3.60848168e-02]\n",
      " [-3.15726482e-03  2.43886204e-05  6.58766903e-07]\n",
      " [-3.60848168e-02  6.58766903e-07  1.40083559e-05]],  \n",
      "poptErr = array([1.62278110e+01, 4.93848362e-03, 3.74277382e-03])\n"
     ]
    },
    {
     "name": "stderr",
     "output_type": "stream",
     "text": [
      "/tmp/ipykernel_40318/26170352.py:60: SettingWithCopyWarning: \n",
      "A value is trying to be set on a copy of a slice from a DataFrame.\n",
      "Try using .loc[row_indexer,col_indexer] = value instead\n",
      "\n",
      "See the caveats in the documentation: https://pandas.pydata.org/pandas-docs/stable/user_guide/indexing.html#returning-a-view-versus-a-copy\n",
      "  data_toUse_[sL1JetResponse] = data_toUse_[sL1JetEt_forResolutionPlots] / data_toUse_[sRefJetEt]\n"
     ]
    },
    {
     "name": "stdout",
     "output_type": "stream",
     "text": [
      "popt: [6.91357233e+02 1.06353797e+00 2.58167729e-01], \n",
      "pcov: \n",
      "[[ 1.72155616e+02 -7.03689805e-04 -2.49514444e-02]\n",
      " [-7.03689805e-04  1.61653784e-05 -1.25527649e-07]\n",
      " [-2.49514444e-02 -1.25527649e-07  9.89191707e-06]],  \n",
      "poptErr = array([1.31208085e+01, 4.02061915e-03, 3.14514182e-03])\n"
     ]
    },
    {
     "name": "stderr",
     "output_type": "stream",
     "text": [
      "/tmp/ipykernel_40318/26170352.py:60: SettingWithCopyWarning: \n",
      "A value is trying to be set on a copy of a slice from a DataFrame.\n",
      "Try using .loc[row_indexer,col_indexer] = value instead\n",
      "\n",
      "See the caveats in the documentation: https://pandas.pydata.org/pandas-docs/stable/user_guide/indexing.html#returning-a-view-versus-a-copy\n",
      "  data_toUse_[sL1JetResponse] = data_toUse_[sL1JetEt_forResolutionPlots] / data_toUse_[sRefJetEt]\n"
     ]
    },
    {
     "name": "stdout",
     "output_type": "stream",
     "text": [
      "popt: [7.26635609e+02 1.05252378e+00 2.49888353e-01], \n",
      "pcov: \n",
      "[[ 1.68679654e+02 -8.48380550e-04 -2.16544522e-02]\n",
      " [-8.48380550e-04  1.33986781e-05  6.54263650e-08]\n",
      " [-2.16544522e-02  6.54263650e-08  7.78063165e-06]],  \n",
      "poptErr = array([1.29876731e+01, 3.66042048e-03, 2.78937836e-03])\n"
     ]
    },
    {
     "name": "stderr",
     "output_type": "stream",
     "text": [
      "/tmp/ipykernel_40318/26170352.py:60: SettingWithCopyWarning: \n",
      "A value is trying to be set on a copy of a slice from a DataFrame.\n",
      "Try using .loc[row_indexer,col_indexer] = value instead\n",
      "\n",
      "See the caveats in the documentation: https://pandas.pydata.org/pandas-docs/stable/user_guide/indexing.html#returning-a-view-versus-a-copy\n",
      "  data_toUse_[sL1JetResponse] = data_toUse_[sL1JetEt_forResolutionPlots] / data_toUse_[sRefJetEt]\n"
     ]
    },
    {
     "name": "stdout",
     "output_type": "stream",
     "text": [
      "popt: [7.36943302e+02 1.04303216e+00 2.47207005e-01], \n",
      "pcov: \n",
      "[[ 1.35084456e+02 -3.99480140e-04 -1.65278017e-02]\n",
      " [-3.99480140e-04  1.02233715e-05 -3.22656609e-09]\n",
      " [-1.65278017e-02 -3.22656609e-09  5.75106280e-06]],  \n",
      "poptErr = array([1.16225839e+01, 3.19740074e-03, 2.39813736e-03])\n"
     ]
    },
    {
     "name": "stderr",
     "output_type": "stream",
     "text": [
      "/tmp/ipykernel_40318/26170352.py:60: SettingWithCopyWarning: \n",
      "A value is trying to be set on a copy of a slice from a DataFrame.\n",
      "Try using .loc[row_indexer,col_indexer] = value instead\n",
      "\n",
      "See the caveats in the documentation: https://pandas.pydata.org/pandas-docs/stable/user_guide/indexing.html#returning-a-view-versus-a-copy\n",
      "  data_toUse_[sL1JetResponse] = data_toUse_[sL1JetEt_forResolutionPlots] / data_toUse_[sRefJetEt]\n"
     ]
    },
    {
     "name": "stdout",
     "output_type": "stream",
     "text": [
      "popt: [7.38396489e+02 1.03206237e+00 2.41391549e-01], \n",
      "pcov: \n",
      "[[ 1.14480415e+02 -3.82166202e-05 -1.35134442e-02]\n",
      " [-3.82166202e-05  8.16242530e-06 -6.83849814e-08]\n",
      " [-1.35134442e-02 -6.83849814e-08  4.54249036e-06]],  \n",
      "poptErr = array([1.06995521e+01, 2.85699585e-03, 2.13131189e-03])\n"
     ]
    },
    {
     "name": "stderr",
     "output_type": "stream",
     "text": [
      "/tmp/ipykernel_40318/26170352.py:60: SettingWithCopyWarning: \n",
      "A value is trying to be set on a copy of a slice from a DataFrame.\n",
      "Try using .loc[row_indexer,col_indexer] = value instead\n",
      "\n",
      "See the caveats in the documentation: https://pandas.pydata.org/pandas-docs/stable/user_guide/indexing.html#returning-a-view-versus-a-copy\n",
      "  data_toUse_[sL1JetResponse] = data_toUse_[sL1JetEt_forResolutionPlots] / data_toUse_[sRefJetEt]\n"
     ]
    },
    {
     "name": "stdout",
     "output_type": "stream",
     "text": [
      "popt: [1.21800086e+03 1.02181311e+00 2.38068185e-01], \n",
      "pcov: \n",
      "[[ 2.16896850e+02 -2.49035292e-04 -1.51786089e-02]\n",
      " [-2.49035292e-04  5.49878432e-06  8.18484504e-09]\n",
      " [-1.51786089e-02  8.18484504e-09  3.03091175e-06]],  \n",
      "poptErr = array([1.47274183e+01, 2.34494868e-03, 1.74095139e-03])\n"
     ]
    },
    {
     "name": "stderr",
     "output_type": "stream",
     "text": [
      "/tmp/ipykernel_40318/26170352.py:60: SettingWithCopyWarning: \n",
      "A value is trying to be set on a copy of a slice from a DataFrame.\n",
      "Try using .loc[row_indexer,col_indexer] = value instead\n",
      "\n",
      "See the caveats in the documentation: https://pandas.pydata.org/pandas-docs/stable/user_guide/indexing.html#returning-a-view-versus-a-copy\n",
      "  data_toUse_[sL1JetResponse] = data_toUse_[sL1JetEt_forResolutionPlots] / data_toUse_[sRefJetEt]\n"
     ]
    },
    {
     "name": "stdout",
     "output_type": "stream",
     "text": [
      "popt: [1.20002525e+03 1.01470838e+00 2.33632657e-01], \n",
      "pcov: \n",
      "[[ 1.72148025e+02  5.94899382e-04 -1.20010600e-02]\n",
      " [ 5.94899382e-04  4.29844036e-06 -1.39713807e-07]\n",
      " [-1.20010600e-02 -1.39713807e-07  2.37332112e-06]],  \n",
      "poptErr = array([1.31205192e+01, 2.07326804e-03, 1.54055870e-03])\n"
     ]
    },
    {
     "name": "stderr",
     "output_type": "stream",
     "text": [
      "/tmp/ipykernel_40318/26170352.py:60: SettingWithCopyWarning: \n",
      "A value is trying to be set on a copy of a slice from a DataFrame.\n",
      "Try using .loc[row_indexer,col_indexer] = value instead\n",
      "\n",
      "See the caveats in the documentation: https://pandas.pydata.org/pandas-docs/stable/user_guide/indexing.html#returning-a-view-versus-a-copy\n",
      "  data_toUse_[sL1JetResponse] = data_toUse_[sL1JetEt_forResolutionPlots] / data_toUse_[sRefJetEt]\n"
     ]
    },
    {
     "name": "stdout",
     "output_type": "stream",
     "text": [
      "popt: [1.16732549e+03 1.00934953e+00 2.26090690e-01], \n",
      "pcov: \n",
      "[[ 2.40542877e+02  1.18365061e-03 -1.67782614e-02]\n",
      " [ 1.18365061e-03  5.88102708e-06 -2.47859378e-07]\n",
      " [-1.67782614e-02 -2.47859378e-07  3.28196664e-06]],  \n",
      "poptErr = array([1.55094448e+01, 2.42508290e-03, 1.81161989e-03])\n"
     ]
    },
    {
     "name": "stderr",
     "output_type": "stream",
     "text": [
      "/tmp/ipykernel_40318/26170352.py:60: SettingWithCopyWarning: \n",
      "A value is trying to be set on a copy of a slice from a DataFrame.\n",
      "Try using .loc[row_indexer,col_indexer] = value instead\n",
      "\n",
      "See the caveats in the documentation: https://pandas.pydata.org/pandas-docs/stable/user_guide/indexing.html#returning-a-view-versus-a-copy\n",
      "  data_toUse_[sL1JetResponse] = data_toUse_[sL1JetEt_forResolutionPlots] / data_toUse_[sRefJetEt]\n"
     ]
    },
    {
     "name": "stdout",
     "output_type": "stream",
     "text": [
      "popt: [1.17339722e+03 1.00554893e+00 2.19727554e-01], \n",
      "pcov: \n",
      "[[ 2.27067162e+02  1.66726654e-03 -1.53301870e-02]\n",
      " [ 1.66726654e-03  5.19257600e-06 -3.25879242e-07]\n",
      " [-1.53301870e-02 -3.25879242e-07  2.89434669e-06]],  \n",
      "poptErr = array([1.50687479e+01, 2.27872245e-03, 1.70127796e-03])\n"
     ]
    },
    {
     "name": "stderr",
     "output_type": "stream",
     "text": [
      "/tmp/ipykernel_40318/26170352.py:60: SettingWithCopyWarning: \n",
      "A value is trying to be set on a copy of a slice from a DataFrame.\n",
      "Try using .loc[row_indexer,col_indexer] = value instead\n",
      "\n",
      "See the caveats in the documentation: https://pandas.pydata.org/pandas-docs/stable/user_guide/indexing.html#returning-a-view-versus-a-copy\n",
      "  data_toUse_[sL1JetResponse] = data_toUse_[sL1JetEt_forResolutionPlots] / data_toUse_[sRefJetEt]\n"
     ]
    },
    {
     "name": "stdout",
     "output_type": "stream",
     "text": [
      "popt: [1.11964894e+03 1.00518986e+00 2.14104118e-01], \n",
      "pcov: \n",
      "[[ 2.83965792e+02  1.74054452e-03 -1.97589784e-02]\n",
      " [ 1.74054452e-03  6.68379348e-06 -3.41425087e-07]\n",
      " [-1.97589784e-02 -3.41425087e-07  3.79598015e-06]],  \n",
      "poptErr = array([1.68512846e+01, 2.58530336e-03, 1.94832753e-03])\n"
     ]
    },
    {
     "name": "stderr",
     "output_type": "stream",
     "text": [
      "/tmp/ipykernel_40318/26170352.py:60: SettingWithCopyWarning: \n",
      "A value is trying to be set on a copy of a slice from a DataFrame.\n",
      "Try using .loc[row_indexer,col_indexer] = value instead\n",
      "\n",
      "See the caveats in the documentation: https://pandas.pydata.org/pandas-docs/stable/user_guide/indexing.html#returning-a-view-versus-a-copy\n",
      "  data_toUse_[sL1JetResponse] = data_toUse_[sL1JetEt_forResolutionPlots] / data_toUse_[sRefJetEt]\n"
     ]
    },
    {
     "name": "stdout",
     "output_type": "stream",
     "text": [
      "popt: [1.10262425e+03 1.00198245e+00 2.06413691e-01], \n",
      "pcov: \n",
      "[[ 3.41311119e+02  2.46370556e-03 -2.32766950e-02]\n",
      " [ 2.46370556e-03  7.67681141e-06 -4.66030407e-07]\n",
      " [-2.32766950e-02 -4.66030407e-07  4.36609129e-06]],  \n",
      "poptErr = array([1.84746074e+01, 2.77070594e-03, 2.08951939e-03])\n"
     ]
    },
    {
     "name": "stderr",
     "output_type": "stream",
     "text": [
      "/tmp/ipykernel_40318/26170352.py:60: SettingWithCopyWarning: \n",
      "A value is trying to be set on a copy of a slice from a DataFrame.\n",
      "Try using .loc[row_indexer,col_indexer] = value instead\n",
      "\n",
      "See the caveats in the documentation: https://pandas.pydata.org/pandas-docs/stable/user_guide/indexing.html#returning-a-view-versus-a-copy\n",
      "  data_toUse_[sL1JetResponse] = data_toUse_[sL1JetEt_forResolutionPlots] / data_toUse_[sRefJetEt]\n"
     ]
    },
    {
     "name": "stdout",
     "output_type": "stream",
     "text": [
      "popt: [1.07788760e+03 1.00136901e+00 2.01706754e-01], \n",
      "pcov: \n",
      "[[ 4.04945723e+02  3.78435303e-03 -2.77395781e-02]\n",
      " [ 3.78435303e-03  9.10848028e-06 -7.12617926e-07]\n",
      " [-2.77395781e-02 -7.12617926e-07  5.19888826e-06]],  \n",
      "poptErr = array([2.01232632e+01, 3.01802589e-03, 2.28010707e-03])\n"
     ]
    },
    {
     "name": "stderr",
     "output_type": "stream",
     "text": [
      "/tmp/ipykernel_40318/26170352.py:60: SettingWithCopyWarning: \n",
      "A value is trying to be set on a copy of a slice from a DataFrame.\n",
      "Try using .loc[row_indexer,col_indexer] = value instead\n",
      "\n",
      "See the caveats in the documentation: https://pandas.pydata.org/pandas-docs/stable/user_guide/indexing.html#returning-a-view-versus-a-copy\n",
      "  data_toUse_[sL1JetResponse] = data_toUse_[sL1JetEt_forResolutionPlots] / data_toUse_[sRefJetEt]\n"
     ]
    },
    {
     "name": "stdout",
     "output_type": "stream",
     "text": [
      "popt: [1.04453750e+03 1.00124909e+00 1.96327282e-01], \n",
      "pcov: \n",
      "[[ 4.73777323e+02  4.04818376e-03 -3.29429205e-02]\n",
      " [ 4.04818376e-03  1.06576313e-05 -7.64336028e-07]\n",
      " [-3.29429205e-02 -7.64336028e-07  6.19849541e-06]],  \n",
      "poptErr = array([2.17664265e+01, 3.26460278e-03, 2.48967777e-03])\n"
     ]
    },
    {
     "name": "stderr",
     "output_type": "stream",
     "text": [
      "/tmp/ipykernel_40318/26170352.py:60: SettingWithCopyWarning: \n",
      "A value is trying to be set on a copy of a slice from a DataFrame.\n",
      "Try using .loc[row_indexer,col_indexer] = value instead\n",
      "\n",
      "See the caveats in the documentation: https://pandas.pydata.org/pandas-docs/stable/user_guide/indexing.html#returning-a-view-versus-a-copy\n",
      "  data_toUse_[sL1JetResponse] = data_toUse_[sL1JetEt_forResolutionPlots] / data_toUse_[sRefJetEt]\n"
     ]
    },
    {
     "name": "stdout",
     "output_type": "stream",
     "text": [
      "popt: [1.03180838e+03 1.00123270e+00 1.93009771e-01], \n",
      "pcov: \n",
      "[[ 3.99761643e+02  3.10935310e-03 -2.71749686e-02]\n",
      " [ 3.10935310e-03  8.98169553e-06 -5.82605806e-07]\n",
      " [-2.71749686e-02 -5.82605806e-07  5.08702512e-06]],  \n",
      "poptErr = array([1.99940402e+01, 2.99694770e-03, 2.25544344e-03])\n"
     ]
    },
    {
     "name": "stderr",
     "output_type": "stream",
     "text": [
      "/tmp/ipykernel_40318/26170352.py:60: SettingWithCopyWarning: \n",
      "A value is trying to be set on a copy of a slice from a DataFrame.\n",
      "Try using .loc[row_indexer,col_indexer] = value instead\n",
      "\n",
      "See the caveats in the documentation: https://pandas.pydata.org/pandas-docs/stable/user_guide/indexing.html#returning-a-view-versus-a-copy\n",
      "  data_toUse_[sL1JetResponse] = data_toUse_[sL1JetEt_forResolutionPlots] / data_toUse_[sRefJetEt]\n"
     ]
    },
    {
     "name": "stdout",
     "output_type": "stream",
     "text": [
      "popt: [1.00215372e+03 1.00026600e+00 1.88296035e-01], \n",
      "pcov: \n",
      "[[ 4.50580289e+02  4.74666664e-03 -3.06869307e-02]\n",
      " [ 4.74666664e-03  1.02831459e-05 -8.92430785e-07]\n",
      " [-3.06869307e-02 -8.92430785e-07  5.76721625e-06]],  \n",
      "poptErr = array([2.12268766e+01, 3.20673445e-03, 2.40150291e-03])\n"
     ]
    },
    {
     "name": "stderr",
     "output_type": "stream",
     "text": [
      "/tmp/ipykernel_40318/26170352.py:60: SettingWithCopyWarning: \n",
      "A value is trying to be set on a copy of a slice from a DataFrame.\n",
      "Try using .loc[row_indexer,col_indexer] = value instead\n",
      "\n",
      "See the caveats in the documentation: https://pandas.pydata.org/pandas-docs/stable/user_guide/indexing.html#returning-a-view-versus-a-copy\n",
      "  data_toUse_[sL1JetResponse] = data_toUse_[sL1JetEt_forResolutionPlots] / data_toUse_[sRefJetEt]\n"
     ]
    },
    {
     "name": "stdout",
     "output_type": "stream",
     "text": [
      "popt: [9.85286495e+02 1.00232248e+00 1.83612712e-01], \n",
      "pcov: \n",
      "[[ 4.64445356e+02  4.42206852e-03 -3.10558604e-02]\n",
      " [ 4.42206852e-03  1.04633954e-05 -8.24219590e-07]\n",
      " [-3.10558604e-02 -8.24219590e-07  5.78886573e-06]],  \n",
      "poptErr = array([2.15509943e+01, 3.23471720e-03, 2.40600618e-03])\n"
     ]
    },
    {
     "name": "stderr",
     "output_type": "stream",
     "text": [
      "/tmp/ipykernel_40318/26170352.py:60: SettingWithCopyWarning: \n",
      "A value is trying to be set on a copy of a slice from a DataFrame.\n",
      "Try using .loc[row_indexer,col_indexer] = value instead\n",
      "\n",
      "See the caveats in the documentation: https://pandas.pydata.org/pandas-docs/stable/user_guide/indexing.html#returning-a-view-versus-a-copy\n",
      "  data_toUse_[sL1JetResponse] = data_toUse_[sL1JetEt_forResolutionPlots] / data_toUse_[sRefJetEt]\n"
     ]
    },
    {
     "name": "stdout",
     "output_type": "stream",
     "text": [
      "popt: [9.55959422e+02 9.98862261e-01 1.80792823e-01], \n",
      "pcov: \n",
      "[[ 4.47940759e+02  5.36610378e-03 -3.01770673e-02]\n",
      " [ 5.36610378e-03  1.04999566e-05 -1.01476919e-06]\n",
      " [-3.01770673e-02 -1.01476919e-06  5.70892369e-06]],  \n",
      "poptErr = array([2.11646110e+01, 3.24036365e-03, 2.38933541e-03])\n"
     ]
    },
    {
     "name": "stderr",
     "output_type": "stream",
     "text": [
      "/tmp/ipykernel_40318/26170352.py:60: SettingWithCopyWarning: \n",
      "A value is trying to be set on a copy of a slice from a DataFrame.\n",
      "Try using .loc[row_indexer,col_indexer] = value instead\n",
      "\n",
      "See the caveats in the documentation: https://pandas.pydata.org/pandas-docs/stable/user_guide/indexing.html#returning-a-view-versus-a-copy\n",
      "  data_toUse_[sL1JetResponse] = data_toUse_[sL1JetEt_forResolutionPlots] / data_toUse_[sRefJetEt]\n"
     ]
    },
    {
     "name": "stdout",
     "output_type": "stream",
     "text": [
      "popt: [1.85642054e+03 1.00348954e+00 1.74015092e-01], \n",
      "pcov: \n",
      "[[ 1.86302666e+03  9.91451170e-03 -6.34296090e-02]\n",
      " [ 9.91451170e-03  1.05706484e-05 -9.29274117e-07]\n",
      " [-6.34296090e-02 -9.29274117e-07  5.94612439e-06]],  \n",
      "poptErr = array([4.31627925e+01, 3.25125336e-03, 2.43846763e-03])\n"
     ]
    },
    {
     "name": "stderr",
     "output_type": "stream",
     "text": [
      "/tmp/ipykernel_40318/26170352.py:60: SettingWithCopyWarning: \n",
      "A value is trying to be set on a copy of a slice from a DataFrame.\n",
      "Try using .loc[row_indexer,col_indexer] = value instead\n",
      "\n",
      "See the caveats in the documentation: https://pandas.pydata.org/pandas-docs/stable/user_guide/indexing.html#returning-a-view-versus-a-copy\n",
      "  data_toUse_[sL1JetResponse] = data_toUse_[sL1JetEt_forResolutionPlots] / data_toUse_[sRefJetEt]\n"
     ]
    },
    {
     "name": "stdout",
     "output_type": "stream",
     "text": [
      "popt: [1.77922746e+03 1.00323113e+00 1.66443298e-01], \n",
      "pcov: \n",
      "[[ 1.90605257e+03  1.17839301e-02 -6.44869948e-02]\n",
      " [ 1.17839301e-02  1.08495459e-05 -1.10232294e-06]\n",
      " [-6.44869948e-02 -1.10232294e-06  6.03275289e-06]],  \n",
      "poptErr = array([4.36583620e+01, 3.29386489e-03, 2.45616630e-03])\n"
     ]
    },
    {
     "name": "stderr",
     "output_type": "stream",
     "text": [
      "/tmp/ipykernel_40318/26170352.py:60: SettingWithCopyWarning: \n",
      "A value is trying to be set on a copy of a slice from a DataFrame.\n",
      "Try using .loc[row_indexer,col_indexer] = value instead\n",
      "\n",
      "See the caveats in the documentation: https://pandas.pydata.org/pandas-docs/stable/user_guide/indexing.html#returning-a-view-versus-a-copy\n",
      "  data_toUse_[sL1JetResponse] = data_toUse_[sL1JetEt_forResolutionPlots] / data_toUse_[sRefJetEt]\n"
     ]
    },
    {
     "name": "stdout",
     "output_type": "stream",
     "text": [
      "popt: [1.70163551e+03 1.00306032e+00 1.60161434e-01], \n",
      "pcov: \n",
      "[[ 1.92252537e+03  1.28774181e-02 -6.54857081e-02]\n",
      " [ 1.28774181e-02  1.11065514e-05 -1.21199339e-06]\n",
      " [-6.54857081e-02 -1.21199339e-06  6.16370405e-06]],  \n",
      "poptErr = array([4.38466118e+01, 3.33264931e-03, 2.48268082e-03])\n"
     ]
    },
    {
     "name": "stderr",
     "output_type": "stream",
     "text": [
      "/tmp/ipykernel_40318/26170352.py:60: SettingWithCopyWarning: \n",
      "A value is trying to be set on a copy of a slice from a DataFrame.\n",
      "Try using .loc[row_indexer,col_indexer] = value instead\n",
      "\n",
      "See the caveats in the documentation: https://pandas.pydata.org/pandas-docs/stable/user_guide/indexing.html#returning-a-view-versus-a-copy\n",
      "  data_toUse_[sL1JetResponse] = data_toUse_[sL1JetEt_forResolutionPlots] / data_toUse_[sRefJetEt]\n"
     ]
    },
    {
     "name": "stdout",
     "output_type": "stream",
     "text": [
      "popt: [3.23788763e+03 1.00309301e+00 1.51542222e-01], \n",
      "pcov: \n",
      "[[ 7.05507898e+03  2.20159843e-02 -1.20267984e-01]\n",
      " [ 2.20159843e-02  1.00144233e-05 -1.03033270e-06]\n",
      " [-1.20267984e-01 -1.03033270e-06  5.62902068e-06]],  \n",
      "poptErr = array([8.39945175e+01, 3.16455736e-03, 2.37255573e-03])\n"
     ]
    },
    {
     "name": "stderr",
     "output_type": "stream",
     "text": [
      "/tmp/ipykernel_40318/26170352.py:60: SettingWithCopyWarning: \n",
      "A value is trying to be set on a copy of a slice from a DataFrame.\n",
      "Try using .loc[row_indexer,col_indexer] = value instead\n",
      "\n",
      "See the caveats in the documentation: https://pandas.pydata.org/pandas-docs/stable/user_guide/indexing.html#returning-a-view-versus-a-copy\n",
      "  data_toUse_[sL1JetResponse] = data_toUse_[sL1JetEt_forResolutionPlots] / data_toUse_[sRefJetEt]\n"
     ]
    },
    {
     "name": "stdout",
     "output_type": "stream",
     "text": [
      "popt: [2.99754033e+03 1.00293887e+00 1.41847134e-01], \n",
      "pcov: \n",
      "[[ 7.25792654e+03  2.66795786e-02 -1.25354704e-01]\n",
      " [ 2.66795786e-02  1.05895224e-05 -1.26247363e-06]\n",
      " [-1.25354704e-01 -1.26247363e-06  5.93194590e-06]],  \n",
      "poptErr = array([8.51934654e+01, 3.25415463e-03, 2.43555864e-03])\n"
     ]
    },
    {
     "name": "stderr",
     "output_type": "stream",
     "text": [
      "/tmp/ipykernel_40318/26170352.py:60: SettingWithCopyWarning: \n",
      "A value is trying to be set on a copy of a slice from a DataFrame.\n",
      "Try using .loc[row_indexer,col_indexer] = value instead\n",
      "\n",
      "See the caveats in the documentation: https://pandas.pydata.org/pandas-docs/stable/user_guide/indexing.html#returning-a-view-versus-a-copy\n",
      "  data_toUse_[sL1JetResponse] = data_toUse_[sL1JetEt_forResolutionPlots] / data_toUse_[sRefJetEt]\n"
     ]
    },
    {
     "name": "stdout",
     "output_type": "stream",
     "text": [
      "popt: [2.74052133e+03 1.00062566e+00 1.34791723e-01], \n",
      "pcov: \n",
      "[[ 5.03041099e+03  1.87617304e-02 -8.96237402e-02]\n",
      " [ 1.87617304e-02  7.95451765e-06 -9.22713387e-07]\n",
      " [-8.96237402e-02 -9.22713387e-07  4.40813021e-06]],  \n",
      "poptErr = array([7.09253903e+01, 2.82037544e-03, 2.09955477e-03])\n"
     ]
    },
    {
     "name": "stderr",
     "output_type": "stream",
     "text": [
      "/tmp/ipykernel_40318/26170352.py:60: SettingWithCopyWarning: \n",
      "A value is trying to be set on a copy of a slice from a DataFrame.\n",
      "Try using .loc[row_indexer,col_indexer] = value instead\n",
      "\n",
      "See the caveats in the documentation: https://pandas.pydata.org/pandas-docs/stable/user_guide/indexing.html#returning-a-view-versus-a-copy\n",
      "  data_toUse_[sL1JetResponse] = data_toUse_[sL1JetEt_forResolutionPlots] / data_toUse_[sRefJetEt]\n"
     ]
    },
    {
     "name": "stdout",
     "output_type": "stream",
     "text": [
      "popt: [2.49987726e+03 9.98573657e-01 1.28064353e-01], \n",
      "pcov: \n",
      "[[ 4.79368118e+03  2.03822294e-02 -8.84749130e-02]\n",
      " [ 2.03822294e-02  8.28841166e-06 -1.04412195e-06]\n",
      " [-8.84749130e-02 -1.04412195e-06  4.53241921e-06]],  \n",
      "poptErr = array([6.92364151e+01, 2.87896017e-03, 2.12894791e-03])\n"
     ]
    },
    {
     "name": "stderr",
     "output_type": "stream",
     "text": [
      "/tmp/ipykernel_40318/26170352.py:60: SettingWithCopyWarning: \n",
      "A value is trying to be set on a copy of a slice from a DataFrame.\n",
      "Try using .loc[row_indexer,col_indexer] = value instead\n",
      "\n",
      "See the caveats in the documentation: https://pandas.pydata.org/pandas-docs/stable/user_guide/indexing.html#returning-a-view-versus-a-copy\n",
      "  data_toUse_[sL1JetResponse] = data_toUse_[sL1JetEt_forResolutionPlots] / data_toUse_[sRefJetEt]\n"
     ]
    },
    {
     "name": "stdout",
     "output_type": "stream",
     "text": [
      "popt: [7.34599486e+02 1.12319786e+00 3.71225845e-01], \n",
      "pcov: \n",
      "[[ 9.74041785e+02 -1.88224250e-02 -2.26796694e-01]\n",
      " [-1.88224250e-02  1.77426840e-04 -5.35933236e-06]\n",
      " [-2.26796694e-01 -5.35933236e-06  1.34761513e-04]],  \n",
      "poptErr = array([3.12096425e+01, 1.33201667e-02, 1.16086826e-02])\n"
     ]
    },
    {
     "name": "stderr",
     "output_type": "stream",
     "text": [
      "/tmp/ipykernel_40318/26170352.py:60: SettingWithCopyWarning: \n",
      "A value is trying to be set on a copy of a slice from a DataFrame.\n",
      "Try using .loc[row_indexer,col_indexer] = value instead\n",
      "\n",
      "See the caveats in the documentation: https://pandas.pydata.org/pandas-docs/stable/user_guide/indexing.html#returning-a-view-versus-a-copy\n",
      "  data_toUse_[sL1JetResponse] = data_toUse_[sL1JetEt_forResolutionPlots] / data_toUse_[sRefJetEt]\n"
     ]
    },
    {
     "name": "stdout",
     "output_type": "stream",
     "text": [
      "popt: [7.72122399e+02 1.08656787e+00 3.55136023e-01], \n",
      "pcov: \n",
      "[[ 1.03581461e+03 -3.00000723e-02 -2.09145717e-01]\n",
      " [-3.00000723e-02  1.53531998e-04  4.69109404e-06]\n",
      " [-2.09145717e-01  4.69109404e-06  1.09332149e-04]],  \n",
      "poptErr = array([3.21840739e+01, 1.23908030e-02, 1.04562015e-02])\n"
     ]
    },
    {
     "name": "stderr",
     "output_type": "stream",
     "text": [
      "/tmp/ipykernel_40318/26170352.py:60: SettingWithCopyWarning: \n",
      "A value is trying to be set on a copy of a slice from a DataFrame.\n",
      "Try using .loc[row_indexer,col_indexer] = value instead\n",
      "\n",
      "See the caveats in the documentation: https://pandas.pydata.org/pandas-docs/stable/user_guide/indexing.html#returning-a-view-versus-a-copy\n",
      "  data_toUse_[sL1JetResponse] = data_toUse_[sL1JetEt_forResolutionPlots] / data_toUse_[sRefJetEt]\n"
     ]
    },
    {
     "name": "stdout",
     "output_type": "stream",
     "text": [
      "popt: [8.74470440e+02 1.08301083e+00 2.81885730e-01], \n",
      "pcov: \n",
      "[[ 2.63185187e+03 -1.81599359e-01 -2.76194851e-01]\n",
      " [-1.81599359e-01  2.29771670e-04  5.74418307e-05]\n",
      " [-2.76194851e-01  5.74418307e-05  9.14897575e-05]],  \n",
      "poptErr = array([5.13015777e+01, 1.51582212e-02, 9.56502784e-03])\n"
     ]
    },
    {
     "name": "stderr",
     "output_type": "stream",
     "text": [
      "/tmp/ipykernel_40318/26170352.py:60: SettingWithCopyWarning: \n",
      "A value is trying to be set on a copy of a slice from a DataFrame.\n",
      "Try using .loc[row_indexer,col_indexer] = value instead\n",
      "\n",
      "See the caveats in the documentation: https://pandas.pydata.org/pandas-docs/stable/user_guide/indexing.html#returning-a-view-versus-a-copy\n",
      "  data_toUse_[sL1JetResponse] = data_toUse_[sL1JetEt_forResolutionPlots] / data_toUse_[sRefJetEt]\n"
     ]
    },
    {
     "name": "stdout",
     "output_type": "stream",
     "text": [
      "popt: [8.77298885e+02 1.06205918e+00 2.82498261e-01], \n",
      "pcov: \n",
      "[[ 2.30705297e+03 -1.47373025e-01 -2.39341747e-01]\n",
      " [-1.47373025e-01  1.97370574e-04  4.64395475e-05]\n",
      " [-2.39341747e-01  4.64395475e-05  7.92031907e-05]],  \n",
      "poptErr = array([4.80317913e+01, 1.40488638e-02, 8.89961744e-03])\n"
     ]
    },
    {
     "name": "stderr",
     "output_type": "stream",
     "text": [
      "/tmp/ipykernel_40318/26170352.py:60: SettingWithCopyWarning: \n",
      "A value is trying to be set on a copy of a slice from a DataFrame.\n",
      "Try using .loc[row_indexer,col_indexer] = value instead\n",
      "\n",
      "See the caveats in the documentation: https://pandas.pydata.org/pandas-docs/stable/user_guide/indexing.html#returning-a-view-versus-a-copy\n",
      "  data_toUse_[sL1JetResponse] = data_toUse_[sL1JetEt_forResolutionPlots] / data_toUse_[sRefJetEt]\n"
     ]
    },
    {
     "name": "stdout",
     "output_type": "stream",
     "text": [
      "popt: [8.44138296e+02 1.02821279e+00 3.14906298e-01], \n",
      "pcov: \n",
      "[[ 1.00590115e+03 -3.96790272e-02 -1.38556796e-01]\n",
      " [-3.96790272e-02  1.00564225e-04  1.28324066e-05]\n",
      " [-1.38556796e-01  1.28324066e-05  5.48602285e-05]],  \n",
      "poptErr = array([3.17159447e+01, 1.00281716e-02, 7.40676910e-03])\n"
     ]
    },
    {
     "name": "stderr",
     "output_type": "stream",
     "text": [
      "/tmp/ipykernel_40318/26170352.py:60: SettingWithCopyWarning: \n",
      "A value is trying to be set on a copy of a slice from a DataFrame.\n",
      "Try using .loc[row_indexer,col_indexer] = value instead\n",
      "\n",
      "See the caveats in the documentation: https://pandas.pydata.org/pandas-docs/stable/user_guide/indexing.html#returning-a-view-versus-a-copy\n",
      "  data_toUse_[sL1JetResponse] = data_toUse_[sL1JetEt_forResolutionPlots] / data_toUse_[sRefJetEt]\n"
     ]
    },
    {
     "name": "stdout",
     "output_type": "stream",
     "text": [
      "popt: [8.83594238e+02 1.02723128e+00 2.83830269e-01], \n",
      "pcov: \n",
      "[[ 1.58536746e+03 -8.60574271e-02 -1.62627060e-01]\n",
      " [-8.60574271e-02  1.29911326e-04  2.69452673e-05]\n",
      " [-1.62627060e-01  2.69452673e-05  5.36144541e-05]],  \n",
      "poptErr = array([3.98166731e+01, 1.13978650e-02, 7.32218916e-03])\n"
     ]
    },
    {
     "name": "stderr",
     "output_type": "stream",
     "text": [
      "/tmp/ipykernel_40318/26170352.py:60: SettingWithCopyWarning: \n",
      "A value is trying to be set on a copy of a slice from a DataFrame.\n",
      "Try using .loc[row_indexer,col_indexer] = value instead\n",
      "\n",
      "See the caveats in the documentation: https://pandas.pydata.org/pandas-docs/stable/user_guide/indexing.html#returning-a-view-versus-a-copy\n",
      "  data_toUse_[sL1JetResponse] = data_toUse_[sL1JetEt_forResolutionPlots] / data_toUse_[sRefJetEt]\n"
     ]
    },
    {
     "name": "stdout",
     "output_type": "stream",
     "text": [
      "popt: [8.35057926e+02 9.96770976e-01 3.16658537e-01], \n",
      "pcov: \n",
      "[[ 4.28550790e+02 -6.99680089e-03 -6.26396809e-02]\n",
      " [-6.99680089e-03  4.24444225e-05  1.48136291e-06]\n",
      " [-6.26396809e-02  1.48136291e-06  2.54522256e-05]],  \n",
      "poptErr = array([2.07014683e+01, 6.51493841e-03, 5.04501988e-03])\n"
     ]
    },
    {
     "name": "stderr",
     "output_type": "stream",
     "text": [
      "/tmp/ipykernel_40318/26170352.py:60: SettingWithCopyWarning: \n",
      "A value is trying to be set on a copy of a slice from a DataFrame.\n",
      "Try using .loc[row_indexer,col_indexer] = value instead\n",
      "\n",
      "See the caveats in the documentation: https://pandas.pydata.org/pandas-docs/stable/user_guide/indexing.html#returning-a-view-versus-a-copy\n",
      "  data_toUse_[sL1JetResponse] = data_toUse_[sL1JetEt_forResolutionPlots] / data_toUse_[sRefJetEt]\n"
     ]
    },
    {
     "name": "stdout",
     "output_type": "stream",
     "text": [
      "popt: [8.38323054e+02 9.98079285e-01 3.01342798e-01], \n",
      "pcov: \n",
      "[[ 4.99634306e+02 -1.26475188e-02 -6.36551318e-02]\n",
      " [-1.26475188e-02  4.53373483e-05  3.89115847e-06]\n",
      " [-6.36551318e-02  3.89115847e-06  2.39046931e-05]],  \n",
      "poptErr = array([2.23525011e+01, 6.73330144e-03, 4.88924259e-03])\n"
     ]
    },
    {
     "name": "stderr",
     "output_type": "stream",
     "text": [
      "/tmp/ipykernel_40318/26170352.py:60: SettingWithCopyWarning: \n",
      "A value is trying to be set on a copy of a slice from a DataFrame.\n",
      "Try using .loc[row_indexer,col_indexer] = value instead\n",
      "\n",
      "See the caveats in the documentation: https://pandas.pydata.org/pandas-docs/stable/user_guide/indexing.html#returning-a-view-versus-a-copy\n",
      "  data_toUse_[sL1JetResponse] = data_toUse_[sL1JetEt_forResolutionPlots] / data_toUse_[sRefJetEt]\n"
     ]
    },
    {
     "name": "stdout",
     "output_type": "stream",
     "text": [
      "popt: [8.16308867e+02 9.83943783e-01 3.03307816e-01], \n",
      "pcov: \n",
      "[[ 2.28315074e+02 -2.26222802e-03 -3.14380121e-02]\n",
      " [-2.26222802e-03  2.15747727e-05  3.97679738e-07]\n",
      " [-3.14380121e-02  3.97679738e-07  1.23135782e-05]],  \n",
      "poptErr = array([1.51100984e+01, 4.64486520e-03, 3.50907085e-03])\n"
     ]
    },
    {
     "name": "stderr",
     "output_type": "stream",
     "text": [
      "/tmp/ipykernel_40318/26170352.py:60: SettingWithCopyWarning: \n",
      "A value is trying to be set on a copy of a slice from a DataFrame.\n",
      "Try using .loc[row_indexer,col_indexer] = value instead\n",
      "\n",
      "See the caveats in the documentation: https://pandas.pydata.org/pandas-docs/stable/user_guide/indexing.html#returning-a-view-versus-a-copy\n",
      "  data_toUse_[sL1JetResponse] = data_toUse_[sL1JetEt_forResolutionPlots] / data_toUse_[sRefJetEt]\n"
     ]
    },
    {
     "name": "stdout",
     "output_type": "stream",
     "text": [
      "popt: [8.07243075e+02 9.93422700e-01 2.82454590e-01], \n",
      "pcov: \n",
      "[[ 3.53824333e+02 -8.53429789e-03 -4.14994183e-02]\n",
      " [-8.53429789e-03  3.04794140e-05  2.75949998e-06]\n",
      " [-4.14994183e-02  2.75949998e-06  1.48940548e-05]],  \n",
      "poptErr = array([1.88102188e+01, 5.52081642e-03, 3.85928164e-03])\n"
     ]
    },
    {
     "name": "stderr",
     "output_type": "stream",
     "text": [
      "/tmp/ipykernel_40318/26170352.py:60: SettingWithCopyWarning: \n",
      "A value is trying to be set on a copy of a slice from a DataFrame.\n",
      "Try using .loc[row_indexer,col_indexer] = value instead\n",
      "\n",
      "See the caveats in the documentation: https://pandas.pydata.org/pandas-docs/stable/user_guide/indexing.html#returning-a-view-versus-a-copy\n",
      "  data_toUse_[sL1JetResponse] = data_toUse_[sL1JetEt_forResolutionPlots] / data_toUse_[sRefJetEt]\n"
     ]
    },
    {
     "name": "stdout",
     "output_type": "stream",
     "text": [
      "popt: [7.92907576e+02 9.84134985e-01 2.83622938e-01], \n",
      "pcov: \n",
      "[[ 1.62158697e+02 -1.36718749e-03 -2.04864686e-02]\n",
      " [-1.36718749e-03  1.40697176e-05  3.42992001e-07]\n",
      " [-2.04864686e-02  3.42992001e-07  7.54934998e-06]],  \n",
      "poptErr = array([1.27341547e+01, 3.75096222e-03, 2.74760805e-03])\n"
     ]
    },
    {
     "name": "stderr",
     "output_type": "stream",
     "text": [
      "/tmp/ipykernel_40318/26170352.py:60: SettingWithCopyWarning: \n",
      "A value is trying to be set on a copy of a slice from a DataFrame.\n",
      "Try using .loc[row_indexer,col_indexer] = value instead\n",
      "\n",
      "See the caveats in the documentation: https://pandas.pydata.org/pandas-docs/stable/user_guide/indexing.html#returning-a-view-versus-a-copy\n",
      "  data_toUse_[sL1JetResponse] = data_toUse_[sL1JetEt_forResolutionPlots] / data_toUse_[sRefJetEt]\n"
     ]
    },
    {
     "name": "stdout",
     "output_type": "stream",
     "text": [
      "popt: [7.78646522e+02 9.89890338e-01 2.70678203e-01], \n",
      "pcov: \n",
      "[[ 2.11751912e+02 -4.01581250e-03 -2.42778652e-02]\n",
      " [-4.01581250e-03  1.77737697e-05  1.31755897e-06]\n",
      " [-2.42778652e-02  1.31755897e-06  8.57371768e-06]],  \n",
      "poptErr = array([1.45516979e+01, 4.21589489e-03, 2.92809113e-03])\n"
     ]
    },
    {
     "name": "stderr",
     "output_type": "stream",
     "text": [
      "/tmp/ipykernel_40318/26170352.py:60: SettingWithCopyWarning: \n",
      "A value is trying to be set on a copy of a slice from a DataFrame.\n",
      "Try using .loc[row_indexer,col_indexer] = value instead\n",
      "\n",
      "See the caveats in the documentation: https://pandas.pydata.org/pandas-docs/stable/user_guide/indexing.html#returning-a-view-versus-a-copy\n",
      "  data_toUse_[sL1JetResponse] = data_toUse_[sL1JetEt_forResolutionPlots] / data_toUse_[sRefJetEt]\n"
     ]
    },
    {
     "name": "stdout",
     "output_type": "stream",
     "text": [
      "popt: [1.22426569e+03 9.82489796e-01 2.71849662e-01], \n",
      "pcov: \n",
      "[[ 2.44467465e+02 -8.86535399e-04 -1.91657903e-02]\n",
      " [-8.86535399e-04  8.02636064e-06  1.48754846e-07]\n",
      " [-1.91657903e-02  1.48754846e-07  4.33394157e-06]],  \n",
      "poptErr = array([1.56354554e+01, 2.83308324e-03, 2.08181209e-03])\n"
     ]
    },
    {
     "name": "stderr",
     "output_type": "stream",
     "text": [
      "/tmp/ipykernel_40318/26170352.py:60: SettingWithCopyWarning: \n",
      "A value is trying to be set on a copy of a slice from a DataFrame.\n",
      "Try using .loc[row_indexer,col_indexer] = value instead\n",
      "\n",
      "See the caveats in the documentation: https://pandas.pydata.org/pandas-docs/stable/user_guide/indexing.html#returning-a-view-versus-a-copy\n",
      "  data_toUse_[sL1JetResponse] = data_toUse_[sL1JetEt_forResolutionPlots] / data_toUse_[sRefJetEt]\n"
     ]
    },
    {
     "name": "stdout",
     "output_type": "stream",
     "text": [
      "popt: [1.17788189e+03 9.80993834e-01 2.61151001e-01], \n",
      "pcov: \n",
      "[[ 2.13799260e+02 -8.54854946e-04 -1.66198980e-02]\n",
      " [-8.54854946e-04  6.94381342e-06  1.67756290e-07]\n",
      " [-1.66198980e-02  1.67756290e-07  3.72354915e-06]],  \n",
      "poptErr = array([1.46218761e+01, 2.63511165e-03, 1.92965001e-03])\n"
     ]
    },
    {
     "name": "stderr",
     "output_type": "stream",
     "text": [
      "/tmp/ipykernel_40318/26170352.py:60: SettingWithCopyWarning: \n",
      "A value is trying to be set on a copy of a slice from a DataFrame.\n",
      "Try using .loc[row_indexer,col_indexer] = value instead\n",
      "\n",
      "See the caveats in the documentation: https://pandas.pydata.org/pandas-docs/stable/user_guide/indexing.html#returning-a-view-versus-a-copy\n",
      "  data_toUse_[sL1JetResponse] = data_toUse_[sL1JetEt_forResolutionPlots] / data_toUse_[sRefJetEt]\n"
     ]
    },
    {
     "name": "stdout",
     "output_type": "stream",
     "text": [
      "popt: [1.12160604e+03 9.80809234e-01 2.51570645e-01], \n",
      "pcov: \n",
      "[[ 2.43949348e+02 -5.92490988e-04 -1.93291683e-02]\n",
      " [-5.92490988e-04  8.00983726e-06  1.19923820e-07]\n",
      " [-1.93291683e-02  1.19923820e-07  4.35977381e-06]],  \n",
      "poptErr = array([1.56188779e+01, 2.83016559e-03, 2.08800714e-03])\n"
     ]
    },
    {
     "name": "stderr",
     "output_type": "stream",
     "text": [
      "/tmp/ipykernel_40318/26170352.py:60: SettingWithCopyWarning: \n",
      "A value is trying to be set on a copy of a slice from a DataFrame.\n",
      "Try using .loc[row_indexer,col_indexer] = value instead\n",
      "\n",
      "See the caveats in the documentation: https://pandas.pydata.org/pandas-docs/stable/user_guide/indexing.html#returning-a-view-versus-a-copy\n",
      "  data_toUse_[sL1JetResponse] = data_toUse_[sL1JetEt_forResolutionPlots] / data_toUse_[sRefJetEt]\n"
     ]
    },
    {
     "name": "stdout",
     "output_type": "stream",
     "text": [
      "popt: [1.07055552e+03 9.82896801e-01 2.44289920e-01], \n",
      "pcov: \n",
      "[[ 1.87976647e+02 -2.55647755e-04 -1.54767921e-02]\n",
      " [-2.55647755e-04  6.29733289e-06  5.11089848e-08]\n",
      " [-1.54767921e-02  5.11089848e-08  3.54609242e-06]],  \n",
      "poptErr = array([1.37104576e+01, 2.50944872e-03, 1.88310712e-03])\n"
     ]
    },
    {
     "name": "stderr",
     "output_type": "stream",
     "text": [
      "/tmp/ipykernel_40318/26170352.py:60: SettingWithCopyWarning: \n",
      "A value is trying to be set on a copy of a slice from a DataFrame.\n",
      "Try using .loc[row_indexer,col_indexer] = value instead\n",
      "\n",
      "See the caveats in the documentation: https://pandas.pydata.org/pandas-docs/stable/user_guide/indexing.html#returning-a-view-versus-a-copy\n",
      "  data_toUse_[sL1JetResponse] = data_toUse_[sL1JetEt_forResolutionPlots] / data_toUse_[sRefJetEt]\n"
     ]
    },
    {
     "name": "stdout",
     "output_type": "stream",
     "text": [
      "popt: [1.02476695e+03 9.82234457e-01 2.36836151e-01], \n",
      "pcov: \n",
      "[[ 1.79903581e+02  7.47913299e-05 -1.49606299e-02]\n",
      " [ 7.47913299e-05  6.17986217e-06 -2.24575969e-08]\n",
      " [-1.49606299e-02 -2.24575969e-08  3.46770137e-06]],  \n",
      "poptErr = array([1.34128141e+01, 2.48593286e-03, 1.86217651e-03])\n"
     ]
    },
    {
     "name": "stderr",
     "output_type": "stream",
     "text": [
      "/tmp/ipykernel_40318/26170352.py:60: SettingWithCopyWarning: \n",
      "A value is trying to be set on a copy of a slice from a DataFrame.\n",
      "Try using .loc[row_indexer,col_indexer] = value instead\n",
      "\n",
      "See the caveats in the documentation: https://pandas.pydata.org/pandas-docs/stable/user_guide/indexing.html#returning-a-view-versus-a-copy\n",
      "  data_toUse_[sL1JetResponse] = data_toUse_[sL1JetEt_forResolutionPlots] / data_toUse_[sRefJetEt]\n"
     ]
    },
    {
     "name": "stdout",
     "output_type": "stream",
     "text": [
      "popt: [9.85202834e+02 9.83244289e-01 2.32700589e-01], \n",
      "pcov: \n",
      "[[ 1.85642133e+02 -1.52021039e-04 -1.60596409e-02]\n",
      " [-1.52021039e-04  6.58250173e-06  3.33556479e-08]\n",
      " [-1.60596409e-02  3.33556479e-08  3.80006508e-06]],  \n",
      "poptErr = array([1.36250553e+01, 2.56563866e-03, 1.94937556e-03])\n"
     ]
    },
    {
     "name": "stderr",
     "output_type": "stream",
     "text": [
      "/tmp/ipykernel_40318/26170352.py:60: SettingWithCopyWarning: \n",
      "A value is trying to be set on a copy of a slice from a DataFrame.\n",
      "Try using .loc[row_indexer,col_indexer] = value instead\n",
      "\n",
      "See the caveats in the documentation: https://pandas.pydata.org/pandas-docs/stable/user_guide/indexing.html#returning-a-view-versus-a-copy\n",
      "  data_toUse_[sL1JetResponse] = data_toUse_[sL1JetEt_forResolutionPlots] / data_toUse_[sRefJetEt]\n"
     ]
    },
    {
     "name": "stdout",
     "output_type": "stream",
     "text": [
      "popt: [9.22097631e+02 9.85093540e-01 2.26123470e-01], \n",
      "pcov: \n",
      "[[ 2.05493935e+02  2.34260072e-04 -1.87016483e-02]\n",
      " [ 2.34260072e-04  7.79246718e-06 -6.08932369e-08]\n",
      " [-1.87016483e-02 -6.08932369e-08  4.59361105e-06]],  \n",
      "poptErr = array([1.43350596e+01, 2.79149909e-03, 2.14327111e-03])\n"
     ]
    },
    {
     "name": "stderr",
     "output_type": "stream",
     "text": [
      "/tmp/ipykernel_40318/26170352.py:60: SettingWithCopyWarning: \n",
      "A value is trying to be set on a copy of a slice from a DataFrame.\n",
      "Try using .loc[row_indexer,col_indexer] = value instead\n",
      "\n",
      "See the caveats in the documentation: https://pandas.pydata.org/pandas-docs/stable/user_guide/indexing.html#returning-a-view-versus-a-copy\n",
      "  data_toUse_[sL1JetResponse] = data_toUse_[sL1JetEt_forResolutionPlots] / data_toUse_[sRefJetEt]\n"
     ]
    },
    {
     "name": "stdout",
     "output_type": "stream",
     "text": [
      "popt: [8.89638932e+02 9.86403435e-01 2.21473918e-01], \n",
      "pcov: \n",
      "[[ 1.92684322e+02  2.54075380e-04 -1.77273822e-02]\n",
      " [ 2.54075380e-04  7.53926301e-06 -6.48259703e-08]\n",
      " [-1.77273822e-02 -6.48259703e-08  4.41682017e-06]],  \n",
      "poptErr = array([1.38810779e+01, 2.74577184e-03, 2.10162322e-03])\n"
     ]
    },
    {
     "name": "stderr",
     "output_type": "stream",
     "text": [
      "/tmp/ipykernel_40318/26170352.py:60: SettingWithCopyWarning: \n",
      "A value is trying to be set on a copy of a slice from a DataFrame.\n",
      "Try using .loc[row_indexer,col_indexer] = value instead\n",
      "\n",
      "See the caveats in the documentation: https://pandas.pydata.org/pandas-docs/stable/user_guide/indexing.html#returning-a-view-versus-a-copy\n",
      "  data_toUse_[sL1JetResponse] = data_toUse_[sL1JetEt_forResolutionPlots] / data_toUse_[sRefJetEt]\n"
     ]
    },
    {
     "name": "stdout",
     "output_type": "stream",
     "text": [
      "popt: [8.54659449e+02 9.84257996e-01 2.12378508e-01], \n",
      "pcov: \n",
      "[[ 2.69436803e+02  7.63332171e-04 -2.49349712e-02]\n",
      " [ 7.63332171e-04  1.04558868e-05 -1.90771078e-07]\n",
      " [-2.49349712e-02 -1.90771078e-07  6.19940266e-06]],  \n",
      "poptErr = array([1.64145302e+01, 3.23355637e-03, 2.48985997e-03])\n"
     ]
    },
    {
     "name": "stderr",
     "output_type": "stream",
     "text": [
      "/tmp/ipykernel_40318/26170352.py:60: SettingWithCopyWarning: \n",
      "A value is trying to be set on a copy of a slice from a DataFrame.\n",
      "Try using .loc[row_indexer,col_indexer] = value instead\n",
      "\n",
      "See the caveats in the documentation: https://pandas.pydata.org/pandas-docs/stable/user_guide/indexing.html#returning-a-view-versus-a-copy\n",
      "  data_toUse_[sL1JetResponse] = data_toUse_[sL1JetEt_forResolutionPlots] / data_toUse_[sRefJetEt]\n"
     ]
    },
    {
     "name": "stdout",
     "output_type": "stream",
     "text": [
      "popt: [8.12521493e+02 9.79318022e-01 2.07494339e-01], \n",
      "pcov: \n",
      "[[ 2.57988265e+02  9.25266138e-04 -2.48572153e-02]\n",
      " [ 9.25266138e-04  1.04951854e-05 -2.37774449e-07]\n",
      " [-2.48572153e-02 -2.37774449e-07  6.35139145e-06]],  \n",
      "poptErr = array([1.60620131e+01, 3.23962735e-03, 2.52019671e-03])\n"
     ]
    },
    {
     "name": "stderr",
     "output_type": "stream",
     "text": [
      "/tmp/ipykernel_40318/26170352.py:60: SettingWithCopyWarning: \n",
      "A value is trying to be set on a copy of a slice from a DataFrame.\n",
      "Try using .loc[row_indexer,col_indexer] = value instead\n",
      "\n",
      "See the caveats in the documentation: https://pandas.pydata.org/pandas-docs/stable/user_guide/indexing.html#returning-a-view-versus-a-copy\n",
      "  data_toUse_[sL1JetResponse] = data_toUse_[sL1JetEt_forResolutionPlots] / data_toUse_[sRefJetEt]\n"
     ]
    },
    {
     "name": "stdout",
     "output_type": "stream",
     "text": [
      "popt: [7.71511061e+02 9.84377599e-01 2.03463080e-01], \n",
      "pcov: \n",
      "[[ 2.17646910e+02  5.78223084e-04 -2.13695501e-02]\n",
      " [ 5.78223084e-04  9.50958998e-06 -1.52945798e-07]\n",
      " [-2.13695501e-02 -1.52945798e-07  5.63706578e-06]],  \n",
      "poptErr = array([1.47528611e+01, 3.08376231e-03, 2.37425057e-03])\n"
     ]
    },
    {
     "name": "stderr",
     "output_type": "stream",
     "text": [
      "/tmp/ipykernel_40318/26170352.py:60: SettingWithCopyWarning: \n",
      "A value is trying to be set on a copy of a slice from a DataFrame.\n",
      "Try using .loc[row_indexer,col_indexer] = value instead\n",
      "\n",
      "See the caveats in the documentation: https://pandas.pydata.org/pandas-docs/stable/user_guide/indexing.html#returning-a-view-versus-a-copy\n",
      "  data_toUse_[sL1JetResponse] = data_toUse_[sL1JetEt_forResolutionPlots] / data_toUse_[sRefJetEt]\n"
     ]
    },
    {
     "name": "stdout",
     "output_type": "stream",
     "text": [
      "popt: [7.37936399e+02 9.83080246e-01 2.00348562e-01], \n",
      "pcov: \n",
      "[[ 2.02574597e+02  4.19919285e-04 -2.05428311e-02]\n",
      " [ 4.19919285e-04  9.36195245e-06 -1.14093506e-07]\n",
      " [-2.05428311e-02 -1.14093506e-07  5.57915097e-06]],  \n",
      "poptErr = array([1.42328703e+01, 3.05973078e-03, 2.36202264e-03])\n"
     ]
    },
    {
     "name": "stderr",
     "output_type": "stream",
     "text": [
      "/tmp/ipykernel_40318/26170352.py:60: SettingWithCopyWarning: \n",
      "A value is trying to be set on a copy of a slice from a DataFrame.\n",
      "Try using .loc[row_indexer,col_indexer] = value instead\n",
      "\n",
      "See the caveats in the documentation: https://pandas.pydata.org/pandas-docs/stable/user_guide/indexing.html#returning-a-view-versus-a-copy\n",
      "  data_toUse_[sL1JetResponse] = data_toUse_[sL1JetEt_forResolutionPlots] / data_toUse_[sRefJetEt]\n"
     ]
    },
    {
     "name": "stdout",
     "output_type": "stream",
     "text": [
      "popt: [1.39412443e+03 9.81012049e-01 1.93496872e-01], \n",
      "pcov: \n",
      "[[ 7.98887093e+02  2.49029486e-03 -4.21122020e-02]\n",
      " [ 2.49029486e-03  9.56706256e-06 -3.45851238e-07]\n",
      " [-4.21122020e-02 -3.45851238e-07  5.84562388e-06]],  \n",
      "poptErr = array([2.82645908e+01, 3.09306685e-03, 2.41777250e-03])\n"
     ]
    },
    {
     "name": "stderr",
     "output_type": "stream",
     "text": [
      "/tmp/ipykernel_40318/26170352.py:60: SettingWithCopyWarning: \n",
      "A value is trying to be set on a copy of a slice from a DataFrame.\n",
      "Try using .loc[row_indexer,col_indexer] = value instead\n",
      "\n",
      "See the caveats in the documentation: https://pandas.pydata.org/pandas-docs/stable/user_guide/indexing.html#returning-a-view-versus-a-copy\n",
      "  data_toUse_[sL1JetResponse] = data_toUse_[sL1JetEt_forResolutionPlots] / data_toUse_[sRefJetEt]\n"
     ]
    },
    {
     "name": "stdout",
     "output_type": "stream",
     "text": [
      "popt: [1.27878381e+03 9.84141842e-01 1.86538926e-01], \n",
      "pcov: \n",
      "[[ 8.18701041e+02  2.61802011e-03 -4.59211518e-02]\n",
      " [ 2.61802011e-03  1.07450952e-05 -3.81995852e-07]\n",
      " [-4.59211518e-02 -3.81995852e-07  6.69896360e-06]],  \n",
      "poptErr = array([2.86129523e+01, 3.27797120e-03, 2.58823562e-03])\n"
     ]
    },
    {
     "name": "stderr",
     "output_type": "stream",
     "text": [
      "/tmp/ipykernel_40318/26170352.py:60: SettingWithCopyWarning: \n",
      "A value is trying to be set on a copy of a slice from a DataFrame.\n",
      "Try using .loc[row_indexer,col_indexer] = value instead\n",
      "\n",
      "See the caveats in the documentation: https://pandas.pydata.org/pandas-docs/stable/user_guide/indexing.html#returning-a-view-versus-a-copy\n",
      "  data_toUse_[sL1JetResponse] = data_toUse_[sL1JetEt_forResolutionPlots] / data_toUse_[sRefJetEt]\n"
     ]
    },
    {
     "name": "stdout",
     "output_type": "stream",
     "text": [
      "popt: [1.16023955e+03 9.78198132e-01 1.80379114e-01], \n",
      "pcov: \n",
      "[[ 7.70190716e+02  2.61585434e-03 -4.64448484e-02]\n",
      " [ 2.61585434e-03  1.14186730e-05 -4.06723803e-07]\n",
      " [-4.64448484e-02 -4.06723803e-07  7.22087940e-06]],  \n",
      "poptErr = array([2.77523101e+01, 3.37915271e-03, 2.68716940e-03])\n"
     ]
    },
    {
     "name": "stderr",
     "output_type": "stream",
     "text": [
      "/tmp/ipykernel_40318/26170352.py:60: SettingWithCopyWarning: \n",
      "A value is trying to be set on a copy of a slice from a DataFrame.\n",
      "Try using .loc[row_indexer,col_indexer] = value instead\n",
      "\n",
      "See the caveats in the documentation: https://pandas.pydata.org/pandas-docs/stable/user_guide/indexing.html#returning-a-view-versus-a-copy\n",
      "  data_toUse_[sL1JetResponse] = data_toUse_[sL1JetEt_forResolutionPlots] / data_toUse_[sRefJetEt]\n"
     ]
    },
    {
     "name": "stdout",
     "output_type": "stream",
     "text": [
      "popt: [2.05198734e+03 9.75440809e-01 1.72553118e-01], \n",
      "pcov: \n",
      "[[ 2.19207991e+03  4.63356221e-03 -7.12483700e-02]\n",
      " [ 4.63356221e-03  9.53516829e-06 -3.89623915e-07]\n",
      " [-7.12483700e-02 -3.89623915e-07  5.99139072e-06]],  \n",
      "poptErr = array([4.68196531e+01, 3.08790678e-03, 2.44773175e-03])\n"
     ]
    },
    {
     "name": "stderr",
     "output_type": "stream",
     "text": [
      "/tmp/ipykernel_40318/26170352.py:60: SettingWithCopyWarning: \n",
      "A value is trying to be set on a copy of a slice from a DataFrame.\n",
      "Try using .loc[row_indexer,col_indexer] = value instead\n",
      "\n",
      "See the caveats in the documentation: https://pandas.pydata.org/pandas-docs/stable/user_guide/indexing.html#returning-a-view-versus-a-copy\n",
      "  data_toUse_[sL1JetResponse] = data_toUse_[sL1JetEt_forResolutionPlots] / data_toUse_[sRefJetEt]\n"
     ]
    },
    {
     "name": "stdout",
     "output_type": "stream",
     "text": [
      "popt: [1.73349939e+03 9.74504763e-01 1.60683933e-01], \n",
      "pcov: \n",
      "[[ 2.31427800e+03  7.39366724e-03 -8.45298268e-02]\n",
      " [ 7.39366724e-03  1.21095515e-05 -6.85304386e-07]\n",
      " [-8.45298268e-02 -6.85304386e-07  7.83542549e-06]],  \n",
      "poptErr = array([4.81069433e+01, 3.47987809e-03, 2.79918300e-03])\n"
     ]
    },
    {
     "name": "stderr",
     "output_type": "stream",
     "text": [
      "/tmp/ipykernel_40318/26170352.py:60: SettingWithCopyWarning: \n",
      "A value is trying to be set on a copy of a slice from a DataFrame.\n",
      "Try using .loc[row_indexer,col_indexer] = value instead\n",
      "\n",
      "See the caveats in the documentation: https://pandas.pydata.org/pandas-docs/stable/user_guide/indexing.html#returning-a-view-versus-a-copy\n",
      "  data_toUse_[sL1JetResponse] = data_toUse_[sL1JetEt_forResolutionPlots] / data_toUse_[sRefJetEt]\n"
     ]
    },
    {
     "name": "stdout",
     "output_type": "stream",
     "text": [
      "popt: [1.45271062e+03 9.71622133e-01 1.52788341e-01], \n",
      "pcov: \n",
      "[[ 1.77354724e+03  6.25370609e-03 -7.39368418e-02]\n",
      " [ 6.25370609e-03  1.18980538e-05 -6.57713581e-07]\n",
      " [-7.39368418e-02 -6.57713581e-07  7.77631515e-06]],  \n",
      "poptErr = array([4.21135042e+01, 3.44935557e-03, 2.78860452e-03])\n"
     ]
    },
    {
     "name": "stderr",
     "output_type": "stream",
     "text": [
      "/tmp/ipykernel_40318/26170352.py:60: SettingWithCopyWarning: \n",
      "A value is trying to be set on a copy of a slice from a DataFrame.\n",
      "Try using .loc[row_indexer,col_indexer] = value instead\n",
      "\n",
      "See the caveats in the documentation: https://pandas.pydata.org/pandas-docs/stable/user_guide/indexing.html#returning-a-view-versus-a-copy\n",
      "  data_toUse_[sL1JetResponse] = data_toUse_[sL1JetEt_forResolutionPlots] / data_toUse_[sRefJetEt]\n"
     ]
    },
    {
     "name": "stdout",
     "output_type": "stream",
     "text": [
      "popt: [1.21814024e+03 9.68760210e-01 1.45913069e-01], \n",
      "pcov: \n",
      "[[ 1.37013401e+03  6.42292033e-03 -6.50282604e-02]\n",
      " [ 6.42292033e-03  1.19457770e-05 -7.69347032e-07]\n",
      " [-6.50282604e-02 -7.69347032e-07  7.78936340e-06]],  \n",
      "poptErr = array([3.70153213e+01, 3.45626634e-03, 2.79094310e-03])\n"
     ]
    },
    {
     "name": "stderr",
     "output_type": "stream",
     "text": [
      "/tmp/ipykernel_40318/26170352.py:60: SettingWithCopyWarning: \n",
      "A value is trying to be set on a copy of a slice from a DataFrame.\n",
      "Try using .loc[row_indexer,col_indexer] = value instead\n",
      "\n",
      "See the caveats in the documentation: https://pandas.pydata.org/pandas-docs/stable/user_guide/indexing.html#returning-a-view-versus-a-copy\n",
      "  data_toUse_[sL1JetResponse] = data_toUse_[sL1JetEt_forResolutionPlots] / data_toUse_[sRefJetEt]\n"
     ]
    },
    {
     "name": "stdout",
     "output_type": "stream",
     "text": [
      "popt: [4.55533282e+02 1.14227371e+00 2.92138835e-01], \n",
      "pcov: \n",
      "[[ 4.50235607e+02 -4.43588984e-02 -1.12584991e-01]\n",
      " [-4.43588984e-02  1.33061130e-04  2.67601618e-05]\n",
      " [-1.12584991e-01  2.67601618e-05  7.59231261e-05]],  \n",
      "poptErr = array([2.12187560e+01, 1.15352126e-02, 8.71338775e-03])\n"
     ]
    },
    {
     "name": "stderr",
     "output_type": "stream",
     "text": [
      "/tmp/ipykernel_40318/26170352.py:60: SettingWithCopyWarning: \n",
      "A value is trying to be set on a copy of a slice from a DataFrame.\n",
      "Try using .loc[row_indexer,col_indexer] = value instead\n",
      "\n",
      "See the caveats in the documentation: https://pandas.pydata.org/pandas-docs/stable/user_guide/indexing.html#returning-a-view-versus-a-copy\n",
      "  data_toUse_[sL1JetResponse] = data_toUse_[sL1JetEt_forResolutionPlots] / data_toUse_[sRefJetEt]\n"
     ]
    },
    {
     "name": "stdout",
     "output_type": "stream",
     "text": [
      "popt: [5.12709683e+02 1.09063150e+00 2.63917036e-01], \n",
      "pcov: \n",
      "[[ 6.15832627e+02 -5.93723959e-02 -1.09482577e-01]\n",
      " [-5.93723959e-02  1.27642244e-04  2.99185251e-05]\n",
      " [-1.09482577e-01  2.99185251e-05  5.79433934e-05]],  \n",
      "poptErr = array([2.48159752e+01, 1.12978867e-02, 7.61205579e-03])\n"
     ]
    },
    {
     "name": "stderr",
     "output_type": "stream",
     "text": [
      "/tmp/ipykernel_40318/26170352.py:60: SettingWithCopyWarning: \n",
      "A value is trying to be set on a copy of a slice from a DataFrame.\n",
      "Try using .loc[row_indexer,col_indexer] = value instead\n",
      "\n",
      "See the caveats in the documentation: https://pandas.pydata.org/pandas-docs/stable/user_guide/indexing.html#returning-a-view-versus-a-copy\n",
      "  data_toUse_[sL1JetResponse] = data_toUse_[sL1JetEt_forResolutionPlots] / data_toUse_[sRefJetEt]\n"
     ]
    },
    {
     "name": "stdout",
     "output_type": "stream",
     "text": [
      "popt: [5.11366068e+02 1.04974602e+00 2.72793762e-01], \n",
      "pcov: \n",
      "[[ 5.14566689e+02 -4.34234882e-02 -9.97587990e-02]\n",
      " [-4.34234882e-02  1.08812412e-04  2.21477384e-05]\n",
      " [-9.97587990e-02  2.21477384e-05  5.53802548e-05]],  \n",
      "poptErr = array([2.26840624e+01, 1.04313188e-02, 7.44179110e-03])\n"
     ]
    },
    {
     "name": "stderr",
     "output_type": "stream",
     "text": [
      "/tmp/ipykernel_40318/26170352.py:60: SettingWithCopyWarning: \n",
      "A value is trying to be set on a copy of a slice from a DataFrame.\n",
      "Try using .loc[row_indexer,col_indexer] = value instead\n",
      "\n",
      "See the caveats in the documentation: https://pandas.pydata.org/pandas-docs/stable/user_guide/indexing.html#returning-a-view-versus-a-copy\n",
      "  data_toUse_[sL1JetResponse] = data_toUse_[sL1JetEt_forResolutionPlots] / data_toUse_[sRefJetEt]\n"
     ]
    },
    {
     "name": "stdout",
     "output_type": "stream",
     "text": [
      "popt: [5.28567068e+02 1.01838180e+00 2.63554537e-01], \n",
      "pcov: \n",
      "[[ 4.60598803e+02 -3.43625991e-02 -8.11712659e-02]\n",
      " [-3.43625991e-02  8.50899747e-05  1.64364856e-05]\n",
      " [-8.11712659e-02  1.64364856e-05  4.19188731e-05]],  \n",
      "poptErr = array([2.14615657e+01, 9.22442273e-03, 6.47447860e-03])\n"
     ]
    },
    {
     "name": "stderr",
     "output_type": "stream",
     "text": [
      "/tmp/ipykernel_40318/26170352.py:60: SettingWithCopyWarning: \n",
      "A value is trying to be set on a copy of a slice from a DataFrame.\n",
      "Try using .loc[row_indexer,col_indexer] = value instead\n",
      "\n",
      "See the caveats in the documentation: https://pandas.pydata.org/pandas-docs/stable/user_guide/indexing.html#returning-a-view-versus-a-copy\n",
      "  data_toUse_[sL1JetResponse] = data_toUse_[sL1JetEt_forResolutionPlots] / data_toUse_[sRefJetEt]\n"
     ]
    },
    {
     "name": "stdout",
     "output_type": "stream",
     "text": [
      "popt: [5.06011041e+02 9.98140967e-01 2.68999193e-01], \n",
      "pcov: \n",
      "[[ 3.01948962e+02 -1.71877017e-02 -5.88699101e-02]\n",
      " [-1.71877017e-02  5.99959759e-05  8.45751694e-06]\n",
      " [-5.88699101e-02  8.45751694e-06  3.25752208e-05]],  \n",
      "poptErr = array([1.73766787e+01, 7.74570694e-03, 5.70747062e-03])\n"
     ]
    },
    {
     "name": "stderr",
     "output_type": "stream",
     "text": [
      "/tmp/ipykernel_40318/26170352.py:60: SettingWithCopyWarning: \n",
      "A value is trying to be set on a copy of a slice from a DataFrame.\n",
      "Try using .loc[row_indexer,col_indexer] = value instead\n",
      "\n",
      "See the caveats in the documentation: https://pandas.pydata.org/pandas-docs/stable/user_guide/indexing.html#returning-a-view-versus-a-copy\n",
      "  data_toUse_[sL1JetResponse] = data_toUse_[sL1JetEt_forResolutionPlots] / data_toUse_[sRefJetEt]\n"
     ]
    },
    {
     "name": "stdout",
     "output_type": "stream",
     "text": [
      "popt: [5.01457512e+02 9.87183316e-01 2.51252292e-01], \n",
      "pcov: \n",
      "[[ 3.67300193e+02 -2.68576632e-02 -6.14438447e-02]\n",
      " [-2.68576632e-02  6.92426978e-05  1.31408089e-05]\n",
      " [-6.14438447e-02  1.31408089e-05  3.14783684e-05]],  \n",
      "poptErr = array([1.91650774e+01, 8.32121973e-03, 5.61055865e-03])\n"
     ]
    },
    {
     "name": "stderr",
     "output_type": "stream",
     "text": [
      "/tmp/ipykernel_40318/26170352.py:60: SettingWithCopyWarning: \n",
      "A value is trying to be set on a copy of a slice from a DataFrame.\n",
      "Try using .loc[row_indexer,col_indexer] = value instead\n",
      "\n",
      "See the caveats in the documentation: https://pandas.pydata.org/pandas-docs/stable/user_guide/indexing.html#returning-a-view-versus-a-copy\n",
      "  data_toUse_[sL1JetResponse] = data_toUse_[sL1JetEt_forResolutionPlots] / data_toUse_[sRefJetEt]\n"
     ]
    },
    {
     "name": "stdout",
     "output_type": "stream",
     "text": [
      "popt: [4.74890020e+02 9.85540142e-01 2.54935578e-01], \n",
      "pcov: \n",
      "[[ 2.46908458e+02 -1.60888454e-02 -4.46594168e-02]\n",
      " [-1.60888454e-02  5.20268223e-05  8.31842089e-06]\n",
      " [-4.46594168e-02  8.31842089e-06  2.45971870e-05]],  \n",
      "poptErr = array([1.57133210e+01, 7.21296211e-03, 4.95955512e-03])\n"
     ]
    },
    {
     "name": "stderr",
     "output_type": "stream",
     "text": [
      "/tmp/ipykernel_40318/26170352.py:60: SettingWithCopyWarning: \n",
      "A value is trying to be set on a copy of a slice from a DataFrame.\n",
      "Try using .loc[row_indexer,col_indexer] = value instead\n",
      "\n",
      "See the caveats in the documentation: https://pandas.pydata.org/pandas-docs/stable/user_guide/indexing.html#returning-a-view-versus-a-copy\n",
      "  data_toUse_[sL1JetResponse] = data_toUse_[sL1JetEt_forResolutionPlots] / data_toUse_[sRefJetEt]\n"
     ]
    },
    {
     "name": "stdout",
     "output_type": "stream",
     "text": [
      "popt: [4.47912519e+02 9.72009460e-01 2.53839946e-01], \n",
      "pcov: \n",
      "[[ 2.02750196e+02 -1.22635773e-02 -3.94497477e-02]\n",
      " [-1.22635773e-02  4.63668012e-05  6.69713198e-06]\n",
      " [-3.94497477e-02  6.69713198e-06  2.28801944e-05]],  \n",
      "poptErr = array([1.42390377e+01, 6.80931724e-03, 4.78332462e-03])\n"
     ]
    },
    {
     "name": "stderr",
     "output_type": "stream",
     "text": [
      "/tmp/ipykernel_40318/26170352.py:60: SettingWithCopyWarning: \n",
      "A value is trying to be set on a copy of a slice from a DataFrame.\n",
      "Try using .loc[row_indexer,col_indexer] = value instead\n",
      "\n",
      "See the caveats in the documentation: https://pandas.pydata.org/pandas-docs/stable/user_guide/indexing.html#returning-a-view-versus-a-copy\n",
      "  data_toUse_[sL1JetResponse] = data_toUse_[sL1JetEt_forResolutionPlots] / data_toUse_[sRefJetEt]\n"
     ]
    },
    {
     "name": "stdout",
     "output_type": "stream",
     "text": [
      "popt: [4.34962129e+02 9.67037517e-01 2.54566595e-01], \n",
      "pcov: \n",
      "[[ 9.99545633e+01 -4.18285220e-03 -2.05768766e-02]\n",
      " [-4.18285220e-03  2.35421793e-05  2.27615235e-06]\n",
      " [-2.05768766e-02  2.27615235e-06  1.23540362e-05]],  \n",
      "poptErr = array([9.99772790e+00, 4.85202837e-03, 3.51483089e-03])\n"
     ]
    },
    {
     "name": "stderr",
     "output_type": "stream",
     "text": [
      "/tmp/ipykernel_40318/26170352.py:60: SettingWithCopyWarning: \n",
      "A value is trying to be set on a copy of a slice from a DataFrame.\n",
      "Try using .loc[row_indexer,col_indexer] = value instead\n",
      "\n",
      "See the caveats in the documentation: https://pandas.pydata.org/pandas-docs/stable/user_guide/indexing.html#returning-a-view-versus-a-copy\n",
      "  data_toUse_[sL1JetResponse] = data_toUse_[sL1JetEt_forResolutionPlots] / data_toUse_[sRefJetEt]\n"
     ]
    },
    {
     "name": "stdout",
     "output_type": "stream",
     "text": [
      "popt: [4.07818841e+02 9.63365675e-01 2.54492321e-01], \n",
      "pcov: \n",
      "[[ 7.52779821e+01 -2.10871570e-03 -1.72046441e-02]\n",
      " [-2.10871570e-03  1.95389754e-05  1.14917021e-06]\n",
      " [-1.72046441e-02  1.14917021e-06  1.10364736e-05]],  \n",
      "poptErr = array([8.67628850e+00, 4.42029132e-03, 3.32211885e-03])\n"
     ]
    },
    {
     "name": "stderr",
     "output_type": "stream",
     "text": [
      "/tmp/ipykernel_40318/26170352.py:60: SettingWithCopyWarning: \n",
      "A value is trying to be set on a copy of a slice from a DataFrame.\n",
      "Try using .loc[row_indexer,col_indexer] = value instead\n",
      "\n",
      "See the caveats in the documentation: https://pandas.pydata.org/pandas-docs/stable/user_guide/indexing.html#returning-a-view-versus-a-copy\n",
      "  data_toUse_[sL1JetResponse] = data_toUse_[sL1JetEt_forResolutionPlots] / data_toUse_[sRefJetEt]\n"
     ]
    },
    {
     "name": "stdout",
     "output_type": "stream",
     "text": [
      "popt: [3.88931496e+02 9.56836617e-01 2.47211345e-01], \n",
      "pcov: \n",
      "[[ 4.54854259e+01 -9.92203878e-04 -1.06108250e-02]\n",
      " [-9.92203878e-04  1.20341766e-05  5.61118700e-07]\n",
      " [-1.06108250e-02  5.61118700e-07  6.87270284e-06]],  \n",
      "poptErr = array([6.74428839e+00, 3.46903108e-03, 2.62158403e-03])\n"
     ]
    },
    {
     "name": "stderr",
     "output_type": "stream",
     "text": [
      "/tmp/ipykernel_40318/26170352.py:60: SettingWithCopyWarning: \n",
      "A value is trying to be set on a copy of a slice from a DataFrame.\n",
      "Try using .loc[row_indexer,col_indexer] = value instead\n",
      "\n",
      "See the caveats in the documentation: https://pandas.pydata.org/pandas-docs/stable/user_guide/indexing.html#returning-a-view-versus-a-copy\n",
      "  data_toUse_[sL1JetResponse] = data_toUse_[sL1JetEt_forResolutionPlots] / data_toUse_[sRefJetEt]\n"
     ]
    },
    {
     "name": "stdout",
     "output_type": "stream",
     "text": [
      "popt: [3.70145860e+02 9.63678838e-01 2.43140048e-01], \n",
      "pcov: \n",
      "[[ 5.58175787e+01 -1.67856178e-03 -1.34292289e-02]\n",
      " [-1.67856178e-03  1.57759480e-05  1.03677531e-06]\n",
      " [-1.34292289e-02  1.03677531e-06  8.96158424e-06]],  \n",
      "poptErr = array([7.47111629e+00, 3.97189476e-03, 2.99359053e-03])\n"
     ]
    },
    {
     "name": "stderr",
     "output_type": "stream",
     "text": [
      "/tmp/ipykernel_40318/26170352.py:60: SettingWithCopyWarning: \n",
      "A value is trying to be set on a copy of a slice from a DataFrame.\n",
      "Try using .loc[row_indexer,col_indexer] = value instead\n",
      "\n",
      "See the caveats in the documentation: https://pandas.pydata.org/pandas-docs/stable/user_guide/indexing.html#returning-a-view-versus-a-copy\n",
      "  data_toUse_[sL1JetResponse] = data_toUse_[sL1JetEt_forResolutionPlots] / data_toUse_[sRefJetEt]\n"
     ]
    },
    {
     "name": "stdout",
     "output_type": "stream",
     "text": [
      "popt: [5.83651910e+02 9.64920954e-01 2.39010338e-01], \n",
      "pcov: \n",
      "[[ 6.54580535e+01 -7.46865216e-04 -9.51655329e-03]\n",
      " [-7.46865216e-04  7.21420686e-06  2.85107629e-07]\n",
      " [-9.51655329e-03  2.85107629e-07  3.93678456e-06]],  \n",
      "poptErr = array([8.09061515e+00, 2.68592756e-03, 1.98413320e-03])\n"
     ]
    },
    {
     "name": "stderr",
     "output_type": "stream",
     "text": [
      "/tmp/ipykernel_40318/26170352.py:60: SettingWithCopyWarning: \n",
      "A value is trying to be set on a copy of a slice from a DataFrame.\n",
      "Try using .loc[row_indexer,col_indexer] = value instead\n",
      "\n",
      "See the caveats in the documentation: https://pandas.pydata.org/pandas-docs/stable/user_guide/indexing.html#returning-a-view-versus-a-copy\n",
      "  data_toUse_[sL1JetResponse] = data_toUse_[sL1JetEt_forResolutionPlots] / data_toUse_[sRefJetEt]\n"
     ]
    },
    {
     "name": "stdout",
     "output_type": "stream",
     "text": [
      "popt: [5.44372256e+02 9.68499231e-01 2.28244816e-01], \n",
      "pcov: \n",
      "[[ 6.08518619e+01 -6.56449663e-04 -9.05019972e-03]\n",
      " [-6.56449663e-04  6.97133561e-06  2.66918878e-07]\n",
      " [-9.05019972e-03  2.66918878e-07  3.81192739e-06]],  \n",
      "poptErr = array([7.80076034e+00, 2.64032869e-03, 1.95241578e-03])\n"
     ]
    },
    {
     "name": "stderr",
     "output_type": "stream",
     "text": [
      "/tmp/ipykernel_40318/26170352.py:60: SettingWithCopyWarning: \n",
      "A value is trying to be set on a copy of a slice from a DataFrame.\n",
      "Try using .loc[row_indexer,col_indexer] = value instead\n",
      "\n",
      "See the caveats in the documentation: https://pandas.pydata.org/pandas-docs/stable/user_guide/indexing.html#returning-a-view-versus-a-copy\n",
      "  data_toUse_[sL1JetResponse] = data_toUse_[sL1JetEt_forResolutionPlots] / data_toUse_[sRefJetEt]\n"
     ]
    },
    {
     "name": "stdout",
     "output_type": "stream",
     "text": [
      "popt: [5.06359026e+02 9.66897747e-01 2.17324123e-01], \n",
      "pcov: \n",
      "[[ 5.72795839e+01 -2.04257292e-04 -8.94868270e-03]\n",
      " [-2.04257292e-04  6.75700374e-06  8.05398162e-08]\n",
      " [-8.94868270e-03  8.05398162e-08  3.85695767e-06]],  \n",
      "poptErr = array([7.56832768e+00, 2.59942373e-03, 1.96391387e-03])\n"
     ]
    },
    {
     "name": "stderr",
     "output_type": "stream",
     "text": [
      "/tmp/ipykernel_40318/26170352.py:60: SettingWithCopyWarning: \n",
      "A value is trying to be set on a copy of a slice from a DataFrame.\n",
      "Try using .loc[row_indexer,col_indexer] = value instead\n",
      "\n",
      "See the caveats in the documentation: https://pandas.pydata.org/pandas-docs/stable/user_guide/indexing.html#returning-a-view-versus-a-copy\n",
      "  data_toUse_[sL1JetResponse] = data_toUse_[sL1JetEt_forResolutionPlots] / data_toUse_[sRefJetEt]\n"
     ]
    },
    {
     "name": "stdout",
     "output_type": "stream",
     "text": [
      "popt: [4.74264117e+02 9.70207043e-01 2.07696414e-01], \n",
      "pcov: \n",
      "[[ 6.66345501e+01  1.16780607e-04 -1.07549551e-02]\n",
      " [ 1.16780607e-04  8.08388991e-06 -5.31785317e-08]\n",
      " [-1.07549551e-02 -5.31785317e-08  4.71496340e-06]],  \n",
      "poptErr = array([8.16299884e+00, 2.84321823e-03, 2.17139665e-03])\n"
     ]
    },
    {
     "name": "stderr",
     "output_type": "stream",
     "text": [
      "/tmp/ipykernel_40318/26170352.py:60: SettingWithCopyWarning: \n",
      "A value is trying to be set on a copy of a slice from a DataFrame.\n",
      "Try using .loc[row_indexer,col_indexer] = value instead\n",
      "\n",
      "See the caveats in the documentation: https://pandas.pydata.org/pandas-docs/stable/user_guide/indexing.html#returning-a-view-versus-a-copy\n",
      "  data_toUse_[sL1JetResponse] = data_toUse_[sL1JetEt_forResolutionPlots] / data_toUse_[sRefJetEt]\n"
     ]
    },
    {
     "name": "stdout",
     "output_type": "stream",
     "text": [
      "popt: [4.39754689e+02 9.66830129e-01 2.00203810e-01], \n",
      "pcov: \n",
      "[[ 6.70961225e+01  6.42464345e-05 -1.13265078e-02]\n",
      " [ 6.42464345e-05  8.75958928e-06 -3.06064461e-08]\n",
      " [-1.13265078e-02 -3.06064461e-08  5.15992967e-06]],  \n",
      "poptErr = array([8.19122228e+00, 2.95966033e-03, 2.27154786e-03])\n"
     ]
    },
    {
     "name": "stderr",
     "output_type": "stream",
     "text": [
      "/tmp/ipykernel_40318/26170352.py:60: SettingWithCopyWarning: \n",
      "A value is trying to be set on a copy of a slice from a DataFrame.\n",
      "Try using .loc[row_indexer,col_indexer] = value instead\n",
      "\n",
      "See the caveats in the documentation: https://pandas.pydata.org/pandas-docs/stable/user_guide/indexing.html#returning-a-view-versus-a-copy\n",
      "  data_toUse_[sL1JetResponse] = data_toUse_[sL1JetEt_forResolutionPlots] / data_toUse_[sRefJetEt]\n"
     ]
    },
    {
     "name": "stdout",
     "output_type": "stream",
     "text": [
      "popt: [4.22920103e+02 9.70481712e-01 1.89465159e-01], \n",
      "pcov: \n",
      "[[ 9.84694434e+01  1.18278162e-04 -1.67965490e-02]\n",
      " [ 1.18278162e-04  1.22447887e-05 -5.35346347e-08]\n",
      " [-1.67965490e-02 -5.35346347e-08  7.52711302e-06]],  \n",
      "poptErr = array([9.92317708e+00, 3.49925545e-03, 2.74355846e-03])\n"
     ]
    },
    {
     "name": "stderr",
     "output_type": "stream",
     "text": [
      "/tmp/ipykernel_40318/26170352.py:60: SettingWithCopyWarning: \n",
      "A value is trying to be set on a copy of a slice from a DataFrame.\n",
      "Try using .loc[row_indexer,col_indexer] = value instead\n",
      "\n",
      "See the caveats in the documentation: https://pandas.pydata.org/pandas-docs/stable/user_guide/indexing.html#returning-a-view-versus-a-copy\n",
      "  data_toUse_[sL1JetResponse] = data_toUse_[sL1JetEt_forResolutionPlots] / data_toUse_[sRefJetEt]\n"
     ]
    },
    {
     "name": "stdout",
     "output_type": "stream",
     "text": [
      "popt: [3.97139352e+02 9.77471396e-01 1.82179771e-01], \n",
      "pcov: \n",
      "[[ 9.12460664e+01  7.37534435e-04 -1.58311572e-02]\n",
      " [ 7.37534435e-04  1.19615054e-05 -3.38029232e-07]\n",
      " [-1.58311572e-02 -3.38029232e-07  7.26467977e-06]],  \n",
      "poptErr = array([9.55228069e+00, 3.45854093e-03, 2.69530699e-03])\n"
     ]
    },
    {
     "name": "stderr",
     "output_type": "stream",
     "text": [
      "/tmp/ipykernel_40318/26170352.py:60: SettingWithCopyWarning: \n",
      "A value is trying to be set on a copy of a slice from a DataFrame.\n",
      "Try using .loc[row_indexer,col_indexer] = value instead\n",
      "\n",
      "See the caveats in the documentation: https://pandas.pydata.org/pandas-docs/stable/user_guide/indexing.html#returning-a-view-versus-a-copy\n",
      "  data_toUse_[sL1JetResponse] = data_toUse_[sL1JetEt_forResolutionPlots] / data_toUse_[sRefJetEt]\n"
     ]
    },
    {
     "name": "stdout",
     "output_type": "stream",
     "text": [
      "popt: [3.72232333e+02 9.73367788e-01 1.78085561e-01], \n",
      "pcov: \n",
      "[[ 6.90035700e+01 -1.83989046e-04 -1.24139963e-02]\n",
      " [-1.83989046e-04  9.85738662e-06  8.79386222e-08]\n",
      " [-1.24139963e-02  8.79386222e-08  5.93945728e-06]],  \n",
      "poptErr = array([8.30683875e+00, 3.13964753e-03, 2.43710018e-03])\n"
     ]
    },
    {
     "name": "stderr",
     "output_type": "stream",
     "text": [
      "/tmp/ipykernel_40318/26170352.py:60: SettingWithCopyWarning: \n",
      "A value is trying to be set on a copy of a slice from a DataFrame.\n",
      "Try using .loc[row_indexer,col_indexer] = value instead\n",
      "\n",
      "See the caveats in the documentation: https://pandas.pydata.org/pandas-docs/stable/user_guide/indexing.html#returning-a-view-versus-a-copy\n",
      "  data_toUse_[sL1JetResponse] = data_toUse_[sL1JetEt_forResolutionPlots] / data_toUse_[sRefJetEt]\n"
     ]
    },
    {
     "name": "stdout",
     "output_type": "stream",
     "text": [
      "popt: [3.36165811e+02 9.69881525e-01 1.74514765e-01], \n",
      "pcov: \n",
      "[[ 6.48189881e+01 -1.17011207e-04 -1.24782022e-02]\n",
      " [-1.17011207e-04  1.09997977e-05  6.17804109e-08]\n",
      " [-1.24782022e-02  6.17804109e-08  6.48092482e-06]],  \n",
      "poptErr = array([8.05102404e+00, 3.31659429e-03, 2.54576606e-03])\n"
     ]
    },
    {
     "name": "stderr",
     "output_type": "stream",
     "text": [
      "/tmp/ipykernel_40318/26170352.py:60: SettingWithCopyWarning: \n",
      "A value is trying to be set on a copy of a slice from a DataFrame.\n",
      "Try using .loc[row_indexer,col_indexer] = value instead\n",
      "\n",
      "See the caveats in the documentation: https://pandas.pydata.org/pandas-docs/stable/user_guide/indexing.html#returning-a-view-versus-a-copy\n",
      "  data_toUse_[sL1JetResponse] = data_toUse_[sL1JetEt_forResolutionPlots] / data_toUse_[sRefJetEt]\n"
     ]
    },
    {
     "name": "stdout",
     "output_type": "stream",
     "text": [
      "popt: [3.31786757e+02 9.72204698e-01 1.64632734e-01], \n",
      "pcov: \n",
      "[[ 6.36184285e+01  2.49969240e-04 -1.15871058e-02]\n",
      " [ 2.49969240e-04  9.91809456e-06 -1.23967464e-07]\n",
      " [-1.15871058e-02 -1.23967464e-07  5.74991505e-06]],  \n",
      "poptErr = array([7.97611613e+00, 3.14930065e-03, 2.39789805e-03])\n"
     ]
    },
    {
     "name": "stderr",
     "output_type": "stream",
     "text": [
      "/tmp/ipykernel_40318/26170352.py:60: SettingWithCopyWarning: \n",
      "A value is trying to be set on a copy of a slice from a DataFrame.\n",
      "Try using .loc[row_indexer,col_indexer] = value instead\n",
      "\n",
      "See the caveats in the documentation: https://pandas.pydata.org/pandas-docs/stable/user_guide/indexing.html#returning-a-view-versus-a-copy\n",
      "  data_toUse_[sL1JetResponse] = data_toUse_[sL1JetEt_forResolutionPlots] / data_toUse_[sRefJetEt]\n"
     ]
    },
    {
     "name": "stdout",
     "output_type": "stream",
     "text": [
      "popt: [2.93308740e+02 9.71341675e-01 1.62167056e-01], \n",
      "pcov: \n",
      "[[ 7.75478881e+01 -8.75809671e-04 -1.62302392e-02]\n",
      " [-8.75809671e-04  1.47683048e-05  4.85937632e-07]\n",
      " [-1.62302392e-02  4.85937632e-07  8.97736377e-06]],  \n",
      "poptErr = array([8.80612787e+00, 3.84295522e-03, 2.99622492e-03])\n"
     ]
    },
    {
     "name": "stderr",
     "output_type": "stream",
     "text": [
      "/tmp/ipykernel_40318/26170352.py:60: SettingWithCopyWarning: \n",
      "A value is trying to be set on a copy of a slice from a DataFrame.\n",
      "Try using .loc[row_indexer,col_indexer] = value instead\n",
      "\n",
      "See the caveats in the documentation: https://pandas.pydata.org/pandas-docs/stable/user_guide/indexing.html#returning-a-view-versus-a-copy\n",
      "  data_toUse_[sL1JetResponse] = data_toUse_[sL1JetEt_forResolutionPlots] / data_toUse_[sRefJetEt]\n"
     ]
    },
    {
     "name": "stdout",
     "output_type": "stream",
     "text": [
      "popt: [2.88661771e+02 9.67314829e-01 1.54872587e-01], \n",
      "pcov: \n",
      "[[ 5.65706641e+01 -3.22642035e-05 -1.12600517e-02]\n",
      " [-3.22642035e-05  1.02455810e-05  1.76869678e-08]\n",
      " [-1.12600517e-02  1.76869678e-08  6.04219116e-06]],  \n",
      "poptErr = array([7.52134723e+00, 3.20087191e-03, 2.45808689e-03])\n"
     ]
    },
    {
     "name": "stderr",
     "output_type": "stream",
     "text": [
      "/tmp/ipykernel_40318/26170352.py:60: SettingWithCopyWarning: \n",
      "A value is trying to be set on a copy of a slice from a DataFrame.\n",
      "Try using .loc[row_indexer,col_indexer] = value instead\n",
      "\n",
      "See the caveats in the documentation: https://pandas.pydata.org/pandas-docs/stable/user_guide/indexing.html#returning-a-view-versus-a-copy\n",
      "  data_toUse_[sL1JetResponse] = data_toUse_[sL1JetEt_forResolutionPlots] / data_toUse_[sRefJetEt]\n"
     ]
    },
    {
     "name": "stdout",
     "output_type": "stream",
     "text": [
      "popt: [5.20347100e+02 9.64608509e-01 1.47771141e-01], \n",
      "pcov: \n",
      "[[ 1.81847188e+02 -2.21400969e-04 -1.93590303e-02]\n",
      " [-2.21400969e-04  9.16935415e-06  6.29697314e-08]\n",
      " [-1.93590303e-02  6.29697314e-08  5.49794188e-06]],  \n",
      "poptErr = array([1.34850728e+01, 3.02809415e-03, 2.34476905e-03])\n"
     ]
    },
    {
     "name": "stderr",
     "output_type": "stream",
     "text": [
      "/tmp/ipykernel_40318/26170352.py:60: SettingWithCopyWarning: \n",
      "A value is trying to be set on a copy of a slice from a DataFrame.\n",
      "Try using .loc[row_indexer,col_indexer] = value instead\n",
      "\n",
      "See the caveats in the documentation: https://pandas.pydata.org/pandas-docs/stable/user_guide/indexing.html#returning-a-view-versus-a-copy\n",
      "  data_toUse_[sL1JetResponse] = data_toUse_[sL1JetEt_forResolutionPlots] / data_toUse_[sRefJetEt]\n"
     ]
    },
    {
     "name": "stdout",
     "output_type": "stream",
     "text": [
      "popt: [4.27633269e+02 9.55425729e-01 1.42804100e-01], \n",
      "pcov: \n",
      "[[ 1.38385564e+02  4.44001556e-04 -1.74505861e-02]\n",
      " [ 4.44001556e-04  9.60873935e-06 -1.48269743e-07]\n",
      " [-1.74505861e-02 -1.48269743e-07  5.82749240e-06]],  \n",
      "poptErr = array([1.17637394e+01, 3.09979666e-03, 2.41401997e-03])\n"
     ]
    },
    {
     "name": "stderr",
     "output_type": "stream",
     "text": [
      "/tmp/ipykernel_40318/26170352.py:60: SettingWithCopyWarning: \n",
      "A value is trying to be set on a copy of a slice from a DataFrame.\n",
      "Try using .loc[row_indexer,col_indexer] = value instead\n",
      "\n",
      "See the caveats in the documentation: https://pandas.pydata.org/pandas-docs/stable/user_guide/indexing.html#returning-a-view-versus-a-copy\n",
      "  data_toUse_[sL1JetResponse] = data_toUse_[sL1JetEt_forResolutionPlots] / data_toUse_[sRefJetEt]\n"
     ]
    },
    {
     "name": "stdout",
     "output_type": "stream",
     "text": [
      "popt: [3.60129097e+02 9.49782592e-01 1.33961704e-01], \n",
      "pcov: \n",
      "[[ 1.27488545e+02  1.02037368e-04 -1.82037784e-02]\n",
      " [ 1.02037368e-04  1.08699276e-05 -3.79419647e-08]\n",
      " [-1.82037784e-02 -3.79419647e-08  6.77155840e-06]],  \n",
      "poptErr = array([1.12910825e+01, 3.29695732e-03, 2.60222182e-03])\n"
     ]
    },
    {
     "name": "stderr",
     "output_type": "stream",
     "text": [
      "/tmp/ipykernel_40318/26170352.py:60: SettingWithCopyWarning: \n",
      "A value is trying to be set on a copy of a slice from a DataFrame.\n",
      "Try using .loc[row_indexer,col_indexer] = value instead\n",
      "\n",
      "See the caveats in the documentation: https://pandas.pydata.org/pandas-docs/stable/user_guide/indexing.html#returning-a-view-versus-a-copy\n",
      "  data_toUse_[sL1JetResponse] = data_toUse_[sL1JetEt_forResolutionPlots] / data_toUse_[sRefJetEt]\n"
     ]
    },
    {
     "name": "stdout",
     "output_type": "stream",
     "text": [
      "popt: [5.03710668e+02 9.36705265e-01 1.31363562e-01], \n",
      "pcov: \n",
      "[[ 2.01626862e+02  2.58435953e-06 -1.96958702e-02]\n",
      " [ 2.58435953e-06  8.57754594e-06 -5.49259365e-10]\n",
      " [-1.96958702e-02 -5.49259365e-10  5.13685635e-06]],  \n",
      "poptErr = array([1.41995374e+01, 2.92874477e-03, 2.26646340e-03])\n"
     ]
    },
    {
     "name": "stderr",
     "output_type": "stream",
     "text": [
      "/tmp/ipykernel_40318/26170352.py:60: SettingWithCopyWarning: \n",
      "A value is trying to be set on a copy of a slice from a DataFrame.\n",
      "Try using .loc[row_indexer,col_indexer] = value instead\n",
      "\n",
      "See the caveats in the documentation: https://pandas.pydata.org/pandas-docs/stable/user_guide/indexing.html#returning-a-view-versus-a-copy\n",
      "  data_toUse_[sL1JetResponse] = data_toUse_[sL1JetEt_forResolutionPlots] / data_toUse_[sRefJetEt]\n"
     ]
    },
    {
     "name": "stdout",
     "output_type": "stream",
     "text": [
      "popt: [3.06096419e+02 9.29240636e-01 1.20553878e-01], \n",
      "pcov: \n",
      "[[ 9.15987185e+01 -1.85214136e-04 -1.33462556e-02]\n",
      " [-1.85214136e-04  8.95376137e-06  7.30608019e-08]\n",
      " [-1.33462556e-02  7.30608019e-08  5.25665276e-06]],  \n",
      "poptErr = array([9.57072194e+00, 2.99228364e-03, 2.29273914e-03])\n"
     ]
    },
    {
     "name": "stderr",
     "output_type": "stream",
     "text": [
      "/tmp/ipykernel_40318/26170352.py:60: SettingWithCopyWarning: \n",
      "A value is trying to be set on a copy of a slice from a DataFrame.\n",
      "Try using .loc[row_indexer,col_indexer] = value instead\n",
      "\n",
      "See the caveats in the documentation: https://pandas.pydata.org/pandas-docs/stable/user_guide/indexing.html#returning-a-view-versus-a-copy\n",
      "  data_toUse_[sL1JetResponse] = data_toUse_[sL1JetEt_forResolutionPlots] / data_toUse_[sRefJetEt]\n"
     ]
    },
    {
     "name": "stdout",
     "output_type": "stream",
     "text": [
      "popt: [1.79680659e+02 9.13592333e-01 1.14242034e-01], \n",
      "pcov: \n",
      "[[ 5.08341340e+01  5.77456976e-04 -1.18650392e-02]\n",
      " [ 5.77456976e-04  1.30773569e-05 -3.57674349e-07]\n",
      " [-1.18650392e-02 -3.57674349e-07  7.56368658e-06]],  \n",
      "poptErr = array([7.12980603e+00, 3.61626284e-03, 2.75021573e-03])\n"
     ]
    },
    {
     "name": "stderr",
     "output_type": "stream",
     "text": [
      "/tmp/ipykernel_40318/26170352.py:60: SettingWithCopyWarning: \n",
      "A value is trying to be set on a copy of a slice from a DataFrame.\n",
      "Try using .loc[row_indexer,col_indexer] = value instead\n",
      "\n",
      "See the caveats in the documentation: https://pandas.pydata.org/pandas-docs/stable/user_guide/indexing.html#returning-a-view-versus-a-copy\n",
      "  data_toUse_[sL1JetResponse] = data_toUse_[sL1JetEt_forResolutionPlots] / data_toUse_[sRefJetEt]\n"
     ]
    },
    {
     "name": "stdout",
     "output_type": "stream",
     "text": [
      "popt: [102.1040458    0.8997068    0.10579592], \n",
      "pcov: \n",
      "[[ 1.81986461e+01 -1.04612484e-04 -6.80402745e-03]\n",
      " [-1.04612484e-04  1.26752827e-05  1.45733138e-07]\n",
      " [-6.80402745e-03  1.45733138e-07  7.11662959e-06]],  \n",
      "poptErr = array([4.26598711e+00, 3.56023632e-03, 2.66770118e-03])\n"
     ]
    },
    {
     "name": "stderr",
     "output_type": "stream",
     "text": [
      "/tmp/ipykernel_40318/26170352.py:60: SettingWithCopyWarning: \n",
      "A value is trying to be set on a copy of a slice from a DataFrame.\n",
      "Try using .loc[row_indexer,col_indexer] = value instead\n",
      "\n",
      "See the caveats in the documentation: https://pandas.pydata.org/pandas-docs/stable/user_guide/indexing.html#returning-a-view-versus-a-copy\n",
      "  data_toUse_[sL1JetResponse] = data_toUse_[sL1JetEt_forResolutionPlots] / data_toUse_[sRefJetEt]\n"
     ]
    },
    {
     "name": "stdout",
     "output_type": "stream",
     "text": [
      "popt: [4.99461432e+02 1.04057410e+00 2.69095940e-01], \n",
      "pcov: \n",
      "[[ 3.88616373e+02 -1.15564170e-02 -9.14635755e-02]\n",
      " [-1.15564170e-02  7.34591733e-05  3.86365281e-06]\n",
      " [-9.14635755e-02  3.86365281e-06  5.34024227e-05]],  \n",
      "poptErr = array([1.97133552e+01, 8.57083271e-03, 7.30769613e-03])\n"
     ]
    },
    {
     "name": "stderr",
     "output_type": "stream",
     "text": [
      "/tmp/ipykernel_40318/26170352.py:60: SettingWithCopyWarning: \n",
      "A value is trying to be set on a copy of a slice from a DataFrame.\n",
      "Try using .loc[row_indexer,col_indexer] = value instead\n",
      "\n",
      "See the caveats in the documentation: https://pandas.pydata.org/pandas-docs/stable/user_guide/indexing.html#returning-a-view-versus-a-copy\n",
      "  data_toUse_[sL1JetResponse] = data_toUse_[sL1JetEt_forResolutionPlots] / data_toUse_[sRefJetEt]\n"
     ]
    },
    {
     "name": "stdout",
     "output_type": "stream",
     "text": [
      "popt: [4.87733849e+02 1.00594087e+00 2.55456028e-01], \n",
      "pcov: \n",
      "[[ 3.74960227e+02 -1.58409055e-02 -8.07344425e-02]\n",
      " [-1.58409055e-02  6.77732175e-05  7.06754906e-06]\n",
      " [-8.07344425e-02  7.06754906e-06  4.46738382e-05]],  \n",
      "poptErr = array([1.93638898e+01, 8.23244906e-03, 6.68384905e-03])\n"
     ]
    },
    {
     "name": "stderr",
     "output_type": "stream",
     "text": [
      "/tmp/ipykernel_40318/26170352.py:60: SettingWithCopyWarning: \n",
      "A value is trying to be set on a copy of a slice from a DataFrame.\n",
      "Try using .loc[row_indexer,col_indexer] = value instead\n",
      "\n",
      "See the caveats in the documentation: https://pandas.pydata.org/pandas-docs/stable/user_guide/indexing.html#returning-a-view-versus-a-copy\n",
      "  data_toUse_[sL1JetResponse] = data_toUse_[sL1JetEt_forResolutionPlots] / data_toUse_[sRefJetEt]\n"
     ]
    },
    {
     "name": "stdout",
     "output_type": "stream",
     "text": [
      "popt: [4.80212326e+02 9.81508415e-01 2.27641089e-01], \n",
      "pcov: \n",
      "[[ 3.68003932e+02 -2.43097155e-02 -6.03675249e-02]\n",
      " [-2.43097155e-02  6.03380586e-05  1.12766998e-05]\n",
      " [-6.03675249e-02  1.12766998e-05  2.92107210e-05]],  \n",
      "poptErr = array([1.91834286e+01, 7.76775763e-03, 5.40469434e-03])\n"
     ]
    },
    {
     "name": "stderr",
     "output_type": "stream",
     "text": [
      "/tmp/ipykernel_40318/26170352.py:60: SettingWithCopyWarning: \n",
      "A value is trying to be set on a copy of a slice from a DataFrame.\n",
      "Try using .loc[row_indexer,col_indexer] = value instead\n",
      "\n",
      "See the caveats in the documentation: https://pandas.pydata.org/pandas-docs/stable/user_guide/indexing.html#returning-a-view-versus-a-copy\n",
      "  data_toUse_[sL1JetResponse] = data_toUse_[sL1JetEt_forResolutionPlots] / data_toUse_[sRefJetEt]\n"
     ]
    },
    {
     "name": "stdout",
     "output_type": "stream",
     "text": [
      "popt: [4.28023478e+02 9.67966333e-01 2.23403141e-01], \n",
      "pcov: \n",
      "[[ 2.45239941e+02 -1.56554067e-02 -4.36746680e-02]\n",
      " [-1.56554067e-02  4.79772088e-05  8.01365630e-06]\n",
      " [-4.36746680e-02  8.01365630e-06  2.31678472e-05]],  \n",
      "poptErr = array([1.56601386e+01, 6.92655822e-03, 4.81329900e-03])\n"
     ]
    },
    {
     "name": "stderr",
     "output_type": "stream",
     "text": [
      "/tmp/ipykernel_40318/26170352.py:60: SettingWithCopyWarning: \n",
      "A value is trying to be set on a copy of a slice from a DataFrame.\n",
      "Try using .loc[row_indexer,col_indexer] = value instead\n",
      "\n",
      "See the caveats in the documentation: https://pandas.pydata.org/pandas-docs/stable/user_guide/indexing.html#returning-a-view-versus-a-copy\n",
      "  data_toUse_[sL1JetResponse] = data_toUse_[sL1JetEt_forResolutionPlots] / data_toUse_[sRefJetEt]\n"
     ]
    },
    {
     "name": "stdout",
     "output_type": "stream",
     "text": [
      "popt: [3.72516936e+02 9.55684106e-01 2.20757934e-01], \n",
      "pcov: \n",
      "[[ 1.61349499e+02 -1.11290111e-02 -3.18838434e-02]\n",
      " [-1.11290111e-02  4.07691032e-05  6.49189760e-06]\n",
      " [-3.18838434e-02  6.49189760e-06  1.91393514e-05]],  \n",
      "poptErr = array([1.27023423e+01, 6.38506877e-03, 4.37485444e-03])\n"
     ]
    },
    {
     "name": "stderr",
     "output_type": "stream",
     "text": [
      "/tmp/ipykernel_40318/26170352.py:60: SettingWithCopyWarning: \n",
      "A value is trying to be set on a copy of a slice from a DataFrame.\n",
      "Try using .loc[row_indexer,col_indexer] = value instead\n",
      "\n",
      "See the caveats in the documentation: https://pandas.pydata.org/pandas-docs/stable/user_guide/indexing.html#returning-a-view-versus-a-copy\n",
      "  data_toUse_[sL1JetResponse] = data_toUse_[sL1JetEt_forResolutionPlots] / data_toUse_[sRefJetEt]\n"
     ]
    },
    {
     "name": "stdout",
     "output_type": "stream",
     "text": [
      "popt: [3.29592189e+02 9.47236683e-01 2.13714386e-01], \n",
      "pcov: \n",
      "[[ 1.06127708e+02 -7.77987506e-03 -2.29068927e-02]\n",
      " [-7.77987506e-03  3.19913337e-05  4.96678579e-06]\n",
      " [-2.29068927e-02  4.96678579e-06  1.50318121e-05]],  \n",
      "poptErr = array([1.03018303e+01, 5.65608819e-03, 3.87708809e-03])\n"
     ]
    },
    {
     "name": "stderr",
     "output_type": "stream",
     "text": [
      "/tmp/ipykernel_40318/26170352.py:60: SettingWithCopyWarning: \n",
      "A value is trying to be set on a copy of a slice from a DataFrame.\n",
      "Try using .loc[row_indexer,col_indexer] = value instead\n",
      "\n",
      "See the caveats in the documentation: https://pandas.pydata.org/pandas-docs/stable/user_guide/indexing.html#returning-a-view-versus-a-copy\n",
      "  data_toUse_[sL1JetResponse] = data_toUse_[sL1JetEt_forResolutionPlots] / data_toUse_[sRefJetEt]\n"
     ]
    },
    {
     "name": "stdout",
     "output_type": "stream",
     "text": [
      "popt: [2.82346949e+02 9.53924721e-01 2.14911614e-01], \n",
      "pcov: \n",
      "[[ 6.10341944e+01 -4.01619500e-03 -1.52985357e-02]\n",
      " [-4.01619500e-03  2.50615293e-05  2.94718132e-06]\n",
      " [-1.52985357e-02  2.94718132e-06  1.18328138e-05]],  \n",
      "poptErr = array([7.81243844e+00, 5.00614915e-03, 3.43988572e-03])\n"
     ]
    },
    {
     "name": "stderr",
     "output_type": "stream",
     "text": [
      "/tmp/ipykernel_40318/26170352.py:60: SettingWithCopyWarning: \n",
      "A value is trying to be set on a copy of a slice from a DataFrame.\n",
      "Try using .loc[row_indexer,col_indexer] = value instead\n",
      "\n",
      "See the caveats in the documentation: https://pandas.pydata.org/pandas-docs/stable/user_guide/indexing.html#returning-a-view-versus-a-copy\n",
      "  data_toUse_[sL1JetResponse] = data_toUse_[sL1JetEt_forResolutionPlots] / data_toUse_[sRefJetEt]\n"
     ]
    },
    {
     "name": "stdout",
     "output_type": "stream",
     "text": [
      "popt: [2.60573195e+02 9.43200734e-01 2.04940756e-01], \n",
      "pcov: \n",
      "[[ 3.44829328e+01 -1.31003178e-03 -9.45905122e-03]\n",
      " [-1.31003178e-03  1.42379744e-05  9.94354912e-07]\n",
      " [-9.45905122e-03  9.94354912e-07  7.51251247e-06]],  \n",
      "poptErr = array([5.87221703e+00, 3.77332405e-03, 2.74089629e-03])\n"
     ]
    },
    {
     "name": "stderr",
     "output_type": "stream",
     "text": [
      "/tmp/ipykernel_40318/26170352.py:60: SettingWithCopyWarning: \n",
      "A value is trying to be set on a copy of a slice from a DataFrame.\n",
      "Try using .loc[row_indexer,col_indexer] = value instead\n",
      "\n",
      "See the caveats in the documentation: https://pandas.pydata.org/pandas-docs/stable/user_guide/indexing.html#returning-a-view-versus-a-copy\n",
      "  data_toUse_[sL1JetResponse] = data_toUse_[sL1JetEt_forResolutionPlots] / data_toUse_[sRefJetEt]\n"
     ]
    },
    {
     "name": "stdout",
     "output_type": "stream",
     "text": [
      "popt: [2.21715794e+02 9.47965439e-01 2.06235358e-01], \n",
      "pcov: \n",
      "[[ 2.08084625e+01 -5.98414231e-04 -6.63581233e-03]\n",
      " [-5.98414231e-04  1.20466198e-05  5.28603482e-07]\n",
      " [-6.63581233e-03  5.28603482e-07  6.22983054e-06]],  \n",
      "poptErr = array([4.56162937e+00, 3.47082408e-03, 2.49596285e-03])\n"
     ]
    },
    {
     "name": "stderr",
     "output_type": "stream",
     "text": [
      "/tmp/ipykernel_40318/26170352.py:60: SettingWithCopyWarning: \n",
      "A value is trying to be set on a copy of a slice from a DataFrame.\n",
      "Try using .loc[row_indexer,col_indexer] = value instead\n",
      "\n",
      "See the caveats in the documentation: https://pandas.pydata.org/pandas-docs/stable/user_guide/indexing.html#returning-a-view-versus-a-copy\n",
      "  data_toUse_[sL1JetResponse] = data_toUse_[sL1JetEt_forResolutionPlots] / data_toUse_[sRefJetEt]\n"
     ]
    },
    {
     "name": "stdout",
     "output_type": "stream",
     "text": [
      "popt: [190.83267951   0.94908197   0.19751018], \n",
      "pcov: \n",
      "[[ 1.30742141e+01  1.52498236e-04 -4.85639931e-03]\n",
      " [ 1.52498236e-04  9.20392583e-06 -1.97597946e-07]\n",
      " [-4.85639931e-03 -1.97597946e-07  5.10485592e-06]],  \n",
      "poptErr = array([3.61582827e+00, 3.03379726e-03, 2.25939282e-03])\n"
     ]
    },
    {
     "name": "stderr",
     "output_type": "stream",
     "text": [
      "/tmp/ipykernel_40318/26170352.py:60: SettingWithCopyWarning: \n",
      "A value is trying to be set on a copy of a slice from a DataFrame.\n",
      "Try using .loc[row_indexer,col_indexer] = value instead\n",
      "\n",
      "See the caveats in the documentation: https://pandas.pydata.org/pandas-docs/stable/user_guide/indexing.html#returning-a-view-versus-a-copy\n",
      "  data_toUse_[sL1JetResponse] = data_toUse_[sL1JetEt_forResolutionPlots] / data_toUse_[sRefJetEt]\n"
     ]
    },
    {
     "name": "stdout",
     "output_type": "stream",
     "text": [
      "popt: [176.20404137   0.9449735    0.18785338], \n",
      "pcov: \n",
      "[[ 1.60671141e+01 -4.29541810e-05 -6.17287154e-03]\n",
      " [-4.29541810e-05  1.19944116e-05 -1.23153488e-08]\n",
      " [-6.17287154e-03 -1.23153488e-08  6.69400037e-06]],  \n",
      "poptErr = array([4.00838049e+00, 3.46329491e-03, 2.58727663e-03])\n"
     ]
    },
    {
     "name": "stderr",
     "output_type": "stream",
     "text": [
      "/tmp/ipykernel_40318/26170352.py:60: SettingWithCopyWarning: \n",
      "A value is trying to be set on a copy of a slice from a DataFrame.\n",
      "Try using .loc[row_indexer,col_indexer] = value instead\n",
      "\n",
      "See the caveats in the documentation: https://pandas.pydata.org/pandas-docs/stable/user_guide/indexing.html#returning-a-view-versus-a-copy\n",
      "  data_toUse_[sL1JetResponse] = data_toUse_[sL1JetEt_forResolutionPlots] / data_toUse_[sRefJetEt]\n"
     ]
    },
    {
     "name": "stdout",
     "output_type": "stream",
     "text": [
      "popt: [156.18753435   0.95223282   0.17797738], \n",
      "pcov: \n",
      "[[ 1.14069718e+01 -1.43595065e-04 -4.58979238e-03]\n",
      " [-1.43595065e-04  9.65917727e-06  1.55636301e-07]\n",
      " [-4.58979238e-03  1.55636301e-07  5.25575640e-06]],  \n",
      "poptErr = array([3.37742089e+00, 3.10792170e-03, 2.29254365e-03])\n"
     ]
    },
    {
     "name": "stderr",
     "output_type": "stream",
     "text": [
      "/tmp/ipykernel_40318/26170352.py:60: SettingWithCopyWarning: \n",
      "A value is trying to be set on a copy of a slice from a DataFrame.\n",
      "Try using .loc[row_indexer,col_indexer] = value instead\n",
      "\n",
      "See the caveats in the documentation: https://pandas.pydata.org/pandas-docs/stable/user_guide/indexing.html#returning-a-view-versus-a-copy\n",
      "  data_toUse_[sL1JetResponse] = data_toUse_[sL1JetEt_forResolutionPlots] / data_toUse_[sRefJetEt]\n"
     ]
    },
    {
     "name": "stdout",
     "output_type": "stream",
     "text": [
      "popt: [2.31756844e+02 9.51731211e-01 1.73258467e-01], \n",
      "pcov: \n",
      "[[ 2.14148865e+01 -2.05855225e-04 -5.66344880e-03]\n",
      " [-2.05855225e-04  7.81143820e-06  1.47373741e-07]\n",
      " [-5.66344880e-03  1.47373741e-07  4.25920794e-06]],  \n",
      "poptErr = array([4.62762212e+00, 2.79489503e-03, 2.06378486e-03])\n"
     ]
    },
    {
     "name": "stderr",
     "output_type": "stream",
     "text": [
      "/tmp/ipykernel_40318/26170352.py:60: SettingWithCopyWarning: \n",
      "A value is trying to be set on a copy of a slice from a DataFrame.\n",
      "Try using .loc[row_indexer,col_indexer] = value instead\n",
      "\n",
      "See the caveats in the documentation: https://pandas.pydata.org/pandas-docs/stable/user_guide/indexing.html#returning-a-view-versus-a-copy\n",
      "  data_toUse_[sL1JetResponse] = data_toUse_[sL1JetEt_forResolutionPlots] / data_toUse_[sRefJetEt]\n"
     ]
    },
    {
     "name": "stdout",
     "output_type": "stream",
     "text": [
      "popt: [1.80172877e+02 9.50871819e-01 1.66415294e-01], \n",
      "pcov: \n",
      "[[ 2.26255781e+01 -2.44012189e-05 -7.65117902e-03]\n",
      " [-2.44012189e-05  1.23054479e-05  2.92284099e-08]\n",
      " [-7.65117902e-03  2.92284099e-08  7.09259366e-06]],  \n",
      "poptErr = array([4.75663516e+00, 3.50791219e-03, 2.66319238e-03])\n"
     ]
    },
    {
     "name": "stderr",
     "output_type": "stream",
     "text": [
      "/tmp/ipykernel_40318/26170352.py:60: SettingWithCopyWarning: \n",
      "A value is trying to be set on a copy of a slice from a DataFrame.\n",
      "Try using .loc[row_indexer,col_indexer] = value instead\n",
      "\n",
      "See the caveats in the documentation: https://pandas.pydata.org/pandas-docs/stable/user_guide/indexing.html#returning-a-view-versus-a-copy\n",
      "  data_toUse_[sL1JetResponse] = data_toUse_[sL1JetEt_forResolutionPlots] / data_toUse_[sRefJetEt]\n"
     ]
    },
    {
     "name": "stdout",
     "output_type": "stream",
     "text": [
      "popt: [1.62245058e+02 9.51780949e-01 1.48119766e-01], \n",
      "pcov: \n",
      "[[ 1.99674645e+01 -4.21449758e-04 -6.45572661e-03]\n",
      " [-4.21449758e-04  1.08465656e-05  3.74653751e-07]\n",
      " [-6.45572661e-03  3.74653751e-07  5.91979461e-06]],  \n",
      "poptErr = array([4.46849690e+00, 3.29341246e-03, 2.43306280e-03])\n"
     ]
    },
    {
     "name": "stderr",
     "output_type": "stream",
     "text": [
      "/tmp/ipykernel_40318/26170352.py:60: SettingWithCopyWarning: \n",
      "A value is trying to be set on a copy of a slice from a DataFrame.\n",
      "Try using .loc[row_indexer,col_indexer] = value instead\n",
      "\n",
      "See the caveats in the documentation: https://pandas.pydata.org/pandas-docs/stable/user_guide/indexing.html#returning-a-view-versus-a-copy\n",
      "  data_toUse_[sL1JetResponse] = data_toUse_[sL1JetEt_forResolutionPlots] / data_toUse_[sRefJetEt]\n"
     ]
    },
    {
     "name": "stdout",
     "output_type": "stream",
     "text": [
      "popt: [131.14933361   0.9545403    0.14392482], \n",
      "pcov: \n",
      "[[ 1.63098594e+01  4.34356976e-04 -6.60739391e-03]\n",
      " [ 4.34356976e-04  1.25828291e-05 -4.67833537e-07]\n",
      " [-6.60739391e-03 -4.67833537e-07  7.31040198e-06]],  \n",
      "poptErr = array([4.03854670e+00, 3.54722837e-03, 2.70377550e-03])\n"
     ]
    },
    {
     "name": "stderr",
     "output_type": "stream",
     "text": [
      "/tmp/ipykernel_40318/26170352.py:60: SettingWithCopyWarning: \n",
      "A value is trying to be set on a copy of a slice from a DataFrame.\n",
      "Try using .loc[row_indexer,col_indexer] = value instead\n",
      "\n",
      "See the caveats in the documentation: https://pandas.pydata.org/pandas-docs/stable/user_guide/indexing.html#returning-a-view-versus-a-copy\n",
      "  data_toUse_[sL1JetResponse] = data_toUse_[sL1JetEt_forResolutionPlots] / data_toUse_[sRefJetEt]\n"
     ]
    },
    {
     "name": "stdout",
     "output_type": "stream",
     "text": [
      "popt: [105.83476375   0.95753759   0.14184008], \n",
      "pcov: \n",
      "[[ 1.07810403e+01 -1.87076944e-04 -5.48784018e-03]\n",
      " [-1.87076944e-04  1.23657735e-05  2.18302903e-07]\n",
      " [-5.48784018e-03  2.18302903e-07  7.48722543e-06]],  \n",
      "poptErr = array([3.28344944e+00, 3.51650017e-03, 2.73627949e-03])\n"
     ]
    },
    {
     "name": "stderr",
     "output_type": "stream",
     "text": [
      "/tmp/ipykernel_40318/26170352.py:60: SettingWithCopyWarning: \n",
      "A value is trying to be set on a copy of a slice from a DataFrame.\n",
      "Try using .loc[row_indexer,col_indexer] = value instead\n",
      "\n",
      "See the caveats in the documentation: https://pandas.pydata.org/pandas-docs/stable/user_guide/indexing.html#returning-a-view-versus-a-copy\n",
      "  data_toUse_[sL1JetResponse] = data_toUse_[sL1JetEt_forResolutionPlots] / data_toUse_[sRefJetEt]\n"
     ]
    },
    {
     "name": "stdout",
     "output_type": "stream",
     "text": [
      "popt: [92.89107856  0.94484922  0.13095063], \n",
      "pcov: \n",
      "[[ 1.77499547e+01  1.01743996e-04 -9.48137173e-03]\n",
      " [ 1.01743996e-04  2.23197902e-05 -2.28200098e-07]\n",
      " [-9.48137173e-03 -2.28200098e-07  1.35206934e-05]],  \n",
      "poptErr = array([4.21306951e+00, 4.72438252e-03, 3.67704955e-03])\n"
     ]
    },
    {
     "name": "stderr",
     "output_type": "stream",
     "text": [
      "/tmp/ipykernel_40318/26170352.py:60: SettingWithCopyWarning: \n",
      "A value is trying to be set on a copy of a slice from a DataFrame.\n",
      "Try using .loc[row_indexer,col_indexer] = value instead\n",
      "\n",
      "See the caveats in the documentation: https://pandas.pydata.org/pandas-docs/stable/user_guide/indexing.html#returning-a-view-versus-a-copy\n",
      "  data_toUse_[sL1JetResponse] = data_toUse_[sL1JetEt_forResolutionPlots] / data_toUse_[sRefJetEt]\n"
     ]
    },
    {
     "name": "stdout",
     "output_type": "stream",
     "text": [
      "popt: [75.17450428  0.94802383  0.12909011], \n",
      "pcov: \n",
      "[[ 8.76045642e+00  2.67139469e-04 -5.38320698e-03]\n",
      " [ 2.67139469e-04  1.69451926e-05 -4.58695581e-07]\n",
      " [-5.38320698e-03 -4.58695581e-07  9.36346720e-06]],  \n",
      "poptErr = array([2.95980682, 0.00411645, 0.00305998])\n"
     ]
    },
    {
     "name": "stderr",
     "output_type": "stream",
     "text": [
      "/tmp/ipykernel_40318/26170352.py:60: SettingWithCopyWarning: \n",
      "A value is trying to be set on a copy of a slice from a DataFrame.\n",
      "Try using .loc[row_indexer,col_indexer] = value instead\n",
      "\n",
      "See the caveats in the documentation: https://pandas.pydata.org/pandas-docs/stable/user_guide/indexing.html#returning-a-view-versus-a-copy\n",
      "  data_toUse_[sL1JetResponse] = data_toUse_[sL1JetEt_forResolutionPlots] / data_toUse_[sRefJetEt]\n"
     ]
    },
    {
     "name": "stdout",
     "output_type": "stream",
     "text": [
      "popt: [61.51732282  0.95534399  0.12005432], \n",
      "pcov: \n",
      "[[ 1.35929059e+01 -7.26744056e-04 -1.01891528e-02]\n",
      " [-7.26744056e-04  3.24137963e-05  1.43500165e-06]\n",
      " [-1.01891528e-02  1.43500165e-06  2.00483290e-05]],  \n",
      "poptErr = array([3.68685583, 0.00569331, 0.00447754])\n"
     ]
    },
    {
     "name": "stderr",
     "output_type": "stream",
     "text": [
      "/tmp/ipykernel_40318/26170352.py:60: SettingWithCopyWarning: \n",
      "A value is trying to be set on a copy of a slice from a DataFrame.\n",
      "Try using .loc[row_indexer,col_indexer] = value instead\n",
      "\n",
      "See the caveats in the documentation: https://pandas.pydata.org/pandas-docs/stable/user_guide/indexing.html#returning-a-view-versus-a-copy\n",
      "  data_toUse_[sL1JetResponse] = data_toUse_[sL1JetEt_forResolutionPlots] / data_toUse_[sRefJetEt]\n"
     ]
    },
    {
     "name": "stdout",
     "output_type": "stream",
     "text": [
      "popt: [48.48795161  0.94960287  0.12175707], \n",
      "pcov: \n",
      "[[ 3.92998459e+00 -1.73097306e-04 -3.65960907e-03]\n",
      " [-1.73097306e-04  1.64195998e-05  5.17620283e-07]\n",
      " [-3.65960907e-03  5.17620283e-07  9.48768297e-06]],  \n",
      "poptErr = array([1.98241887, 0.00405211, 0.00308021])\n"
     ]
    },
    {
     "name": "stderr",
     "output_type": "stream",
     "text": [
      "/tmp/ipykernel_40318/26170352.py:60: SettingWithCopyWarning: \n",
      "A value is trying to be set on a copy of a slice from a DataFrame.\n",
      "Try using .loc[row_indexer,col_indexer] = value instead\n",
      "\n",
      "See the caveats in the documentation: https://pandas.pydata.org/pandas-docs/stable/user_guide/indexing.html#returning-a-view-versus-a-copy\n",
      "  data_toUse_[sL1JetResponse] = data_toUse_[sL1JetEt_forResolutionPlots] / data_toUse_[sRefJetEt]\n"
     ]
    },
    {
     "name": "stdout",
     "output_type": "stream",
     "text": [
      "popt: [42.93360266  0.95051657  0.11719831], \n",
      "pcov: \n",
      "[[ 4.66507987e+00  1.47039191e-04 -4.91733430e-03]\n",
      " [ 1.47039191e-04  2.22919283e-05 -2.33133376e-07]\n",
      " [-4.91733430e-03 -2.33133376e-07  1.37881639e-05]],  \n",
      "poptErr = array([2.1598796 , 0.00472143, 0.00371324])\n"
     ]
    },
    {
     "name": "stderr",
     "output_type": "stream",
     "text": [
      "/tmp/ipykernel_40318/26170352.py:60: SettingWithCopyWarning: \n",
      "A value is trying to be set on a copy of a slice from a DataFrame.\n",
      "Try using .loc[row_indexer,col_indexer] = value instead\n",
      "\n",
      "See the caveats in the documentation: https://pandas.pydata.org/pandas-docs/stable/user_guide/indexing.html#returning-a-view-versus-a-copy\n",
      "  data_toUse_[sL1JetResponse] = data_toUse_[sL1JetEt_forResolutionPlots] / data_toUse_[sRefJetEt]\n"
     ]
    },
    {
     "name": "stdout",
     "output_type": "stream",
     "text": [
      "popt: [38.08792349  0.9509561   0.10949418], \n",
      "pcov: \n",
      "[[ 5.43957037e+00  7.99238683e-04 -6.13700936e-03]\n",
      " [ 7.99238683e-04  2.89167996e-05 -2.57261984e-06]\n",
      " [-6.13700936e-03 -2.57261984e-06  1.81405632e-05]],  \n",
      "poptErr = array([2.33228866, 0.00537743, 0.00425917])\n"
     ]
    },
    {
     "name": "stderr",
     "output_type": "stream",
     "text": [
      "/tmp/ipykernel_40318/26170352.py:60: SettingWithCopyWarning: \n",
      "A value is trying to be set on a copy of a slice from a DataFrame.\n",
      "Try using .loc[row_indexer,col_indexer] = value instead\n",
      "\n",
      "See the caveats in the documentation: https://pandas.pydata.org/pandas-docs/stable/user_guide/indexing.html#returning-a-view-versus-a-copy\n",
      "  data_toUse_[sL1JetResponse] = data_toUse_[sL1JetEt_forResolutionPlots] / data_toUse_[sRefJetEt]\n"
     ]
    },
    {
     "name": "stdout",
     "output_type": "stream",
     "text": [
      "popt: [27.97905788  0.95336442  0.11094528], \n",
      "pcov: \n",
      "[[ 3.75794858e+00 -4.89684293e-04 -6.20652865e-03]\n",
      " [-4.89684293e-04  3.67777266e-05  2.13730752e-06]\n",
      " [-6.20652865e-03  2.13730752e-06  2.54982732e-05]],  \n",
      "poptErr = array([1.9385429 , 0.00606446, 0.00504958])\n"
     ]
    },
    {
     "name": "stderr",
     "output_type": "stream",
     "text": [
      "/tmp/ipykernel_40318/26170352.py:60: SettingWithCopyWarning: \n",
      "A value is trying to be set on a copy of a slice from a DataFrame.\n",
      "Try using .loc[row_indexer,col_indexer] = value instead\n",
      "\n",
      "See the caveats in the documentation: https://pandas.pydata.org/pandas-docs/stable/user_guide/indexing.html#returning-a-view-versus-a-copy\n",
      "  data_toUse_[sL1JetResponse] = data_toUse_[sL1JetEt_forResolutionPlots] / data_toUse_[sRefJetEt]\n"
     ]
    },
    {
     "name": "stdout",
     "output_type": "stream",
     "text": [
      "popt: [38.29228143  0.95690426  0.1098915 ], \n",
      "pcov: \n",
      "[[ 3.81934384e+00  9.46290737e-05 -3.86373998e-03]\n",
      " [ 9.46290737e-05  2.10587128e-05 -3.04837978e-07]\n",
      " [-3.86373998e-03 -3.04837978e-07  1.13293247e-05]],  \n",
      "poptErr = array([1.95431416, 0.00458898, 0.00336591])\n"
     ]
    },
    {
     "name": "stderr",
     "output_type": "stream",
     "text": [
      "/tmp/ipykernel_40318/26170352.py:60: SettingWithCopyWarning: \n",
      "A value is trying to be set on a copy of a slice from a DataFrame.\n",
      "Try using .loc[row_indexer,col_indexer] = value instead\n",
      "\n",
      "See the caveats in the documentation: https://pandas.pydata.org/pandas-docs/stable/user_guide/indexing.html#returning-a-view-versus-a-copy\n",
      "  data_toUse_[sL1JetResponse] = data_toUse_[sL1JetEt_forResolutionPlots] / data_toUse_[sRefJetEt]\n"
     ]
    },
    {
     "name": "stdout",
     "output_type": "stream",
     "text": [
      "popt: [25.95548609  0.93888685  0.09373785], \n",
      "pcov: \n",
      "[[ 4.71295670e+00  3.76118542e-04 -6.17107044e-03]\n",
      " [ 3.76118542e-04  4.31845866e-05 -1.72681953e-06]\n",
      " [-6.17107044e-03 -1.72681953e-06  2.36993344e-05]],  \n",
      "poptErr = array([2.17093452, 0.0065715 , 0.0048682 ])\n"
     ]
    },
    {
     "name": "stderr",
     "output_type": "stream",
     "text": [
      "/tmp/ipykernel_40318/26170352.py:60: SettingWithCopyWarning: \n",
      "A value is trying to be set on a copy of a slice from a DataFrame.\n",
      "Try using .loc[row_indexer,col_indexer] = value instead\n",
      "\n",
      "See the caveats in the documentation: https://pandas.pydata.org/pandas-docs/stable/user_guide/indexing.html#returning-a-view-versus-a-copy\n",
      "  data_toUse_[sL1JetResponse] = data_toUse_[sL1JetEt_forResolutionPlots] / data_toUse_[sRefJetEt]\n"
     ]
    },
    {
     "name": "stdout",
     "output_type": "stream",
     "text": [
      "popt: [13.65979496  0.92872575  0.09224597], \n",
      "pcov: \n",
      "[[ 2.13721840e+00  4.17389319e-04 -6.49812725e-03]\n",
      " [ 4.17389319e-04  5.80362399e-05 -3.28346564e-06]\n",
      " [-6.49812725e-03 -3.28346564e-06  4.57906589e-05]],  \n",
      "poptErr = array([1.46192284, 0.00761815, 0.00676688])\n"
     ]
    },
    {
     "name": "stderr",
     "output_type": "stream",
     "text": [
      "/tmp/ipykernel_40318/26170352.py:60: SettingWithCopyWarning: \n",
      "A value is trying to be set on a copy of a slice from a DataFrame.\n",
      "Try using .loc[row_indexer,col_indexer] = value instead\n",
      "\n",
      "See the caveats in the documentation: https://pandas.pydata.org/pandas-docs/stable/user_guide/indexing.html#returning-a-view-versus-a-copy\n",
      "  data_toUse_[sL1JetResponse] = data_toUse_[sL1JetEt_forResolutionPlots] / data_toUse_[sRefJetEt]\n"
     ]
    },
    {
     "name": "stdout",
     "output_type": "stream",
     "text": [
      "popt: [11.3971619  0.911086   0.088025 ], \n",
      "pcov: \n",
      "[[ 3.33920506e+00 -1.31543203e-03 -1.20302097e-02]\n",
      " [-1.31543203e-03  1.27028261e-04  1.61981726e-06]\n",
      " [-1.20302097e-02  1.61981726e-06  1.02508710e-04]],  \n",
      "poptErr = array([1.82734919, 0.01127068, 0.01012466])\n"
     ]
    },
    {
     "name": "stderr",
     "output_type": "stream",
     "text": [
      "/tmp/ipykernel_40318/26170352.py:60: SettingWithCopyWarning: \n",
      "A value is trying to be set on a copy of a slice from a DataFrame.\n",
      "Try using .loc[row_indexer,col_indexer] = value instead\n",
      "\n",
      "See the caveats in the documentation: https://pandas.pydata.org/pandas-docs/stable/user_guide/indexing.html#returning-a-view-versus-a-copy\n",
      "  data_toUse_[sL1JetResponse] = data_toUse_[sL1JetEt_forResolutionPlots] / data_toUse_[sRefJetEt]\n"
     ]
    },
    {
     "name": "stdout",
     "output_type": "stream",
     "text": [
      "popt: [2.07139807 0.93044488 0.16058691], \n",
      "pcov: \n",
      "[[ 0.1957744  -0.00430591 -0.02022843]\n",
      " [-0.00430591  0.0025766   0.0015597 ]\n",
      " [-0.02022843  0.0015597   0.00508187]],  \n",
      "poptErr = array([0.44246401, 0.05076025, 0.07128722])\n"
     ]
    },
    {
     "name": "stderr",
     "output_type": "stream",
     "text": [
      "/tmp/ipykernel_40318/26170352.py:60: SettingWithCopyWarning: \n",
      "A value is trying to be set on a copy of a slice from a DataFrame.\n",
      "Try using .loc[row_indexer,col_indexer] = value instead\n",
      "\n",
      "See the caveats in the documentation: https://pandas.pydata.org/pandas-docs/stable/user_guide/indexing.html#returning-a-view-versus-a-copy\n",
      "  data_toUse_[sL1JetResponse] = data_toUse_[sL1JetEt_forResolutionPlots] / data_toUse_[sRefJetEt]\n"
     ]
    },
    {
     "name": "stdout",
     "output_type": "stream",
     "text": [
      "popt: [2.98384148 0.8272496  0.0643929 ], \n",
      "pcov: \n",
      "[[ 2.62270487e-01  3.87576857e-04 -3.08881130e-03]\n",
      " [ 3.87576857e-04  4.92008051e-05 -7.34034027e-06]\n",
      " [-3.08881130e-03 -7.34034027e-06  6.27250430e-05]],  \n",
      "poptErr = array([0.51212351, 0.00701433, 0.00791991])\n"
     ]
    },
    {
     "name": "stderr",
     "output_type": "stream",
     "text": [
      "/tmp/ipykernel_40318/26170352.py:60: SettingWithCopyWarning: \n",
      "A value is trying to be set on a copy of a slice from a DataFrame.\n",
      "Try using .loc[row_indexer,col_indexer] = value instead\n",
      "\n",
      "See the caveats in the documentation: https://pandas.pydata.org/pandas-docs/stable/user_guide/indexing.html#returning-a-view-versus-a-copy\n",
      "  data_toUse_[sL1JetResponse] = data_toUse_[sL1JetEt_forResolutionPlots] / data_toUse_[sRefJetEt]\n"
     ]
    },
    {
     "name": "stdout",
     "output_type": "stream",
     "text": [
      "PU_category = 'PUgt58', iEta_cat = 'iEta34to41', PtRangeMin = 210.5, PtRangeMax = 230.5, pInitial = [2.0, 0.7706721863505922, 0.12575049957510337]:  fit did not converge *** \n"
     ]
    }
   ],
   "source": [
    "# L1JetResponse vs Pt after JEC\n",
    "\n",
    "exit(0)\n",
    "\n",
    "sOutDir_toUse   = '%s/L1JetResponse_vs_Pt_perPU_perEtaCat_BDTAtPU%d' % (sOutDirAfterJEC, PUPointForMLEvaluation_selected)\n",
    "if not os.path.exists(sOutDir_toUse):             os.makedirs( sOutDir_toUse , exist_ok=True )   \n",
    "\n",
    "sL1JetEt_forResolutionPlots = '%s_wBDTAtPU%d' % (sL1JetEt_calib, PUPointForMLEvaluation_selected)\n",
    "\n",
    "IETA_CAT_forResolutionPlots = OD()\n",
    "#IETA_CAT_forResolutionPlots['HBEF'] = [ 1, 41]  ## Whole detector, 1 - 41\n",
    "IETA_CAT_forResolutionPlots['iEta1to16']   = [ 1, 16]  ## Trigger towers  1 - 16\n",
    "IETA_CAT_forResolutionPlots['iEta17to23']  = [17, 23]  ## Trigger towers 17 - 20\n",
    "IETA_CAT_forResolutionPlots['iEta24to28']  = [24, 28]  ## Trigger towers 21 - 25\n",
    "IETA_CAT_forResolutionPlots['iEta30to34']  = [30, 34]  ## Trigger towers 30 - 41\n",
    "IETA_CAT_forResolutionPlots['iEta34to41']  = [35, 41]  ## Trigger towers 30 - 41\n",
    "\n",
    "PU_Cat_forResolutionPlots = OD()\n",
    "PU_Cat_forResolutionPlots['PUlt38']   = [ 0, 38]\n",
    "PU_Cat_forResolutionPlots['PU39to57'] = [39, 57]\n",
    "PU_Cat_forResolutionPlots['PUgt58']   = [58, 99]\n",
    "#PU_Cat_forResolutionPlots['PUAll'] = [0, 99]\n",
    "\n",
    "RefJetPtBins_forResolutionPlots = [\n",
    "    *np.arange( 24.5,  60.5, 3),\n",
    "    *np.arange( 60.5, 120.5, 5),\n",
    "    *np.arange(120.5, 150.5, 10),\n",
    "    *np.arange(150.5, 230.5, 20),\n",
    "    *np.arange(230.5, 255.5, 25),\n",
    "]\n",
    "print(f\"RefJetPtBins_forResolutionPlots: {RefJetPtBins_forResolutionPlots}\")\n",
    "\n",
    "\n",
    "\n",
    "\n",
    "\n",
    "for PU_category, PURange in PU_Cat_forResolutionPlots.items():\n",
    "    PURangeMin = PURange[0]\n",
    "    PURangeMax = PURange[1]\n",
    "\n",
    "    JES_iEtaCatwise = OD()\n",
    "    JER_iEtaCatwise = OD()\n",
    "    for iEta_cat, iEtaBinRange in IETA_CAT_forResolutionPlots.items():\n",
    "        iEtaBinRangeMin = iEtaBinRange[0]\n",
    "        iEtaBinRangeMax = iEtaBinRange[1]                    \n",
    "\n",
    "        JES = OD()\n",
    "        JER = OD()\n",
    "        for iPtBin in range(len(RefJetPtBins_forResolutionPlots) - 1):\n",
    "            PtRangeMin = RefJetPtBins_forResolutionPlots[iPtBin]\n",
    "            PtRangeMax = RefJetPtBins_forResolutionPlots[iPtBin + 1]\n",
    "            PtMean = (PtRangeMin + PtRangeMax)/2\n",
    "\n",
    "            data_toUse_ = data_copy1[\n",
    "                (data_copy1[sL1JetTowerIEtaAbs]      >= iEtaBinRangeMin   ) & \n",
    "                (data_copy1[sL1JetTowerIEtaAbs]      <= iEtaBinRangeMax   ) & \n",
    "                (data_copy1[sRefJetEt]               >= PtRangeMin) &\n",
    "                (data_copy1[sRefJetEt]               <  PtRangeMax) & \n",
    "                (data_copy1[snVtx]                   >= PURangeMin) &\n",
    "                (data_copy1[snVtx]                   <  PURangeMax)\n",
    "            ]#.copy()\n",
    "            data_toUse_[sL1JetResponse] = data_toUse_[sL1JetEt_forResolutionPlots] / data_toUse_[sRefJetEt]\n",
    "\n",
    "            h = hist.Hist.new.Regular(100,0,2.5, name=sL1JetResponse).Weight()            \n",
    "            h.fill(data_toUse_[sL1JetResponse])\n",
    "\n",
    "            x_    = h.axes[0].centers\n",
    "            y_    = h.values()\n",
    "            yErr_ = np.sqrt(h.variances())\n",
    "\n",
    "            # index of bins with y>0\n",
    "            idx_NonZeroY = np.nonzero(y_)\n",
    "\n",
    "            # Give initial parameters for Gaussian function fit\n",
    "            #pInitial = [y_.max(), 1, 0.3]\n",
    "            pInitial = [y_.max(), np.mean(data_toUse_.loc[data_toUse_[sL1JetResponse] < 2.5][sL1JetResponse]), np.std(data_toUse_.loc[data_toUse_[sL1JetResponse] < 2.5][sL1JetResponse])]\n",
    "\n",
    "            #popt, pcov = curve_fit(GaussianFunction, xdata=x_, ydata=y_, p0=pInitial)\n",
    "            try:\n",
    "                popt, pcov = curve_fit(GaussianFunction, xdata=x_[idx_NonZeroY], ydata=y_[idx_NonZeroY], p0=pInitial, sigma=yErr_[idx_NonZeroY])\n",
    "            except:\n",
    "                print(f\"{PU_category = }, {iEta_cat = }, {PtRangeMin = }, {PtRangeMax = }, {pInitial = }:  fit did not converge *** \")\n",
    "                continue\n",
    "            poptErr    = np.sqrt(np.diag(pcov))\n",
    "            print(f\"popt: {popt}, \\npcov: \\n{pcov},  \\n{poptErr = }\")\n",
    "\n",
    "            Mean_  = popt[1];    errMean_  = poptErr[1]\n",
    "            Sigma_ = popt[2];    errSigma_ = poptErr[2]\n",
    "\n",
    "            x1Dense_ = np.arange(x_.min(), x_.max(), 0.01)            \n",
    "\n",
    "            fig, axs = plt.subplots(nrows=1, ncols=1, figsize=(5,4), layout='constrained')\n",
    "            axs.errorbar(x_, y_, yerr=yErr_, label='Entries', fmt='o', markersize=1)\n",
    "            axs.plot(x1Dense_, GaussianFunction(x1Dense_, *popt), label=r'Gaussian fit, $\\mu:\\,  %.2f \\pm %.2f$, $\\sigma:\\, %.2f \\pm %.2f$'%(Mean_,errMean_, Sigma_,errSigma_))\n",
    "            axs.set_xlabel(sL1JetResponse)\n",
    "            axs.set_ylabel('Entries')\n",
    "            axs.set_title('%s %s pT [%.1f, %.1f]' % (PU_category, iEta_cat, PtRangeMin, PtRangeMax))\n",
    "            axs.legend(bbox_to_anchor=(0.0, 1.0), loc='upper left', borderaxespad=0.9)\n",
    "            axs.set_ylim(0, y_.max() * 1.4)\n",
    "            axs.grid()\n",
    "\n",
    "            errJER_      = calculate_errorOfRatio(N=Sigma_, D=Mean_, eN=errSigma_, eD=errMean_)            \n",
    "            JES[PtMean] = {'value': Mean_,          'error': errMean_}\n",
    "            JER[PtMean] = {'value': Sigma_ / Mean_, 'error': errJER_}\n",
    "\n",
    "            sOutDir1D_toUse_ = '%s/%s/1D' % (sOutDir_toUse,PU_category)\n",
    "            if not os.path.exists(sOutDir1D_toUse_):           os.makedirs( sOutDir1D_toUse_, exist_ok=True )    \n",
    "            fig.savefig('%s/L1JetResponse_1D_%s_%s_Pt_%.1f.png' % (sOutDir1D_toUse_, PU_category, iEta_cat, PtMean))\n",
    "            plt.close(fig)\n",
    "\n",
    "        JES_iEtaCatwise[iEta_cat] = JES\n",
    "        JER_iEtaCatwise[iEta_cat] = JER\n",
    "        \n",
    "        \n",
    "            \n",
    "    # plot JES vs Pt\n",
    "    fig, axs = plt.subplots(nrows=1, ncols=1, figsize=(5,4), layout='constrained')\n",
    "    yMin_ =  9999\n",
    "    yMax_ = -9999\n",
    "    i_ = 0\n",
    "    for iEta_cat, iEtaBinRange in IETA_CAT_forResolutionPlots.items():\n",
    "        JES = JES_iEtaCatwise[iEta_cat]\n",
    "        \n",
    "        JES_Ptwise    = [ JES[Pt]['value'] for Pt in JES.keys()]\n",
    "        errJES_Ptwise = [ JES[Pt]['error'] for Pt in JES.keys()]\n",
    "\n",
    "        yMin1_ = np.min(np.array(JES_Ptwise) - np.array(errJES_Ptwise))\n",
    "        yMax1_ = np.max(np.array(JES_Ptwise) + np.array(errJES_Ptwise))\n",
    "        if yMin1_ < yMin_: yMin_ = yMin1_\n",
    "        if yMax1_ > yMax_: yMax_ = yMax1_\n",
    "        \n",
    "        axs.errorbar(list(JES.keys()), JES_Ptwise, yerr=errJES_Ptwise, fmt='', linestyle='', markersize=2, marker=marker_style_list[i_], color=marker_color_list[i_],  label=iEta_cat)\n",
    "        i_ += 1\n",
    "        \n",
    "    axs.set_xlabel('%s [GeV]' % (sRefJetEt))\n",
    "    axs.set_ylabel(r'$\\mu$ (%s)' % (sL1JetResponse))\n",
    "    axs.set_title('%s ' % (PU_category))\n",
    "    if yMin_ < 0.4 or yMax_ > 1.4:\n",
    "        axs.set_ylim(0.4, 1.4)\n",
    "    else:\n",
    "        axs.set_ylim(yMin_, yMax_)\n",
    "    axs.legend(bbox_to_anchor=(0.1, 1.05), loc='upper left', borderaxespad=0.9, ncol=1)\n",
    "    axs.margins(y=0.3)\n",
    "    axs.grid()\n",
    "    fig.savefig('%s/L1JetResponse_vs_Pt_%s_Mean.png' % (sOutDir_toUse, PU_category))   \n",
    "    plt.close(fig)\n",
    "        \n",
    "        \n",
    "        \n",
    "\n",
    "    # plot JER vs iEta\n",
    "    fig, axs = plt.subplots(nrows=1, ncols=1, figsize=(5,4), layout='constrained')\n",
    "    yMin_ =  9999\n",
    "    yMax_ = -9999\n",
    "    i_ = 0\n",
    "    for iEta_cat, iEtaBinRange in IETA_CAT_forResolutionPlots.items():\n",
    "        JER = JER_iEtaCatwise[iEta_cat]\n",
    "    \n",
    "        JER_Ptwise    = [ JER[Pt]['value'] for Pt in JER.keys()]\n",
    "        errJER_Ptwise = [ JER[Pt]['error'] for Pt in JER.keys()]\n",
    "\n",
    "        yMin1_ = np.min(np.array(JER_Ptwise) - np.array(errJER_Ptwise))\n",
    "        yMax1_ = np.max(np.array(JER_Ptwise) + np.array(errJER_Ptwise))        \n",
    "        if yMin1_ < yMin_: yMin_ = yMin1_\n",
    "        if yMax1_ > yMax_: yMax_ = yMax1_\n",
    "\n",
    "        axs.errorbar(list(JER.keys()), JER_Ptwise, yerr=errJER_Ptwise, fmt='', linestyle='', markersize=2, marker=marker_style_list[i_], color=marker_color_list[i_],  label=iEta_cat)\n",
    "        i_ += 1\n",
    "        \n",
    "    axs.set_xlabel('%s [GeV]' % (sRefJetEt))\n",
    "    axs.set_ylabel(r'$\\sigma/\\mu$ (%s)' % (sL1JetResponse))\n",
    "    axs.set_title('%s' % (PU_category))\n",
    "    if yMin_ < 0. or yMax_ > 1.:\n",
    "        axs.set_ylim(0., 1.)\n",
    "    else:\n",
    "        axs.set_ylim(yMin_, yMax_)        \n",
    "    axs.legend(bbox_to_anchor=(0.1, 1.05), loc='upper left', borderaxespad=0.9, ncol=1)\n",
    "    axs.margins(y=0.3)\n",
    "    axs.grid()\n",
    "    fig.savefig('%s/L1JetResponse_vs_Pt_%s_Resolution.png' % (sOutDir_toUse, PU_category))\n",
    "    plt.close(fig)"
   ]
  }
 ],
 "metadata": {
  "kernelspec": {
   "display_name": "Python 3 (ipykernel)",
   "language": "python",
   "name": "python3"
  },
  "language_info": {
   "codemirror_mode": {
    "name": "ipython",
    "version": 3
   },
   "file_extension": ".py",
   "mimetype": "text/x-python",
   "name": "python",
   "nbconvert_exporter": "python",
   "pygments_lexer": "ipython3",
   "version": "3.10.6"
  }
 },
 "nbformat": 4,
 "nbformat_minor": 5
}
